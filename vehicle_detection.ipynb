{
 "cells": [
  {
   "cell_type": "code",
   "execution_count": 5,
   "metadata": {},
   "outputs": [],
   "source": [
    "import matplotlib.image as mpimg\n",
    "import matplotlib.pyplot as plt\n",
    "import numpy as np\n",
    "import cv2\n",
    "import glob\n",
    "import time\n",
    "from sklearn.svm import LinearSVC\n",
    "from sklearn.externals import joblib\n",
    "from sklearn.preprocessing import StandardScaler\n",
    "from scipy.ndimage.measurements import label\n",
    "# NOTE: the next import is only valid \n",
    "# for scikit-learn version <= 0.17\n",
    "# if you are using scikit-learn >= 0.18 then use this:\n",
    "from sklearn.model_selection import train_test_split\n",
    "# from sklearn.cross_validation import train_test_split\n",
    "from skimage.feature import hog\n",
    "plt.close()"
   ]
  },
  {
   "cell_type": "code",
   "execution_count": 6,
   "metadata": {},
   "outputs": [],
   "source": [
    "# Define a function to compute binned color features  \n",
    "def bin_spatial(img, size=(32, 32)):\n",
    "    # Use cv2.resize().ravel() to create the feature vector\n",
    "    features = cv2.resize(img, size).ravel() \n",
    "    # Return the feature vector\n",
    "    return features\n",
    "\n",
    "# Define a function to compute color histogram features  \n",
    "def color_hist(img, nbins=32, bins_range=(0, 256)):\n",
    "    # Compute the histogram of the RGB channels separately\n",
    "    rhist = np.histogram(img[:,:,0], nbins, bins_range)\n",
    "    ghist = np.histogram(img[:,:,1], nbins, bins_range)\n",
    "    bhist = np.histogram(img[:,:,2], nbins, bins_range)\n",
    "    # Generating bin centers\n",
    "    bin_edges = rhist[1]\n",
    "    bin_centers = (bin_edges[1:] + bin_edges[0:len(bin_edges)-1])/2\n",
    "    # Concatenate the histograms into a single feature vector\n",
    "    hist_features = np.concatenate((rhist[0], ghist[0], bhist[0]))\n",
    "    # Return the individual histograms, bin_centers and feature vector\n",
    "    return rhist, ghist, bhist, bin_centers, hist_features\n",
    "\n",
    "# Define a function to return HOG features and visualization\n",
    "def get_hog_features(img, orient, pix_per_cell, cell_per_block, \n",
    "                        vis=False, feature_vec=True):\n",
    "    # Call with two outputs if vis==True\n",
    "    if vis == True:\n",
    "        features, hog_image = hog(img, orientations=orient, pixels_per_cell=(pix_per_cell, pix_per_cell),\n",
    "                                  cells_per_block=(cell_per_block, cell_per_block), transform_sqrt=True, \n",
    "                                  visualise=vis, feature_vector=feature_vec)\n",
    "        return features, hog_image\n",
    "    # Otherwise call with one output\n",
    "    else:      \n",
    "        features = hog(img, orientations=orient, pixels_per_cell=(pix_per_cell, pix_per_cell),\n",
    "                       cells_per_block=(cell_per_block, cell_per_block), transform_sqrt=True, \n",
    "                       visualise=vis, feature_vector=feature_vec)\n",
    "        return features\n",
    "    \n",
    "def convert_color(img, conv='YCrCb'):\n",
    "    # apply color conversion if other than 'RGB'\n",
    "    if conv != 'RGB':\n",
    "        if conv == 'HSV':\n",
    "            cimage = cv2.cvtColor(img, cv2.COLOR_RGB2HSV)\n",
    "        elif conv == 'LUV':\n",
    "            cimage = cv2.cvtColor(img, cv2.COLOR_RGB2LUV)\n",
    "        elif conv == 'HLS':\n",
    "            cimage = cv2.cvtColor(img, cv2.COLOR_RGB2HLS)\n",
    "        elif conv == 'YUV':\n",
    "            cimage = cv2.cvtColor(img, cv2.COLOR_RGB2YUV)\n",
    "        elif conv == 'YCrCb':\n",
    "            cimage = cv2.cvtColor(img, cv2.COLOR_RGB2YCrCb)\n",
    "    else: cimage = np.copy(img)   \n",
    "    return cimage\n",
    "\n",
    "def plot_samples(image, spatial_features, rh, gh, bh, bincen, hog_image):\n",
    "    # Plot the examples\n",
    "    # Plot features\n",
    "    plt.figure()\n",
    "    plt.plot(spatial_features)\n",
    "    plt.title('Spatially Binned Features')\n",
    "    # Plot a figure with all three bar charts\n",
    "    if rh is not None:\n",
    "        plt.figure()\n",
    "        plt.subplot(131)\n",
    "        plt.bar(bincen, rh[0])\n",
    "        plt.xlim(0, 256)\n",
    "        plt.title('R Histogram')\n",
    "        plt.subplot(132)\n",
    "        plt.bar(bincen, gh[0])\n",
    "        plt.xlim(0, 256)\n",
    "        plt.title('G Histogram')\n",
    "        plt.subplot(133)\n",
    "        plt.bar(bincen, bh[0])\n",
    "        plt.xlim(0, 256)\n",
    "        plt.title('B Histogram')\n",
    "    # Plot the examples\n",
    "    plt.figure()\n",
    "    plt.subplot(121)\n",
    "    plt.imshow(image, cmap='gray')\n",
    "    plt.title('Example Car Image')\n",
    "    plt.subplot(122)\n",
    "    plt.imshow(hog_image, cmap='gray')\n",
    "    plt.title('HOG Visualization')    \n",
    "    plt.show()\n",
    "            \n",
    "            \n",
    "# Define a function to extract features from a list of images\n",
    "# Have this function call bin_spatial() and color_hist() and get_hog_features()\n",
    "def extract_features(imgs, cspace='RGB', spatial_size=(32, 32),\n",
    "                        hist_bins=32, hist_range=(0, 256), orient=9, \n",
    "                        pix_per_cell=8, cell_per_block=2, hog_channel=0, vis=False):\n",
    "    # Create a list to append feature vectors to\n",
    "    features = []\n",
    "    # Iterate through the list of images\n",
    "    print('training image count: ', len(imgs))\n",
    "    for file in imgs:\n",
    "        # Read in each one by one\n",
    "        image = cv2.imread(file)\n",
    "        image = cv2.cvtColor(image, cv2.COLOR_BGR2RGB)\n",
    "        # apply color conversion if other than 'RGB'\n",
    "        feature_image = convert_color(image, cspace)\n",
    "        # Apply bin_spatial() to get spatial color features\n",
    "        \n",
    "        spatial_features = bin_spatial(feature_image, size=spatial_size)\n",
    "\n",
    "        # Apply color_hist() also with a color space option now\n",
    "        rh, gh, bh, bincen, hist_features = color_hist(image, nbins=hist_bins, bins_range=hist_range)\n",
    "\n",
    "        # Call get_hog_features() with vis=False, feature_vec=True\n",
    "        if vis:\n",
    "            if hog_channel is not 'ALL':\n",
    "                hog_feature, hog_image = get_hog_features(feature_image[:,:,hog_channel], \n",
    "                                    orient, pix_per_cell, cell_per_block, \n",
    "                                    vis=True, feature_vec=True)\n",
    "        if hog_channel == 'ALL':\n",
    "            hog_features = []\n",
    "            for channel in range(feature_image.shape[2]):\n",
    "                hog_features.append(get_hog_features(feature_image[:,:,channel], \n",
    "                                    orient, pix_per_cell, cell_per_block, \n",
    "                                    vis=False, feature_vec=True))\n",
    "            hog_features = np.ravel(hog_features)        \n",
    "        else:\n",
    "            hog_features = get_hog_features(feature_image[:,:,hog_channel], orient, \n",
    "                        pix_per_cell, cell_per_block, vis=False, feature_vec=True)\n",
    "        # Append the new feature vector to the features list\n",
    "#         print('spacial: ', spatial_features.shape)\n",
    "#         print('hist: ', hist_features.shape)\n",
    "#         print('hog:', hog_features.shape)\n",
    "        features.append(np.concatenate((spatial_features, hist_features, hog_features)))\n",
    "        if vis:\n",
    "            print(\"Plot image samples\")\n",
    "            plot_samples(image, spatial_features, rh, gh, bh, bincen, hog_image)\n",
    "    # Return list of feature vectors\n",
    "    return features\n",
    "\n",
    "def fit_scale(data):\n",
    "    # Create an array stack, NOTE: StandardScaler() expects np.float64\n",
    "    X = np.vstack(data).astype(np.float64) \n",
    "    print(np.amin(X))\n",
    "    print(np.amax(X))\n",
    "#     print(X.shape)\n",
    "    # Fit a per-column scaler\n",
    "    return StandardScaler().fit(X)\n",
    "    \n",
    "## Data is a tuple of data\n",
    "def scale_data(X_scaler, data):\n",
    "    # Create an array stack, NOTE: StandardScaler() expects np.float64\n",
    "    X = np.vstack(data).astype(np.float64) \n",
    "    # Apply the scaler to X\n",
    "#     print(X.shape)\n",
    "    return X_scaler.transform(X)\n",
    "\n",
    "\n",
    "def testdata():\n",
    "    cars = []\n",
    "    cars.append(glob.glob('test_images/image*.png'))\n",
    "\n",
    "    car_features = extract_features(cars[0], cspace=HYPERPARAMS['COLOR_SPACE'], spatial_size=HYPERPARAMS['SPATIAL_SIZE'],\n",
    "                            hist_bins=HYPERPARAMS['HIST_BIN'], hist_range=HYPERPARAMS['HIST_RANGE'], orient=HYPERPARAMS['HOG_ORIENT'], \n",
    "                            pix_per_cell=HYPERPARAMS['HOG_PIX_PER_CELL'], cell_per_block=HYPERPARAMS['HOG_CELL_PER_BLOCK'], \n",
    "                            hog_channel=0, vis=True)\n",
    "\n",
    "def load_files():\n",
    "    # Read in car and non-car images\n",
    "    cars = glob.glob('training/vehicles/*/*.png')\n",
    "    notcars = glob.glob('training/non-vehicles/*/*.png')\n",
    "    return cars, notcars\n",
    "    \n",
    "HYPERPARAMS = {\n",
    "    'COLOR_SPACE': 'YCrCb', # Color space\n",
    "    'SPATIAL_FEAT': True, # Using spacial features?\n",
    "    'SPATIAL_SIZE': (32, 32), # How many spacial features\n",
    "    'HOG_FEAT': True, # Using hog features?\n",
    "    'HOG_ORIENT': 11, # Hog cell orientation\n",
    "    'HOG_PIX_PER_CELL': 8, # Pixels per hog cell\n",
    "    'HOG_CELL_PER_BLOCK': 2, # Hog cell overlap\n",
    "    'HOG_CHANNEL': \"ALL\",  # Which hog channels to use\n",
    "    'HIST_FEAT': True, # Using histogram features?\n",
    "    'HIST_RANGE': (0.0, 256.0), # Histogram min / max\n",
    "    'HIST_BIN': 32, # How many bins for histogram\n",
    "    'HEAT_THRESHOLD': 2.0, # Threshold to reject false positives\n",
    "    'HEAT_FRAMES': 5 # Over how many frames to collect heat\n",
    "}\n"
   ]
  },
  {
   "cell_type": "code",
   "execution_count": null,
   "metadata": {
    "scrolled": false
   },
   "outputs": [],
   "source": [
    "testdata()"
   ]
  },
  {
   "cell_type": "code",
   "execution_count": 7,
   "metadata": {},
   "outputs": [],
   "source": [
    "\n",
    "def train_model():\n",
    "    cars, notcars = load_files()\n",
    "\n",
    "    # TODO play with these values to see how your classifier\n",
    "    # performs under different binning scenarios\n",
    "\n",
    "    car_features = extract_features(cars, cspace=HYPERPARAMS['COLOR_SPACE'], spatial_size=HYPERPARAMS['SPATIAL_SIZE'],\n",
    "                            hist_bins=HYPERPARAMS['HIST_BIN'], hist_range=HYPERPARAMS['HIST_RANGE'], orient=HYPERPARAMS['HOG_ORIENT'], \n",
    "                            pix_per_cell=HYPERPARAMS['HOG_PIX_PER_CELL'], cell_per_block=HYPERPARAMS['HOG_CELL_PER_BLOCK'], \n",
    "                            hog_channel=HYPERPARAMS['HOG_CHANNEL'], vis=False)\n",
    "    notcar_features = extract_features(notcars, cspace=HYPERPARAMS['COLOR_SPACE'], spatial_size=HYPERPARAMS['SPATIAL_SIZE'],\n",
    "                            hist_bins=HYPERPARAMS['HIST_BIN'], hist_range=HYPERPARAMS['HIST_RANGE'], orient=HYPERPARAMS['HOG_ORIENT'], \n",
    "                            pix_per_cell=HYPERPARAMS['HOG_PIX_PER_CELL'], cell_per_block=HYPERPARAMS['HOG_CELL_PER_BLOCK'], \n",
    "                            hog_channel=HYPERPARAMS['HOG_CHANNEL'], vis=False)\n",
    "#     print(np.vstack(car_features).astype(np.float64).shape )\n",
    "    # Apply the scaler to X\n",
    "    print(len(car_features))\n",
    "    data = (car_features, notcar_features)\n",
    "    x_scaler = fit_scale(data)\n",
    "    scaled_X = scale_data(x_scaler, data)\n",
    "    \n",
    "    print(np.amin(scaled_X))\n",
    "    print(np.amax(scaled_X))\n",
    "    \n",
    "    # Define the labels vector\n",
    "    y = np.hstack((np.ones(len(car_features)), np.zeros(len(notcar_features))))\n",
    "\n",
    "    # Split up data into randomized training and test sets\n",
    "    rand_state = np.random.randint(0, 100)\n",
    "    X_train, X_test, y_train, y_test = train_test_split(\n",
    "        scaled_X, y, test_size=0.2, random_state=rand_state)\n",
    "\n",
    "    print('Using spatial binning of:',HYPERPARAMS['SPATIAL_SIZE'],\n",
    "        'and', HYPERPARAMS['HIST_BIN'],'histogram bins')\n",
    "    print('Feature vector length:', len(X_train[0]))\n",
    "    # Use a linear SVC \n",
    "    svc = LinearSVC()\n",
    "    # Check the training time for the SVC\n",
    "    t=time.time()\n",
    "    svc.fit(X_train, y_train)\n",
    "    joblib.dump(svc, 'vehicle-detection-model.pkl') \n",
    "    t2 = time.time()\n",
    "    print(round(t2-t, 2), 'Seconds to train SVC...')\n",
    "    # Check the score of the SVC\n",
    "    print('Test Accuracy of SVC = ', round(svc.score(X_test, y_test), 4))\n",
    "    # Check the prediction time for a single sample\n",
    "    t=time.time()\n",
    "    n_predict = 30\n",
    "    print('My SVC predicts: ', svc.predict(X_test[0:n_predict]))\n",
    "    print('For these',n_predict, 'labels: ', y_test[0:n_predict])\n",
    "    t2 = time.time()\n",
    "    print(round(t2-t, 5), 'Seconds to predict', n_predict,'labels with SVC')\n",
    "    \n",
    "    return x_scaler, svc\n",
    "    \n",
    "    ## WE should save the model here somewhere so it can be reloaded once we've trained it."
   ]
  },
  {
   "cell_type": "code",
   "execution_count": 8,
   "metadata": {
    "scrolled": true
   },
   "outputs": [
    {
     "name": "stdout",
     "output_type": "stream",
     "text": [
      "training image count:  8792\n"
     ]
    },
    {
     "name": "stderr",
     "output_type": "stream",
     "text": [
      "/home/suprnrdy/miniconda3/envs/carnd-term1/lib/python3.5/site-packages/skimage/feature/_hog.py:119: skimage_deprecation: Default value of `block_norm`==`L1` is deprecated and will be changed to `L2-Hys` in v0.15\n",
      "  'be changed to `L2-Hys` in v0.15', skimage_deprecation)\n"
     ]
    },
    {
     "name": "stdout",
     "output_type": "stream",
     "text": [
      "training image count:  8968\n",
      "8792\n",
      "0.0\n",
      "4096.0\n",
      "-14.1559766717\n",
      "52.7580425849\n",
      "Using spatial binning of: (32, 32) and 32 histogram bins\n",
      "Feature vector length: 9636\n",
      "22.15 Seconds to train SVC...\n",
      "Test Accuracy of SVC =  0.9949\n",
      "My SVC predicts:  [ 0.  0.  0.  0.  0.  0.  0.  0.  1.  0.  0.  1.  1.  1.  0.  1.  0.  0.\n",
      "  1.  1.  0.  1.  1.  0.  0.  1.  0.  0.  1.  0.]\n",
      "For these 30 labels:  [ 0.  0.  0.  0.  0.  0.  0.  0.  1.  0.  0.  1.  1.  1.  0.  1.  0.  0.\n",
      "  1.  1.  0.  1.  1.  0.  0.  1.  0.  0.  1.  0.]\n",
      "0.01815 Seconds to predict 30 labels with SVC\n"
     ]
    }
   ],
   "source": [
    "## Train the model, and then return the classifier used for predictionx\n",
    "x_scaler, svc = train_model()\n"
   ]
  },
  {
   "cell_type": "code",
   "execution_count": 39,
   "metadata": {},
   "outputs": [],
   "source": [
    "def add_heat(heatmap, bbox_list, threshold):\n",
    "    # Iterate through list of bboxes\n",
    "    for box in bbox_list:\n",
    "        # Add += 1 for all pixels inside each bbox\n",
    "        # Assuming each \"box\" takes the form ((x1, y1), (x2, y2))\n",
    "        heatmap[box[0][1]:box[1][1], box[0][0]:box[1][0]] += 1\n",
    "    \n",
    "    for box in bbox_list:\n",
    "        if np.max(heatmap[box[0][1]:box[1][1], box[0][0]:box[1][0]]) > threshold:\n",
    "            heatmap[box[0][1]:box[1][1], box[0][0]:box[1][0]] += (threshold + 1)\n",
    "    \n",
    "    # Return updated heatmap\n",
    "    return heatmap# Iterate through list of bboxes\n",
    "    \n",
    "def apply_threshold(heatmap, threshold):\n",
    "    # Zero out pixels below the threshold\n",
    "    heatmap[heatmap <= threshold] = 0\n",
    "    # Return thresholded map\n",
    "    return heatmap\n",
    "\n",
    "def draw_labeled_bboxes(img, labels):\n",
    "    # Iterate through all detected cars\n",
    "    for car_number in range(1, labels[1]+1):\n",
    "        # Find pixels with each car_number label value\n",
    "        nonzero = (labels[0] == car_number).nonzero()\n",
    "        # Identify x and y values of those pixels\n",
    "        nonzeroy = np.array(nonzero[0])\n",
    "        nonzerox = np.array(nonzero[1])\n",
    "        # Define a bounding box based on min/max x and y\n",
    "        bbox = ((np.min(nonzerox), np.min(nonzeroy)), (np.max(nonzerox), np.max(nonzeroy)))\n",
    "        # Draw the box on the image\n",
    "        cv2.rectangle(img, bbox[0], bbox[1], (255,0,0), 6)\n",
    "    # Return the image\n",
    "    return img\n",
    "\n",
    "# Define a single function that can extract features using hog sub-sampling and make predictions\n",
    "def find_cars(img, colorspace, ystart, ystop, scale, svc, X_scaler, orient, pix_per_cell, cell_per_block, spatial_size, hist_bins):\n",
    "      \n",
    "    draw_img = np.copy(img)\n",
    "#     img = img.astype(np.float32)/255\n",
    "    \n",
    "    #Only use the image within the ystart and ystop positions\n",
    "    img_tosearch = img[ystart:ystop,:,:]\n",
    "    ctrans_tosearch = convert_color(img_tosearch, conv=colorspace)\n",
    "    if scale != 1:\n",
    "        imshape = ctrans_tosearch.shape\n",
    "        ctrans_tosearch = cv2.resize(ctrans_tosearch, (np.int(imshape[1]/scale), np.int(imshape[0]/scale)))\n",
    "        \n",
    "    ch1 = ctrans_tosearch[:,:,0]\n",
    "    ch2 = ctrans_tosearch[:,:,1]\n",
    "    ch3 = ctrans_tosearch[:,:,2]\n",
    "\n",
    "    # Define blocks and steps as above\n",
    "    nxblocks = (ch1.shape[1] // pix_per_cell) - cell_per_block + 1\n",
    "    nyblocks = (ch1.shape[0] // pix_per_cell) - cell_per_block + 1 \n",
    "    nfeat_per_block = orient*cell_per_block**2\n",
    "    \n",
    "    # 64 was the orginal sampling rate, with 8 cells and 8 pix per cell\n",
    "    window = 64\n",
    "    nblocks_per_window = (window // pix_per_cell) - cell_per_block + 1\n",
    "    cells_per_step = 2  # Instead of overlap, define how many cells to step\n",
    "    nxsteps = (nxblocks - nblocks_per_window) // cells_per_step\n",
    "    nysteps = (nyblocks - nblocks_per_window) // cells_per_step\n",
    "    \n",
    "    # Compute individual channel HOG features for the entire image\n",
    "    hog1 = get_hog_features(ch1, orient, pix_per_cell, cell_per_block, feature_vec=False)\n",
    "    hog2 = get_hog_features(ch2, orient, pix_per_cell, cell_per_block, feature_vec=False)\n",
    "    hog3 = get_hog_features(ch3, orient, pix_per_cell, cell_per_block, feature_vec=False)\n",
    "    \n",
    "    bbox_list = []\n",
    "    n_box = 0\n",
    "    \n",
    "    for xb in range(nxsteps):\n",
    "        for yb in range(nysteps):\n",
    "            ypos = yb*cells_per_step\n",
    "            xpos = xb*cells_per_step\n",
    "            # Extract HOG for this patch\n",
    "            hog_feat1 = hog1[ypos:ypos+nblocks_per_window, xpos:xpos+nblocks_per_window].ravel() \n",
    "            hog_feat2 = hog2[ypos:ypos+nblocks_per_window, xpos:xpos+nblocks_per_window].ravel() \n",
    "            hog_feat3 = hog3[ypos:ypos+nblocks_per_window, xpos:xpos+nblocks_per_window].ravel() \n",
    "            hog_features = np.hstack((hog_feat1, hog_feat2, hog_feat3))\n",
    "#             print('hog_features: ', hog_features.shape)\n",
    "\n",
    "            xleft = xpos*pix_per_cell\n",
    "            ytop = ypos*pix_per_cell\n",
    "\n",
    "            # Extract the image patch\n",
    "            subimg = cv2.resize(ctrans_tosearch[ytop:ytop+window, xleft:xleft+window], (64,64))\n",
    "          \n",
    "            # Get color features\n",
    "            spatial_features = bin_spatial(subimg, size=spatial_size)\n",
    "            rh, gh, bh, bincen, hist_features = color_hist(subimg, nbins=hist_bins, bins_range=(0,256))\n",
    "\n",
    "            # Scale features and make a prediction\n",
    "            test_features = X_scaler.transform(np.hstack((spatial_features, hist_features, hog_features)).reshape(1, -1)) \n",
    "            #test_features = X_scaler.transform(np.hstack((shape_feat, hist_feat)).reshape(1, -1))    \n",
    "            test_prediction = svc.predict(test_features)\n",
    "            \n",
    "            if test_prediction == 1:\n",
    "                n_box+=1\n",
    "                xbox_left = np.int(xleft*scale)\n",
    "                ytop_draw = np.int(ytop*scale)\n",
    "                win_draw = np.int(window*scale)\n",
    "                box = ((xbox_left, ytop_draw+ystart), (xbox_left+win_draw, ytop_draw+win_draw+ystart))\n",
    "                bbox_list.append(box)\n",
    "#                 cv2.rectangle(draw_img,box[0],box[1],(0,0,255),6) \n",
    "                \n",
    "    print('Number of boxes found: ', n_box)\n",
    "    return draw_img, bbox_list\n",
    "\n",
    "def heat_map(img, bbox_list, heat_thresh=1):\n",
    "    print(\"iterations: \",iteration)\n",
    "    global iteration, heatmaps\n",
    "    if len(bbox_list) > 0:\n",
    "        heat = np.zeros_like(img[:,:,0]).astype(np.float)\n",
    "        # Add heat to each box in box list\n",
    "        heat = add_heat(heat,bbox_list, heat_thresh)\n",
    "\n",
    "        heatmaps.append(heat)\n",
    "        print('heatmap len: ', len(heatmaps))\n",
    "        \n",
    "        # average heats\n",
    "        avg_heat = sum(heatmaps)/len(heatmaps)\n",
    "        heat = avg_heat\n",
    "        heat = apply_threshold(heat,heat_thresh)\n",
    "        heatmap = np.clip(heat, 0, 255)\n",
    "        # Find final boxes from heatmap using label function\n",
    "        labels = label(heatmap)\n",
    "        draw_img = draw_labeled_bboxes(np.copy(img), labels)\n",
    "    else:\n",
    "        # pass the image itself if nothing was detected\n",
    "        draw_img = np.copy(img)\n",
    "    iteration += 1\n",
    "\n",
    "#     fig = plt.figure()\n",
    "#     plt.figure()\n",
    "#     plt.imshow(draw_img)\n",
    "#     plt.title('Car Positions')\n",
    "#     plt.figure()\n",
    "#     plt.imshow(heatmap, cmap='hot')\n",
    "#     plt.title('Heat Map')\n",
    "#     plt.show()\n",
    "    return draw_img\n"
   ]
  },
  {
   "cell_type": "code",
   "execution_count": 40,
   "metadata": {
    "scrolled": false
   },
   "outputs": [
    {
     "name": "stdout",
     "output_type": "stream",
     "text": [
      "Number of boxes found:  10\n",
      "Number of boxes found:  8\n",
      "Number of boxes found:  9\n",
      "Number of boxes found:  2\n",
      "iterations:  1\n",
      "heatmap len:  1\n",
      "Number of boxes found:  4\n",
      "Number of boxes found:  3\n",
      "Number of boxes found:  0\n",
      "Number of boxes found:  0\n",
      "iterations:  2\n",
      "heatmap len:  1\n",
      "Number of boxes found:  6\n",
      "Number of boxes found:  8\n",
      "Number of boxes found:  6\n",
      "Number of boxes found:  4\n",
      "iterations:  3\n",
      "heatmap len:  1\n",
      "Number of boxes found:  16\n",
      "Number of boxes found:  9\n",
      "Number of boxes found:  5\n",
      "Number of boxes found:  2\n",
      "iterations:  4\n",
      "heatmap len:  1\n",
      "Number of boxes found:  11\n",
      "Number of boxes found:  17\n",
      "Number of boxes found:  7\n",
      "Number of boxes found:  3\n",
      "iterations:  5\n",
      "heatmap len:  1\n",
      "Number of boxes found:  4\n",
      "Number of boxes found:  1\n",
      "Number of boxes found:  2\n",
      "Number of boxes found:  0\n",
      "iterations:  6\n",
      "heatmap len:  1\n",
      "Number of boxes found:  8\n",
      "Number of boxes found:  6\n",
      "Number of boxes found:  2\n",
      "Number of boxes found:  3\n",
      "iterations:  7\n",
      "heatmap len:  1\n"
     ]
    }
   ],
   "source": [
    "from collections import deque\n",
    "svc = joblib.load('vehicle-detection-model.pkl') \n",
    "heatmaps = deque(maxlen=10)\n",
    "iteration = 1\n",
    "\n",
    "def process_image(img, figures=False):\n",
    "    draw_image = np.copy(img)\n",
    "    bbox = []\n",
    "    bbox1 = []\n",
    "    bbox2 = []\n",
    "    bbox3 = []\n",
    "    bbox4 = []\n",
    "    \n",
    "    ystart = 390\n",
    "    ystop = 550\n",
    "    scale = 0.75\n",
    "    found_img, bbox0 = find_cars(img, HYPERPARAMS['COLOR_SPACE'], ystart, ystop, scale, svc, x_scaler, \n",
    "                                HYPERPARAMS['HOG_ORIENT'], HYPERPARAMS['HOG_PIX_PER_CELL'], \n",
    "                                HYPERPARAMS['HOG_CELL_PER_BLOCK'], HYPERPARAMS['SPATIAL_SIZE'], \n",
    "                                HYPERPARAMS['HIST_BIN'])\n",
    "    \n",
    "    ystart = 390\n",
    "    ystop = 650\n",
    "    scale = 1\n",
    "    found_img, bbox1 = find_cars(img, HYPERPARAMS['COLOR_SPACE'], ystart, ystop, scale, svc, x_scaler, \n",
    "                                HYPERPARAMS['HOG_ORIENT'], HYPERPARAMS['HOG_PIX_PER_CELL'], \n",
    "                                HYPERPARAMS['HOG_CELL_PER_BLOCK'], HYPERPARAMS['SPATIAL_SIZE'], \n",
    "                                HYPERPARAMS['HIST_BIN'])\n",
    "    \n",
    "    ystart = 390\n",
    "    ystop = img.shape[0]\n",
    "    scale = 1.5\n",
    "    found_img, bbox2 = find_cars(img, HYPERPARAMS['COLOR_SPACE'], ystart, ystop, scale, svc, x_scaler, \n",
    "                                HYPERPARAMS['HOG_ORIENT'], HYPERPARAMS['HOG_PIX_PER_CELL'], \n",
    "                                HYPERPARAMS['HOG_CELL_PER_BLOCK'], HYPERPARAMS['SPATIAL_SIZE'], \n",
    "                                HYPERPARAMS['HIST_BIN'])\n",
    "    \n",
    "    ystart = 400\n",
    "    ystop = img.shape[0]\n",
    "    scale = 2\n",
    "    found_img, bbox3 = find_cars(img, HYPERPARAMS['COLOR_SPACE'], ystart, ystop, scale, svc, x_scaler, \n",
    "                                HYPERPARAMS['HOG_ORIENT'], HYPERPARAMS['HOG_PIX_PER_CELL'], \n",
    "                                HYPERPARAMS['HOG_CELL_PER_BLOCK'], HYPERPARAMS['SPATIAL_SIZE'], \n",
    "                                HYPERPARAMS['HIST_BIN'])\n",
    "\n",
    "    \n",
    "    bbox = bbox0 + bbox1 + bbox2 + bbox3\n",
    "    \n",
    "#     for box in bbox0:\n",
    "#         cv2.rectangle(found_img,box[0],box[1],(255,0,255),6) \n",
    "    \n",
    "#     for box in bbox1:\n",
    "#         cv2.rectangle(found_img,box[0],box[1],(0,0,255),6) \n",
    "    \n",
    "#     for box in bbox2:\n",
    "#         cv2.rectangle(found_img,box[0],box[1],(0,100,100),6) \n",
    "    \n",
    "#     for box in bbox3:\n",
    "#         cv2.rectangle(found_img,box[0],box[1],(100,100,100),6) \n",
    "    \n",
    "    \n",
    "    out_img = heat_map(found_img, bbox, 2)\n",
    "    return out_img\n",
    "\n",
    "bbox = []\n",
    "heatmaps.clear()\n",
    "img = cv2.imread('test_images/test1.jpg')\n",
    "img = cv2.cvtColor(img, cv2.COLOR_BGR2RGB)\n",
    "out_img = process_image(img)\n",
    "\n",
    "# bbox = []\n",
    "# heatmaps.clear()\n",
    "# img = cv2.imread('test_images/test2.jpg')\n",
    "# img = cv2.cvtColor(img, cv2.COLOR_BGR2RGB)\n",
    "# out_img = process_image(img)\n",
    "\n",
    "bbox = []\n",
    "heatmaps.clear()\n",
    "img = cv2.imread('test_images/test3.jpg')\n",
    "img = cv2.cvtColor(img, cv2.COLOR_BGR2RGB)\n",
    "out_img = process_image(img)\n",
    "\n",
    "bbox = []\n",
    "heatmaps.clear()\n",
    "img = cv2.imread('test_images/test4.jpg')\n",
    "img = cv2.cvtColor(img, cv2.COLOR_BGR2RGB)\n",
    "out_img = process_image(img)\n",
    "\n",
    "bbox = []\n",
    "heatmaps.clear()\n",
    "img = cv2.imread('test_images/test5.jpg')\n",
    "img = cv2.cvtColor(img, cv2.COLOR_BGR2RGB)\n",
    "out_img = process_image(img)\n",
    "\n",
    "bbox = []\n",
    "heatmaps.clear()\n",
    "img = cv2.imread('test_images/test6.jpg')\n",
    "img = cv2.cvtColor(img, cv2.COLOR_BGR2RGB)\n",
    "out_img = process_image(img)\n",
    "\n",
    "bbox = []\n",
    "heatmaps.clear()\n",
    "img = cv2.imread('test_images/test7.jpg')\n",
    "img = cv2.cvtColor(img, cv2.COLOR_BGR2RGB)\n",
    "out_img = process_image(img)\n",
    "\n",
    "bbox = []\n",
    "heatmaps.clear()\n",
    "img = cv2.imread('test_images/test8.jpg')\n",
    "img = cv2.cvtColor(img, cv2.COLOR_BGR2RGB)\n",
    "out_img = process_image(img)\n",
    "\n",
    "plt.close()\n",
    "# plt.figure()\n",
    "# plt.imshow(out_img)\n",
    "# plt.show()\n"
   ]
  },
  {
   "cell_type": "code",
   "execution_count": 41,
   "metadata": {
    "scrolled": false
   },
   "outputs": [
    {
     "name": "stdout",
     "output_type": "stream",
     "text": [
      "Number of boxes found:  0\n",
      "Number of boxes found:  0\n",
      "Number of boxes found:  0\n",
      "Number of boxes found:  0\n",
      "iterations:  8\n",
      "[MoviePy] >>>> Building video output_images/project_output.mp4\n",
      "[MoviePy] Writing video output_images/project_output.mp4\n"
     ]
    },
    {
     "name": "stderr",
     "output_type": "stream",
     "text": [
      "\r",
      "  0%|          | 0/1261 [00:00<?, ?it/s]"
     ]
    },
    {
     "name": "stdout",
     "output_type": "stream",
     "text": [
      "Number of boxes found:  0\n",
      "Number of boxes found:  0\n",
      "Number of boxes found:  0\n"
     ]
    },
    {
     "name": "stderr",
     "output_type": "stream",
     "text": [
      "\r",
      "  0%|          | 1/1261 [00:02<57:09,  2.72s/it]"
     ]
    },
    {
     "name": "stdout",
     "output_type": "stream",
     "text": [
      "Number of boxes found:  0\n",
      "iterations:  9\n",
      "Number of boxes found:  1\n",
      "Number of boxes found:  0\n",
      "Number of boxes found:  0\n"
     ]
    },
    {
     "name": "stderr",
     "output_type": "stream",
     "text": [
      "\r",
      "  0%|          | 2/1261 [00:05<57:02,  2.72s/it]"
     ]
    },
    {
     "name": "stdout",
     "output_type": "stream",
     "text": [
      "Number of boxes found:  0\n",
      "iterations:  10\n",
      "heatmap len:  1\n",
      "Number of boxes found:  0\n",
      "Number of boxes found:  1\n",
      "Number of boxes found:  0\n"
     ]
    },
    {
     "name": "stderr",
     "output_type": "stream",
     "text": [
      "\r",
      "  0%|          | 3/1261 [00:08<56:52,  2.71s/it]"
     ]
    },
    {
     "name": "stdout",
     "output_type": "stream",
     "text": [
      "Number of boxes found:  0\n",
      "iterations:  11\n",
      "heatmap len:  2\n",
      "Number of boxes found:  0\n",
      "Number of boxes found:  0\n",
      "Number of boxes found:  0\n"
     ]
    },
    {
     "name": "stderr",
     "output_type": "stream",
     "text": [
      "\r",
      "  0%|          | 4/1261 [00:10<56:38,  2.70s/it]"
     ]
    },
    {
     "name": "stdout",
     "output_type": "stream",
     "text": [
      "Number of boxes found:  0\n",
      "iterations:  12\n",
      "Number of boxes found:  0\n",
      "Number of boxes found:  0\n",
      "Number of boxes found:  0\n"
     ]
    },
    {
     "name": "stderr",
     "output_type": "stream",
     "text": [
      "\r",
      "  0%|          | 5/1261 [00:13<56:22,  2.69s/it]"
     ]
    },
    {
     "name": "stdout",
     "output_type": "stream",
     "text": [
      "Number of boxes found:  0\n",
      "iterations:  13\n",
      "Number of boxes found:  1\n",
      "Number of boxes found:  0\n",
      "Number of boxes found:  0\n"
     ]
    },
    {
     "name": "stderr",
     "output_type": "stream",
     "text": [
      "\r",
      "  0%|          | 6/1261 [00:16<57:09,  2.73s/it]"
     ]
    },
    {
     "name": "stdout",
     "output_type": "stream",
     "text": [
      "Number of boxes found:  0\n",
      "iterations:  14\n",
      "heatmap len:  3\n",
      "Number of boxes found:  1\n",
      "Number of boxes found:  0\n",
      "Number of boxes found:  0\n"
     ]
    },
    {
     "name": "stderr",
     "output_type": "stream",
     "text": [
      "\r",
      "  1%|          | 7/1261 [00:18<56:45,  2.72s/it]"
     ]
    },
    {
     "name": "stdout",
     "output_type": "stream",
     "text": [
      "Number of boxes found:  0\n",
      "iterations:  15\n",
      "heatmap len:  4\n",
      "Number of boxes found:  0\n",
      "Number of boxes found:  0\n",
      "Number of boxes found:  0\n"
     ]
    },
    {
     "name": "stderr",
     "output_type": "stream",
     "text": [
      "\r",
      "  1%|          | 8/1261 [00:21<56:45,  2.72s/it]"
     ]
    },
    {
     "name": "stdout",
     "output_type": "stream",
     "text": [
      "Number of boxes found:  0\n",
      "iterations:  16\n",
      "Number of boxes found:  0\n",
      "Number of boxes found:  0\n",
      "Number of boxes found:  0\n"
     ]
    },
    {
     "name": "stderr",
     "output_type": "stream",
     "text": [
      "\r",
      "  1%|          | 9/1261 [00:24<56:20,  2.70s/it]"
     ]
    },
    {
     "name": "stdout",
     "output_type": "stream",
     "text": [
      "Number of boxes found:  0\n",
      "iterations:  17\n",
      "Number of boxes found:  0\n",
      "Number of boxes found:  0\n",
      "Number of boxes found:  0\n"
     ]
    },
    {
     "name": "stderr",
     "output_type": "stream",
     "text": [
      "\r",
      "  1%|          | 10/1261 [00:26<55:47,  2.68s/it]"
     ]
    },
    {
     "name": "stdout",
     "output_type": "stream",
     "text": [
      "Number of boxes found:  0\n",
      "iterations:  18\n",
      "Number of boxes found:  0\n",
      "Number of boxes found:  0\n",
      "Number of boxes found:  0\n"
     ]
    },
    {
     "name": "stderr",
     "output_type": "stream",
     "text": [
      "\r",
      "  1%|          | 11/1261 [00:29<55:36,  2.67s/it]"
     ]
    },
    {
     "name": "stdout",
     "output_type": "stream",
     "text": [
      "Number of boxes found:  0\n",
      "iterations:  19\n",
      "Number of boxes found:  0\n",
      "Number of boxes found:  0\n",
      "Number of boxes found:  0\n"
     ]
    },
    {
     "name": "stderr",
     "output_type": "stream",
     "text": [
      "\r",
      "  1%|          | 12/1261 [00:32<55:37,  2.67s/it]"
     ]
    },
    {
     "name": "stdout",
     "output_type": "stream",
     "text": [
      "Number of boxes found:  0\n",
      "iterations:  20\n",
      "Number of boxes found:  0\n",
      "Number of boxes found:  0\n",
      "Number of boxes found:  0\n"
     ]
    },
    {
     "name": "stderr",
     "output_type": "stream",
     "text": [
      "\r",
      "  1%|          | 13/1261 [00:34<55:27,  2.67s/it]"
     ]
    },
    {
     "name": "stdout",
     "output_type": "stream",
     "text": [
      "Number of boxes found:  0\n",
      "iterations:  21\n",
      "Number of boxes found:  0\n",
      "Number of boxes found:  0\n",
      "Number of boxes found:  0\n"
     ]
    },
    {
     "name": "stderr",
     "output_type": "stream",
     "text": [
      "\r",
      "  1%|          | 14/1261 [00:37<55:27,  2.67s/it]"
     ]
    },
    {
     "name": "stdout",
     "output_type": "stream",
     "text": [
      "Number of boxes found:  0\n",
      "iterations:  22\n",
      "Number of boxes found:  0\n",
      "Number of boxes found:  0\n",
      "Number of boxes found:  0\n"
     ]
    },
    {
     "name": "stderr",
     "output_type": "stream",
     "text": [
      "\r",
      "  1%|          | 15/1261 [00:40<56:05,  2.70s/it]"
     ]
    },
    {
     "name": "stdout",
     "output_type": "stream",
     "text": [
      "Number of boxes found:  0\n",
      "iterations:  23\n",
      "Number of boxes found:  0\n",
      "Number of boxes found:  0\n",
      "Number of boxes found:  0\n"
     ]
    },
    {
     "name": "stderr",
     "output_type": "stream",
     "text": [
      "\r",
      "  1%|▏         | 16/1261 [00:43<55:33,  2.68s/it]"
     ]
    },
    {
     "name": "stdout",
     "output_type": "stream",
     "text": [
      "Number of boxes found:  0\n",
      "iterations:  24\n",
      "Number of boxes found:  0\n",
      "Number of boxes found:  0\n",
      "Number of boxes found:  0\n"
     ]
    },
    {
     "name": "stderr",
     "output_type": "stream",
     "text": [
      "\r",
      "  1%|▏         | 17/1261 [00:45<55:17,  2.67s/it]"
     ]
    },
    {
     "name": "stdout",
     "output_type": "stream",
     "text": [
      "Number of boxes found:  0\n",
      "iterations:  25\n",
      "Number of boxes found:  0\n",
      "Number of boxes found:  0\n",
      "Number of boxes found:  0\n"
     ]
    },
    {
     "name": "stderr",
     "output_type": "stream",
     "text": [
      "\r",
      "  1%|▏         | 18/1261 [00:48<55:37,  2.68s/it]"
     ]
    },
    {
     "name": "stdout",
     "output_type": "stream",
     "text": [
      "Number of boxes found:  0\n",
      "iterations:  26\n",
      "Number of boxes found:  0\n",
      "Number of boxes found:  0\n",
      "Number of boxes found:  0\n"
     ]
    },
    {
     "name": "stderr",
     "output_type": "stream",
     "text": [
      "\r",
      "  2%|▏         | 19/1261 [00:51<55:24,  2.68s/it]"
     ]
    },
    {
     "name": "stdout",
     "output_type": "stream",
     "text": [
      "Number of boxes found:  0\n",
      "iterations:  27\n",
      "Number of boxes found:  0\n",
      "Number of boxes found:  0\n",
      "Number of boxes found:  0\n"
     ]
    },
    {
     "name": "stderr",
     "output_type": "stream",
     "text": [
      "\r",
      "  2%|▏         | 20/1261 [00:53<55:33,  2.69s/it]"
     ]
    },
    {
     "name": "stdout",
     "output_type": "stream",
     "text": [
      "Number of boxes found:  0\n",
      "iterations:  28\n",
      "Number of boxes found:  0\n",
      "Number of boxes found:  0\n",
      "Number of boxes found:  0\n"
     ]
    },
    {
     "name": "stderr",
     "output_type": "stream",
     "text": [
      "\r",
      "  2%|▏         | 21/1261 [00:56<55:17,  2.68s/it]"
     ]
    },
    {
     "name": "stdout",
     "output_type": "stream",
     "text": [
      "Number of boxes found:  0\n",
      "iterations:  29\n",
      "Number of boxes found:  0\n",
      "Number of boxes found:  0\n",
      "Number of boxes found:  0\n"
     ]
    },
    {
     "name": "stderr",
     "output_type": "stream",
     "text": [
      "\r",
      "  2%|▏         | 22/1261 [00:59<55:12,  2.67s/it]"
     ]
    },
    {
     "name": "stdout",
     "output_type": "stream",
     "text": [
      "Number of boxes found:  0\n",
      "iterations:  30\n",
      "Number of boxes found:  0\n",
      "Number of boxes found:  0\n",
      "Number of boxes found:  0\n"
     ]
    },
    {
     "name": "stderr",
     "output_type": "stream",
     "text": [
      "\r",
      "  2%|▏         | 23/1261 [01:01<54:58,  2.66s/it]"
     ]
    },
    {
     "name": "stdout",
     "output_type": "stream",
     "text": [
      "Number of boxes found:  0\n",
      "iterations:  31\n",
      "Number of boxes found:  0\n",
      "Number of boxes found:  0\n",
      "Number of boxes found:  0\n"
     ]
    },
    {
     "name": "stderr",
     "output_type": "stream",
     "text": [
      "\r",
      "  2%|▏         | 24/1261 [01:04<54:55,  2.66s/it]"
     ]
    },
    {
     "name": "stdout",
     "output_type": "stream",
     "text": [
      "Number of boxes found:  0\n",
      "iterations:  32\n",
      "Number of boxes found:  0\n",
      "Number of boxes found:  0\n",
      "Number of boxes found:  0\n"
     ]
    },
    {
     "name": "stderr",
     "output_type": "stream",
     "text": [
      "\r",
      "  2%|▏         | 25/1261 [01:07<55:01,  2.67s/it]"
     ]
    },
    {
     "name": "stdout",
     "output_type": "stream",
     "text": [
      "Number of boxes found:  0\n",
      "iterations:  33\n",
      "Number of boxes found:  0\n",
      "Number of boxes found:  0\n",
      "Number of boxes found:  0\n"
     ]
    },
    {
     "name": "stderr",
     "output_type": "stream",
     "text": [
      "\r",
      "  2%|▏         | 26/1261 [01:09<55:29,  2.70s/it]"
     ]
    },
    {
     "name": "stdout",
     "output_type": "stream",
     "text": [
      "Number of boxes found:  0\n",
      "iterations:  34\n",
      "Number of boxes found:  0\n",
      "Number of boxes found:  0\n",
      "Number of boxes found:  0\n"
     ]
    },
    {
     "name": "stderr",
     "output_type": "stream",
     "text": [
      "\r",
      "  2%|▏         | 27/1261 [01:12<55:14,  2.69s/it]"
     ]
    },
    {
     "name": "stdout",
     "output_type": "stream",
     "text": [
      "Number of boxes found:  0\n",
      "iterations:  35\n",
      "Number of boxes found:  0\n",
      "Number of boxes found:  0\n",
      "Number of boxes found:  0\n"
     ]
    },
    {
     "name": "stderr",
     "output_type": "stream",
     "text": [
      "\r",
      "  2%|▏         | 28/1261 [01:15<55:09,  2.68s/it]"
     ]
    },
    {
     "name": "stdout",
     "output_type": "stream",
     "text": [
      "Number of boxes found:  0\n",
      "iterations:  36\n",
      "Number of boxes found:  0\n",
      "Number of boxes found:  0\n",
      "Number of boxes found:  0\n"
     ]
    },
    {
     "name": "stderr",
     "output_type": "stream",
     "text": [
      "\r",
      "  2%|▏         | 29/1261 [01:17<55:08,  2.69s/it]"
     ]
    },
    {
     "name": "stdout",
     "output_type": "stream",
     "text": [
      "Number of boxes found:  0\n",
      "iterations:  37\n",
      "Number of boxes found:  0\n",
      "Number of boxes found:  0\n",
      "Number of boxes found:  0\n"
     ]
    },
    {
     "name": "stderr",
     "output_type": "stream",
     "text": [
      "\r",
      "  2%|▏         | 30/1261 [01:20<54:44,  2.67s/it]"
     ]
    },
    {
     "name": "stdout",
     "output_type": "stream",
     "text": [
      "Number of boxes found:  0\n",
      "iterations:  38\n",
      "Number of boxes found:  0\n",
      "Number of boxes found:  0\n",
      "Number of boxes found:  0\n"
     ]
    },
    {
     "name": "stderr",
     "output_type": "stream",
     "text": [
      "\r",
      "  2%|▏         | 31/1261 [01:23<54:20,  2.65s/it]"
     ]
    },
    {
     "name": "stdout",
     "output_type": "stream",
     "text": [
      "Number of boxes found:  0\n",
      "iterations:  39\n",
      "Number of boxes found:  0\n",
      "Number of boxes found:  0\n",
      "Number of boxes found:  0\n"
     ]
    },
    {
     "name": "stderr",
     "output_type": "stream",
     "text": [
      "\r",
      "  3%|▎         | 32/1261 [01:25<54:13,  2.65s/it]"
     ]
    },
    {
     "name": "stdout",
     "output_type": "stream",
     "text": [
      "Number of boxes found:  0\n",
      "iterations:  40\n",
      "Number of boxes found:  0\n",
      "Number of boxes found:  0\n",
      "Number of boxes found:  0\n"
     ]
    },
    {
     "name": "stderr",
     "output_type": "stream",
     "text": [
      "\r",
      "  3%|▎         | 33/1261 [01:28<54:10,  2.65s/it]"
     ]
    },
    {
     "name": "stdout",
     "output_type": "stream",
     "text": [
      "Number of boxes found:  0\n",
      "iterations:  41\n",
      "Number of boxes found:  0\n",
      "Number of boxes found:  0\n",
      "Number of boxes found:  0\n"
     ]
    },
    {
     "name": "stderr",
     "output_type": "stream",
     "text": [
      "\r",
      "  3%|▎         | 34/1261 [01:31<54:12,  2.65s/it]"
     ]
    },
    {
     "name": "stdout",
     "output_type": "stream",
     "text": [
      "Number of boxes found:  0\n",
      "iterations:  42\n",
      "Number of boxes found:  0\n",
      "Number of boxes found:  0\n",
      "Number of boxes found:  0\n"
     ]
    },
    {
     "name": "stderr",
     "output_type": "stream",
     "text": [
      "\r",
      "  3%|▎         | 35/1261 [01:33<54:35,  2.67s/it]"
     ]
    },
    {
     "name": "stdout",
     "output_type": "stream",
     "text": [
      "Number of boxes found:  0\n",
      "iterations:  43\n",
      "Number of boxes found:  0\n",
      "Number of boxes found:  0\n",
      "Number of boxes found:  0\n"
     ]
    },
    {
     "name": "stderr",
     "output_type": "stream",
     "text": [
      "\r",
      "  3%|▎         | 36/1261 [01:36<54:27,  2.67s/it]"
     ]
    },
    {
     "name": "stdout",
     "output_type": "stream",
     "text": [
      "Number of boxes found:  0\n",
      "iterations:  44\n",
      "Number of boxes found:  1\n",
      "Number of boxes found:  0\n",
      "Number of boxes found:  0\n"
     ]
    },
    {
     "name": "stderr",
     "output_type": "stream",
     "text": [
      "\r",
      "  3%|▎         | 37/1261 [01:39<54:21,  2.66s/it]"
     ]
    },
    {
     "name": "stdout",
     "output_type": "stream",
     "text": [
      "Number of boxes found:  0\n",
      "iterations:  45\n",
      "heatmap len:  5\n",
      "Number of boxes found:  0\n",
      "Number of boxes found:  0\n",
      "Number of boxes found:  0\n"
     ]
    },
    {
     "name": "stderr",
     "output_type": "stream",
     "text": [
      "\r",
      "  3%|▎         | 38/1261 [01:41<54:13,  2.66s/it]"
     ]
    },
    {
     "name": "stdout",
     "output_type": "stream",
     "text": [
      "Number of boxes found:  0\n",
      "iterations:  46\n",
      "Number of boxes found:  0\n",
      "Number of boxes found:  0\n",
      "Number of boxes found:  0\n"
     ]
    },
    {
     "name": "stderr",
     "output_type": "stream",
     "text": [
      "\r",
      "  3%|▎         | 39/1261 [01:44<54:10,  2.66s/it]"
     ]
    },
    {
     "name": "stdout",
     "output_type": "stream",
     "text": [
      "Number of boxes found:  0\n",
      "iterations:  47\n",
      "Number of boxes found:  0\n",
      "Number of boxes found:  0\n",
      "Number of boxes found:  0\n"
     ]
    },
    {
     "name": "stderr",
     "output_type": "stream",
     "text": [
      "\r",
      "  3%|▎         | 40/1261 [01:46<53:39,  2.64s/it]"
     ]
    },
    {
     "name": "stdout",
     "output_type": "stream",
     "text": [
      "Number of boxes found:  0\n",
      "iterations:  48\n",
      "Number of boxes found:  1\n",
      "Number of boxes found:  0\n",
      "Number of boxes found:  0\n"
     ]
    },
    {
     "name": "stderr",
     "output_type": "stream",
     "text": [
      "\r",
      "  3%|▎         | 41/1261 [01:49<54:17,  2.67s/it]"
     ]
    },
    {
     "name": "stdout",
     "output_type": "stream",
     "text": [
      "Number of boxes found:  0\n",
      "iterations:  49\n",
      "heatmap len:  6\n",
      "Number of boxes found:  1\n",
      "Number of boxes found:  0\n",
      "Number of boxes found:  0\n"
     ]
    },
    {
     "name": "stderr",
     "output_type": "stream",
     "text": [
      "\r",
      "  3%|▎         | 42/1261 [01:52<54:18,  2.67s/it]"
     ]
    },
    {
     "name": "stdout",
     "output_type": "stream",
     "text": [
      "Number of boxes found:  0\n",
      "iterations:  50\n",
      "heatmap len:  7\n",
      "Number of boxes found:  0\n",
      "Number of boxes found:  0\n",
      "Number of boxes found:  0\n"
     ]
    },
    {
     "name": "stderr",
     "output_type": "stream",
     "text": [
      "\r",
      "  3%|▎         | 43/1261 [01:55<55:05,  2.71s/it]"
     ]
    },
    {
     "name": "stdout",
     "output_type": "stream",
     "text": [
      "Number of boxes found:  0\n",
      "iterations:  51\n",
      "Number of boxes found:  0\n",
      "Number of boxes found:  0\n",
      "Number of boxes found:  0\n"
     ]
    },
    {
     "name": "stderr",
     "output_type": "stream",
     "text": [
      "\r",
      "  3%|▎         | 44/1261 [01:57<54:53,  2.71s/it]"
     ]
    },
    {
     "name": "stdout",
     "output_type": "stream",
     "text": [
      "Number of boxes found:  0\n",
      "iterations:  52\n",
      "Number of boxes found:  0\n",
      "Number of boxes found:  0\n",
      "Number of boxes found:  0\n"
     ]
    },
    {
     "name": "stderr",
     "output_type": "stream",
     "text": [
      "\r",
      "  4%|▎         | 45/1261 [02:00<54:45,  2.70s/it]"
     ]
    },
    {
     "name": "stdout",
     "output_type": "stream",
     "text": [
      "Number of boxes found:  0\n",
      "iterations:  53\n",
      "Number of boxes found:  0\n",
      "Number of boxes found:  0\n",
      "Number of boxes found:  0\n"
     ]
    },
    {
     "name": "stderr",
     "output_type": "stream",
     "text": [
      "\r",
      "  4%|▎         | 46/1261 [02:03<54:27,  2.69s/it]"
     ]
    },
    {
     "name": "stdout",
     "output_type": "stream",
     "text": [
      "Number of boxes found:  0\n",
      "iterations:  54\n",
      "Number of boxes found:  0\n",
      "Number of boxes found:  0\n",
      "Number of boxes found:  0\n"
     ]
    },
    {
     "name": "stderr",
     "output_type": "stream",
     "text": [
      "\r",
      "  4%|▎         | 47/1261 [02:05<54:32,  2.70s/it]"
     ]
    },
    {
     "name": "stdout",
     "output_type": "stream",
     "text": [
      "Number of boxes found:  0\n",
      "iterations:  55\n",
      "Number of boxes found:  0\n",
      "Number of boxes found:  0\n",
      "Number of boxes found:  0\n"
     ]
    },
    {
     "name": "stderr",
     "output_type": "stream",
     "text": [
      "\r",
      "  4%|▍         | 48/1261 [02:08<54:14,  2.68s/it]"
     ]
    },
    {
     "name": "stdout",
     "output_type": "stream",
     "text": [
      "Number of boxes found:  0\n",
      "iterations:  56\n",
      "Number of boxes found:  0\n",
      "Number of boxes found:  0\n",
      "Number of boxes found:  0\n"
     ]
    },
    {
     "name": "stderr",
     "output_type": "stream",
     "text": [
      "\r",
      "  4%|▍         | 49/1261 [02:11<54:12,  2.68s/it]"
     ]
    },
    {
     "name": "stdout",
     "output_type": "stream",
     "text": [
      "Number of boxes found:  0\n",
      "iterations:  57\n",
      "Number of boxes found:  0\n",
      "Number of boxes found:  0\n",
      "Number of boxes found:  0\n"
     ]
    },
    {
     "name": "stderr",
     "output_type": "stream",
     "text": [
      "\r",
      "  4%|▍         | 50/1261 [02:14<54:10,  2.68s/it]"
     ]
    },
    {
     "name": "stdout",
     "output_type": "stream",
     "text": [
      "Number of boxes found:  0\n",
      "iterations:  58\n",
      "Number of boxes found:  0\n",
      "Number of boxes found:  0\n",
      "Number of boxes found:  0\n"
     ]
    },
    {
     "name": "stderr",
     "output_type": "stream",
     "text": [
      "\r",
      "  4%|▍         | 51/1261 [02:16<54:22,  2.70s/it]"
     ]
    },
    {
     "name": "stdout",
     "output_type": "stream",
     "text": [
      "Number of boxes found:  0\n",
      "iterations:  59\n",
      "Number of boxes found:  0\n",
      "Number of boxes found:  0\n",
      "Number of boxes found:  0\n"
     ]
    },
    {
     "name": "stderr",
     "output_type": "stream",
     "text": [
      "\r",
      "  4%|▍         | 52/1261 [02:19<54:07,  2.69s/it]"
     ]
    },
    {
     "name": "stdout",
     "output_type": "stream",
     "text": [
      "Number of boxes found:  0\n",
      "iterations:  60\n",
      "Number of boxes found:  1\n",
      "Number of boxes found:  0\n",
      "Number of boxes found:  0\n"
     ]
    },
    {
     "name": "stderr",
     "output_type": "stream",
     "text": [
      "\r",
      "  4%|▍         | 53/1261 [02:22<53:48,  2.67s/it]"
     ]
    },
    {
     "name": "stdout",
     "output_type": "stream",
     "text": [
      "Number of boxes found:  0\n",
      "iterations:  61\n",
      "heatmap len:  8\n",
      "Number of boxes found:  0\n",
      "Number of boxes found:  0\n",
      "Number of boxes found:  0\n"
     ]
    },
    {
     "name": "stderr",
     "output_type": "stream",
     "text": [
      "\r",
      "  4%|▍         | 54/1261 [02:24<53:28,  2.66s/it]"
     ]
    },
    {
     "name": "stdout",
     "output_type": "stream",
     "text": [
      "Number of boxes found:  0\n",
      "iterations:  62\n",
      "Number of boxes found:  0\n",
      "Number of boxes found:  0\n",
      "Number of boxes found:  0\n"
     ]
    },
    {
     "name": "stderr",
     "output_type": "stream",
     "text": [
      "\r",
      "  4%|▍         | 55/1261 [02:27<53:06,  2.64s/it]"
     ]
    },
    {
     "name": "stdout",
     "output_type": "stream",
     "text": [
      "Number of boxes found:  0\n",
      "iterations:  63\n",
      "Number of boxes found:  0\n",
      "Number of boxes found:  0\n",
      "Number of boxes found:  0\n"
     ]
    },
    {
     "name": "stderr",
     "output_type": "stream",
     "text": [
      "\r",
      "  4%|▍         | 56/1261 [02:29<52:58,  2.64s/it]"
     ]
    },
    {
     "name": "stdout",
     "output_type": "stream",
     "text": [
      "Number of boxes found:  0\n",
      "iterations:  64\n",
      "Number of boxes found:  0\n",
      "Number of boxes found:  0\n",
      "Number of boxes found:  0\n"
     ]
    },
    {
     "name": "stderr",
     "output_type": "stream",
     "text": [
      "\r",
      "  5%|▍         | 57/1261 [02:32<53:03,  2.64s/it]"
     ]
    },
    {
     "name": "stdout",
     "output_type": "stream",
     "text": [
      "Number of boxes found:  0\n",
      "iterations:  65\n",
      "Number of boxes found:  0\n",
      "Number of boxes found:  0\n",
      "Number of boxes found:  0\n"
     ]
    },
    {
     "name": "stderr",
     "output_type": "stream",
     "text": [
      "\r",
      "  5%|▍         | 58/1261 [02:35<52:43,  2.63s/it]"
     ]
    },
    {
     "name": "stdout",
     "output_type": "stream",
     "text": [
      "Number of boxes found:  0\n",
      "iterations:  66\n",
      "Number of boxes found:  0\n",
      "Number of boxes found:  0\n",
      "Number of boxes found:  0\n"
     ]
    },
    {
     "name": "stderr",
     "output_type": "stream",
     "text": [
      "\r",
      "  5%|▍         | 59/1261 [02:37<52:59,  2.64s/it]"
     ]
    },
    {
     "name": "stdout",
     "output_type": "stream",
     "text": [
      "Number of boxes found:  0\n",
      "iterations:  67\n",
      "Number of boxes found:  0\n",
      "Number of boxes found:  0\n",
      "Number of boxes found:  0\n"
     ]
    },
    {
     "name": "stderr",
     "output_type": "stream",
     "text": [
      "\r",
      "  5%|▍         | 60/1261 [02:40<53:27,  2.67s/it]"
     ]
    },
    {
     "name": "stdout",
     "output_type": "stream",
     "text": [
      "Number of boxes found:  0\n",
      "iterations:  68\n",
      "Number of boxes found:  0\n",
      "Number of boxes found:  0\n",
      "Number of boxes found:  0\n"
     ]
    },
    {
     "name": "stderr",
     "output_type": "stream",
     "text": [
      "\r",
      "  5%|▍         | 61/1261 [02:43<53:25,  2.67s/it]"
     ]
    },
    {
     "name": "stdout",
     "output_type": "stream",
     "text": [
      "Number of boxes found:  0\n",
      "iterations:  69\n",
      "Number of boxes found:  0\n",
      "Number of boxes found:  0\n",
      "Number of boxes found:  0\n"
     ]
    },
    {
     "name": "stderr",
     "output_type": "stream",
     "text": [
      "\r",
      "  5%|▍         | 62/1261 [02:45<53:37,  2.68s/it]"
     ]
    },
    {
     "name": "stdout",
     "output_type": "stream",
     "text": [
      "Number of boxes found:  0\n",
      "iterations:  70\n",
      "Number of boxes found:  0\n",
      "Number of boxes found:  0\n",
      "Number of boxes found:  0\n"
     ]
    },
    {
     "name": "stderr",
     "output_type": "stream",
     "text": [
      "\r",
      "  5%|▍         | 63/1261 [02:48<54:13,  2.72s/it]"
     ]
    },
    {
     "name": "stdout",
     "output_type": "stream",
     "text": [
      "Number of boxes found:  0\n",
      "iterations:  71\n",
      "Number of boxes found:  0\n",
      "Number of boxes found:  0\n",
      "Number of boxes found:  0\n"
     ]
    },
    {
     "name": "stderr",
     "output_type": "stream",
     "text": [
      "\r",
      "  5%|▌         | 64/1261 [02:51<54:12,  2.72s/it]"
     ]
    },
    {
     "name": "stdout",
     "output_type": "stream",
     "text": [
      "Number of boxes found:  0\n",
      "iterations:  72\n",
      "Number of boxes found:  0\n",
      "Number of boxes found:  0\n",
      "Number of boxes found:  0\n"
     ]
    },
    {
     "name": "stderr",
     "output_type": "stream",
     "text": [
      "\r",
      "  5%|▌         | 65/1261 [02:54<54:19,  2.73s/it]"
     ]
    },
    {
     "name": "stdout",
     "output_type": "stream",
     "text": [
      "Number of boxes found:  0\n",
      "iterations:  73\n",
      "Number of boxes found:  0\n",
      "Number of boxes found:  0\n",
      "Number of boxes found:  0\n"
     ]
    },
    {
     "name": "stderr",
     "output_type": "stream",
     "text": [
      "\r",
      "  5%|▌         | 66/1261 [02:56<53:59,  2.71s/it]"
     ]
    },
    {
     "name": "stdout",
     "output_type": "stream",
     "text": [
      "Number of boxes found:  0\n",
      "iterations:  74\n",
      "Number of boxes found:  0\n",
      "Number of boxes found:  0\n",
      "Number of boxes found:  0\n"
     ]
    },
    {
     "name": "stderr",
     "output_type": "stream",
     "text": [
      "\r",
      "  5%|▌         | 67/1261 [02:59<53:42,  2.70s/it]"
     ]
    },
    {
     "name": "stdout",
     "output_type": "stream",
     "text": [
      "Number of boxes found:  0\n",
      "iterations:  75\n",
      "Number of boxes found:  0\n",
      "Number of boxes found:  0\n",
      "Number of boxes found:  0\n"
     ]
    },
    {
     "name": "stderr",
     "output_type": "stream",
     "text": [
      "\r",
      "  5%|▌         | 68/1261 [03:02<53:44,  2.70s/it]"
     ]
    },
    {
     "name": "stdout",
     "output_type": "stream",
     "text": [
      "Number of boxes found:  0\n",
      "iterations:  76\n",
      "Number of boxes found:  0\n",
      "Number of boxes found:  0\n",
      "Number of boxes found:  0\n"
     ]
    },
    {
     "name": "stderr",
     "output_type": "stream",
     "text": [
      "\r",
      "  5%|▌         | 69/1261 [03:04<53:39,  2.70s/it]"
     ]
    },
    {
     "name": "stdout",
     "output_type": "stream",
     "text": [
      "Number of boxes found:  0\n",
      "iterations:  77\n",
      "Number of boxes found:  0\n",
      "Number of boxes found:  0\n",
      "Number of boxes found:  0\n"
     ]
    },
    {
     "name": "stderr",
     "output_type": "stream",
     "text": [
      "\r",
      "  6%|▌         | 70/1261 [03:07<53:49,  2.71s/it]"
     ]
    },
    {
     "name": "stdout",
     "output_type": "stream",
     "text": [
      "Number of boxes found:  0\n",
      "iterations:  78\n",
      "Number of boxes found:  0\n",
      "Number of boxes found:  0\n",
      "Number of boxes found:  0\n"
     ]
    },
    {
     "name": "stderr",
     "output_type": "stream",
     "text": [
      "\r",
      "  6%|▌         | 71/1261 [03:10<53:39,  2.71s/it]"
     ]
    },
    {
     "name": "stdout",
     "output_type": "stream",
     "text": [
      "Number of boxes found:  0\n",
      "iterations:  79\n",
      "Number of boxes found:  0\n",
      "Number of boxes found:  0\n",
      "Number of boxes found:  0\n"
     ]
    },
    {
     "name": "stderr",
     "output_type": "stream",
     "text": [
      "\r",
      "  6%|▌         | 72/1261 [03:13<53:26,  2.70s/it]"
     ]
    },
    {
     "name": "stdout",
     "output_type": "stream",
     "text": [
      "Number of boxes found:  0\n",
      "iterations:  80\n",
      "Number of boxes found:  0\n",
      "Number of boxes found:  0\n",
      "Number of boxes found:  0\n"
     ]
    },
    {
     "name": "stderr",
     "output_type": "stream",
     "text": [
      "\r",
      "  6%|▌         | 73/1261 [03:15<53:17,  2.69s/it]"
     ]
    },
    {
     "name": "stdout",
     "output_type": "stream",
     "text": [
      "Number of boxes found:  0\n",
      "iterations:  81\n",
      "Number of boxes found:  0\n",
      "Number of boxes found:  0\n",
      "Number of boxes found:  0\n"
     ]
    },
    {
     "name": "stderr",
     "output_type": "stream",
     "text": [
      "\r",
      "  6%|▌         | 74/1261 [03:18<53:10,  2.69s/it]"
     ]
    },
    {
     "name": "stdout",
     "output_type": "stream",
     "text": [
      "Number of boxes found:  0\n",
      "iterations:  82\n",
      "Number of boxes found:  0\n",
      "Number of boxes found:  0\n",
      "Number of boxes found:  0\n"
     ]
    },
    {
     "name": "stderr",
     "output_type": "stream",
     "text": [
      "\r",
      "  6%|▌         | 75/1261 [03:21<52:42,  2.67s/it]"
     ]
    },
    {
     "name": "stdout",
     "output_type": "stream",
     "text": [
      "Number of boxes found:  0\n",
      "iterations:  83\n",
      "Number of boxes found:  0\n",
      "Number of boxes found:  0\n",
      "Number of boxes found:  0\n"
     ]
    },
    {
     "name": "stderr",
     "output_type": "stream",
     "text": [
      "\r",
      "  6%|▌         | 76/1261 [03:23<52:40,  2.67s/it]"
     ]
    },
    {
     "name": "stdout",
     "output_type": "stream",
     "text": [
      "Number of boxes found:  0\n",
      "iterations:  84\n",
      "Number of boxes found:  0\n",
      "Number of boxes found:  0\n",
      "Number of boxes found:  0\n"
     ]
    },
    {
     "name": "stderr",
     "output_type": "stream",
     "text": [
      "\r",
      "  6%|▌         | 77/1261 [03:26<52:40,  2.67s/it]"
     ]
    },
    {
     "name": "stdout",
     "output_type": "stream",
     "text": [
      "Number of boxes found:  0\n",
      "iterations:  85\n",
      "Number of boxes found:  0\n",
      "Number of boxes found:  0\n",
      "Number of boxes found:  0\n"
     ]
    },
    {
     "name": "stderr",
     "output_type": "stream",
     "text": [
      "\r",
      "  6%|▌         | 78/1261 [03:29<52:44,  2.68s/it]"
     ]
    },
    {
     "name": "stdout",
     "output_type": "stream",
     "text": [
      "Number of boxes found:  0\n",
      "iterations:  86\n",
      "Number of boxes found:  0\n",
      "Number of boxes found:  0\n",
      "Number of boxes found:  0\n"
     ]
    },
    {
     "name": "stderr",
     "output_type": "stream",
     "text": [
      "\r",
      "  6%|▋         | 79/1261 [03:31<53:19,  2.71s/it]"
     ]
    },
    {
     "name": "stdout",
     "output_type": "stream",
     "text": [
      "Number of boxes found:  0\n",
      "iterations:  87\n",
      "Number of boxes found:  0\n",
      "Number of boxes found:  0\n",
      "Number of boxes found:  0\n"
     ]
    },
    {
     "name": "stderr",
     "output_type": "stream",
     "text": [
      "\r",
      "  6%|▋         | 80/1261 [03:34<53:45,  2.73s/it]"
     ]
    },
    {
     "name": "stdout",
     "output_type": "stream",
     "text": [
      "Number of boxes found:  0\n",
      "iterations:  88\n",
      "Number of boxes found:  0\n",
      "Number of boxes found:  0\n",
      "Number of boxes found:  0\n"
     ]
    },
    {
     "name": "stderr",
     "output_type": "stream",
     "text": [
      "\r",
      "  6%|▋         | 81/1261 [03:37<53:35,  2.72s/it]"
     ]
    },
    {
     "name": "stdout",
     "output_type": "stream",
     "text": [
      "Number of boxes found:  0\n",
      "iterations:  89\n",
      "Number of boxes found:  0\n",
      "Number of boxes found:  0\n",
      "Number of boxes found:  0\n"
     ]
    },
    {
     "name": "stderr",
     "output_type": "stream",
     "text": [
      "\r",
      "  7%|▋         | 82/1261 [03:40<53:28,  2.72s/it]"
     ]
    },
    {
     "name": "stdout",
     "output_type": "stream",
     "text": [
      "Number of boxes found:  0\n",
      "iterations:  90\n",
      "Number of boxes found:  0\n",
      "Number of boxes found:  0\n",
      "Number of boxes found:  0\n"
     ]
    },
    {
     "name": "stderr",
     "output_type": "stream",
     "text": [
      "\r",
      "  7%|▋         | 83/1261 [03:42<53:11,  2.71s/it]"
     ]
    },
    {
     "name": "stdout",
     "output_type": "stream",
     "text": [
      "Number of boxes found:  0\n",
      "iterations:  91\n",
      "Number of boxes found:  0\n",
      "Number of boxes found:  0\n",
      "Number of boxes found:  0\n"
     ]
    },
    {
     "name": "stderr",
     "output_type": "stream",
     "text": [
      "\r",
      "  7%|▋         | 84/1261 [03:45<53:08,  2.71s/it]"
     ]
    },
    {
     "name": "stdout",
     "output_type": "stream",
     "text": [
      "Number of boxes found:  0\n",
      "iterations:  92\n",
      "Number of boxes found:  0\n",
      "Number of boxes found:  0\n",
      "Number of boxes found:  0\n"
     ]
    },
    {
     "name": "stderr",
     "output_type": "stream",
     "text": [
      "\r",
      "  7%|▋         | 85/1261 [03:48<53:02,  2.71s/it]"
     ]
    },
    {
     "name": "stdout",
     "output_type": "stream",
     "text": [
      "Number of boxes found:  0\n",
      "iterations:  93\n",
      "Number of boxes found:  0\n",
      "Number of boxes found:  0\n",
      "Number of boxes found:  0\n"
     ]
    },
    {
     "name": "stderr",
     "output_type": "stream",
     "text": [
      "\r",
      "  7%|▋         | 86/1261 [03:50<53:18,  2.72s/it]"
     ]
    },
    {
     "name": "stdout",
     "output_type": "stream",
     "text": [
      "Number of boxes found:  0\n",
      "iterations:  94\n",
      "Number of boxes found:  0\n",
      "Number of boxes found:  0\n",
      "Number of boxes found:  0\n"
     ]
    },
    {
     "name": "stderr",
     "output_type": "stream",
     "text": [
      "\r",
      "  7%|▋         | 87/1261 [03:53<53:11,  2.72s/it]"
     ]
    },
    {
     "name": "stdout",
     "output_type": "stream",
     "text": [
      "Number of boxes found:  0\n",
      "iterations:  95\n",
      "Number of boxes found:  0\n",
      "Number of boxes found:  0\n",
      "Number of boxes found:  0\n"
     ]
    },
    {
     "name": "stderr",
     "output_type": "stream",
     "text": [
      "\r",
      "  7%|▋         | 88/1261 [03:56<52:57,  2.71s/it]"
     ]
    },
    {
     "name": "stdout",
     "output_type": "stream",
     "text": [
      "Number of boxes found:  0\n",
      "iterations:  96\n",
      "Number of boxes found:  0\n",
      "Number of boxes found:  0\n",
      "Number of boxes found:  0\n"
     ]
    },
    {
     "name": "stderr",
     "output_type": "stream",
     "text": [
      "\r",
      "  7%|▋         | 89/1261 [03:59<53:12,  2.72s/it]"
     ]
    },
    {
     "name": "stdout",
     "output_type": "stream",
     "text": [
      "Number of boxes found:  0\n",
      "iterations:  97\n",
      "Number of boxes found:  0\n",
      "Number of boxes found:  0\n",
      "Number of boxes found:  0\n"
     ]
    },
    {
     "name": "stderr",
     "output_type": "stream",
     "text": [
      "\r",
      "  7%|▋         | 90/1261 [04:01<53:05,  2.72s/it]"
     ]
    },
    {
     "name": "stdout",
     "output_type": "stream",
     "text": [
      "Number of boxes found:  0\n",
      "iterations:  98\n",
      "Number of boxes found:  0\n",
      "Number of boxes found:  0\n",
      "Number of boxes found:  0\n"
     ]
    },
    {
     "name": "stderr",
     "output_type": "stream",
     "text": [
      "\r",
      "  7%|▋         | 91/1261 [04:04<52:54,  2.71s/it]"
     ]
    },
    {
     "name": "stdout",
     "output_type": "stream",
     "text": [
      "Number of boxes found:  0\n",
      "iterations:  99\n",
      "Number of boxes found:  0\n",
      "Number of boxes found:  0\n",
      "Number of boxes found:  0\n"
     ]
    },
    {
     "name": "stderr",
     "output_type": "stream",
     "text": [
      "\r",
      "  7%|▋         | 92/1261 [04:07<52:40,  2.70s/it]"
     ]
    },
    {
     "name": "stdout",
     "output_type": "stream",
     "text": [
      "Number of boxes found:  0\n",
      "iterations:  100\n",
      "Number of boxes found:  0\n",
      "Number of boxes found:  0\n",
      "Number of boxes found:  0\n"
     ]
    },
    {
     "name": "stderr",
     "output_type": "stream",
     "text": [
      "\r",
      "  7%|▋         | 93/1261 [04:09<52:20,  2.69s/it]"
     ]
    },
    {
     "name": "stdout",
     "output_type": "stream",
     "text": [
      "Number of boxes found:  0\n",
      "iterations:  101\n",
      "Number of boxes found:  0\n",
      "Number of boxes found:  0\n",
      "Number of boxes found:  0\n"
     ]
    },
    {
     "name": "stderr",
     "output_type": "stream",
     "text": [
      "\r",
      "  7%|▋         | 94/1261 [04:12<51:43,  2.66s/it]"
     ]
    },
    {
     "name": "stdout",
     "output_type": "stream",
     "text": [
      "Number of boxes found:  0\n",
      "iterations:  102\n",
      "Number of boxes found:  0\n",
      "Number of boxes found:  0\n",
      "Number of boxes found:  0\n"
     ]
    },
    {
     "name": "stderr",
     "output_type": "stream",
     "text": [
      "\r",
      "  8%|▊         | 95/1261 [04:15<51:29,  2.65s/it]"
     ]
    },
    {
     "name": "stdout",
     "output_type": "stream",
     "text": [
      "Number of boxes found:  0\n",
      "iterations:  103\n",
      "Number of boxes found:  0\n",
      "Number of boxes found:  0\n",
      "Number of boxes found:  0\n"
     ]
    },
    {
     "name": "stderr",
     "output_type": "stream",
     "text": [
      "\r",
      "  8%|▊         | 96/1261 [04:17<51:52,  2.67s/it]"
     ]
    },
    {
     "name": "stdout",
     "output_type": "stream",
     "text": [
      "Number of boxes found:  0\n",
      "iterations:  104\n",
      "Number of boxes found:  0\n",
      "Number of boxes found:  0\n",
      "Number of boxes found:  0\n"
     ]
    },
    {
     "name": "stderr",
     "output_type": "stream",
     "text": [
      "\r",
      "  8%|▊         | 97/1261 [04:20<51:57,  2.68s/it]"
     ]
    },
    {
     "name": "stdout",
     "output_type": "stream",
     "text": [
      "Number of boxes found:  0\n",
      "iterations:  105\n",
      "Number of boxes found:  0\n",
      "Number of boxes found:  0\n",
      "Number of boxes found:  0\n"
     ]
    },
    {
     "name": "stderr",
     "output_type": "stream",
     "text": [
      "\r",
      "  8%|▊         | 98/1261 [04:23<51:48,  2.67s/it]"
     ]
    },
    {
     "name": "stdout",
     "output_type": "stream",
     "text": [
      "Number of boxes found:  0\n",
      "iterations:  106\n",
      "Number of boxes found:  0\n",
      "Number of boxes found:  0\n",
      "Number of boxes found:  0\n"
     ]
    },
    {
     "name": "stderr",
     "output_type": "stream",
     "text": [
      "\r",
      "  8%|▊         | 99/1261 [04:25<51:35,  2.66s/it]"
     ]
    },
    {
     "name": "stdout",
     "output_type": "stream",
     "text": [
      "Number of boxes found:  0\n",
      "iterations:  107\n",
      "Number of boxes found:  0\n",
      "Number of boxes found:  0\n",
      "Number of boxes found:  0\n"
     ]
    },
    {
     "name": "stderr",
     "output_type": "stream",
     "text": [
      "\r",
      "  8%|▊         | 100/1261 [04:28<51:15,  2.65s/it]"
     ]
    },
    {
     "name": "stdout",
     "output_type": "stream",
     "text": [
      "Number of boxes found:  0\n",
      "iterations:  108\n",
      "Number of boxes found:  0\n",
      "Number of boxes found:  0\n",
      "Number of boxes found:  0\n"
     ]
    },
    {
     "name": "stderr",
     "output_type": "stream",
     "text": [
      "\r",
      "  8%|▊         | 101/1261 [04:31<51:23,  2.66s/it]"
     ]
    },
    {
     "name": "stdout",
     "output_type": "stream",
     "text": [
      "Number of boxes found:  0\n",
      "iterations:  109\n",
      "Number of boxes found:  0\n",
      "Number of boxes found:  0\n",
      "Number of boxes found:  0\n"
     ]
    },
    {
     "name": "stderr",
     "output_type": "stream",
     "text": [
      "\r",
      "  8%|▊         | 102/1261 [04:33<51:44,  2.68s/it]"
     ]
    },
    {
     "name": "stdout",
     "output_type": "stream",
     "text": [
      "Number of boxes found:  0\n",
      "iterations:  110\n",
      "Number of boxes found:  0\n",
      "Number of boxes found:  0\n",
      "Number of boxes found:  0\n"
     ]
    },
    {
     "name": "stderr",
     "output_type": "stream",
     "text": [
      "\r",
      "  8%|▊         | 103/1261 [04:36<51:50,  2.69s/it]"
     ]
    },
    {
     "name": "stdout",
     "output_type": "stream",
     "text": [
      "Number of boxes found:  0\n",
      "iterations:  111\n",
      "Number of boxes found:  0\n",
      "Number of boxes found:  0\n",
      "Number of boxes found:  0\n"
     ]
    },
    {
     "name": "stderr",
     "output_type": "stream",
     "text": [
      "\r",
      "  8%|▊         | 104/1261 [04:39<51:45,  2.68s/it]"
     ]
    },
    {
     "name": "stdout",
     "output_type": "stream",
     "text": [
      "Number of boxes found:  0\n",
      "iterations:  112\n",
      "Number of boxes found:  0\n",
      "Number of boxes found:  0\n",
      "Number of boxes found:  0\n"
     ]
    },
    {
     "name": "stderr",
     "output_type": "stream",
     "text": [
      "\r",
      "  8%|▊         | 105/1261 [04:41<52:08,  2.71s/it]"
     ]
    },
    {
     "name": "stdout",
     "output_type": "stream",
     "text": [
      "Number of boxes found:  0\n",
      "iterations:  113\n",
      "Number of boxes found:  0\n",
      "Number of boxes found:  0\n",
      "Number of boxes found:  0\n"
     ]
    },
    {
     "name": "stderr",
     "output_type": "stream",
     "text": [
      "\r",
      "  8%|▊         | 106/1261 [04:44<52:03,  2.70s/it]"
     ]
    },
    {
     "name": "stdout",
     "output_type": "stream",
     "text": [
      "Number of boxes found:  0\n",
      "iterations:  114\n",
      "Number of boxes found:  0\n",
      "Number of boxes found:  0\n",
      "Number of boxes found:  0\n"
     ]
    },
    {
     "name": "stderr",
     "output_type": "stream",
     "text": [
      "\r",
      "  8%|▊         | 107/1261 [04:47<52:08,  2.71s/it]"
     ]
    },
    {
     "name": "stdout",
     "output_type": "stream",
     "text": [
      "Number of boxes found:  0\n",
      "iterations:  115\n",
      "Number of boxes found:  0\n",
      "Number of boxes found:  0\n",
      "Number of boxes found:  0\n"
     ]
    },
    {
     "name": "stderr",
     "output_type": "stream",
     "text": [
      "\r",
      "  9%|▊         | 108/1261 [04:50<52:31,  2.73s/it]"
     ]
    },
    {
     "name": "stdout",
     "output_type": "stream",
     "text": [
      "Number of boxes found:  0\n",
      "iterations:  116\n",
      "Number of boxes found:  0\n",
      "Number of boxes found:  0\n",
      "Number of boxes found:  0\n"
     ]
    },
    {
     "name": "stderr",
     "output_type": "stream",
     "text": [
      "\r",
      "  9%|▊         | 109/1261 [04:52<52:30,  2.73s/it]"
     ]
    },
    {
     "name": "stdout",
     "output_type": "stream",
     "text": [
      "Number of boxes found:  0\n",
      "iterations:  117\n",
      "Number of boxes found:  0\n",
      "Number of boxes found:  0\n",
      "Number of boxes found:  0\n"
     ]
    },
    {
     "name": "stderr",
     "output_type": "stream",
     "text": [
      "\r",
      "  9%|▊         | 110/1261 [04:55<52:08,  2.72s/it]"
     ]
    },
    {
     "name": "stdout",
     "output_type": "stream",
     "text": [
      "Number of boxes found:  0\n",
      "iterations:  118\n",
      "Number of boxes found:  0\n",
      "Number of boxes found:  0\n",
      "Number of boxes found:  0\n"
     ]
    },
    {
     "name": "stderr",
     "output_type": "stream",
     "text": [
      "\r",
      "  9%|▉         | 111/1261 [04:58<52:06,  2.72s/it]"
     ]
    },
    {
     "name": "stdout",
     "output_type": "stream",
     "text": [
      "Number of boxes found:  0\n",
      "iterations:  119\n",
      "Number of boxes found:  0\n",
      "Number of boxes found:  0\n",
      "Number of boxes found:  0\n"
     ]
    },
    {
     "name": "stderr",
     "output_type": "stream",
     "text": [
      "\r",
      "  9%|▉         | 112/1261 [05:00<52:01,  2.72s/it]"
     ]
    },
    {
     "name": "stdout",
     "output_type": "stream",
     "text": [
      "Number of boxes found:  0\n",
      "iterations:  120\n",
      "Number of boxes found:  0\n",
      "Number of boxes found:  0\n",
      "Number of boxes found:  0\n"
     ]
    },
    {
     "name": "stderr",
     "output_type": "stream",
     "text": [
      "\r",
      "  9%|▉         | 113/1261 [05:03<51:45,  2.71s/it]"
     ]
    },
    {
     "name": "stdout",
     "output_type": "stream",
     "text": [
      "Number of boxes found:  0\n",
      "iterations:  121\n",
      "Number of boxes found:  0\n",
      "Number of boxes found:  0\n",
      "Number of boxes found:  0\n"
     ]
    },
    {
     "name": "stderr",
     "output_type": "stream",
     "text": [
      "\r",
      "  9%|▉         | 114/1261 [05:06<51:12,  2.68s/it]"
     ]
    },
    {
     "name": "stdout",
     "output_type": "stream",
     "text": [
      "Number of boxes found:  0\n",
      "iterations:  122\n",
      "Number of boxes found:  1\n",
      "Number of boxes found:  0\n",
      "Number of boxes found:  0\n"
     ]
    },
    {
     "name": "stderr",
     "output_type": "stream",
     "text": [
      "\r",
      "  9%|▉         | 115/1261 [05:08<51:11,  2.68s/it]"
     ]
    },
    {
     "name": "stdout",
     "output_type": "stream",
     "text": [
      "Number of boxes found:  0\n",
      "iterations:  123\n",
      "heatmap len:  9\n",
      "Number of boxes found:  0\n",
      "Number of boxes found:  0\n",
      "Number of boxes found:  0\n"
     ]
    },
    {
     "name": "stderr",
     "output_type": "stream",
     "text": [
      "\r",
      "  9%|▉         | 116/1261 [05:11<51:12,  2.68s/it]"
     ]
    },
    {
     "name": "stdout",
     "output_type": "stream",
     "text": [
      "Number of boxes found:  0\n",
      "iterations:  124\n",
      "Number of boxes found:  2\n",
      "Number of boxes found:  0\n",
      "Number of boxes found:  0\n"
     ]
    },
    {
     "name": "stderr",
     "output_type": "stream",
     "text": [
      "\r",
      "  9%|▉         | 117/1261 [05:14<51:40,  2.71s/it]"
     ]
    },
    {
     "name": "stdout",
     "output_type": "stream",
     "text": [
      "Number of boxes found:  0\n",
      "iterations:  125\n",
      "heatmap len:  10\n",
      "Number of boxes found:  1\n",
      "Number of boxes found:  1\n",
      "Number of boxes found:  0\n"
     ]
    },
    {
     "name": "stderr",
     "output_type": "stream",
     "text": [
      "\r",
      "  9%|▉         | 118/1261 [05:17<51:54,  2.73s/it]"
     ]
    },
    {
     "name": "stdout",
     "output_type": "stream",
     "text": [
      "Number of boxes found:  0\n",
      "iterations:  126\n",
      "heatmap len:  10\n",
      "Number of boxes found:  1\n",
      "Number of boxes found:  1\n",
      "Number of boxes found:  0\n"
     ]
    },
    {
     "name": "stderr",
     "output_type": "stream",
     "text": [
      "\r",
      "  9%|▉         | 119/1261 [05:19<51:55,  2.73s/it]"
     ]
    },
    {
     "name": "stdout",
     "output_type": "stream",
     "text": [
      "Number of boxes found:  0\n",
      "iterations:  127\n",
      "heatmap len:  10\n",
      "Number of boxes found:  0\n",
      "Number of boxes found:  0\n",
      "Number of boxes found:  0\n"
     ]
    },
    {
     "name": "stderr",
     "output_type": "stream",
     "text": [
      "\r",
      " 10%|▉         | 120/1261 [05:22<51:42,  2.72s/it]"
     ]
    },
    {
     "name": "stdout",
     "output_type": "stream",
     "text": [
      "Number of boxes found:  0\n",
      "iterations:  128\n",
      "Number of boxes found:  0\n",
      "Number of boxes found:  0\n",
      "Number of boxes found:  0\n"
     ]
    },
    {
     "name": "stderr",
     "output_type": "stream",
     "text": [
      "\r",
      " 10%|▉         | 121/1261 [05:25<51:36,  2.72s/it]"
     ]
    },
    {
     "name": "stdout",
     "output_type": "stream",
     "text": [
      "Number of boxes found:  0\n",
      "iterations:  129\n",
      "Number of boxes found:  0\n",
      "Number of boxes found:  0\n",
      "Number of boxes found:  0\n"
     ]
    },
    {
     "name": "stderr",
     "output_type": "stream",
     "text": [
      "\r",
      " 10%|▉         | 122/1261 [05:28<51:43,  2.73s/it]"
     ]
    },
    {
     "name": "stdout",
     "output_type": "stream",
     "text": [
      "Number of boxes found:  0\n",
      "iterations:  130\n",
      "Number of boxes found:  0\n",
      "Number of boxes found:  0\n",
      "Number of boxes found:  0\n"
     ]
    },
    {
     "name": "stderr",
     "output_type": "stream",
     "text": [
      "\r",
      " 10%|▉         | 123/1261 [05:30<51:33,  2.72s/it]"
     ]
    },
    {
     "name": "stdout",
     "output_type": "stream",
     "text": [
      "Number of boxes found:  0\n",
      "iterations:  131\n",
      "Number of boxes found:  1\n",
      "Number of boxes found:  0\n",
      "Number of boxes found:  0\n"
     ]
    },
    {
     "name": "stderr",
     "output_type": "stream",
     "text": [
      "\r",
      " 10%|▉         | 124/1261 [05:33<51:31,  2.72s/it]"
     ]
    },
    {
     "name": "stdout",
     "output_type": "stream",
     "text": [
      "Number of boxes found:  0\n",
      "iterations:  132\n",
      "heatmap len:  10\n",
      "Number of boxes found:  1\n",
      "Number of boxes found:  0\n",
      "Number of boxes found:  0\n"
     ]
    },
    {
     "name": "stderr",
     "output_type": "stream",
     "text": [
      "\r",
      " 10%|▉         | 125/1261 [05:36<51:30,  2.72s/it]"
     ]
    },
    {
     "name": "stdout",
     "output_type": "stream",
     "text": [
      "Number of boxes found:  0\n",
      "iterations:  133\n",
      "heatmap len:  10\n",
      "Number of boxes found:  1\n",
      "Number of boxes found:  0\n",
      "Number of boxes found:  0\n"
     ]
    },
    {
     "name": "stderr",
     "output_type": "stream",
     "text": [
      "\r",
      " 10%|▉         | 126/1261 [05:38<51:16,  2.71s/it]"
     ]
    },
    {
     "name": "stdout",
     "output_type": "stream",
     "text": [
      "Number of boxes found:  0\n",
      "iterations:  134\n",
      "heatmap len:  10\n",
      "Number of boxes found:  1\n",
      "Number of boxes found:  0\n",
      "Number of boxes found:  0\n"
     ]
    },
    {
     "name": "stderr",
     "output_type": "stream",
     "text": [
      "\r",
      " 10%|█         | 127/1261 [05:41<51:19,  2.72s/it]"
     ]
    },
    {
     "name": "stdout",
     "output_type": "stream",
     "text": [
      "Number of boxes found:  0\n",
      "iterations:  135\n",
      "heatmap len:  10\n",
      "Number of boxes found:  1\n",
      "Number of boxes found:  0\n",
      "Number of boxes found:  0\n"
     ]
    },
    {
     "name": "stderr",
     "output_type": "stream",
     "text": [
      "\r",
      " 10%|█         | 128/1261 [05:44<51:27,  2.72s/it]"
     ]
    },
    {
     "name": "stdout",
     "output_type": "stream",
     "text": [
      "Number of boxes found:  0\n",
      "iterations:  136\n",
      "heatmap len:  10\n",
      "Number of boxes found:  1\n",
      "Number of boxes found:  0\n",
      "Number of boxes found:  0\n"
     ]
    },
    {
     "name": "stderr",
     "output_type": "stream",
     "text": [
      "\r",
      " 10%|█         | 129/1261 [05:47<51:26,  2.73s/it]"
     ]
    },
    {
     "name": "stdout",
     "output_type": "stream",
     "text": [
      "Number of boxes found:  0\n",
      "iterations:  137\n",
      "heatmap len:  10\n",
      "Number of boxes found:  2\n",
      "Number of boxes found:  0\n",
      "Number of boxes found:  0\n"
     ]
    },
    {
     "name": "stderr",
     "output_type": "stream",
     "text": [
      "\r",
      " 10%|█         | 130/1261 [05:49<51:24,  2.73s/it]"
     ]
    },
    {
     "name": "stdout",
     "output_type": "stream",
     "text": [
      "Number of boxes found:  0\n",
      "iterations:  138\n",
      "heatmap len:  10\n",
      "Number of boxes found:  3\n",
      "Number of boxes found:  1\n",
      "Number of boxes found:  0\n"
     ]
    },
    {
     "name": "stderr",
     "output_type": "stream",
     "text": [
      "\r",
      " 10%|█         | 131/1261 [05:52<51:24,  2.73s/it]"
     ]
    },
    {
     "name": "stdout",
     "output_type": "stream",
     "text": [
      "Number of boxes found:  0\n",
      "iterations:  139\n",
      "heatmap len:  10\n",
      "Number of boxes found:  3\n",
      "Number of boxes found:  1\n",
      "Number of boxes found:  0\n"
     ]
    },
    {
     "name": "stderr",
     "output_type": "stream",
     "text": [
      "\r",
      " 10%|█         | 132/1261 [05:55<51:17,  2.73s/it]"
     ]
    },
    {
     "name": "stdout",
     "output_type": "stream",
     "text": [
      "Number of boxes found:  0\n",
      "iterations:  140\n",
      "heatmap len:  10\n",
      "Number of boxes found:  3\n",
      "Number of boxes found:  1\n",
      "Number of boxes found:  0\n"
     ]
    },
    {
     "name": "stderr",
     "output_type": "stream",
     "text": [
      "\r",
      " 11%|█         | 133/1261 [05:57<51:11,  2.72s/it]"
     ]
    },
    {
     "name": "stdout",
     "output_type": "stream",
     "text": [
      "Number of boxes found:  0\n",
      "iterations:  141\n",
      "heatmap len:  10\n",
      "Number of boxes found:  4\n",
      "Number of boxes found:  1\n",
      "Number of boxes found:  0\n"
     ]
    },
    {
     "name": "stderr",
     "output_type": "stream",
     "text": [
      "\r",
      " 11%|█         | 134/1261 [06:00<51:14,  2.73s/it]"
     ]
    },
    {
     "name": "stdout",
     "output_type": "stream",
     "text": [
      "Number of boxes found:  0\n",
      "iterations:  142\n",
      "heatmap len:  10\n",
      "Number of boxes found:  5\n",
      "Number of boxes found:  2\n",
      "Number of boxes found:  0\n"
     ]
    },
    {
     "name": "stderr",
     "output_type": "stream",
     "text": [
      "\r",
      " 11%|█         | 135/1261 [06:03<51:05,  2.72s/it]"
     ]
    },
    {
     "name": "stdout",
     "output_type": "stream",
     "text": [
      "Number of boxes found:  0\n",
      "iterations:  143\n",
      "heatmap len:  10\n",
      "Number of boxes found:  4\n",
      "Number of boxes found:  3\n",
      "Number of boxes found:  1\n"
     ]
    },
    {
     "name": "stderr",
     "output_type": "stream",
     "text": [
      "\r",
      " 11%|█         | 136/1261 [06:06<51:12,  2.73s/it]"
     ]
    },
    {
     "name": "stdout",
     "output_type": "stream",
     "text": [
      "Number of boxes found:  0\n",
      "iterations:  144\n",
      "heatmap len:  10\n",
      "Number of boxes found:  5\n",
      "Number of boxes found:  3\n",
      "Number of boxes found:  1\n"
     ]
    },
    {
     "name": "stderr",
     "output_type": "stream",
     "text": [
      "\r",
      " 11%|█         | 137/1261 [06:08<51:35,  2.75s/it]"
     ]
    },
    {
     "name": "stdout",
     "output_type": "stream",
     "text": [
      "Number of boxes found:  0\n",
      "iterations:  145\n",
      "heatmap len:  10\n",
      "Number of boxes found:  3\n",
      "Number of boxes found:  6\n",
      "Number of boxes found:  1\n"
     ]
    },
    {
     "name": "stderr",
     "output_type": "stream",
     "text": [
      "\r",
      " 11%|█         | 138/1261 [06:11<51:29,  2.75s/it]"
     ]
    },
    {
     "name": "stdout",
     "output_type": "stream",
     "text": [
      "Number of boxes found:  0\n",
      "iterations:  146\n",
      "heatmap len:  10\n",
      "Number of boxes found:  2\n",
      "Number of boxes found:  3\n",
      "Number of boxes found:  1\n"
     ]
    },
    {
     "name": "stderr",
     "output_type": "stream",
     "text": [
      "\r",
      " 11%|█         | 139/1261 [06:14<51:16,  2.74s/it]"
     ]
    },
    {
     "name": "stdout",
     "output_type": "stream",
     "text": [
      "Number of boxes found:  0\n",
      "iterations:  147\n",
      "heatmap len:  10\n",
      "Number of boxes found:  0\n",
      "Number of boxes found:  0\n",
      "Number of boxes found:  0\n"
     ]
    },
    {
     "name": "stderr",
     "output_type": "stream",
     "text": [
      "\r",
      " 11%|█         | 140/1261 [06:17<51:07,  2.74s/it]"
     ]
    },
    {
     "name": "stdout",
     "output_type": "stream",
     "text": [
      "Number of boxes found:  0\n",
      "iterations:  148\n",
      "Number of boxes found:  1\n",
      "Number of boxes found:  0\n",
      "Number of boxes found:  1\n"
     ]
    },
    {
     "name": "stderr",
     "output_type": "stream",
     "text": [
      "\r",
      " 11%|█         | 141/1261 [06:19<51:18,  2.75s/it]"
     ]
    },
    {
     "name": "stdout",
     "output_type": "stream",
     "text": [
      "Number of boxes found:  0\n",
      "iterations:  149\n",
      "heatmap len:  10\n",
      "Number of boxes found:  1\n",
      "Number of boxes found:  2\n",
      "Number of boxes found:  2\n"
     ]
    },
    {
     "name": "stderr",
     "output_type": "stream",
     "text": [
      "\r",
      " 11%|█▏        | 142/1261 [06:22<51:20,  2.75s/it]"
     ]
    },
    {
     "name": "stdout",
     "output_type": "stream",
     "text": [
      "Number of boxes found:  0\n",
      "iterations:  150\n",
      "heatmap len:  10\n",
      "Number of boxes found:  2\n",
      "Number of boxes found:  0\n",
      "Number of boxes found:  1\n"
     ]
    },
    {
     "name": "stderr",
     "output_type": "stream",
     "text": [
      "\r",
      " 11%|█▏        | 143/1261 [06:25<51:22,  2.76s/it]"
     ]
    },
    {
     "name": "stdout",
     "output_type": "stream",
     "text": [
      "Number of boxes found:  0\n",
      "iterations:  151\n",
      "heatmap len:  10\n",
      "Number of boxes found:  2\n",
      "Number of boxes found:  0\n",
      "Number of boxes found:  1\n"
     ]
    },
    {
     "name": "stderr",
     "output_type": "stream",
     "text": [
      "\r",
      " 11%|█▏        | 144/1261 [06:28<51:19,  2.76s/it]"
     ]
    },
    {
     "name": "stdout",
     "output_type": "stream",
     "text": [
      "Number of boxes found:  0\n",
      "iterations:  152\n",
      "heatmap len:  10\n",
      "Number of boxes found:  0\n",
      "Number of boxes found:  0\n",
      "Number of boxes found:  0\n"
     ]
    },
    {
     "name": "stderr",
     "output_type": "stream",
     "text": [
      "\r",
      " 11%|█▏        | 145/1261 [06:30<50:55,  2.74s/it]"
     ]
    },
    {
     "name": "stdout",
     "output_type": "stream",
     "text": [
      "Number of boxes found:  0\n",
      "iterations:  153\n",
      "Number of boxes found:  0\n",
      "Number of boxes found:  0\n",
      "Number of boxes found:  0\n"
     ]
    },
    {
     "name": "stderr",
     "output_type": "stream",
     "text": [
      "\r",
      " 12%|█▏        | 146/1261 [06:33<50:26,  2.71s/it]"
     ]
    },
    {
     "name": "stdout",
     "output_type": "stream",
     "text": [
      "Number of boxes found:  0\n",
      "iterations:  154\n",
      "Number of boxes found:  0\n",
      "Number of boxes found:  0\n",
      "Number of boxes found:  0\n"
     ]
    },
    {
     "name": "stderr",
     "output_type": "stream",
     "text": [
      "\r",
      " 12%|█▏        | 147/1261 [06:36<50:12,  2.70s/it]"
     ]
    },
    {
     "name": "stdout",
     "output_type": "stream",
     "text": [
      "Number of boxes found:  0\n",
      "iterations:  155\n",
      "Number of boxes found:  0\n",
      "Number of boxes found:  0\n",
      "Number of boxes found:  0\n"
     ]
    },
    {
     "name": "stderr",
     "output_type": "stream",
     "text": [
      "\r",
      " 12%|█▏        | 148/1261 [06:38<49:45,  2.68s/it]"
     ]
    },
    {
     "name": "stdout",
     "output_type": "stream",
     "text": [
      "Number of boxes found:  0\n",
      "iterations:  156\n",
      "Number of boxes found:  0\n",
      "Number of boxes found:  0\n",
      "Number of boxes found:  0\n"
     ]
    },
    {
     "name": "stderr",
     "output_type": "stream",
     "text": [
      "\r",
      " 12%|█▏        | 149/1261 [06:41<50:06,  2.70s/it]"
     ]
    },
    {
     "name": "stdout",
     "output_type": "stream",
     "text": [
      "Number of boxes found:  0\n",
      "iterations:  157\n",
      "Number of boxes found:  0\n",
      "Number of boxes found:  0\n",
      "Number of boxes found:  0\n"
     ]
    },
    {
     "name": "stderr",
     "output_type": "stream",
     "text": [
      "\r",
      " 12%|█▏        | 150/1261 [06:44<49:53,  2.69s/it]"
     ]
    },
    {
     "name": "stdout",
     "output_type": "stream",
     "text": [
      "Number of boxes found:  0\n",
      "iterations:  158\n",
      "Number of boxes found:  0\n",
      "Number of boxes found:  0\n",
      "Number of boxes found:  0\n"
     ]
    },
    {
     "name": "stderr",
     "output_type": "stream",
     "text": [
      "\r",
      " 12%|█▏        | 151/1261 [06:47<50:01,  2.70s/it]"
     ]
    },
    {
     "name": "stdout",
     "output_type": "stream",
     "text": [
      "Number of boxes found:  0\n",
      "iterations:  159\n",
      "Number of boxes found:  0\n",
      "Number of boxes found:  0\n",
      "Number of boxes found:  0\n"
     ]
    },
    {
     "name": "stderr",
     "output_type": "stream",
     "text": [
      "\r",
      " 12%|█▏        | 152/1261 [06:49<50:00,  2.71s/it]"
     ]
    },
    {
     "name": "stdout",
     "output_type": "stream",
     "text": [
      "Number of boxes found:  0\n",
      "iterations:  160\n",
      "Number of boxes found:  0\n",
      "Number of boxes found:  0\n",
      "Number of boxes found:  0\n"
     ]
    },
    {
     "name": "stderr",
     "output_type": "stream",
     "text": [
      "\r",
      " 12%|█▏        | 153/1261 [06:52<49:51,  2.70s/it]"
     ]
    },
    {
     "name": "stdout",
     "output_type": "stream",
     "text": [
      "Number of boxes found:  0\n",
      "iterations:  161\n",
      "Number of boxes found:  0\n",
      "Number of boxes found:  0\n",
      "Number of boxes found:  0\n"
     ]
    },
    {
     "name": "stderr",
     "output_type": "stream",
     "text": [
      "\r",
      " 12%|█▏        | 154/1261 [06:55<49:35,  2.69s/it]"
     ]
    },
    {
     "name": "stdout",
     "output_type": "stream",
     "text": [
      "Number of boxes found:  0\n",
      "iterations:  162\n",
      "Number of boxes found:  0\n",
      "Number of boxes found:  0\n",
      "Number of boxes found:  0\n"
     ]
    },
    {
     "name": "stderr",
     "output_type": "stream",
     "text": [
      "\r",
      " 12%|█▏        | 155/1261 [06:57<49:25,  2.68s/it]"
     ]
    },
    {
     "name": "stdout",
     "output_type": "stream",
     "text": [
      "Number of boxes found:  0\n",
      "iterations:  163\n",
      "Number of boxes found:  0\n",
      "Number of boxes found:  0\n",
      "Number of boxes found:  0\n"
     ]
    },
    {
     "name": "stderr",
     "output_type": "stream",
     "text": [
      "\r",
      " 12%|█▏        | 156/1261 [07:00<49:39,  2.70s/it]"
     ]
    },
    {
     "name": "stdout",
     "output_type": "stream",
     "text": [
      "Number of boxes found:  0\n",
      "iterations:  164\n",
      "Number of boxes found:  0\n",
      "Number of boxes found:  0\n",
      "Number of boxes found:  0\n"
     ]
    },
    {
     "name": "stderr",
     "output_type": "stream",
     "text": [
      "\r",
      " 12%|█▏        | 157/1261 [07:03<49:37,  2.70s/it]"
     ]
    },
    {
     "name": "stdout",
     "output_type": "stream",
     "text": [
      "Number of boxes found:  0\n",
      "iterations:  165\n",
      "Number of boxes found:  0\n",
      "Number of boxes found:  0\n",
      "Number of boxes found:  0\n"
     ]
    },
    {
     "name": "stderr",
     "output_type": "stream",
     "text": [
      "\r",
      " 13%|█▎        | 158/1261 [07:06<50:05,  2.73s/it]"
     ]
    },
    {
     "name": "stdout",
     "output_type": "stream",
     "text": [
      "Number of boxes found:  0\n",
      "iterations:  166\n",
      "Number of boxes found:  0\n",
      "Number of boxes found:  0\n",
      "Number of boxes found:  0\n"
     ]
    },
    {
     "name": "stderr",
     "output_type": "stream",
     "text": [
      "\r",
      " 13%|█▎        | 159/1261 [07:08<50:10,  2.73s/it]"
     ]
    },
    {
     "name": "stdout",
     "output_type": "stream",
     "text": [
      "Number of boxes found:  0\n",
      "iterations:  167\n",
      "Number of boxes found:  0\n",
      "Number of boxes found:  0\n",
      "Number of boxes found:  0\n"
     ]
    },
    {
     "name": "stderr",
     "output_type": "stream",
     "text": [
      "\r",
      " 13%|█▎        | 160/1261 [07:11<50:04,  2.73s/it]"
     ]
    },
    {
     "name": "stdout",
     "output_type": "stream",
     "text": [
      "Number of boxes found:  0\n",
      "iterations:  168\n",
      "Number of boxes found:  0\n",
      "Number of boxes found:  0\n",
      "Number of boxes found:  0\n"
     ]
    },
    {
     "name": "stderr",
     "output_type": "stream",
     "text": [
      "\r",
      " 13%|█▎        | 161/1261 [07:14<49:36,  2.71s/it]"
     ]
    },
    {
     "name": "stdout",
     "output_type": "stream",
     "text": [
      "Number of boxes found:  0\n",
      "iterations:  169\n",
      "Number of boxes found:  0\n",
      "Number of boxes found:  0\n",
      "Number of boxes found:  0\n"
     ]
    },
    {
     "name": "stderr",
     "output_type": "stream",
     "text": [
      "\r",
      " 13%|█▎        | 162/1261 [07:16<49:06,  2.68s/it]"
     ]
    },
    {
     "name": "stdout",
     "output_type": "stream",
     "text": [
      "Number of boxes found:  0\n",
      "iterations:  170\n",
      "Number of boxes found:  0\n",
      "Number of boxes found:  0\n",
      "Number of boxes found:  0\n"
     ]
    },
    {
     "name": "stderr",
     "output_type": "stream",
     "text": [
      "\r",
      " 13%|█▎        | 163/1261 [07:19<48:54,  2.67s/it]"
     ]
    },
    {
     "name": "stdout",
     "output_type": "stream",
     "text": [
      "Number of boxes found:  0\n",
      "iterations:  171\n",
      "Number of boxes found:  0\n",
      "Number of boxes found:  0\n",
      "Number of boxes found:  1\n"
     ]
    },
    {
     "name": "stderr",
     "output_type": "stream",
     "text": [
      "\r",
      " 13%|█▎        | 164/1261 [07:22<49:02,  2.68s/it]"
     ]
    },
    {
     "name": "stdout",
     "output_type": "stream",
     "text": [
      "Number of boxes found:  0\n",
      "iterations:  172\n",
      "heatmap len:  10\n",
      "Number of boxes found:  2\n",
      "Number of boxes found:  0\n",
      "Number of boxes found:  2\n"
     ]
    },
    {
     "name": "stderr",
     "output_type": "stream",
     "text": [
      "\r",
      " 13%|█▎        | 165/1261 [07:24<49:00,  2.68s/it]"
     ]
    },
    {
     "name": "stdout",
     "output_type": "stream",
     "text": [
      "Number of boxes found:  1\n",
      "iterations:  173\n",
      "heatmap len:  10\n",
      "Number of boxes found:  2\n",
      "Number of boxes found:  1\n",
      "Number of boxes found:  2\n"
     ]
    },
    {
     "name": "stderr",
     "output_type": "stream",
     "text": [
      "\r",
      " 13%|█▎        | 166/1261 [07:27<48:50,  2.68s/it]"
     ]
    },
    {
     "name": "stdout",
     "output_type": "stream",
     "text": [
      "Number of boxes found:  1\n",
      "iterations:  174\n",
      "heatmap len:  10\n",
      "Number of boxes found:  2\n",
      "Number of boxes found:  2\n",
      "Number of boxes found:  1\n"
     ]
    },
    {
     "name": "stderr",
     "output_type": "stream",
     "text": [
      "\r",
      " 13%|█▎        | 167/1261 [07:30<49:05,  2.69s/it]"
     ]
    },
    {
     "name": "stdout",
     "output_type": "stream",
     "text": [
      "Number of boxes found:  1\n",
      "iterations:  175\n",
      "heatmap len:  10\n",
      "Number of boxes found:  1\n",
      "Number of boxes found:  1\n",
      "Number of boxes found:  2\n"
     ]
    },
    {
     "name": "stderr",
     "output_type": "stream",
     "text": [
      "\r",
      " 13%|█▎        | 168/1261 [07:32<49:04,  2.69s/it]"
     ]
    },
    {
     "name": "stdout",
     "output_type": "stream",
     "text": [
      "Number of boxes found:  1\n",
      "iterations:  176\n",
      "heatmap len:  10\n",
      "Number of boxes found:  2\n",
      "Number of boxes found:  0\n",
      "Number of boxes found:  2\n"
     ]
    },
    {
     "name": "stderr",
     "output_type": "stream",
     "text": [
      "\r",
      " 13%|█▎        | 169/1261 [07:35<48:51,  2.68s/it]"
     ]
    },
    {
     "name": "stdout",
     "output_type": "stream",
     "text": [
      "Number of boxes found:  1\n",
      "iterations:  177\n",
      "heatmap len:  10\n",
      "Number of boxes found:  2\n",
      "Number of boxes found:  0\n",
      "Number of boxes found:  1\n"
     ]
    },
    {
     "name": "stderr",
     "output_type": "stream",
     "text": [
      "\r",
      " 13%|█▎        | 170/1261 [07:38<48:44,  2.68s/it]"
     ]
    },
    {
     "name": "stdout",
     "output_type": "stream",
     "text": [
      "Number of boxes found:  1\n",
      "iterations:  178\n",
      "heatmap len:  10\n",
      "Number of boxes found:  1\n",
      "Number of boxes found:  0\n",
      "Number of boxes found:  1\n"
     ]
    },
    {
     "name": "stderr",
     "output_type": "stream",
     "text": [
      "\r",
      " 14%|█▎        | 171/1261 [07:40<48:31,  2.67s/it]"
     ]
    },
    {
     "name": "stdout",
     "output_type": "stream",
     "text": [
      "Number of boxes found:  1\n",
      "iterations:  179\n",
      "heatmap len:  10\n",
      "Number of boxes found:  0\n",
      "Number of boxes found:  0\n",
      "Number of boxes found:  2\n"
     ]
    },
    {
     "name": "stderr",
     "output_type": "stream",
     "text": [
      "\r",
      " 14%|█▎        | 172/1261 [07:43<48:44,  2.69s/it]"
     ]
    },
    {
     "name": "stdout",
     "output_type": "stream",
     "text": [
      "Number of boxes found:  1\n",
      "iterations:  180\n",
      "heatmap len:  10\n",
      "Number of boxes found:  2\n",
      "Number of boxes found:  0\n",
      "Number of boxes found:  2\n"
     ]
    },
    {
     "name": "stderr",
     "output_type": "stream",
     "text": [
      "\r",
      " 14%|█▎        | 173/1261 [07:46<48:28,  2.67s/it]"
     ]
    },
    {
     "name": "stdout",
     "output_type": "stream",
     "text": [
      "Number of boxes found:  1\n",
      "iterations:  181\n",
      "heatmap len:  10\n",
      "Number of boxes found:  1\n",
      "Number of boxes found:  0\n",
      "Number of boxes found:  4\n"
     ]
    },
    {
     "name": "stderr",
     "output_type": "stream",
     "text": [
      "\r",
      " 14%|█▍        | 174/1261 [07:48<48:20,  2.67s/it]"
     ]
    },
    {
     "name": "stdout",
     "output_type": "stream",
     "text": [
      "Number of boxes found:  1\n",
      "iterations:  182\n",
      "heatmap len:  10\n",
      "Number of boxes found:  2\n",
      "Number of boxes found:  0\n",
      "Number of boxes found:  4\n"
     ]
    },
    {
     "name": "stderr",
     "output_type": "stream",
     "text": [
      "\r",
      " 14%|█▍        | 175/1261 [07:51<48:31,  2.68s/it]"
     ]
    },
    {
     "name": "stdout",
     "output_type": "stream",
     "text": [
      "Number of boxes found:  1\n",
      "iterations:  183\n",
      "heatmap len:  10\n",
      "Number of boxes found:  1\n",
      "Number of boxes found:  0\n",
      "Number of boxes found:  3\n"
     ]
    },
    {
     "name": "stderr",
     "output_type": "stream",
     "text": [
      "\r",
      " 14%|█▍        | 176/1261 [07:54<49:02,  2.71s/it]"
     ]
    },
    {
     "name": "stdout",
     "output_type": "stream",
     "text": [
      "Number of boxes found:  2\n",
      "iterations:  184\n",
      "heatmap len:  10\n",
      "Number of boxes found:  2\n",
      "Number of boxes found:  0\n",
      "Number of boxes found:  2\n"
     ]
    },
    {
     "name": "stderr",
     "output_type": "stream",
     "text": [
      "\r",
      " 14%|█▍        | 177/1261 [07:57<49:11,  2.72s/it]"
     ]
    },
    {
     "name": "stdout",
     "output_type": "stream",
     "text": [
      "Number of boxes found:  2\n",
      "iterations:  185\n",
      "heatmap len:  10\n",
      "Number of boxes found:  1\n",
      "Number of boxes found:  0\n",
      "Number of boxes found:  1\n"
     ]
    },
    {
     "name": "stderr",
     "output_type": "stream",
     "text": [
      "\r",
      " 14%|█▍        | 178/1261 [07:59<49:06,  2.72s/it]"
     ]
    },
    {
     "name": "stdout",
     "output_type": "stream",
     "text": [
      "Number of boxes found:  2\n",
      "iterations:  186\n",
      "heatmap len:  10\n",
      "Number of boxes found:  1\n",
      "Number of boxes found:  0\n",
      "Number of boxes found:  1\n"
     ]
    },
    {
     "name": "stderr",
     "output_type": "stream",
     "text": [
      "\r",
      " 14%|█▍        | 179/1261 [08:02<49:05,  2.72s/it]"
     ]
    },
    {
     "name": "stdout",
     "output_type": "stream",
     "text": [
      "Number of boxes found:  3\n",
      "iterations:  187\n",
      "heatmap len:  10\n",
      "Number of boxes found:  2\n",
      "Number of boxes found:  0\n",
      "Number of boxes found:  2\n"
     ]
    },
    {
     "name": "stderr",
     "output_type": "stream",
     "text": [
      "\r",
      " 14%|█▍        | 180/1261 [08:05<49:26,  2.74s/it]"
     ]
    },
    {
     "name": "stdout",
     "output_type": "stream",
     "text": [
      "Number of boxes found:  2\n",
      "iterations:  188\n",
      "heatmap len:  10\n",
      "Number of boxes found:  1\n",
      "Number of boxes found:  0\n",
      "Number of boxes found:  1\n"
     ]
    },
    {
     "name": "stderr",
     "output_type": "stream",
     "text": [
      "\r",
      " 14%|█▍        | 181/1261 [08:08<49:37,  2.76s/it]"
     ]
    },
    {
     "name": "stdout",
     "output_type": "stream",
     "text": [
      "Number of boxes found:  2\n",
      "iterations:  189\n",
      "heatmap len:  10\n",
      "Number of boxes found:  1\n",
      "Number of boxes found:  0\n",
      "Number of boxes found:  1\n"
     ]
    },
    {
     "name": "stderr",
     "output_type": "stream",
     "text": [
      "\r",
      " 14%|█▍        | 182/1261 [08:10<49:37,  2.76s/it]"
     ]
    },
    {
     "name": "stdout",
     "output_type": "stream",
     "text": [
      "Number of boxes found:  2\n",
      "iterations:  190\n",
      "heatmap len:  10\n",
      "Number of boxes found:  0\n",
      "Number of boxes found:  0\n",
      "Number of boxes found:  3\n"
     ]
    },
    {
     "name": "stderr",
     "output_type": "stream",
     "text": [
      "\r",
      " 15%|█▍        | 183/1261 [08:13<49:19,  2.74s/it]"
     ]
    },
    {
     "name": "stdout",
     "output_type": "stream",
     "text": [
      "Number of boxes found:  2\n",
      "iterations:  191\n",
      "heatmap len:  10\n",
      "Number of boxes found:  1\n",
      "Number of boxes found:  0\n",
      "Number of boxes found:  3\n"
     ]
    },
    {
     "name": "stderr",
     "output_type": "stream",
     "text": [
      "\r",
      " 15%|█▍        | 184/1261 [08:16<49:25,  2.75s/it]"
     ]
    },
    {
     "name": "stdout",
     "output_type": "stream",
     "text": [
      "Number of boxes found:  2\n",
      "iterations:  192\n",
      "heatmap len:  10\n",
      "Number of boxes found:  1\n",
      "Number of boxes found:  0\n",
      "Number of boxes found:  2\n"
     ]
    },
    {
     "name": "stderr",
     "output_type": "stream",
     "text": [
      "\r",
      " 15%|█▍        | 185/1261 [08:19<49:08,  2.74s/it]"
     ]
    },
    {
     "name": "stdout",
     "output_type": "stream",
     "text": [
      "Number of boxes found:  2\n",
      "iterations:  193\n",
      "heatmap len:  10\n",
      "Number of boxes found:  1\n",
      "Number of boxes found:  0\n",
      "Number of boxes found:  4\n"
     ]
    },
    {
     "name": "stderr",
     "output_type": "stream",
     "text": [
      "\r",
      " 15%|█▍        | 186/1261 [08:21<48:49,  2.73s/it]"
     ]
    },
    {
     "name": "stdout",
     "output_type": "stream",
     "text": [
      "Number of boxes found:  2\n",
      "iterations:  194\n",
      "heatmap len:  10\n",
      "Number of boxes found:  2\n",
      "Number of boxes found:  0\n",
      "Number of boxes found:  3\n"
     ]
    },
    {
     "name": "stderr",
     "output_type": "stream",
     "text": [
      "\r",
      " 15%|█▍        | 187/1261 [08:24<48:49,  2.73s/it]"
     ]
    },
    {
     "name": "stdout",
     "output_type": "stream",
     "text": [
      "Number of boxes found:  2\n",
      "iterations:  195\n",
      "heatmap len:  10\n",
      "Number of boxes found:  0\n",
      "Number of boxes found:  0\n",
      "Number of boxes found:  2\n"
     ]
    },
    {
     "name": "stderr",
     "output_type": "stream",
     "text": [
      "\r",
      " 15%|█▍        | 188/1261 [08:27<48:51,  2.73s/it]"
     ]
    },
    {
     "name": "stdout",
     "output_type": "stream",
     "text": [
      "Number of boxes found:  2\n",
      "iterations:  196\n",
      "heatmap len:  10\n",
      "Number of boxes found:  0\n",
      "Number of boxes found:  0\n",
      "Number of boxes found:  2\n"
     ]
    },
    {
     "name": "stderr",
     "output_type": "stream",
     "text": [
      "\r",
      " 15%|█▍        | 189/1261 [08:30<49:20,  2.76s/it]"
     ]
    },
    {
     "name": "stdout",
     "output_type": "stream",
     "text": [
      "Number of boxes found:  2\n",
      "iterations:  197\n",
      "heatmap len:  10\n",
      "Number of boxes found:  3\n",
      "Number of boxes found:  0\n",
      "Number of boxes found:  2\n"
     ]
    },
    {
     "name": "stderr",
     "output_type": "stream",
     "text": [
      "\r",
      " 15%|█▌        | 190/1261 [08:32<49:17,  2.76s/it]"
     ]
    },
    {
     "name": "stdout",
     "output_type": "stream",
     "text": [
      "Number of boxes found:  2\n",
      "iterations:  198\n",
      "heatmap len:  10\n",
      "Number of boxes found:  2\n",
      "Number of boxes found:  0\n",
      "Number of boxes found:  2\n"
     ]
    },
    {
     "name": "stderr",
     "output_type": "stream",
     "text": [
      "\r",
      " 15%|█▌        | 191/1261 [08:35<49:00,  2.75s/it]"
     ]
    },
    {
     "name": "stdout",
     "output_type": "stream",
     "text": [
      "Number of boxes found:  2\n",
      "iterations:  199\n",
      "heatmap len:  10\n",
      "Number of boxes found:  1\n",
      "Number of boxes found:  0\n",
      "Number of boxes found:  1\n"
     ]
    },
    {
     "name": "stderr",
     "output_type": "stream",
     "text": [
      "\r",
      " 15%|█▌        | 192/1261 [08:38<49:02,  2.75s/it]"
     ]
    },
    {
     "name": "stdout",
     "output_type": "stream",
     "text": [
      "Number of boxes found:  2\n",
      "iterations:  200\n",
      "heatmap len:  10\n",
      "Number of boxes found:  1\n",
      "Number of boxes found:  0\n",
      "Number of boxes found:  1\n"
     ]
    },
    {
     "name": "stderr",
     "output_type": "stream",
     "text": [
      "\r",
      " 15%|█▌        | 193/1261 [08:41<49:22,  2.77s/it]"
     ]
    },
    {
     "name": "stdout",
     "output_type": "stream",
     "text": [
      "Number of boxes found:  2\n",
      "iterations:  201\n",
      "heatmap len:  10\n",
      "Number of boxes found:  1\n",
      "Number of boxes found:  0\n",
      "Number of boxes found:  1\n"
     ]
    },
    {
     "name": "stderr",
     "output_type": "stream",
     "text": [
      "\r",
      " 15%|█▌        | 194/1261 [08:43<49:14,  2.77s/it]"
     ]
    },
    {
     "name": "stdout",
     "output_type": "stream",
     "text": [
      "Number of boxes found:  2\n",
      "iterations:  202\n",
      "heatmap len:  10\n",
      "Number of boxes found:  1\n",
      "Number of boxes found:  0\n",
      "Number of boxes found:  1\n"
     ]
    },
    {
     "name": "stderr",
     "output_type": "stream",
     "text": [
      "\r",
      " 15%|█▌        | 195/1261 [08:46<49:04,  2.76s/it]"
     ]
    },
    {
     "name": "stdout",
     "output_type": "stream",
     "text": [
      "Number of boxes found:  2\n",
      "iterations:  203\n",
      "heatmap len:  10\n",
      "Number of boxes found:  2\n",
      "Number of boxes found:  0\n",
      "Number of boxes found:  2\n"
     ]
    },
    {
     "name": "stderr",
     "output_type": "stream",
     "text": [
      "\r",
      " 16%|█▌        | 196/1261 [08:49<49:25,  2.78s/it]"
     ]
    },
    {
     "name": "stdout",
     "output_type": "stream",
     "text": [
      "Number of boxes found:  2\n",
      "iterations:  204\n",
      "heatmap len:  10\n",
      "Number of boxes found:  3\n",
      "Number of boxes found:  0\n",
      "Number of boxes found:  2\n"
     ]
    },
    {
     "name": "stderr",
     "output_type": "stream",
     "text": [
      "\r",
      " 16%|█▌        | 197/1261 [08:52<48:43,  2.75s/it]"
     ]
    },
    {
     "name": "stdout",
     "output_type": "stream",
     "text": [
      "Number of boxes found:  2\n",
      "iterations:  205\n",
      "heatmap len:  10\n",
      "Number of boxes found:  3\n",
      "Number of boxes found:  0\n",
      "Number of boxes found:  2\n"
     ]
    },
    {
     "name": "stderr",
     "output_type": "stream",
     "text": [
      "\r",
      " 16%|█▌        | 198/1261 [08:54<48:07,  2.72s/it]"
     ]
    },
    {
     "name": "stdout",
     "output_type": "stream",
     "text": [
      "Number of boxes found:  2\n",
      "iterations:  206\n",
      "heatmap len:  10\n",
      "Number of boxes found:  2\n",
      "Number of boxes found:  0\n",
      "Number of boxes found:  2\n"
     ]
    },
    {
     "name": "stderr",
     "output_type": "stream",
     "text": [
      "\r",
      " 16%|█▌        | 199/1261 [08:57<47:36,  2.69s/it]"
     ]
    },
    {
     "name": "stdout",
     "output_type": "stream",
     "text": [
      "Number of boxes found:  1\n",
      "iterations:  207\n",
      "heatmap len:  10\n",
      "Number of boxes found:  3\n",
      "Number of boxes found:  0\n",
      "Number of boxes found:  2\n"
     ]
    },
    {
     "name": "stderr",
     "output_type": "stream",
     "text": [
      "\r",
      " 16%|█▌        | 200/1261 [09:00<47:20,  2.68s/it]"
     ]
    },
    {
     "name": "stdout",
     "output_type": "stream",
     "text": [
      "Number of boxes found:  1\n",
      "iterations:  208\n",
      "heatmap len:  10\n",
      "Number of boxes found:  2\n",
      "Number of boxes found:  0\n",
      "Number of boxes found:  2\n"
     ]
    },
    {
     "name": "stderr",
     "output_type": "stream",
     "text": [
      "\r",
      " 16%|█▌        | 201/1261 [09:02<47:18,  2.68s/it]"
     ]
    },
    {
     "name": "stdout",
     "output_type": "stream",
     "text": [
      "Number of boxes found:  1\n",
      "iterations:  209\n",
      "heatmap len:  10\n",
      "Number of boxes found:  4\n",
      "Number of boxes found:  0\n",
      "Number of boxes found:  2\n"
     ]
    },
    {
     "name": "stderr",
     "output_type": "stream",
     "text": [
      "\r",
      " 16%|█▌        | 202/1261 [09:05<47:12,  2.67s/it]"
     ]
    },
    {
     "name": "stdout",
     "output_type": "stream",
     "text": [
      "Number of boxes found:  1\n",
      "iterations:  210\n",
      "heatmap len:  10\n",
      "Number of boxes found:  3\n",
      "Number of boxes found:  0\n",
      "Number of boxes found:  2\n"
     ]
    },
    {
     "name": "stderr",
     "output_type": "stream",
     "text": [
      "\r",
      " 16%|█▌        | 203/1261 [09:08<47:05,  2.67s/it]"
     ]
    },
    {
     "name": "stdout",
     "output_type": "stream",
     "text": [
      "Number of boxes found:  1\n",
      "iterations:  211\n",
      "heatmap len:  10\n",
      "Number of boxes found:  2\n",
      "Number of boxes found:  0\n",
      "Number of boxes found:  2\n"
     ]
    },
    {
     "name": "stderr",
     "output_type": "stream",
     "text": [
      "\r",
      " 16%|█▌        | 204/1261 [09:10<47:36,  2.70s/it]"
     ]
    },
    {
     "name": "stdout",
     "output_type": "stream",
     "text": [
      "Number of boxes found:  1\n",
      "iterations:  212\n",
      "heatmap len:  10\n",
      "Number of boxes found:  2\n",
      "Number of boxes found:  1\n",
      "Number of boxes found:  2\n"
     ]
    },
    {
     "name": "stderr",
     "output_type": "stream",
     "text": [
      "\r",
      " 16%|█▋        | 205/1261 [09:13<47:56,  2.72s/it]"
     ]
    },
    {
     "name": "stdout",
     "output_type": "stream",
     "text": [
      "Number of boxes found:  2\n",
      "iterations:  213\n",
      "heatmap len:  10\n",
      "Number of boxes found:  2\n",
      "Number of boxes found:  1\n",
      "Number of boxes found:  3\n"
     ]
    },
    {
     "name": "stderr",
     "output_type": "stream",
     "text": [
      "\r",
      " 16%|█▋        | 206/1261 [09:16<48:00,  2.73s/it]"
     ]
    },
    {
     "name": "stdout",
     "output_type": "stream",
     "text": [
      "Number of boxes found:  1\n",
      "iterations:  214\n",
      "heatmap len:  10\n",
      "Number of boxes found:  3\n",
      "Number of boxes found:  1\n",
      "Number of boxes found:  3\n"
     ]
    },
    {
     "name": "stderr",
     "output_type": "stream",
     "text": [
      "\r",
      " 16%|█▋        | 207/1261 [09:19<48:11,  2.74s/it]"
     ]
    },
    {
     "name": "stdout",
     "output_type": "stream",
     "text": [
      "Number of boxes found:  2\n",
      "iterations:  215\n",
      "heatmap len:  10\n",
      "Number of boxes found:  3\n",
      "Number of boxes found:  0\n",
      "Number of boxes found:  2\n"
     ]
    },
    {
     "name": "stderr",
     "output_type": "stream",
     "text": [
      "\r",
      " 16%|█▋        | 208/1261 [09:21<48:15,  2.75s/it]"
     ]
    },
    {
     "name": "stdout",
     "output_type": "stream",
     "text": [
      "Number of boxes found:  2\n",
      "iterations:  216\n",
      "heatmap len:  10\n",
      "Number of boxes found:  5\n",
      "Number of boxes found:  1\n",
      "Number of boxes found:  3\n"
     ]
    },
    {
     "name": "stderr",
     "output_type": "stream",
     "text": [
      "\r",
      " 17%|█▋        | 209/1261 [09:24<48:08,  2.75s/it]"
     ]
    },
    {
     "name": "stdout",
     "output_type": "stream",
     "text": [
      "Number of boxes found:  2\n",
      "iterations:  217\n",
      "heatmap len:  10\n",
      "Number of boxes found:  4\n",
      "Number of boxes found:  0\n",
      "Number of boxes found:  3\n"
     ]
    },
    {
     "name": "stderr",
     "output_type": "stream",
     "text": [
      "\r",
      " 17%|█▋        | 210/1261 [09:27<48:06,  2.75s/it]"
     ]
    },
    {
     "name": "stdout",
     "output_type": "stream",
     "text": [
      "Number of boxes found:  2\n",
      "iterations:  218\n",
      "heatmap len:  10\n",
      "Number of boxes found:  1\n",
      "Number of boxes found:  0\n",
      "Number of boxes found:  1\n"
     ]
    },
    {
     "name": "stderr",
     "output_type": "stream",
     "text": [
      "\r",
      " 17%|█▋        | 211/1261 [09:30<48:04,  2.75s/it]"
     ]
    },
    {
     "name": "stdout",
     "output_type": "stream",
     "text": [
      "Number of boxes found:  2\n",
      "iterations:  219\n",
      "heatmap len:  10\n",
      "Number of boxes found:  2\n",
      "Number of boxes found:  0\n",
      "Number of boxes found:  2\n"
     ]
    },
    {
     "name": "stderr",
     "output_type": "stream",
     "text": [
      "\r",
      " 17%|█▋        | 212/1261 [09:32<47:50,  2.74s/it]"
     ]
    },
    {
     "name": "stdout",
     "output_type": "stream",
     "text": [
      "Number of boxes found:  2\n",
      "iterations:  220\n",
      "heatmap len:  10\n",
      "Number of boxes found:  2\n",
      "Number of boxes found:  0\n",
      "Number of boxes found:  2\n"
     ]
    },
    {
     "name": "stderr",
     "output_type": "stream",
     "text": [
      "\r",
      " 17%|█▋        | 213/1261 [09:35<47:27,  2.72s/it]"
     ]
    },
    {
     "name": "stdout",
     "output_type": "stream",
     "text": [
      "Number of boxes found:  2\n",
      "iterations:  221\n",
      "heatmap len:  10\n",
      "Number of boxes found:  1\n",
      "Number of boxes found:  0\n",
      "Number of boxes found:  3\n"
     ]
    },
    {
     "name": "stderr",
     "output_type": "stream",
     "text": [
      "\r",
      " 17%|█▋        | 214/1261 [09:38<47:00,  2.69s/it]"
     ]
    },
    {
     "name": "stdout",
     "output_type": "stream",
     "text": [
      "Number of boxes found:  2\n",
      "iterations:  222\n",
      "heatmap len:  10\n",
      "Number of boxes found:  1\n",
      "Number of boxes found:  1\n",
      "Number of boxes found:  1\n"
     ]
    },
    {
     "name": "stderr",
     "output_type": "stream",
     "text": [
      "\r",
      " 17%|█▋        | 215/1261 [09:40<47:21,  2.72s/it]"
     ]
    },
    {
     "name": "stdout",
     "output_type": "stream",
     "text": [
      "Number of boxes found:  3\n",
      "iterations:  223\n",
      "heatmap len:  10\n",
      "Number of boxes found:  3\n",
      "Number of boxes found:  0\n",
      "Number of boxes found:  1\n"
     ]
    },
    {
     "name": "stderr",
     "output_type": "stream",
     "text": [
      "\r",
      " 17%|█▋        | 216/1261 [09:43<47:32,  2.73s/it]"
     ]
    },
    {
     "name": "stdout",
     "output_type": "stream",
     "text": [
      "Number of boxes found:  2\n",
      "iterations:  224\n",
      "heatmap len:  10\n",
      "Number of boxes found:  1\n",
      "Number of boxes found:  0\n",
      "Number of boxes found:  2\n"
     ]
    },
    {
     "name": "stderr",
     "output_type": "stream",
     "text": [
      "\r",
      " 17%|█▋        | 217/1261 [09:46<47:42,  2.74s/it]"
     ]
    },
    {
     "name": "stdout",
     "output_type": "stream",
     "text": [
      "Number of boxes found:  3\n",
      "iterations:  225\n",
      "heatmap len:  10\n",
      "Number of boxes found:  2\n",
      "Number of boxes found:  0\n",
      "Number of boxes found:  1\n"
     ]
    },
    {
     "name": "stderr",
     "output_type": "stream",
     "text": [
      "\r",
      " 17%|█▋        | 218/1261 [09:49<47:58,  2.76s/it]"
     ]
    },
    {
     "name": "stdout",
     "output_type": "stream",
     "text": [
      "Number of boxes found:  3\n",
      "iterations:  226\n",
      "heatmap len:  10\n",
      "Number of boxes found:  3\n",
      "Number of boxes found:  0\n",
      "Number of boxes found:  2\n"
     ]
    },
    {
     "name": "stderr",
     "output_type": "stream",
     "text": [
      "\r",
      " 17%|█▋        | 219/1261 [09:52<47:49,  2.75s/it]"
     ]
    },
    {
     "name": "stdout",
     "output_type": "stream",
     "text": [
      "Number of boxes found:  3\n",
      "iterations:  227\n",
      "heatmap len:  10\n",
      "Number of boxes found:  2\n",
      "Number of boxes found:  0\n",
      "Number of boxes found:  2\n"
     ]
    },
    {
     "name": "stderr",
     "output_type": "stream",
     "text": [
      "\r",
      " 17%|█▋        | 220/1261 [09:54<47:51,  2.76s/it]"
     ]
    },
    {
     "name": "stdout",
     "output_type": "stream",
     "text": [
      "Number of boxes found:  3\n",
      "iterations:  228\n",
      "heatmap len:  10\n",
      "Number of boxes found:  3\n",
      "Number of boxes found:  2\n",
      "Number of boxes found:  1\n"
     ]
    },
    {
     "name": "stderr",
     "output_type": "stream",
     "text": [
      "\r",
      " 18%|█▊        | 221/1261 [09:57<47:45,  2.76s/it]"
     ]
    },
    {
     "name": "stdout",
     "output_type": "stream",
     "text": [
      "Number of boxes found:  3\n",
      "iterations:  229\n",
      "heatmap len:  10\n",
      "Number of boxes found:  4\n",
      "Number of boxes found:  1\n",
      "Number of boxes found:  1\n"
     ]
    },
    {
     "name": "stderr",
     "output_type": "stream",
     "text": [
      "\r",
      " 18%|█▊        | 222/1261 [10:00<47:50,  2.76s/it]"
     ]
    },
    {
     "name": "stdout",
     "output_type": "stream",
     "text": [
      "Number of boxes found:  3\n",
      "iterations:  230\n",
      "heatmap len:  10\n",
      "Number of boxes found:  2\n",
      "Number of boxes found:  1\n",
      "Number of boxes found:  1\n"
     ]
    },
    {
     "name": "stderr",
     "output_type": "stream",
     "text": [
      "\r",
      " 18%|█▊        | 223/1261 [10:03<47:44,  2.76s/it]"
     ]
    },
    {
     "name": "stdout",
     "output_type": "stream",
     "text": [
      "Number of boxes found:  3\n",
      "iterations:  231\n",
      "heatmap len:  10\n",
      "Number of boxes found:  3\n",
      "Number of boxes found:  0\n",
      "Number of boxes found:  1\n"
     ]
    },
    {
     "name": "stderr",
     "output_type": "stream",
     "text": [
      "\r",
      " 18%|█▊        | 224/1261 [10:05<48:09,  2.79s/it]"
     ]
    },
    {
     "name": "stdout",
     "output_type": "stream",
     "text": [
      "Number of boxes found:  3\n",
      "iterations:  232\n",
      "heatmap len:  10\n",
      "Number of boxes found:  2\n",
      "Number of boxes found:  1\n",
      "Number of boxes found:  2\n"
     ]
    },
    {
     "name": "stderr",
     "output_type": "stream",
     "text": [
      "\r",
      " 18%|█▊        | 225/1261 [10:08<47:45,  2.77s/it]"
     ]
    },
    {
     "name": "stdout",
     "output_type": "stream",
     "text": [
      "Number of boxes found:  3\n",
      "iterations:  233\n",
      "heatmap len:  10\n",
      "Number of boxes found:  2\n",
      "Number of boxes found:  1\n",
      "Number of boxes found:  2\n"
     ]
    },
    {
     "name": "stderr",
     "output_type": "stream",
     "text": [
      "\r",
      " 18%|█▊        | 226/1261 [10:11<47:34,  2.76s/it]"
     ]
    },
    {
     "name": "stdout",
     "output_type": "stream",
     "text": [
      "Number of boxes found:  3\n",
      "iterations:  234\n",
      "heatmap len:  10\n",
      "Number of boxes found:  2\n",
      "Number of boxes found:  0\n",
      "Number of boxes found:  3\n"
     ]
    },
    {
     "name": "stderr",
     "output_type": "stream",
     "text": [
      "\r",
      " 18%|█▊        | 227/1261 [10:14<47:22,  2.75s/it]"
     ]
    },
    {
     "name": "stdout",
     "output_type": "stream",
     "text": [
      "Number of boxes found:  3\n",
      "iterations:  235\n",
      "heatmap len:  10\n",
      "Number of boxes found:  2\n",
      "Number of boxes found:  0\n",
      "Number of boxes found:  3\n"
     ]
    },
    {
     "name": "stderr",
     "output_type": "stream",
     "text": [
      "\r",
      " 18%|█▊        | 228/1261 [10:16<47:17,  2.75s/it]"
     ]
    },
    {
     "name": "stdout",
     "output_type": "stream",
     "text": [
      "Number of boxes found:  3\n",
      "iterations:  236\n",
      "heatmap len:  10\n",
      "Number of boxes found:  3\n",
      "Number of boxes found:  0\n",
      "Number of boxes found:  3\n"
     ]
    },
    {
     "name": "stderr",
     "output_type": "stream",
     "text": [
      "\r",
      " 18%|█▊        | 229/1261 [10:19<47:27,  2.76s/it]"
     ]
    },
    {
     "name": "stdout",
     "output_type": "stream",
     "text": [
      "Number of boxes found:  2\n",
      "iterations:  237\n",
      "heatmap len:  10\n",
      "Number of boxes found:  2\n",
      "Number of boxes found:  1\n",
      "Number of boxes found:  2\n"
     ]
    },
    {
     "name": "stderr",
     "output_type": "stream",
     "text": [
      "\r",
      " 18%|█▊        | 230/1261 [10:22<47:53,  2.79s/it]"
     ]
    },
    {
     "name": "stdout",
     "output_type": "stream",
     "text": [
      "Number of boxes found:  2\n",
      "iterations:  238\n",
      "heatmap len:  10\n",
      "Number of boxes found:  3\n",
      "Number of boxes found:  0\n",
      "Number of boxes found:  3\n"
     ]
    },
    {
     "name": "stderr",
     "output_type": "stream",
     "text": [
      "\r",
      " 18%|█▊        | 231/1261 [10:25<48:01,  2.80s/it]"
     ]
    },
    {
     "name": "stdout",
     "output_type": "stream",
     "text": [
      "Number of boxes found:  2\n",
      "iterations:  239\n",
      "heatmap len:  10\n",
      "Number of boxes found:  3\n",
      "Number of boxes found:  0\n",
      "Number of boxes found:  3\n"
     ]
    },
    {
     "name": "stderr",
     "output_type": "stream",
     "text": [
      "\r",
      " 18%|█▊        | 232/1261 [10:28<47:43,  2.78s/it]"
     ]
    },
    {
     "name": "stdout",
     "output_type": "stream",
     "text": [
      "Number of boxes found:  2\n",
      "iterations:  240\n",
      "heatmap len:  10\n",
      "Number of boxes found:  3\n",
      "Number of boxes found:  1\n",
      "Number of boxes found:  2\n"
     ]
    },
    {
     "name": "stderr",
     "output_type": "stream",
     "text": [
      "\r",
      " 18%|█▊        | 233/1261 [10:30<47:27,  2.77s/it]"
     ]
    },
    {
     "name": "stdout",
     "output_type": "stream",
     "text": [
      "Number of boxes found:  1\n",
      "iterations:  241\n",
      "heatmap len:  10\n",
      "Number of boxes found:  2\n",
      "Number of boxes found:  0\n",
      "Number of boxes found:  3\n"
     ]
    },
    {
     "name": "stderr",
     "output_type": "stream",
     "text": [
      "\r",
      " 19%|█▊        | 234/1261 [10:33<47:27,  2.77s/it]"
     ]
    },
    {
     "name": "stdout",
     "output_type": "stream",
     "text": [
      "Number of boxes found:  1\n",
      "iterations:  242\n",
      "heatmap len:  10\n",
      "Number of boxes found:  2\n",
      "Number of boxes found:  2\n",
      "Number of boxes found:  2\n"
     ]
    },
    {
     "name": "stderr",
     "output_type": "stream",
     "text": [
      "\r",
      " 19%|█▊        | 235/1261 [10:36<47:23,  2.77s/it]"
     ]
    },
    {
     "name": "stdout",
     "output_type": "stream",
     "text": [
      "Number of boxes found:  2\n",
      "iterations:  243\n",
      "heatmap len:  10\n",
      "Number of boxes found:  2\n",
      "Number of boxes found:  2\n",
      "Number of boxes found:  1\n"
     ]
    },
    {
     "name": "stderr",
     "output_type": "stream",
     "text": [
      "\r",
      " 19%|█▊        | 236/1261 [10:39<46:59,  2.75s/it]"
     ]
    },
    {
     "name": "stdout",
     "output_type": "stream",
     "text": [
      "Number of boxes found:  1\n",
      "iterations:  244\n",
      "heatmap len:  10\n",
      "Number of boxes found:  1\n",
      "Number of boxes found:  1\n",
      "Number of boxes found:  2\n"
     ]
    },
    {
     "name": "stderr",
     "output_type": "stream",
     "text": [
      "\r",
      " 19%|█▉        | 237/1261 [10:41<46:42,  2.74s/it]"
     ]
    },
    {
     "name": "stdout",
     "output_type": "stream",
     "text": [
      "Number of boxes found:  3\n",
      "iterations:  245\n",
      "heatmap len:  10\n",
      "Number of boxes found:  1\n",
      "Number of boxes found:  2\n",
      "Number of boxes found:  1\n"
     ]
    },
    {
     "name": "stderr",
     "output_type": "stream",
     "text": [
      "\r",
      " 19%|█▉        | 238/1261 [10:44<46:38,  2.74s/it]"
     ]
    },
    {
     "name": "stdout",
     "output_type": "stream",
     "text": [
      "Number of boxes found:  3\n",
      "iterations:  246\n",
      "heatmap len:  10\n",
      "Number of boxes found:  2\n",
      "Number of boxes found:  2\n",
      "Number of boxes found:  1\n"
     ]
    },
    {
     "name": "stderr",
     "output_type": "stream",
     "text": [
      "\r",
      " 19%|█▉        | 239/1261 [10:47<46:30,  2.73s/it]"
     ]
    },
    {
     "name": "stdout",
     "output_type": "stream",
     "text": [
      "Number of boxes found:  2\n",
      "iterations:  247\n",
      "heatmap len:  10\n",
      "Number of boxes found:  3\n",
      "Number of boxes found:  1\n",
      "Number of boxes found:  1\n"
     ]
    },
    {
     "name": "stderr",
     "output_type": "stream",
     "text": [
      "\r",
      " 19%|█▉        | 240/1261 [10:50<47:07,  2.77s/it]"
     ]
    },
    {
     "name": "stdout",
     "output_type": "stream",
     "text": [
      "Number of boxes found:  2\n",
      "iterations:  248\n",
      "heatmap len:  10\n",
      "Number of boxes found:  3\n",
      "Number of boxes found:  0\n",
      "Number of boxes found:  1\n"
     ]
    },
    {
     "name": "stderr",
     "output_type": "stream",
     "text": [
      "\r",
      " 19%|█▉        | 241/1261 [10:52<46:29,  2.73s/it]"
     ]
    },
    {
     "name": "stdout",
     "output_type": "stream",
     "text": [
      "Number of boxes found:  2\n",
      "iterations:  249\n",
      "heatmap len:  10\n",
      "Number of boxes found:  5\n",
      "Number of boxes found:  0\n",
      "Number of boxes found:  2\n"
     ]
    },
    {
     "name": "stderr",
     "output_type": "stream",
     "text": [
      "\r",
      " 19%|█▉        | 242/1261 [10:55<46:32,  2.74s/it]"
     ]
    },
    {
     "name": "stdout",
     "output_type": "stream",
     "text": [
      "Number of boxes found:  2\n",
      "iterations:  250\n",
      "heatmap len:  10\n",
      "Number of boxes found:  4\n",
      "Number of boxes found:  1\n",
      "Number of boxes found:  2\n"
     ]
    },
    {
     "name": "stderr",
     "output_type": "stream",
     "text": [
      "\r",
      " 19%|█▉        | 243/1261 [10:58<46:32,  2.74s/it]"
     ]
    },
    {
     "name": "stdout",
     "output_type": "stream",
     "text": [
      "Number of boxes found:  2\n",
      "iterations:  251\n",
      "heatmap len:  10\n",
      "Number of boxes found:  2\n",
      "Number of boxes found:  2\n",
      "Number of boxes found:  3\n"
     ]
    },
    {
     "name": "stderr",
     "output_type": "stream",
     "text": [
      "\r",
      " 19%|█▉        | 244/1261 [11:01<46:43,  2.76s/it]"
     ]
    },
    {
     "name": "stdout",
     "output_type": "stream",
     "text": [
      "Number of boxes found:  2\n",
      "iterations:  252\n",
      "heatmap len:  10\n",
      "Number of boxes found:  2\n",
      "Number of boxes found:  2\n",
      "Number of boxes found:  2\n"
     ]
    },
    {
     "name": "stderr",
     "output_type": "stream",
     "text": [
      "\r",
      " 19%|█▉        | 245/1261 [11:03<46:21,  2.74s/it]"
     ]
    },
    {
     "name": "stdout",
     "output_type": "stream",
     "text": [
      "Number of boxes found:  3\n",
      "iterations:  253\n",
      "heatmap len:  10\n",
      "Number of boxes found:  3\n",
      "Number of boxes found:  1\n",
      "Number of boxes found:  2\n"
     ]
    },
    {
     "name": "stderr",
     "output_type": "stream",
     "text": [
      "\r",
      " 20%|█▉        | 246/1261 [11:06<46:12,  2.73s/it]"
     ]
    },
    {
     "name": "stdout",
     "output_type": "stream",
     "text": [
      "Number of boxes found:  3\n",
      "iterations:  254\n",
      "heatmap len:  10\n",
      "Number of boxes found:  3\n",
      "Number of boxes found:  3\n",
      "Number of boxes found:  1\n"
     ]
    },
    {
     "name": "stderr",
     "output_type": "stream",
     "text": [
      "\r",
      " 20%|█▉        | 247/1261 [11:09<46:03,  2.73s/it]"
     ]
    },
    {
     "name": "stdout",
     "output_type": "stream",
     "text": [
      "Number of boxes found:  2\n",
      "iterations:  255\n",
      "heatmap len:  10\n",
      "Number of boxes found:  2\n",
      "Number of boxes found:  0\n",
      "Number of boxes found:  2\n"
     ]
    },
    {
     "name": "stderr",
     "output_type": "stream",
     "text": [
      "\r",
      " 20%|█▉        | 248/1261 [11:11<46:05,  2.73s/it]"
     ]
    },
    {
     "name": "stdout",
     "output_type": "stream",
     "text": [
      "Number of boxes found:  3\n",
      "iterations:  256\n",
      "heatmap len:  10\n",
      "Number of boxes found:  3\n",
      "Number of boxes found:  1\n",
      "Number of boxes found:  3\n"
     ]
    },
    {
     "name": "stderr",
     "output_type": "stream",
     "text": [
      "\r",
      " 20%|█▉        | 249/1261 [11:14<45:51,  2.72s/it]"
     ]
    },
    {
     "name": "stdout",
     "output_type": "stream",
     "text": [
      "Number of boxes found:  3\n",
      "iterations:  257\n",
      "heatmap len:  10\n",
      "Number of boxes found:  3\n",
      "Number of boxes found:  0\n",
      "Number of boxes found:  3\n"
     ]
    },
    {
     "name": "stderr",
     "output_type": "stream",
     "text": [
      "\r",
      " 20%|█▉        | 250/1261 [11:17<46:08,  2.74s/it]"
     ]
    },
    {
     "name": "stdout",
     "output_type": "stream",
     "text": [
      "Number of boxes found:  3\n",
      "iterations:  258\n",
      "heatmap len:  10\n",
      "Number of boxes found:  2\n",
      "Number of boxes found:  1\n",
      "Number of boxes found:  2\n"
     ]
    },
    {
     "name": "stderr",
     "output_type": "stream",
     "text": [
      "\r",
      " 20%|█▉        | 251/1261 [11:20<46:27,  2.76s/it]"
     ]
    },
    {
     "name": "stdout",
     "output_type": "stream",
     "text": [
      "Number of boxes found:  4\n",
      "iterations:  259\n",
      "heatmap len:  10\n",
      "Number of boxes found:  3\n",
      "Number of boxes found:  1\n",
      "Number of boxes found:  2\n"
     ]
    },
    {
     "name": "stderr",
     "output_type": "stream",
     "text": [
      "\r",
      " 20%|█▉        | 252/1261 [11:22<46:14,  2.75s/it]"
     ]
    },
    {
     "name": "stdout",
     "output_type": "stream",
     "text": [
      "Number of boxes found:  3\n",
      "iterations:  260\n",
      "heatmap len:  10\n",
      "Number of boxes found:  2\n",
      "Number of boxes found:  1\n",
      "Number of boxes found:  3\n"
     ]
    },
    {
     "name": "stderr",
     "output_type": "stream",
     "text": [
      "\r",
      " 20%|██        | 253/1261 [11:25<46:09,  2.75s/it]"
     ]
    },
    {
     "name": "stdout",
     "output_type": "stream",
     "text": [
      "Number of boxes found:  4\n",
      "iterations:  261\n",
      "heatmap len:  10\n",
      "Number of boxes found:  1\n",
      "Number of boxes found:  1\n",
      "Number of boxes found:  2\n"
     ]
    },
    {
     "name": "stderr",
     "output_type": "stream",
     "text": [
      "\r",
      " 20%|██        | 254/1261 [11:28<46:09,  2.75s/it]"
     ]
    },
    {
     "name": "stdout",
     "output_type": "stream",
     "text": [
      "Number of boxes found:  4\n",
      "iterations:  262\n",
      "heatmap len:  10\n",
      "Number of boxes found:  2\n",
      "Number of boxes found:  1\n",
      "Number of boxes found:  4\n"
     ]
    },
    {
     "name": "stderr",
     "output_type": "stream",
     "text": [
      "\r",
      " 20%|██        | 255/1261 [11:31<45:41,  2.73s/it]"
     ]
    },
    {
     "name": "stdout",
     "output_type": "stream",
     "text": [
      "Number of boxes found:  3\n",
      "iterations:  263\n",
      "heatmap len:  10\n",
      "Number of boxes found:  2\n",
      "Number of boxes found:  1\n",
      "Number of boxes found:  4\n"
     ]
    },
    {
     "name": "stderr",
     "output_type": "stream",
     "text": [
      "\r",
      " 20%|██        | 256/1261 [11:33<45:19,  2.71s/it]"
     ]
    },
    {
     "name": "stdout",
     "output_type": "stream",
     "text": [
      "Number of boxes found:  3\n",
      "iterations:  264\n",
      "heatmap len:  10\n",
      "Number of boxes found:  2\n",
      "Number of boxes found:  1\n",
      "Number of boxes found:  2\n"
     ]
    },
    {
     "name": "stderr",
     "output_type": "stream",
     "text": [
      "\r",
      " 20%|██        | 257/1261 [11:36<45:06,  2.70s/it]"
     ]
    },
    {
     "name": "stdout",
     "output_type": "stream",
     "text": [
      "Number of boxes found:  2\n",
      "iterations:  265\n",
      "heatmap len:  10\n",
      "Number of boxes found:  1\n",
      "Number of boxes found:  1\n",
      "Number of boxes found:  2\n"
     ]
    },
    {
     "name": "stderr",
     "output_type": "stream",
     "text": [
      "\r",
      " 20%|██        | 258/1261 [11:39<45:03,  2.70s/it]"
     ]
    },
    {
     "name": "stdout",
     "output_type": "stream",
     "text": [
      "Number of boxes found:  3\n",
      "iterations:  266\n",
      "heatmap len:  10\n",
      "Number of boxes found:  1\n",
      "Number of boxes found:  2\n",
      "Number of boxes found:  3\n"
     ]
    },
    {
     "name": "stderr",
     "output_type": "stream",
     "text": [
      "\r",
      " 21%|██        | 259/1261 [11:41<44:55,  2.69s/it]"
     ]
    },
    {
     "name": "stdout",
     "output_type": "stream",
     "text": [
      "Number of boxes found:  3\n",
      "iterations:  267\n",
      "heatmap len:  10\n",
      "Number of boxes found:  0\n",
      "Number of boxes found:  1\n",
      "Number of boxes found:  2\n"
     ]
    },
    {
     "name": "stderr",
     "output_type": "stream",
     "text": [
      "\r",
      " 21%|██        | 260/1261 [11:44<44:44,  2.68s/it]"
     ]
    },
    {
     "name": "stdout",
     "output_type": "stream",
     "text": [
      "Number of boxes found:  2\n",
      "iterations:  268\n",
      "heatmap len:  10\n",
      "Number of boxes found:  2\n",
      "Number of boxes found:  1\n",
      "Number of boxes found:  4\n"
     ]
    },
    {
     "name": "stderr",
     "output_type": "stream",
     "text": [
      "\r",
      " 21%|██        | 261/1261 [11:47<44:45,  2.69s/it]"
     ]
    },
    {
     "name": "stdout",
     "output_type": "stream",
     "text": [
      "Number of boxes found:  2\n",
      "iterations:  269\n",
      "heatmap len:  10\n",
      "Number of boxes found:  3\n",
      "Number of boxes found:  2\n",
      "Number of boxes found:  2\n"
     ]
    },
    {
     "name": "stderr",
     "output_type": "stream",
     "text": [
      "\r",
      " 21%|██        | 262/1261 [11:49<45:07,  2.71s/it]"
     ]
    },
    {
     "name": "stdout",
     "output_type": "stream",
     "text": [
      "Number of boxes found:  2\n",
      "iterations:  270\n",
      "heatmap len:  10\n",
      "Number of boxes found:  2\n",
      "Number of boxes found:  1\n",
      "Number of boxes found:  2\n"
     ]
    },
    {
     "name": "stderr",
     "output_type": "stream",
     "text": [
      "\r",
      " 21%|██        | 263/1261 [11:52<45:02,  2.71s/it]"
     ]
    },
    {
     "name": "stdout",
     "output_type": "stream",
     "text": [
      "Number of boxes found:  2\n",
      "iterations:  271\n",
      "heatmap len:  10\n",
      "Number of boxes found:  2\n",
      "Number of boxes found:  1\n",
      "Number of boxes found:  1\n"
     ]
    },
    {
     "name": "stderr",
     "output_type": "stream",
     "text": [
      "\r",
      " 21%|██        | 264/1261 [11:55<45:03,  2.71s/it]"
     ]
    },
    {
     "name": "stdout",
     "output_type": "stream",
     "text": [
      "Number of boxes found:  2\n",
      "iterations:  272\n",
      "heatmap len:  10\n",
      "Number of boxes found:  3\n",
      "Number of boxes found:  1\n",
      "Number of boxes found:  3\n"
     ]
    },
    {
     "name": "stderr",
     "output_type": "stream",
     "text": [
      "\r",
      " 21%|██        | 265/1261 [11:58<45:04,  2.72s/it]"
     ]
    },
    {
     "name": "stdout",
     "output_type": "stream",
     "text": [
      "Number of boxes found:  2\n",
      "iterations:  273\n",
      "heatmap len:  10\n",
      "Number of boxes found:  2\n",
      "Number of boxes found:  1\n",
      "Number of boxes found:  3\n"
     ]
    },
    {
     "name": "stderr",
     "output_type": "stream",
     "text": [
      "\r",
      " 21%|██        | 266/1261 [12:00<45:12,  2.73s/it]"
     ]
    },
    {
     "name": "stdout",
     "output_type": "stream",
     "text": [
      "Number of boxes found:  2\n",
      "iterations:  274\n",
      "heatmap len:  10\n",
      "Number of boxes found:  5\n",
      "Number of boxes found:  1\n",
      "Number of boxes found:  3\n"
     ]
    },
    {
     "name": "stderr",
     "output_type": "stream",
     "text": [
      "\r",
      " 21%|██        | 267/1261 [12:03<45:06,  2.72s/it]"
     ]
    },
    {
     "name": "stdout",
     "output_type": "stream",
     "text": [
      "Number of boxes found:  2\n",
      "iterations:  275\n",
      "heatmap len:  10\n",
      "Number of boxes found:  3\n",
      "Number of boxes found:  0\n",
      "Number of boxes found:  3\n"
     ]
    },
    {
     "name": "stderr",
     "output_type": "stream",
     "text": [
      "\r",
      " 21%|██▏       | 268/1261 [12:06<45:03,  2.72s/it]"
     ]
    },
    {
     "name": "stdout",
     "output_type": "stream",
     "text": [
      "Number of boxes found:  2\n",
      "iterations:  276\n",
      "heatmap len:  10\n",
      "Number of boxes found:  2\n",
      "Number of boxes found:  1\n",
      "Number of boxes found:  3\n"
     ]
    },
    {
     "name": "stderr",
     "output_type": "stream",
     "text": [
      "\r",
      " 21%|██▏       | 269/1261 [12:08<45:02,  2.72s/it]"
     ]
    },
    {
     "name": "stdout",
     "output_type": "stream",
     "text": [
      "Number of boxes found:  2\n",
      "iterations:  277\n",
      "heatmap len:  10\n",
      "Number of boxes found:  5\n",
      "Number of boxes found:  2\n",
      "Number of boxes found:  3\n"
     ]
    },
    {
     "name": "stderr",
     "output_type": "stream",
     "text": [
      "\r",
      " 21%|██▏       | 270/1261 [12:11<45:12,  2.74s/it]"
     ]
    },
    {
     "name": "stdout",
     "output_type": "stream",
     "text": [
      "Number of boxes found:  2\n",
      "iterations:  278\n",
      "heatmap len:  10\n",
      "Number of boxes found:  1\n",
      "Number of boxes found:  0\n",
      "Number of boxes found:  2\n"
     ]
    },
    {
     "name": "stderr",
     "output_type": "stream",
     "text": [
      "\r",
      " 21%|██▏       | 271/1261 [12:14<45:06,  2.73s/it]"
     ]
    },
    {
     "name": "stdout",
     "output_type": "stream",
     "text": [
      "Number of boxes found:  2\n",
      "iterations:  279\n",
      "heatmap len:  10\n",
      "Number of boxes found:  0\n",
      "Number of boxes found:  1\n",
      "Number of boxes found:  2\n"
     ]
    },
    {
     "name": "stderr",
     "output_type": "stream",
     "text": [
      "\r",
      " 22%|██▏       | 272/1261 [12:17<44:53,  2.72s/it]"
     ]
    },
    {
     "name": "stdout",
     "output_type": "stream",
     "text": [
      "Number of boxes found:  3\n",
      "iterations:  280\n",
      "heatmap len:  10\n",
      "Number of boxes found:  1\n",
      "Number of boxes found:  1\n",
      "Number of boxes found:  3\n"
     ]
    },
    {
     "name": "stderr",
     "output_type": "stream",
     "text": [
      "\r",
      " 22%|██▏       | 273/1261 [12:19<44:48,  2.72s/it]"
     ]
    },
    {
     "name": "stdout",
     "output_type": "stream",
     "text": [
      "Number of boxes found:  2\n",
      "iterations:  281\n",
      "heatmap len:  10\n",
      "Number of boxes found:  0\n",
      "Number of boxes found:  2\n",
      "Number of boxes found:  5\n"
     ]
    },
    {
     "name": "stderr",
     "output_type": "stream",
     "text": [
      "\r",
      " 22%|██▏       | 274/1261 [12:22<44:47,  2.72s/it]"
     ]
    },
    {
     "name": "stdout",
     "output_type": "stream",
     "text": [
      "Number of boxes found:  2\n",
      "iterations:  282\n",
      "heatmap len:  10\n",
      "Number of boxes found:  2\n",
      "Number of boxes found:  3\n",
      "Number of boxes found:  3\n"
     ]
    },
    {
     "name": "stderr",
     "output_type": "stream",
     "text": [
      "\r",
      " 22%|██▏       | 275/1261 [12:25<44:47,  2.73s/it]"
     ]
    },
    {
     "name": "stdout",
     "output_type": "stream",
     "text": [
      "Number of boxes found:  3\n",
      "iterations:  283\n",
      "heatmap len:  10\n",
      "Number of boxes found:  2\n",
      "Number of boxes found:  1\n",
      "Number of boxes found:  4\n"
     ]
    },
    {
     "name": "stderr",
     "output_type": "stream",
     "text": [
      "\r",
      " 22%|██▏       | 276/1261 [12:28<44:46,  2.73s/it]"
     ]
    },
    {
     "name": "stdout",
     "output_type": "stream",
     "text": [
      "Number of boxes found:  3\n",
      "iterations:  284\n",
      "heatmap len:  10\n",
      "Number of boxes found:  3\n",
      "Number of boxes found:  1\n",
      "Number of boxes found:  4\n"
     ]
    },
    {
     "name": "stderr",
     "output_type": "stream",
     "text": [
      "\r",
      " 22%|██▏       | 277/1261 [12:30<44:50,  2.73s/it]"
     ]
    },
    {
     "name": "stdout",
     "output_type": "stream",
     "text": [
      "Number of boxes found:  4\n",
      "iterations:  285\n",
      "heatmap len:  10\n",
      "Number of boxes found:  2\n",
      "Number of boxes found:  1\n",
      "Number of boxes found:  4\n"
     ]
    },
    {
     "name": "stderr",
     "output_type": "stream",
     "text": [
      "\r",
      " 22%|██▏       | 278/1261 [12:33<44:55,  2.74s/it]"
     ]
    },
    {
     "name": "stdout",
     "output_type": "stream",
     "text": [
      "Number of boxes found:  4\n",
      "iterations:  286\n",
      "heatmap len:  10\n",
      "Number of boxes found:  1\n",
      "Number of boxes found:  0\n",
      "Number of boxes found:  4\n"
     ]
    },
    {
     "name": "stderr",
     "output_type": "stream",
     "text": [
      "\r",
      " 22%|██▏       | 279/1261 [12:36<44:34,  2.72s/it]"
     ]
    },
    {
     "name": "stdout",
     "output_type": "stream",
     "text": [
      "Number of boxes found:  4\n",
      "iterations:  287\n",
      "heatmap len:  10\n",
      "Number of boxes found:  1\n",
      "Number of boxes found:  1\n",
      "Number of boxes found:  3\n"
     ]
    },
    {
     "name": "stderr",
     "output_type": "stream",
     "text": [
      "\r",
      " 22%|██▏       | 280/1261 [12:39<44:51,  2.74s/it]"
     ]
    },
    {
     "name": "stdout",
     "output_type": "stream",
     "text": [
      "Number of boxes found:  4\n",
      "iterations:  288\n",
      "heatmap len:  10\n",
      "Number of boxes found:  1\n",
      "Number of boxes found:  1\n",
      "Number of boxes found:  3\n"
     ]
    },
    {
     "name": "stderr",
     "output_type": "stream",
     "text": [
      "\r",
      " 22%|██▏       | 281/1261 [12:41<44:33,  2.73s/it]"
     ]
    },
    {
     "name": "stdout",
     "output_type": "stream",
     "text": [
      "Number of boxes found:  3\n",
      "iterations:  289\n",
      "heatmap len:  10\n",
      "Number of boxes found:  1\n",
      "Number of boxes found:  1\n",
      "Number of boxes found:  3\n"
     ]
    },
    {
     "name": "stderr",
     "output_type": "stream",
     "text": [
      "\r",
      " 22%|██▏       | 282/1261 [12:44<44:24,  2.72s/it]"
     ]
    },
    {
     "name": "stdout",
     "output_type": "stream",
     "text": [
      "Number of boxes found:  4\n",
      "iterations:  290\n",
      "heatmap len:  10\n",
      "Number of boxes found:  0\n",
      "Number of boxes found:  3\n",
      "Number of boxes found:  5\n"
     ]
    },
    {
     "name": "stderr",
     "output_type": "stream",
     "text": [
      "\r",
      " 22%|██▏       | 283/1261 [12:47<44:43,  2.74s/it]"
     ]
    },
    {
     "name": "stdout",
     "output_type": "stream",
     "text": [
      "Number of boxes found:  4\n",
      "iterations:  291\n",
      "heatmap len:  10\n",
      "Number of boxes found:  0\n",
      "Number of boxes found:  1\n",
      "Number of boxes found:  5\n"
     ]
    },
    {
     "name": "stderr",
     "output_type": "stream",
     "text": [
      "\r",
      " 23%|██▎       | 284/1261 [12:50<45:07,  2.77s/it]"
     ]
    },
    {
     "name": "stdout",
     "output_type": "stream",
     "text": [
      "Number of boxes found:  4\n",
      "iterations:  292\n",
      "heatmap len:  10\n",
      "Number of boxes found:  0\n",
      "Number of boxes found:  2\n",
      "Number of boxes found:  5\n"
     ]
    },
    {
     "name": "stderr",
     "output_type": "stream",
     "text": [
      "\r",
      " 23%|██▎       | 285/1261 [12:52<45:06,  2.77s/it]"
     ]
    },
    {
     "name": "stdout",
     "output_type": "stream",
     "text": [
      "Number of boxes found:  4\n",
      "iterations:  293\n",
      "heatmap len:  10\n",
      "Number of boxes found:  2\n",
      "Number of boxes found:  2\n",
      "Number of boxes found:  4\n"
     ]
    },
    {
     "name": "stderr",
     "output_type": "stream",
     "text": [
      "\r",
      " 23%|██▎       | 286/1261 [12:55<45:07,  2.78s/it]"
     ]
    },
    {
     "name": "stdout",
     "output_type": "stream",
     "text": [
      "Number of boxes found:  4\n",
      "iterations:  294\n",
      "heatmap len:  10\n",
      "Number of boxes found:  2\n",
      "Number of boxes found:  3\n",
      "Number of boxes found:  6\n"
     ]
    },
    {
     "name": "stderr",
     "output_type": "stream",
     "text": [
      "\r",
      " 23%|██▎       | 287/1261 [12:58<44:50,  2.76s/it]"
     ]
    },
    {
     "name": "stdout",
     "output_type": "stream",
     "text": [
      "Number of boxes found:  4\n",
      "iterations:  295\n",
      "heatmap len:  10\n",
      "Number of boxes found:  1\n",
      "Number of boxes found:  4\n",
      "Number of boxes found:  5\n"
     ]
    },
    {
     "name": "stderr",
     "output_type": "stream",
     "text": [
      "\r",
      " 23%|██▎       | 288/1261 [13:01<44:36,  2.75s/it]"
     ]
    },
    {
     "name": "stdout",
     "output_type": "stream",
     "text": [
      "Number of boxes found:  4\n",
      "iterations:  296\n",
      "heatmap len:  10\n",
      "Number of boxes found:  1\n",
      "Number of boxes found:  3\n",
      "Number of boxes found:  5\n"
     ]
    },
    {
     "name": "stderr",
     "output_type": "stream",
     "text": [
      "\r",
      " 23%|██▎       | 289/1261 [13:03<44:19,  2.74s/it]"
     ]
    },
    {
     "name": "stdout",
     "output_type": "stream",
     "text": [
      "Number of boxes found:  4\n",
      "iterations:  297\n",
      "heatmap len:  10\n",
      "Number of boxes found:  2\n",
      "Number of boxes found:  2\n",
      "Number of boxes found:  5\n"
     ]
    },
    {
     "name": "stderr",
     "output_type": "stream",
     "text": [
      "\r",
      " 23%|██▎       | 290/1261 [13:06<44:19,  2.74s/it]"
     ]
    },
    {
     "name": "stdout",
     "output_type": "stream",
     "text": [
      "Number of boxes found:  4\n",
      "iterations:  298\n",
      "heatmap len:  10\n",
      "Number of boxes found:  1\n",
      "Number of boxes found:  2\n",
      "Number of boxes found:  4\n"
     ]
    },
    {
     "name": "stderr",
     "output_type": "stream",
     "text": [
      "\r",
      " 23%|██▎       | 291/1261 [13:09<44:11,  2.73s/it]"
     ]
    },
    {
     "name": "stdout",
     "output_type": "stream",
     "text": [
      "Number of boxes found:  4\n",
      "iterations:  299\n",
      "heatmap len:  10\n",
      "Number of boxes found:  2\n",
      "Number of boxes found:  5\n",
      "Number of boxes found:  6\n"
     ]
    },
    {
     "name": "stderr",
     "output_type": "stream",
     "text": [
      "\r",
      " 23%|██▎       | 292/1261 [13:12<44:32,  2.76s/it]"
     ]
    },
    {
     "name": "stdout",
     "output_type": "stream",
     "text": [
      "Number of boxes found:  4\n",
      "iterations:  300\n",
      "heatmap len:  10\n",
      "Number of boxes found:  0\n",
      "Number of boxes found:  2\n",
      "Number of boxes found:  6\n"
     ]
    },
    {
     "name": "stderr",
     "output_type": "stream",
     "text": [
      "\r",
      " 23%|██▎       | 293/1261 [13:14<44:39,  2.77s/it]"
     ]
    },
    {
     "name": "stdout",
     "output_type": "stream",
     "text": [
      "Number of boxes found:  4\n",
      "iterations:  301\n",
      "heatmap len:  10\n",
      "Number of boxes found:  1\n",
      "Number of boxes found:  2\n",
      "Number of boxes found:  6\n"
     ]
    },
    {
     "name": "stderr",
     "output_type": "stream",
     "text": [
      "\r",
      " 23%|██▎       | 294/1261 [13:17<44:24,  2.76s/it]"
     ]
    },
    {
     "name": "stdout",
     "output_type": "stream",
     "text": [
      "Number of boxes found:  4\n",
      "iterations:  302\n",
      "heatmap len:  10\n",
      "Number of boxes found:  0\n",
      "Number of boxes found:  4\n",
      "Number of boxes found:  5\n"
     ]
    },
    {
     "name": "stderr",
     "output_type": "stream",
     "text": [
      "\r",
      " 23%|██▎       | 295/1261 [13:20<44:24,  2.76s/it]"
     ]
    },
    {
     "name": "stdout",
     "output_type": "stream",
     "text": [
      "Number of boxes found:  4\n",
      "iterations:  303\n",
      "heatmap len:  10\n",
      "Number of boxes found:  3\n",
      "Number of boxes found:  4\n",
      "Number of boxes found:  5\n"
     ]
    },
    {
     "name": "stderr",
     "output_type": "stream",
     "text": [
      "\r",
      " 23%|██▎       | 296/1261 [13:23<44:15,  2.75s/it]"
     ]
    },
    {
     "name": "stdout",
     "output_type": "stream",
     "text": [
      "Number of boxes found:  4\n",
      "iterations:  304\n",
      "heatmap len:  10\n",
      "Number of boxes found:  3\n",
      "Number of boxes found:  2\n",
      "Number of boxes found:  5\n"
     ]
    },
    {
     "name": "stderr",
     "output_type": "stream",
     "text": [
      "\r",
      " 24%|██▎       | 297/1261 [13:25<43:47,  2.73s/it]"
     ]
    },
    {
     "name": "stdout",
     "output_type": "stream",
     "text": [
      "Number of boxes found:  4\n",
      "iterations:  305\n",
      "heatmap len:  10\n",
      "Number of boxes found:  3\n",
      "Number of boxes found:  2\n",
      "Number of boxes found:  4\n"
     ]
    },
    {
     "name": "stderr",
     "output_type": "stream",
     "text": [
      "\r",
      " 24%|██▎       | 298/1261 [13:28<43:43,  2.72s/it]"
     ]
    },
    {
     "name": "stdout",
     "output_type": "stream",
     "text": [
      "Number of boxes found:  4\n",
      "iterations:  306\n",
      "heatmap len:  10\n",
      "Number of boxes found:  2\n",
      "Number of boxes found:  1\n",
      "Number of boxes found:  5\n"
     ]
    },
    {
     "name": "stderr",
     "output_type": "stream",
     "text": [
      "\r",
      " 24%|██▎       | 299/1261 [13:31<43:49,  2.73s/it]"
     ]
    },
    {
     "name": "stdout",
     "output_type": "stream",
     "text": [
      "Number of boxes found:  4\n",
      "iterations:  307\n",
      "heatmap len:  10\n",
      "Number of boxes found:  2\n",
      "Number of boxes found:  3\n",
      "Number of boxes found:  4\n"
     ]
    },
    {
     "name": "stderr",
     "output_type": "stream",
     "text": [
      "\r",
      " 24%|██▍       | 300/1261 [13:33<43:47,  2.73s/it]"
     ]
    },
    {
     "name": "stdout",
     "output_type": "stream",
     "text": [
      "Number of boxes found:  4\n",
      "iterations:  308\n",
      "heatmap len:  10\n",
      "Number of boxes found:  2\n",
      "Number of boxes found:  0\n",
      "Number of boxes found:  3\n"
     ]
    },
    {
     "name": "stderr",
     "output_type": "stream",
     "text": [
      "\r",
      " 24%|██▍       | 301/1261 [13:36<43:24,  2.71s/it]"
     ]
    },
    {
     "name": "stdout",
     "output_type": "stream",
     "text": [
      "Number of boxes found:  2\n",
      "iterations:  309\n",
      "heatmap len:  10\n",
      "Number of boxes found:  0\n",
      "Number of boxes found:  0\n",
      "Number of boxes found:  2\n"
     ]
    },
    {
     "name": "stderr",
     "output_type": "stream",
     "text": [
      "\r",
      " 24%|██▍       | 302/1261 [13:39<43:26,  2.72s/it]"
     ]
    },
    {
     "name": "stdout",
     "output_type": "stream",
     "text": [
      "Number of boxes found:  3\n",
      "iterations:  310\n",
      "heatmap len:  10\n",
      "Number of boxes found:  1\n",
      "Number of boxes found:  0\n",
      "Number of boxes found:  3\n"
     ]
    },
    {
     "name": "stderr",
     "output_type": "stream",
     "text": [
      "\r",
      " 24%|██▍       | 303/1261 [13:42<43:23,  2.72s/it]"
     ]
    },
    {
     "name": "stdout",
     "output_type": "stream",
     "text": [
      "Number of boxes found:  2\n",
      "iterations:  311\n",
      "heatmap len:  10\n",
      "Number of boxes found:  0\n",
      "Number of boxes found:  0\n",
      "Number of boxes found:  5\n"
     ]
    },
    {
     "name": "stderr",
     "output_type": "stream",
     "text": [
      "\r",
      " 24%|██▍       | 304/1261 [13:44<43:14,  2.71s/it]"
     ]
    },
    {
     "name": "stdout",
     "output_type": "stream",
     "text": [
      "Number of boxes found:  2\n",
      "iterations:  312\n",
      "heatmap len:  10\n",
      "Number of boxes found:  0\n",
      "Number of boxes found:  0\n",
      "Number of boxes found:  4\n"
     ]
    },
    {
     "name": "stderr",
     "output_type": "stream",
     "text": [
      "\r",
      " 24%|██▍       | 305/1261 [13:47<43:10,  2.71s/it]"
     ]
    },
    {
     "name": "stdout",
     "output_type": "stream",
     "text": [
      "Number of boxes found:  3\n",
      "iterations:  313\n",
      "heatmap len:  10\n",
      "Number of boxes found:  2\n",
      "Number of boxes found:  0\n",
      "Number of boxes found:  4\n"
     ]
    },
    {
     "name": "stderr",
     "output_type": "stream",
     "text": [
      "\r",
      " 24%|██▍       | 306/1261 [13:50<43:05,  2.71s/it]"
     ]
    },
    {
     "name": "stdout",
     "output_type": "stream",
     "text": [
      "Number of boxes found:  2\n",
      "iterations:  314\n",
      "heatmap len:  10\n",
      "Number of boxes found:  0\n",
      "Number of boxes found:  1\n",
      "Number of boxes found:  4\n"
     ]
    },
    {
     "name": "stderr",
     "output_type": "stream",
     "text": [
      "\r",
      " 24%|██▍       | 307/1261 [13:52<42:56,  2.70s/it]"
     ]
    },
    {
     "name": "stdout",
     "output_type": "stream",
     "text": [
      "Number of boxes found:  2\n",
      "iterations:  315\n",
      "heatmap len:  10\n",
      "Number of boxes found:  0\n",
      "Number of boxes found:  0\n",
      "Number of boxes found:  4\n"
     ]
    },
    {
     "name": "stderr",
     "output_type": "stream",
     "text": [
      "\r",
      " 24%|██▍       | 308/1261 [13:55<42:47,  2.69s/it]"
     ]
    },
    {
     "name": "stdout",
     "output_type": "stream",
     "text": [
      "Number of boxes found:  2\n",
      "iterations:  316\n",
      "heatmap len:  10\n",
      "Number of boxes found:  1\n",
      "Number of boxes found:  0\n",
      "Number of boxes found:  4\n"
     ]
    },
    {
     "name": "stderr",
     "output_type": "stream",
     "text": [
      "\r",
      " 25%|██▍       | 309/1261 [13:58<42:46,  2.70s/it]"
     ]
    },
    {
     "name": "stdout",
     "output_type": "stream",
     "text": [
      "Number of boxes found:  2\n",
      "iterations:  317\n",
      "heatmap len:  10\n",
      "Number of boxes found:  2\n",
      "Number of boxes found:  2\n",
      "Number of boxes found:  4\n"
     ]
    },
    {
     "name": "stderr",
     "output_type": "stream",
     "text": [
      "\r",
      " 25%|██▍       | 310/1261 [14:00<42:59,  2.71s/it]"
     ]
    },
    {
     "name": "stdout",
     "output_type": "stream",
     "text": [
      "Number of boxes found:  2\n",
      "iterations:  318\n",
      "heatmap len:  10\n",
      "Number of boxes found:  2\n",
      "Number of boxes found:  3\n",
      "Number of boxes found:  4\n"
     ]
    },
    {
     "name": "stderr",
     "output_type": "stream",
     "text": [
      "\r",
      " 25%|██▍       | 311/1261 [14:03<42:45,  2.70s/it]"
     ]
    },
    {
     "name": "stdout",
     "output_type": "stream",
     "text": [
      "Number of boxes found:  2\n",
      "iterations:  319\n",
      "heatmap len:  10\n",
      "Number of boxes found:  3\n",
      "Number of boxes found:  2\n",
      "Number of boxes found:  4\n"
     ]
    },
    {
     "name": "stderr",
     "output_type": "stream",
     "text": [
      "\r",
      " 25%|██▍       | 312/1261 [14:06<43:15,  2.73s/it]"
     ]
    },
    {
     "name": "stdout",
     "output_type": "stream",
     "text": [
      "Number of boxes found:  3\n",
      "iterations:  320\n",
      "heatmap len:  10\n",
      "Number of boxes found:  3\n",
      "Number of boxes found:  2\n",
      "Number of boxes found:  3\n"
     ]
    },
    {
     "name": "stderr",
     "output_type": "stream",
     "text": [
      "\r",
      " 25%|██▍       | 313/1261 [14:09<43:15,  2.74s/it]"
     ]
    },
    {
     "name": "stdout",
     "output_type": "stream",
     "text": [
      "Number of boxes found:  3\n",
      "iterations:  321\n",
      "heatmap len:  10\n",
      "Number of boxes found:  3\n",
      "Number of boxes found:  3\n",
      "Number of boxes found:  3\n"
     ]
    },
    {
     "name": "stderr",
     "output_type": "stream",
     "text": [
      "\r",
      " 25%|██▍       | 314/1261 [14:11<42:58,  2.72s/it]"
     ]
    },
    {
     "name": "stdout",
     "output_type": "stream",
     "text": [
      "Number of boxes found:  2\n",
      "iterations:  322\n",
      "heatmap len:  10\n",
      "Number of boxes found:  2\n",
      "Number of boxes found:  1\n",
      "Number of boxes found:  4\n"
     ]
    },
    {
     "name": "stderr",
     "output_type": "stream",
     "text": [
      "\r",
      " 25%|██▍       | 315/1261 [14:14<43:10,  2.74s/it]"
     ]
    },
    {
     "name": "stdout",
     "output_type": "stream",
     "text": [
      "Number of boxes found:  3\n",
      "iterations:  323\n",
      "heatmap len:  10\n",
      "Number of boxes found:  3\n",
      "Number of boxes found:  1\n",
      "Number of boxes found:  4\n"
     ]
    },
    {
     "name": "stderr",
     "output_type": "stream",
     "text": [
      "\r",
      " 25%|██▌       | 316/1261 [14:17<43:08,  2.74s/it]"
     ]
    },
    {
     "name": "stdout",
     "output_type": "stream",
     "text": [
      "Number of boxes found:  3\n",
      "iterations:  324\n",
      "heatmap len:  10\n",
      "Number of boxes found:  1\n",
      "Number of boxes found:  2\n",
      "Number of boxes found:  3\n"
     ]
    },
    {
     "name": "stderr",
     "output_type": "stream",
     "text": [
      "\r",
      " 25%|██▌       | 317/1261 [14:20<43:17,  2.75s/it]"
     ]
    },
    {
     "name": "stdout",
     "output_type": "stream",
     "text": [
      "Number of boxes found:  3\n",
      "iterations:  325\n",
      "heatmap len:  10\n",
      "Number of boxes found:  3\n",
      "Number of boxes found:  4\n",
      "Number of boxes found:  5\n"
     ]
    },
    {
     "name": "stderr",
     "output_type": "stream",
     "text": [
      "\r",
      " 25%|██▌       | 318/1261 [14:22<43:09,  2.75s/it]"
     ]
    },
    {
     "name": "stdout",
     "output_type": "stream",
     "text": [
      "Number of boxes found:  3\n",
      "iterations:  326\n",
      "heatmap len:  10\n",
      "Number of boxes found:  4\n",
      "Number of boxes found:  4\n",
      "Number of boxes found:  4\n"
     ]
    },
    {
     "name": "stderr",
     "output_type": "stream",
     "text": [
      "\r",
      " 25%|██▌       | 319/1261 [14:25<43:34,  2.77s/it]"
     ]
    },
    {
     "name": "stdout",
     "output_type": "stream",
     "text": [
      "Number of boxes found:  3\n",
      "iterations:  327\n",
      "heatmap len:  10\n",
      "Number of boxes found:  4\n",
      "Number of boxes found:  4\n",
      "Number of boxes found:  3\n"
     ]
    },
    {
     "name": "stderr",
     "output_type": "stream",
     "text": [
      "\r",
      " 25%|██▌       | 320/1261 [14:28<43:57,  2.80s/it]"
     ]
    },
    {
     "name": "stdout",
     "output_type": "stream",
     "text": [
      "Number of boxes found:  3\n",
      "iterations:  328\n",
      "heatmap len:  10\n",
      "Number of boxes found:  3\n",
      "Number of boxes found:  3\n",
      "Number of boxes found:  4\n"
     ]
    },
    {
     "name": "stderr",
     "output_type": "stream",
     "text": [
      "\r",
      " 25%|██▌       | 321/1261 [14:31<43:25,  2.77s/it]"
     ]
    },
    {
     "name": "stdout",
     "output_type": "stream",
     "text": [
      "Number of boxes found:  3\n",
      "iterations:  329\n",
      "heatmap len:  10\n",
      "Number of boxes found:  2\n",
      "Number of boxes found:  2\n",
      "Number of boxes found:  5\n"
     ]
    },
    {
     "name": "stderr",
     "output_type": "stream",
     "text": [
      "\r",
      " 26%|██▌       | 322/1261 [14:34<43:18,  2.77s/it]"
     ]
    },
    {
     "name": "stdout",
     "output_type": "stream",
     "text": [
      "Number of boxes found:  3\n",
      "iterations:  330\n",
      "heatmap len:  10\n",
      "Number of boxes found:  1\n",
      "Number of boxes found:  2\n",
      "Number of boxes found:  4\n"
     ]
    },
    {
     "name": "stderr",
     "output_type": "stream",
     "text": [
      "\r",
      " 26%|██▌       | 323/1261 [14:36<43:07,  2.76s/it]"
     ]
    },
    {
     "name": "stdout",
     "output_type": "stream",
     "text": [
      "Number of boxes found:  3\n",
      "iterations:  331\n",
      "heatmap len:  10\n",
      "Number of boxes found:  0\n",
      "Number of boxes found:  3\n",
      "Number of boxes found:  6\n"
     ]
    },
    {
     "name": "stderr",
     "output_type": "stream",
     "text": [
      "\r",
      " 26%|██▌       | 324/1261 [14:39<42:50,  2.74s/it]"
     ]
    },
    {
     "name": "stdout",
     "output_type": "stream",
     "text": [
      "Number of boxes found:  3\n",
      "iterations:  332\n",
      "heatmap len:  10\n",
      "Number of boxes found:  1\n",
      "Number of boxes found:  2\n",
      "Number of boxes found:  5\n"
     ]
    },
    {
     "name": "stderr",
     "output_type": "stream",
     "text": [
      "\r",
      " 26%|██▌       | 325/1261 [14:42<42:58,  2.75s/it]"
     ]
    },
    {
     "name": "stdout",
     "output_type": "stream",
     "text": [
      "Number of boxes found:  3\n",
      "iterations:  333\n",
      "heatmap len:  10\n",
      "Number of boxes found:  3\n",
      "Number of boxes found:  2\n",
      "Number of boxes found:  6\n"
     ]
    },
    {
     "name": "stderr",
     "output_type": "stream",
     "text": [
      "\r",
      " 26%|██▌       | 326/1261 [14:45<43:01,  2.76s/it]"
     ]
    },
    {
     "name": "stdout",
     "output_type": "stream",
     "text": [
      "Number of boxes found:  3\n",
      "iterations:  334\n",
      "heatmap len:  10\n",
      "Number of boxes found:  2\n",
      "Number of boxes found:  0\n",
      "Number of boxes found:  6\n"
     ]
    },
    {
     "name": "stderr",
     "output_type": "stream",
     "text": [
      "\r",
      " 26%|██▌       | 327/1261 [14:47<43:13,  2.78s/it]"
     ]
    },
    {
     "name": "stdout",
     "output_type": "stream",
     "text": [
      "Number of boxes found:  3\n",
      "iterations:  335\n",
      "heatmap len:  10\n",
      "Number of boxes found:  1\n",
      "Number of boxes found:  1\n",
      "Number of boxes found:  5\n"
     ]
    },
    {
     "name": "stderr",
     "output_type": "stream",
     "text": [
      "\r",
      " 26%|██▌       | 328/1261 [14:50<43:24,  2.79s/it]"
     ]
    },
    {
     "name": "stdout",
     "output_type": "stream",
     "text": [
      "Number of boxes found:  3\n",
      "iterations:  336\n",
      "heatmap len:  10\n",
      "Number of boxes found:  3\n",
      "Number of boxes found:  6\n",
      "Number of boxes found:  5\n"
     ]
    },
    {
     "name": "stderr",
     "output_type": "stream",
     "text": [
      "\r",
      " 26%|██▌       | 329/1261 [14:53<43:18,  2.79s/it]"
     ]
    },
    {
     "name": "stdout",
     "output_type": "stream",
     "text": [
      "Number of boxes found:  4\n",
      "iterations:  337\n",
      "heatmap len:  10\n",
      "Number of boxes found:  2\n",
      "Number of boxes found:  3\n",
      "Number of boxes found:  5\n"
     ]
    },
    {
     "name": "stderr",
     "output_type": "stream",
     "text": [
      "\r",
      " 26%|██▌       | 330/1261 [14:56<43:01,  2.77s/it]"
     ]
    },
    {
     "name": "stdout",
     "output_type": "stream",
     "text": [
      "Number of boxes found:  4\n",
      "iterations:  338\n",
      "heatmap len:  10\n",
      "Number of boxes found:  2\n",
      "Number of boxes found:  2\n",
      "Number of boxes found:  5\n"
     ]
    },
    {
     "name": "stderr",
     "output_type": "stream",
     "text": [
      "\r",
      " 26%|██▌       | 331/1261 [14:58<42:46,  2.76s/it]"
     ]
    },
    {
     "name": "stdout",
     "output_type": "stream",
     "text": [
      "Number of boxes found:  3\n",
      "iterations:  339\n",
      "heatmap len:  10\n",
      "Number of boxes found:  3\n",
      "Number of boxes found:  2\n",
      "Number of boxes found:  5\n"
     ]
    },
    {
     "name": "stderr",
     "output_type": "stream",
     "text": [
      "\r",
      " 26%|██▋       | 332/1261 [15:01<42:43,  2.76s/it]"
     ]
    },
    {
     "name": "stdout",
     "output_type": "stream",
     "text": [
      "Number of boxes found:  2\n",
      "iterations:  340\n",
      "heatmap len:  10\n",
      "Number of boxes found:  3\n",
      "Number of boxes found:  2\n",
      "Number of boxes found:  5\n"
     ]
    },
    {
     "name": "stderr",
     "output_type": "stream",
     "text": [
      "\r",
      " 26%|██▋       | 333/1261 [15:04<43:09,  2.79s/it]"
     ]
    },
    {
     "name": "stdout",
     "output_type": "stream",
     "text": [
      "Number of boxes found:  2\n",
      "iterations:  341\n",
      "heatmap len:  10\n",
      "Number of boxes found:  2\n",
      "Number of boxes found:  5\n",
      "Number of boxes found:  5\n"
     ]
    },
    {
     "name": "stderr",
     "output_type": "stream",
     "text": [
      "\r",
      " 26%|██▋       | 334/1261 [15:07<42:50,  2.77s/it]"
     ]
    },
    {
     "name": "stdout",
     "output_type": "stream",
     "text": [
      "Number of boxes found:  2\n",
      "iterations:  342\n",
      "heatmap len:  10\n",
      "Number of boxes found:  1\n",
      "Number of boxes found:  4\n",
      "Number of boxes found:  5\n"
     ]
    },
    {
     "name": "stderr",
     "output_type": "stream",
     "text": [
      "\r",
      " 27%|██▋       | 335/1261 [15:10<42:35,  2.76s/it]"
     ]
    },
    {
     "name": "stdout",
     "output_type": "stream",
     "text": [
      "Number of boxes found:  3\n",
      "iterations:  343\n",
      "heatmap len:  10\n",
      "Number of boxes found:  0\n",
      "Number of boxes found:  3\n",
      "Number of boxes found:  5\n"
     ]
    },
    {
     "name": "stderr",
     "output_type": "stream",
     "text": [
      "\r",
      " 27%|██▋       | 336/1261 [15:12<42:36,  2.76s/it]"
     ]
    },
    {
     "name": "stdout",
     "output_type": "stream",
     "text": [
      "Number of boxes found:  4\n",
      "iterations:  344\n",
      "heatmap len:  10\n",
      "Number of boxes found:  1\n",
      "Number of boxes found:  1\n",
      "Number of boxes found:  4\n"
     ]
    },
    {
     "name": "stderr",
     "output_type": "stream",
     "text": [
      "\r",
      " 27%|██▋       | 337/1261 [15:15<42:21,  2.75s/it]"
     ]
    },
    {
     "name": "stdout",
     "output_type": "stream",
     "text": [
      "Number of boxes found:  4\n",
      "iterations:  345\n",
      "heatmap len:  10\n",
      "Number of boxes found:  0\n",
      "Number of boxes found:  3\n",
      "Number of boxes found:  3\n"
     ]
    },
    {
     "name": "stderr",
     "output_type": "stream",
     "text": [
      "\r",
      " 27%|██▋       | 338/1261 [15:18<42:07,  2.74s/it]"
     ]
    },
    {
     "name": "stdout",
     "output_type": "stream",
     "text": [
      "Number of boxes found:  3\n",
      "iterations:  346\n",
      "heatmap len:  10\n",
      "Number of boxes found:  0\n",
      "Number of boxes found:  1\n",
      "Number of boxes found:  2\n"
     ]
    },
    {
     "name": "stderr",
     "output_type": "stream",
     "text": [
      "\r",
      " 27%|██▋       | 339/1261 [15:20<41:44,  2.72s/it]"
     ]
    },
    {
     "name": "stdout",
     "output_type": "stream",
     "text": [
      "Number of boxes found:  3\n",
      "iterations:  347\n",
      "heatmap len:  10\n",
      "Number of boxes found:  2\n",
      "Number of boxes found:  3\n",
      "Number of boxes found:  2\n"
     ]
    },
    {
     "name": "stderr",
     "output_type": "stream",
     "text": [
      "\r",
      " 27%|██▋       | 340/1261 [15:23<41:29,  2.70s/it]"
     ]
    },
    {
     "name": "stdout",
     "output_type": "stream",
     "text": [
      "Number of boxes found:  3\n",
      "iterations:  348\n",
      "heatmap len:  10\n",
      "Number of boxes found:  3\n",
      "Number of boxes found:  4\n",
      "Number of boxes found:  3\n"
     ]
    },
    {
     "name": "stderr",
     "output_type": "stream",
     "text": [
      "\r",
      " 27%|██▋       | 341/1261 [15:26<41:13,  2.69s/it]"
     ]
    },
    {
     "name": "stdout",
     "output_type": "stream",
     "text": [
      "Number of boxes found:  3\n",
      "iterations:  349\n",
      "heatmap len:  10\n",
      "Number of boxes found:  1\n",
      "Number of boxes found:  5\n",
      "Number of boxes found:  4\n"
     ]
    },
    {
     "name": "stderr",
     "output_type": "stream",
     "text": [
      "\r",
      " 27%|██▋       | 342/1261 [15:28<41:02,  2.68s/it]"
     ]
    },
    {
     "name": "stdout",
     "output_type": "stream",
     "text": [
      "Number of boxes found:  2\n",
      "iterations:  350\n",
      "heatmap len:  10\n",
      "Number of boxes found:  2\n",
      "Number of boxes found:  5\n",
      "Number of boxes found:  4\n"
     ]
    },
    {
     "name": "stderr",
     "output_type": "stream",
     "text": [
      "\r",
      " 27%|██▋       | 343/1261 [15:31<41:11,  2.69s/it]"
     ]
    },
    {
     "name": "stdout",
     "output_type": "stream",
     "text": [
      "Number of boxes found:  2\n",
      "iterations:  351\n",
      "heatmap len:  10\n",
      "Number of boxes found:  1\n",
      "Number of boxes found:  3\n",
      "Number of boxes found:  3\n"
     ]
    },
    {
     "name": "stderr",
     "output_type": "stream",
     "text": [
      "\r",
      " 27%|██▋       | 344/1261 [15:34<41:13,  2.70s/it]"
     ]
    },
    {
     "name": "stdout",
     "output_type": "stream",
     "text": [
      "Number of boxes found:  2\n",
      "iterations:  352\n",
      "heatmap len:  10\n",
      "Number of boxes found:  3\n",
      "Number of boxes found:  2\n",
      "Number of boxes found:  3\n"
     ]
    },
    {
     "name": "stderr",
     "output_type": "stream",
     "text": [
      "\r",
      " 27%|██▋       | 345/1261 [15:37<40:56,  2.68s/it]"
     ]
    },
    {
     "name": "stdout",
     "output_type": "stream",
     "text": [
      "Number of boxes found:  3\n",
      "iterations:  353\n",
      "heatmap len:  10\n",
      "Number of boxes found:  3\n",
      "Number of boxes found:  4\n",
      "Number of boxes found:  4\n"
     ]
    },
    {
     "name": "stderr",
     "output_type": "stream",
     "text": [
      "\r",
      " 27%|██▋       | 346/1261 [15:39<41:27,  2.72s/it]"
     ]
    },
    {
     "name": "stdout",
     "output_type": "stream",
     "text": [
      "Number of boxes found:  1\n",
      "iterations:  354\n",
      "heatmap len:  10\n",
      "Number of boxes found:  1\n",
      "Number of boxes found:  3\n",
      "Number of boxes found:  3\n"
     ]
    },
    {
     "name": "stderr",
     "output_type": "stream",
     "text": [
      "\r",
      " 28%|██▊       | 347/1261 [15:42<41:29,  2.72s/it]"
     ]
    },
    {
     "name": "stdout",
     "output_type": "stream",
     "text": [
      "Number of boxes found:  2\n",
      "iterations:  355\n",
      "heatmap len:  10\n",
      "Number of boxes found:  2\n",
      "Number of boxes found:  2\n",
      "Number of boxes found:  4\n"
     ]
    },
    {
     "name": "stderr",
     "output_type": "stream",
     "text": [
      "\r",
      " 28%|██▊       | 348/1261 [15:45<42:01,  2.76s/it]"
     ]
    },
    {
     "name": "stdout",
     "output_type": "stream",
     "text": [
      "Number of boxes found:  2\n",
      "iterations:  356\n",
      "heatmap len:  10\n",
      "Number of boxes found:  3\n",
      "Number of boxes found:  4\n",
      "Number of boxes found:  3\n"
     ]
    },
    {
     "name": "stderr",
     "output_type": "stream",
     "text": [
      "\r",
      " 28%|██▊       | 349/1261 [15:48<41:54,  2.76s/it]"
     ]
    },
    {
     "name": "stdout",
     "output_type": "stream",
     "text": [
      "Number of boxes found:  3\n",
      "iterations:  357\n",
      "heatmap len:  10\n",
      "Number of boxes found:  2\n",
      "Number of boxes found:  2\n",
      "Number of boxes found:  3\n"
     ]
    },
    {
     "name": "stderr",
     "output_type": "stream",
     "text": [
      "\r",
      " 28%|██▊       | 350/1261 [15:50<42:05,  2.77s/it]"
     ]
    },
    {
     "name": "stdout",
     "output_type": "stream",
     "text": [
      "Number of boxes found:  2\n",
      "iterations:  358\n",
      "heatmap len:  10\n",
      "Number of boxes found:  4\n",
      "Number of boxes found:  2\n",
      "Number of boxes found:  3\n"
     ]
    },
    {
     "name": "stderr",
     "output_type": "stream",
     "text": [
      "\r",
      " 28%|██▊       | 351/1261 [15:53<41:29,  2.74s/it]"
     ]
    },
    {
     "name": "stdout",
     "output_type": "stream",
     "text": [
      "Number of boxes found:  2\n",
      "iterations:  359\n",
      "heatmap len:  10\n",
      "Number of boxes found:  3\n",
      "Number of boxes found:  2\n",
      "Number of boxes found:  3\n"
     ]
    },
    {
     "name": "stderr",
     "output_type": "stream",
     "text": [
      "\r",
      " 28%|██▊       | 352/1261 [15:56<41:46,  2.76s/it]"
     ]
    },
    {
     "name": "stdout",
     "output_type": "stream",
     "text": [
      "Number of boxes found:  3\n",
      "iterations:  360\n",
      "heatmap len:  10\n",
      "Number of boxes found:  2\n",
      "Number of boxes found:  4\n",
      "Number of boxes found:  3\n"
     ]
    },
    {
     "name": "stderr",
     "output_type": "stream",
     "text": [
      "\r",
      " 28%|██▊       | 353/1261 [15:59<41:24,  2.74s/it]"
     ]
    },
    {
     "name": "stdout",
     "output_type": "stream",
     "text": [
      "Number of boxes found:  2\n",
      "iterations:  361\n",
      "heatmap len:  10\n",
      "Number of boxes found:  3\n",
      "Number of boxes found:  1\n",
      "Number of boxes found:  4\n"
     ]
    },
    {
     "name": "stderr",
     "output_type": "stream",
     "text": [
      "\r",
      " 28%|██▊       | 354/1261 [16:01<41:25,  2.74s/it]"
     ]
    },
    {
     "name": "stdout",
     "output_type": "stream",
     "text": [
      "Number of boxes found:  3\n",
      "iterations:  362\n",
      "heatmap len:  10\n",
      "Number of boxes found:  2\n",
      "Number of boxes found:  0\n",
      "Number of boxes found:  4\n"
     ]
    },
    {
     "name": "stderr",
     "output_type": "stream",
     "text": [
      "\r",
      " 28%|██▊       | 355/1261 [16:04<41:26,  2.74s/it]"
     ]
    },
    {
     "name": "stdout",
     "output_type": "stream",
     "text": [
      "Number of boxes found:  4\n",
      "iterations:  363\n",
      "heatmap len:  10\n",
      "Number of boxes found:  2\n",
      "Number of boxes found:  2\n",
      "Number of boxes found:  2\n"
     ]
    },
    {
     "name": "stderr",
     "output_type": "stream",
     "text": [
      "\r",
      " 28%|██▊       | 356/1261 [16:07<41:27,  2.75s/it]"
     ]
    },
    {
     "name": "stdout",
     "output_type": "stream",
     "text": [
      "Number of boxes found:  4\n",
      "iterations:  364\n",
      "heatmap len:  10\n",
      "Number of boxes found:  1\n",
      "Number of boxes found:  1\n",
      "Number of boxes found:  2\n"
     ]
    },
    {
     "name": "stderr",
     "output_type": "stream",
     "text": [
      "\r",
      " 28%|██▊       | 357/1261 [16:09<40:53,  2.71s/it]"
     ]
    },
    {
     "name": "stdout",
     "output_type": "stream",
     "text": [
      "Number of boxes found:  3\n",
      "iterations:  365\n",
      "heatmap len:  10\n",
      "Number of boxes found:  1\n",
      "Number of boxes found:  2\n",
      "Number of boxes found:  2\n"
     ]
    },
    {
     "name": "stderr",
     "output_type": "stream",
     "text": [
      "\r",
      " 28%|██▊       | 358/1261 [16:12<40:32,  2.69s/it]"
     ]
    },
    {
     "name": "stdout",
     "output_type": "stream",
     "text": [
      "Number of boxes found:  3\n",
      "iterations:  366\n",
      "heatmap len:  10\n",
      "Number of boxes found:  2\n",
      "Number of boxes found:  4\n",
      "Number of boxes found:  3\n"
     ]
    },
    {
     "name": "stderr",
     "output_type": "stream",
     "text": [
      "\r",
      " 28%|██▊       | 359/1261 [16:15<40:32,  2.70s/it]"
     ]
    },
    {
     "name": "stdout",
     "output_type": "stream",
     "text": [
      "Number of boxes found:  2\n",
      "iterations:  367\n",
      "heatmap len:  10\n",
      "Number of boxes found:  1\n",
      "Number of boxes found:  2\n",
      "Number of boxes found:  3\n"
     ]
    },
    {
     "name": "stderr",
     "output_type": "stream",
     "text": [
      "\r",
      " 29%|██▊       | 360/1261 [16:18<40:31,  2.70s/it]"
     ]
    },
    {
     "name": "stdout",
     "output_type": "stream",
     "text": [
      "Number of boxes found:  1\n",
      "iterations:  368\n",
      "heatmap len:  10\n",
      "Number of boxes found:  0\n",
      "Number of boxes found:  1\n",
      "Number of boxes found:  1\n"
     ]
    },
    {
     "name": "stderr",
     "output_type": "stream",
     "text": [
      "\r",
      " 29%|██▊       | 361/1261 [16:20<40:35,  2.71s/it]"
     ]
    },
    {
     "name": "stdout",
     "output_type": "stream",
     "text": [
      "Number of boxes found:  1\n",
      "iterations:  369\n",
      "heatmap len:  10\n",
      "Number of boxes found:  0\n",
      "Number of boxes found:  1\n",
      "Number of boxes found:  3\n"
     ]
    },
    {
     "name": "stderr",
     "output_type": "stream",
     "text": [
      "\r",
      " 29%|██▊       | 362/1261 [16:23<40:30,  2.70s/it]"
     ]
    },
    {
     "name": "stdout",
     "output_type": "stream",
     "text": [
      "Number of boxes found:  2\n",
      "iterations:  370\n",
      "heatmap len:  10\n",
      "Number of boxes found:  1\n",
      "Number of boxes found:  1\n",
      "Number of boxes found:  3\n"
     ]
    },
    {
     "name": "stderr",
     "output_type": "stream",
     "text": [
      "\r",
      " 29%|██▉       | 363/1261 [16:26<41:32,  2.78s/it]"
     ]
    },
    {
     "name": "stdout",
     "output_type": "stream",
     "text": [
      "Number of boxes found:  1\n",
      "iterations:  371\n",
      "heatmap len:  10\n",
      "Number of boxes found:  3\n",
      "Number of boxes found:  2\n",
      "Number of boxes found:  3\n"
     ]
    },
    {
     "name": "stderr",
     "output_type": "stream",
     "text": [
      "\r",
      " 29%|██▉       | 364/1261 [16:29<41:18,  2.76s/it]"
     ]
    },
    {
     "name": "stdout",
     "output_type": "stream",
     "text": [
      "Number of boxes found:  2\n",
      "iterations:  372\n",
      "heatmap len:  10\n",
      "Number of boxes found:  1\n",
      "Number of boxes found:  2\n",
      "Number of boxes found:  3\n"
     ]
    },
    {
     "name": "stderr",
     "output_type": "stream",
     "text": [
      "\r",
      " 29%|██▉       | 365/1261 [16:31<41:32,  2.78s/it]"
     ]
    },
    {
     "name": "stdout",
     "output_type": "stream",
     "text": [
      "Number of boxes found:  2\n",
      "iterations:  373\n",
      "heatmap len:  10\n",
      "Number of boxes found:  1\n",
      "Number of boxes found:  2\n",
      "Number of boxes found:  3\n"
     ]
    },
    {
     "name": "stderr",
     "output_type": "stream",
     "text": [
      "\r",
      " 29%|██▉       | 366/1261 [16:34<41:24,  2.78s/it]"
     ]
    },
    {
     "name": "stdout",
     "output_type": "stream",
     "text": [
      "Number of boxes found:  2\n",
      "iterations:  374\n",
      "heatmap len:  10\n",
      "Number of boxes found:  0\n",
      "Number of boxes found:  2\n",
      "Number of boxes found:  3\n"
     ]
    },
    {
     "name": "stderr",
     "output_type": "stream",
     "text": [
      "\r",
      " 29%|██▉       | 367/1261 [16:37<40:47,  2.74s/it]"
     ]
    },
    {
     "name": "stdout",
     "output_type": "stream",
     "text": [
      "Number of boxes found:  1\n",
      "iterations:  375\n",
      "heatmap len:  10\n",
      "Number of boxes found:  2\n",
      "Number of boxes found:  2\n",
      "Number of boxes found:  3\n"
     ]
    },
    {
     "name": "stderr",
     "output_type": "stream",
     "text": [
      "\r",
      " 29%|██▉       | 368/1261 [16:40<41:09,  2.77s/it]"
     ]
    },
    {
     "name": "stdout",
     "output_type": "stream",
     "text": [
      "Number of boxes found:  1\n",
      "iterations:  376\n",
      "heatmap len:  10\n",
      "Number of boxes found:  2\n",
      "Number of boxes found:  5\n",
      "Number of boxes found:  3\n"
     ]
    },
    {
     "name": "stderr",
     "output_type": "stream",
     "text": [
      "\r",
      " 29%|██▉       | 369/1261 [16:43<41:13,  2.77s/it]"
     ]
    },
    {
     "name": "stdout",
     "output_type": "stream",
     "text": [
      "Number of boxes found:  2\n",
      "iterations:  377\n",
      "heatmap len:  10\n",
      "Number of boxes found:  1\n",
      "Number of boxes found:  4\n",
      "Number of boxes found:  4\n"
     ]
    },
    {
     "name": "stderr",
     "output_type": "stream",
     "text": [
      "\r",
      " 29%|██▉       | 370/1261 [16:45<41:22,  2.79s/it]"
     ]
    },
    {
     "name": "stdout",
     "output_type": "stream",
     "text": [
      "Number of boxes found:  1\n",
      "iterations:  378\n",
      "heatmap len:  10\n",
      "Number of boxes found:  3\n",
      "Number of boxes found:  2\n",
      "Number of boxes found:  3\n"
     ]
    },
    {
     "name": "stderr",
     "output_type": "stream",
     "text": [
      "\r",
      " 29%|██▉       | 371/1261 [16:48<40:58,  2.76s/it]"
     ]
    },
    {
     "name": "stdout",
     "output_type": "stream",
     "text": [
      "Number of boxes found:  1\n",
      "iterations:  379\n",
      "heatmap len:  10\n",
      "Number of boxes found:  5\n",
      "Number of boxes found:  2\n",
      "Number of boxes found:  3\n"
     ]
    },
    {
     "name": "stderr",
     "output_type": "stream",
     "text": [
      "\r",
      " 30%|██▉       | 372/1261 [16:51<40:34,  2.74s/it]"
     ]
    },
    {
     "name": "stdout",
     "output_type": "stream",
     "text": [
      "Number of boxes found:  1\n",
      "iterations:  380\n",
      "heatmap len:  10\n",
      "Number of boxes found:  5\n",
      "Number of boxes found:  3\n",
      "Number of boxes found:  4\n"
     ]
    },
    {
     "name": "stderr",
     "output_type": "stream",
     "text": [
      "\r",
      " 30%|██▉       | 373/1261 [16:53<40:37,  2.74s/it]"
     ]
    },
    {
     "name": "stdout",
     "output_type": "stream",
     "text": [
      "Number of boxes found:  2\n",
      "iterations:  381\n",
      "heatmap len:  10\n",
      "Number of boxes found:  3\n",
      "Number of boxes found:  3\n",
      "Number of boxes found:  3\n"
     ]
    },
    {
     "name": "stderr",
     "output_type": "stream",
     "text": [
      "\r",
      " 30%|██▉       | 374/1261 [16:56<41:00,  2.77s/it]"
     ]
    },
    {
     "name": "stdout",
     "output_type": "stream",
     "text": [
      "Number of boxes found:  2\n",
      "iterations:  382\n",
      "heatmap len:  10\n",
      "Number of boxes found:  5\n",
      "Number of boxes found:  4\n",
      "Number of boxes found:  5\n"
     ]
    },
    {
     "name": "stderr",
     "output_type": "stream",
     "text": [
      "\r",
      " 30%|██▉       | 375/1261 [16:59<40:52,  2.77s/it]"
     ]
    },
    {
     "name": "stdout",
     "output_type": "stream",
     "text": [
      "Number of boxes found:  3\n",
      "iterations:  383\n",
      "heatmap len:  10\n",
      "Number of boxes found:  5\n",
      "Number of boxes found:  7\n",
      "Number of boxes found:  3\n"
     ]
    },
    {
     "name": "stderr",
     "output_type": "stream",
     "text": [
      "\r",
      " 30%|██▉       | 376/1261 [17:02<40:49,  2.77s/it]"
     ]
    },
    {
     "name": "stdout",
     "output_type": "stream",
     "text": [
      "Number of boxes found:  2\n",
      "iterations:  384\n",
      "heatmap len:  10\n",
      "Number of boxes found:  4\n",
      "Number of boxes found:  8\n",
      "Number of boxes found:  5\n"
     ]
    },
    {
     "name": "stderr",
     "output_type": "stream",
     "text": [
      "\r",
      " 30%|██▉       | 377/1261 [17:05<40:43,  2.76s/it]"
     ]
    },
    {
     "name": "stdout",
     "output_type": "stream",
     "text": [
      "Number of boxes found:  2\n",
      "iterations:  385\n",
      "heatmap len:  10\n",
      "Number of boxes found:  5\n",
      "Number of boxes found:  6\n",
      "Number of boxes found:  4\n"
     ]
    },
    {
     "name": "stderr",
     "output_type": "stream",
     "text": [
      "\r",
      " 30%|██▉       | 378/1261 [17:07<40:28,  2.75s/it]"
     ]
    },
    {
     "name": "stdout",
     "output_type": "stream",
     "text": [
      "Number of boxes found:  3\n",
      "iterations:  386\n",
      "heatmap len:  10\n",
      "Number of boxes found:  6\n",
      "Number of boxes found:  6\n",
      "Number of boxes found:  5\n"
     ]
    },
    {
     "name": "stderr",
     "output_type": "stream",
     "text": [
      "\r",
      " 30%|███       | 379/1261 [17:10<40:24,  2.75s/it]"
     ]
    },
    {
     "name": "stdout",
     "output_type": "stream",
     "text": [
      "Number of boxes found:  3\n",
      "iterations:  387\n",
      "heatmap len:  10\n",
      "Number of boxes found:  5\n",
      "Number of boxes found:  4\n",
      "Number of boxes found:  4\n"
     ]
    },
    {
     "name": "stderr",
     "output_type": "stream",
     "text": [
      "\r",
      " 30%|███       | 380/1261 [17:13<40:47,  2.78s/it]"
     ]
    },
    {
     "name": "stdout",
     "output_type": "stream",
     "text": [
      "Number of boxes found:  4\n",
      "iterations:  388\n",
      "heatmap len:  10\n",
      "Number of boxes found:  3\n",
      "Number of boxes found:  3\n",
      "Number of boxes found:  2\n"
     ]
    },
    {
     "name": "stderr",
     "output_type": "stream",
     "text": [
      "\r",
      " 30%|███       | 381/1261 [17:16<41:08,  2.81s/it]"
     ]
    },
    {
     "name": "stdout",
     "output_type": "stream",
     "text": [
      "Number of boxes found:  3\n",
      "iterations:  389\n",
      "heatmap len:  10\n",
      "Number of boxes found:  5\n",
      "Number of boxes found:  3\n",
      "Number of boxes found:  2\n"
     ]
    },
    {
     "name": "stderr",
     "output_type": "stream",
     "text": [
      "\r",
      " 30%|███       | 382/1261 [17:19<41:04,  2.80s/it]"
     ]
    },
    {
     "name": "stdout",
     "output_type": "stream",
     "text": [
      "Number of boxes found:  2\n",
      "iterations:  390\n",
      "heatmap len:  10\n",
      "Number of boxes found:  4\n",
      "Number of boxes found:  2\n",
      "Number of boxes found:  4\n"
     ]
    },
    {
     "name": "stderr",
     "output_type": "stream",
     "text": [
      "\r",
      " 30%|███       | 383/1261 [17:21<41:11,  2.82s/it]"
     ]
    },
    {
     "name": "stdout",
     "output_type": "stream",
     "text": [
      "Number of boxes found:  1\n",
      "iterations:  391\n",
      "heatmap len:  10\n",
      "Number of boxes found:  4\n",
      "Number of boxes found:  2\n",
      "Number of boxes found:  4\n"
     ]
    },
    {
     "name": "stderr",
     "output_type": "stream",
     "text": [
      "\r",
      " 30%|███       | 384/1261 [17:24<40:59,  2.80s/it]"
     ]
    },
    {
     "name": "stdout",
     "output_type": "stream",
     "text": [
      "Number of boxes found:  1\n",
      "iterations:  392\n",
      "heatmap len:  10\n",
      "Number of boxes found:  2\n",
      "Number of boxes found:  2\n",
      "Number of boxes found:  3\n"
     ]
    },
    {
     "name": "stderr",
     "output_type": "stream",
     "text": [
      "\r",
      " 31%|███       | 385/1261 [17:27<40:46,  2.79s/it]"
     ]
    },
    {
     "name": "stdout",
     "output_type": "stream",
     "text": [
      "Number of boxes found:  1\n",
      "iterations:  393\n",
      "heatmap len:  10\n",
      "Number of boxes found:  2\n",
      "Number of boxes found:  4\n",
      "Number of boxes found:  5\n"
     ]
    },
    {
     "name": "stderr",
     "output_type": "stream",
     "text": [
      "\r",
      " 31%|███       | 386/1261 [17:30<40:31,  2.78s/it]"
     ]
    },
    {
     "name": "stdout",
     "output_type": "stream",
     "text": [
      "Number of boxes found:  2\n",
      "iterations:  394\n",
      "heatmap len:  10\n",
      "Number of boxes found:  3\n",
      "Number of boxes found:  2\n",
      "Number of boxes found:  4\n"
     ]
    },
    {
     "name": "stderr",
     "output_type": "stream",
     "text": [
      "\r",
      " 31%|███       | 387/1261 [17:33<40:47,  2.80s/it]"
     ]
    },
    {
     "name": "stdout",
     "output_type": "stream",
     "text": [
      "Number of boxes found:  3\n",
      "iterations:  395\n",
      "heatmap len:  10\n",
      "Number of boxes found:  2\n",
      "Number of boxes found:  4\n",
      "Number of boxes found:  3\n"
     ]
    },
    {
     "name": "stderr",
     "output_type": "stream",
     "text": [
      "\r",
      " 31%|███       | 388/1261 [17:35<40:52,  2.81s/it]"
     ]
    },
    {
     "name": "stdout",
     "output_type": "stream",
     "text": [
      "Number of boxes found:  1\n",
      "iterations:  396\n",
      "heatmap len:  10\n",
      "Number of boxes found:  2\n",
      "Number of boxes found:  2\n",
      "Number of boxes found:  3\n"
     ]
    },
    {
     "name": "stderr",
     "output_type": "stream",
     "text": [
      "\r",
      " 31%|███       | 389/1261 [17:38<40:36,  2.79s/it]"
     ]
    },
    {
     "name": "stdout",
     "output_type": "stream",
     "text": [
      "Number of boxes found:  0\n",
      "iterations:  397\n",
      "heatmap len:  10\n",
      "Number of boxes found:  2\n",
      "Number of boxes found:  3\n",
      "Number of boxes found:  5\n"
     ]
    },
    {
     "name": "stderr",
     "output_type": "stream",
     "text": [
      "\r",
      " 31%|███       | 390/1261 [17:41<40:21,  2.78s/it]"
     ]
    },
    {
     "name": "stdout",
     "output_type": "stream",
     "text": [
      "Number of boxes found:  0\n",
      "iterations:  398\n",
      "heatmap len:  10\n",
      "Number of boxes found:  0\n",
      "Number of boxes found:  0\n",
      "Number of boxes found:  4\n"
     ]
    },
    {
     "name": "stderr",
     "output_type": "stream",
     "text": [
      "\r",
      " 31%|███       | 391/1261 [17:44<39:56,  2.75s/it]"
     ]
    },
    {
     "name": "stdout",
     "output_type": "stream",
     "text": [
      "Number of boxes found:  1\n",
      "iterations:  399\n",
      "heatmap len:  10\n",
      "Number of boxes found:  1\n",
      "Number of boxes found:  0\n",
      "Number of boxes found:  3\n"
     ]
    },
    {
     "name": "stderr",
     "output_type": "stream",
     "text": [
      "\r",
      " 31%|███       | 392/1261 [17:46<39:20,  2.72s/it]"
     ]
    },
    {
     "name": "stdout",
     "output_type": "stream",
     "text": [
      "Number of boxes found:  1\n",
      "iterations:  400\n",
      "heatmap len:  10\n",
      "Number of boxes found:  1\n",
      "Number of boxes found:  2\n",
      "Number of boxes found:  4\n"
     ]
    },
    {
     "name": "stderr",
     "output_type": "stream",
     "text": [
      "\r",
      " 31%|███       | 393/1261 [17:49<38:55,  2.69s/it]"
     ]
    },
    {
     "name": "stdout",
     "output_type": "stream",
     "text": [
      "Number of boxes found:  1\n",
      "iterations:  401\n",
      "heatmap len:  10\n",
      "Number of boxes found:  1\n",
      "Number of boxes found:  2\n",
      "Number of boxes found:  3\n"
     ]
    },
    {
     "name": "stderr",
     "output_type": "stream",
     "text": [
      "\r",
      " 31%|███       | 394/1261 [17:52<39:04,  2.70s/it]"
     ]
    },
    {
     "name": "stdout",
     "output_type": "stream",
     "text": [
      "Number of boxes found:  1\n",
      "iterations:  402\n",
      "heatmap len:  10\n",
      "Number of boxes found:  1\n",
      "Number of boxes found:  3\n",
      "Number of boxes found:  4\n"
     ]
    },
    {
     "name": "stderr",
     "output_type": "stream",
     "text": [
      "\r",
      " 31%|███▏      | 395/1261 [17:54<39:11,  2.72s/it]"
     ]
    },
    {
     "name": "stdout",
     "output_type": "stream",
     "text": [
      "Number of boxes found:  0\n",
      "iterations:  403\n",
      "heatmap len:  10\n",
      "Number of boxes found:  0\n",
      "Number of boxes found:  2\n",
      "Number of boxes found:  4\n"
     ]
    },
    {
     "name": "stderr",
     "output_type": "stream",
     "text": [
      "\r",
      " 31%|███▏      | 396/1261 [17:57<39:46,  2.76s/it]"
     ]
    },
    {
     "name": "stdout",
     "output_type": "stream",
     "text": [
      "Number of boxes found:  0\n",
      "iterations:  404\n",
      "heatmap len:  10\n",
      "Number of boxes found:  2\n",
      "Number of boxes found:  1\n",
      "Number of boxes found:  4\n"
     ]
    },
    {
     "name": "stderr",
     "output_type": "stream",
     "text": [
      "\r",
      " 31%|███▏      | 397/1261 [18:00<39:50,  2.77s/it]"
     ]
    },
    {
     "name": "stdout",
     "output_type": "stream",
     "text": [
      "Number of boxes found:  1\n",
      "iterations:  405\n",
      "heatmap len:  10\n",
      "Number of boxes found:  3\n",
      "Number of boxes found:  1\n",
      "Number of boxes found:  3\n"
     ]
    },
    {
     "name": "stderr",
     "output_type": "stream",
     "text": [
      "\r",
      " 32%|███▏      | 398/1261 [18:03<39:28,  2.74s/it]"
     ]
    },
    {
     "name": "stdout",
     "output_type": "stream",
     "text": [
      "Number of boxes found:  1\n",
      "iterations:  406\n",
      "heatmap len:  10\n",
      "Number of boxes found:  3\n",
      "Number of boxes found:  2\n",
      "Number of boxes found:  5\n"
     ]
    },
    {
     "name": "stderr",
     "output_type": "stream",
     "text": [
      "\r",
      " 32%|███▏      | 399/1261 [18:05<39:36,  2.76s/it]"
     ]
    },
    {
     "name": "stdout",
     "output_type": "stream",
     "text": [
      "Number of boxes found:  1\n",
      "iterations:  407\n",
      "heatmap len:  10\n",
      "Number of boxes found:  3\n",
      "Number of boxes found:  3\n",
      "Number of boxes found:  5\n"
     ]
    },
    {
     "name": "stderr",
     "output_type": "stream",
     "text": [
      "\r",
      " 32%|███▏      | 400/1261 [18:08<39:38,  2.76s/it]"
     ]
    },
    {
     "name": "stdout",
     "output_type": "stream",
     "text": [
      "Number of boxes found:  1\n",
      "iterations:  408\n",
      "heatmap len:  10\n",
      "Number of boxes found:  3\n",
      "Number of boxes found:  3\n",
      "Number of boxes found:  3\n"
     ]
    },
    {
     "name": "stderr",
     "output_type": "stream",
     "text": [
      "\r",
      " 32%|███▏      | 401/1261 [18:11<39:14,  2.74s/it]"
     ]
    },
    {
     "name": "stdout",
     "output_type": "stream",
     "text": [
      "Number of boxes found:  1\n",
      "iterations:  409\n",
      "heatmap len:  10\n",
      "Number of boxes found:  3\n",
      "Number of boxes found:  3\n",
      "Number of boxes found:  3\n"
     ]
    },
    {
     "name": "stderr",
     "output_type": "stream",
     "text": [
      "\r",
      " 32%|███▏      | 402/1261 [18:14<39:12,  2.74s/it]"
     ]
    },
    {
     "name": "stdout",
     "output_type": "stream",
     "text": [
      "Number of boxes found:  1\n",
      "iterations:  410\n",
      "heatmap len:  10\n",
      "Number of boxes found:  2\n",
      "Number of boxes found:  2\n",
      "Number of boxes found:  3\n"
     ]
    },
    {
     "name": "stderr",
     "output_type": "stream",
     "text": [
      "\r",
      " 32%|███▏      | 403/1261 [18:16<39:02,  2.73s/it]"
     ]
    },
    {
     "name": "stdout",
     "output_type": "stream",
     "text": [
      "Number of boxes found:  1\n",
      "iterations:  411\n",
      "heatmap len:  10\n",
      "Number of boxes found:  3\n",
      "Number of boxes found:  2\n",
      "Number of boxes found:  4\n"
     ]
    },
    {
     "name": "stderr",
     "output_type": "stream",
     "text": [
      "\r",
      " 32%|███▏      | 404/1261 [18:19<38:58,  2.73s/it]"
     ]
    },
    {
     "name": "stdout",
     "output_type": "stream",
     "text": [
      "Number of boxes found:  1\n",
      "iterations:  412\n",
      "heatmap len:  10\n",
      "Number of boxes found:  3\n",
      "Number of boxes found:  3\n",
      "Number of boxes found:  5\n"
     ]
    },
    {
     "name": "stderr",
     "output_type": "stream",
     "text": [
      "\r",
      " 32%|███▏      | 405/1261 [18:22<39:21,  2.76s/it]"
     ]
    },
    {
     "name": "stdout",
     "output_type": "stream",
     "text": [
      "Number of boxes found:  1\n",
      "iterations:  413\n",
      "heatmap len:  10\n",
      "Number of boxes found:  2\n",
      "Number of boxes found:  3\n",
      "Number of boxes found:  4\n"
     ]
    },
    {
     "name": "stderr",
     "output_type": "stream",
     "text": [
      "\r",
      " 32%|███▏      | 406/1261 [18:25<39:41,  2.78s/it]"
     ]
    },
    {
     "name": "stdout",
     "output_type": "stream",
     "text": [
      "Number of boxes found:  1\n",
      "iterations:  414\n",
      "heatmap len:  10\n",
      "Number of boxes found:  2\n",
      "Number of boxes found:  4\n",
      "Number of boxes found:  3\n"
     ]
    },
    {
     "name": "stderr",
     "output_type": "stream",
     "text": [
      "\r",
      " 32%|███▏      | 407/1261 [18:28<39:39,  2.79s/it]"
     ]
    },
    {
     "name": "stdout",
     "output_type": "stream",
     "text": [
      "Number of boxes found:  0\n",
      "iterations:  415\n",
      "heatmap len:  10\n",
      "Number of boxes found:  3\n",
      "Number of boxes found:  2\n",
      "Number of boxes found:  4\n"
     ]
    },
    {
     "name": "stderr",
     "output_type": "stream",
     "text": [
      "\r",
      " 32%|███▏      | 408/1261 [18:30<39:24,  2.77s/it]"
     ]
    },
    {
     "name": "stdout",
     "output_type": "stream",
     "text": [
      "Number of boxes found:  0\n",
      "iterations:  416\n",
      "heatmap len:  10\n",
      "Number of boxes found:  3\n",
      "Number of boxes found:  2\n",
      "Number of boxes found:  4\n"
     ]
    },
    {
     "name": "stderr",
     "output_type": "stream",
     "text": [
      "\r",
      " 32%|███▏      | 409/1261 [18:33<39:21,  2.77s/it]"
     ]
    },
    {
     "name": "stdout",
     "output_type": "stream",
     "text": [
      "Number of boxes found:  0\n",
      "iterations:  417\n",
      "heatmap len:  10\n",
      "Number of boxes found:  4\n",
      "Number of boxes found:  2\n",
      "Number of boxes found:  3\n"
     ]
    },
    {
     "name": "stderr",
     "output_type": "stream",
     "text": [
      "\r",
      " 33%|███▎      | 410/1261 [18:36<39:11,  2.76s/it]"
     ]
    },
    {
     "name": "stdout",
     "output_type": "stream",
     "text": [
      "Number of boxes found:  0\n",
      "iterations:  418\n",
      "heatmap len:  10\n",
      "Number of boxes found:  6\n",
      "Number of boxes found:  3\n",
      "Number of boxes found:  3\n"
     ]
    },
    {
     "name": "stderr",
     "output_type": "stream",
     "text": [
      "\r",
      " 33%|███▎      | 411/1261 [18:39<39:01,  2.76s/it]"
     ]
    },
    {
     "name": "stdout",
     "output_type": "stream",
     "text": [
      "Number of boxes found:  1\n",
      "iterations:  419\n",
      "heatmap len:  10\n",
      "Number of boxes found:  5\n",
      "Number of boxes found:  3\n",
      "Number of boxes found:  4\n"
     ]
    },
    {
     "name": "stderr",
     "output_type": "stream",
     "text": [
      "\r",
      " 33%|███▎      | 412/1261 [18:41<38:41,  2.73s/it]"
     ]
    },
    {
     "name": "stdout",
     "output_type": "stream",
     "text": [
      "Number of boxes found:  2\n",
      "iterations:  420\n",
      "heatmap len:  10\n",
      "Number of boxes found:  5\n",
      "Number of boxes found:  3\n",
      "Number of boxes found:  4\n"
     ]
    },
    {
     "name": "stderr",
     "output_type": "stream",
     "text": [
      "\r",
      " 33%|███▎      | 413/1261 [18:44<38:32,  2.73s/it]"
     ]
    },
    {
     "name": "stdout",
     "output_type": "stream",
     "text": [
      "Number of boxes found:  1\n",
      "iterations:  421\n",
      "heatmap len:  10\n",
      "Number of boxes found:  6\n",
      "Number of boxes found:  3\n",
      "Number of boxes found:  4\n"
     ]
    },
    {
     "name": "stderr",
     "output_type": "stream",
     "text": [
      "\r",
      " 33%|███▎      | 414/1261 [18:47<39:09,  2.77s/it]"
     ]
    },
    {
     "name": "stdout",
     "output_type": "stream",
     "text": [
      "Number of boxes found:  2\n",
      "iterations:  422\n",
      "heatmap len:  10\n",
      "Number of boxes found:  5\n",
      "Number of boxes found:  4\n",
      "Number of boxes found:  3\n"
     ]
    },
    {
     "name": "stderr",
     "output_type": "stream",
     "text": [
      "\r",
      " 33%|███▎      | 415/1261 [18:50<39:06,  2.77s/it]"
     ]
    },
    {
     "name": "stdout",
     "output_type": "stream",
     "text": [
      "Number of boxes found:  1\n",
      "iterations:  423\n",
      "heatmap len:  10\n",
      "Number of boxes found:  4\n",
      "Number of boxes found:  3\n",
      "Number of boxes found:  3\n"
     ]
    },
    {
     "name": "stderr",
     "output_type": "stream",
     "text": [
      "\r",
      " 33%|███▎      | 416/1261 [18:52<38:47,  2.75s/it]"
     ]
    },
    {
     "name": "stdout",
     "output_type": "stream",
     "text": [
      "Number of boxes found:  0\n",
      "iterations:  424\n",
      "heatmap len:  10\n",
      "Number of boxes found:  4\n",
      "Number of boxes found:  3\n",
      "Number of boxes found:  4\n"
     ]
    },
    {
     "name": "stderr",
     "output_type": "stream",
     "text": [
      "\r",
      " 33%|███▎      | 417/1261 [18:55<38:33,  2.74s/it]"
     ]
    },
    {
     "name": "stdout",
     "output_type": "stream",
     "text": [
      "Number of boxes found:  0\n",
      "iterations:  425\n",
      "heatmap len:  10\n",
      "Number of boxes found:  5\n",
      "Number of boxes found:  3\n",
      "Number of boxes found:  4\n"
     ]
    },
    {
     "name": "stderr",
     "output_type": "stream",
     "text": [
      "\r",
      " 33%|███▎      | 418/1261 [18:58<38:37,  2.75s/it]"
     ]
    },
    {
     "name": "stdout",
     "output_type": "stream",
     "text": [
      "Number of boxes found:  0\n",
      "iterations:  426\n",
      "heatmap len:  10\n",
      "Number of boxes found:  4\n",
      "Number of boxes found:  3\n",
      "Number of boxes found:  2\n"
     ]
    },
    {
     "name": "stderr",
     "output_type": "stream",
     "text": [
      "\r",
      " 33%|███▎      | 419/1261 [19:01<38:43,  2.76s/it]"
     ]
    },
    {
     "name": "stdout",
     "output_type": "stream",
     "text": [
      "Number of boxes found:  1\n",
      "iterations:  427\n",
      "heatmap len:  10\n",
      "Number of boxes found:  3\n",
      "Number of boxes found:  4\n",
      "Number of boxes found:  3\n"
     ]
    },
    {
     "name": "stderr",
     "output_type": "stream",
     "text": [
      "\r",
      " 33%|███▎      | 420/1261 [19:03<38:32,  2.75s/it]"
     ]
    },
    {
     "name": "stdout",
     "output_type": "stream",
     "text": [
      "Number of boxes found:  2\n",
      "iterations:  428\n",
      "heatmap len:  10\n",
      "Number of boxes found:  2\n",
      "Number of boxes found:  2\n",
      "Number of boxes found:  1\n"
     ]
    },
    {
     "name": "stderr",
     "output_type": "stream",
     "text": [
      "\r",
      " 33%|███▎      | 421/1261 [19:06<38:24,  2.74s/it]"
     ]
    },
    {
     "name": "stdout",
     "output_type": "stream",
     "text": [
      "Number of boxes found:  0\n",
      "iterations:  429\n",
      "heatmap len:  10\n",
      "Number of boxes found:  4\n",
      "Number of boxes found:  3\n",
      "Number of boxes found:  3\n"
     ]
    },
    {
     "name": "stderr",
     "output_type": "stream",
     "text": [
      "\r",
      " 33%|███▎      | 422/1261 [19:09<38:14,  2.74s/it]"
     ]
    },
    {
     "name": "stdout",
     "output_type": "stream",
     "text": [
      "Number of boxes found:  0\n",
      "iterations:  430\n",
      "heatmap len:  10\n",
      "Number of boxes found:  4\n",
      "Number of boxes found:  3\n",
      "Number of boxes found:  4\n"
     ]
    },
    {
     "name": "stderr",
     "output_type": "stream",
     "text": [
      "\r",
      " 34%|███▎      | 423/1261 [19:11<38:14,  2.74s/it]"
     ]
    },
    {
     "name": "stdout",
     "output_type": "stream",
     "text": [
      "Number of boxes found:  0\n",
      "iterations:  431\n",
      "heatmap len:  10\n",
      "Number of boxes found:  3\n",
      "Number of boxes found:  3\n",
      "Number of boxes found:  3\n"
     ]
    },
    {
     "name": "stderr",
     "output_type": "stream",
     "text": [
      "\r",
      " 34%|███▎      | 424/1261 [19:14<37:56,  2.72s/it]"
     ]
    },
    {
     "name": "stdout",
     "output_type": "stream",
     "text": [
      "Number of boxes found:  0\n",
      "iterations:  432\n",
      "heatmap len:  10\n",
      "Number of boxes found:  4\n",
      "Number of boxes found:  3\n",
      "Number of boxes found:  3\n"
     ]
    },
    {
     "name": "stderr",
     "output_type": "stream",
     "text": [
      "\r",
      " 34%|███▎      | 425/1261 [19:17<37:41,  2.71s/it]"
     ]
    },
    {
     "name": "stdout",
     "output_type": "stream",
     "text": [
      "Number of boxes found:  0\n",
      "iterations:  433\n",
      "heatmap len:  10\n",
      "Number of boxes found:  3\n",
      "Number of boxes found:  3\n",
      "Number of boxes found:  1\n"
     ]
    },
    {
     "name": "stderr",
     "output_type": "stream",
     "text": [
      "\r",
      " 34%|███▍      | 426/1261 [19:20<37:38,  2.70s/it]"
     ]
    },
    {
     "name": "stdout",
     "output_type": "stream",
     "text": [
      "Number of boxes found:  0\n",
      "iterations:  434\n",
      "heatmap len:  10\n",
      "Number of boxes found:  5\n",
      "Number of boxes found:  3\n",
      "Number of boxes found:  2\n"
     ]
    },
    {
     "name": "stderr",
     "output_type": "stream",
     "text": [
      "\r",
      " 34%|███▍      | 427/1261 [19:22<37:46,  2.72s/it]"
     ]
    },
    {
     "name": "stdout",
     "output_type": "stream",
     "text": [
      "Number of boxes found:  0\n",
      "iterations:  435\n",
      "heatmap len:  10\n",
      "Number of boxes found:  6\n",
      "Number of boxes found:  3\n",
      "Number of boxes found:  3\n"
     ]
    },
    {
     "name": "stderr",
     "output_type": "stream",
     "text": [
      "\r",
      " 34%|███▍      | 428/1261 [19:25<37:40,  2.71s/it]"
     ]
    },
    {
     "name": "stdout",
     "output_type": "stream",
     "text": [
      "Number of boxes found:  0\n",
      "iterations:  436\n",
      "heatmap len:  10\n",
      "Number of boxes found:  7\n",
      "Number of boxes found:  4\n",
      "Number of boxes found:  3\n"
     ]
    },
    {
     "name": "stderr",
     "output_type": "stream",
     "text": [
      "\r",
      " 34%|███▍      | 429/1261 [19:28<37:45,  2.72s/it]"
     ]
    },
    {
     "name": "stdout",
     "output_type": "stream",
     "text": [
      "Number of boxes found:  0\n",
      "iterations:  437\n",
      "heatmap len:  10\n",
      "Number of boxes found:  4\n",
      "Number of boxes found:  3\n",
      "Number of boxes found:  2\n"
     ]
    },
    {
     "name": "stderr",
     "output_type": "stream",
     "text": [
      "\r",
      " 34%|███▍      | 430/1261 [19:30<37:54,  2.74s/it]"
     ]
    },
    {
     "name": "stdout",
     "output_type": "stream",
     "text": [
      "Number of boxes found:  1\n",
      "iterations:  438\n",
      "heatmap len:  10\n",
      "Number of boxes found:  4\n",
      "Number of boxes found:  3\n",
      "Number of boxes found:  1\n"
     ]
    },
    {
     "name": "stderr",
     "output_type": "stream",
     "text": [
      "\r",
      " 34%|███▍      | 431/1261 [19:33<37:46,  2.73s/it]"
     ]
    },
    {
     "name": "stdout",
     "output_type": "stream",
     "text": [
      "Number of boxes found:  2\n",
      "iterations:  439\n",
      "heatmap len:  10\n",
      "Number of boxes found:  5\n",
      "Number of boxes found:  3\n",
      "Number of boxes found:  3\n"
     ]
    },
    {
     "name": "stderr",
     "output_type": "stream",
     "text": [
      "\r",
      " 34%|███▍      | 432/1261 [19:36<37:41,  2.73s/it]"
     ]
    },
    {
     "name": "stdout",
     "output_type": "stream",
     "text": [
      "Number of boxes found:  3\n",
      "iterations:  440\n",
      "heatmap len:  10\n",
      "Number of boxes found:  3\n",
      "Number of boxes found:  3\n",
      "Number of boxes found:  4\n"
     ]
    },
    {
     "name": "stderr",
     "output_type": "stream",
     "text": [
      "\r",
      " 34%|███▍      | 433/1261 [19:39<37:51,  2.74s/it]"
     ]
    },
    {
     "name": "stdout",
     "output_type": "stream",
     "text": [
      "Number of boxes found:  1\n",
      "iterations:  441\n",
      "heatmap len:  10\n",
      "Number of boxes found:  6\n",
      "Number of boxes found:  3\n",
      "Number of boxes found:  3\n"
     ]
    },
    {
     "name": "stderr",
     "output_type": "stream",
     "text": [
      "\r",
      " 34%|███▍      | 434/1261 [19:42<38:14,  2.78s/it]"
     ]
    },
    {
     "name": "stdout",
     "output_type": "stream",
     "text": [
      "Number of boxes found:  1\n",
      "iterations:  442\n",
      "heatmap len:  10\n",
      "Number of boxes found:  5\n",
      "Number of boxes found:  3\n",
      "Number of boxes found:  4\n"
     ]
    },
    {
     "name": "stderr",
     "output_type": "stream",
     "text": [
      "\r",
      " 34%|███▍      | 435/1261 [19:44<38:37,  2.81s/it]"
     ]
    },
    {
     "name": "stdout",
     "output_type": "stream",
     "text": [
      "Number of boxes found:  1\n",
      "iterations:  443\n",
      "heatmap len:  10\n",
      "Number of boxes found:  5\n",
      "Number of boxes found:  3\n",
      "Number of boxes found:  4\n"
     ]
    },
    {
     "name": "stderr",
     "output_type": "stream",
     "text": [
      "\r",
      " 35%|███▍      | 436/1261 [19:47<38:32,  2.80s/it]"
     ]
    },
    {
     "name": "stdout",
     "output_type": "stream",
     "text": [
      "Number of boxes found:  1\n",
      "iterations:  444\n",
      "heatmap len:  10\n",
      "Number of boxes found:  6\n",
      "Number of boxes found:  3\n",
      "Number of boxes found:  4\n"
     ]
    },
    {
     "name": "stderr",
     "output_type": "stream",
     "text": [
      "\r",
      " 35%|███▍      | 437/1261 [19:50<38:50,  2.83s/it]"
     ]
    },
    {
     "name": "stdout",
     "output_type": "stream",
     "text": [
      "Number of boxes found:  1\n",
      "iterations:  445\n",
      "heatmap len:  10\n",
      "Number of boxes found:  5\n",
      "Number of boxes found:  2\n",
      "Number of boxes found:  3\n"
     ]
    },
    {
     "name": "stderr",
     "output_type": "stream",
     "text": [
      "\r",
      " 35%|███▍      | 438/1261 [19:53<38:48,  2.83s/it]"
     ]
    },
    {
     "name": "stdout",
     "output_type": "stream",
     "text": [
      "Number of boxes found:  0\n",
      "iterations:  446\n",
      "heatmap len:  10\n",
      "Number of boxes found:  5\n",
      "Number of boxes found:  2\n",
      "Number of boxes found:  3\n"
     ]
    },
    {
     "name": "stderr",
     "output_type": "stream",
     "text": [
      "\r",
      " 35%|███▍      | 439/1261 [19:56<38:25,  2.80s/it]"
     ]
    },
    {
     "name": "stdout",
     "output_type": "stream",
     "text": [
      "Number of boxes found:  0\n",
      "iterations:  447\n",
      "heatmap len:  10\n",
      "Number of boxes found:  7\n",
      "Number of boxes found:  3\n",
      "Number of boxes found:  3\n"
     ]
    },
    {
     "name": "stderr",
     "output_type": "stream",
     "text": [
      "\r",
      " 35%|███▍      | 440/1261 [19:58<38:21,  2.80s/it]"
     ]
    },
    {
     "name": "stdout",
     "output_type": "stream",
     "text": [
      "Number of boxes found:  0\n",
      "iterations:  448\n",
      "heatmap len:  10\n",
      "Number of boxes found:  4\n",
      "Number of boxes found:  3\n",
      "Number of boxes found:  3\n"
     ]
    },
    {
     "name": "stderr",
     "output_type": "stream",
     "text": [
      "\r",
      " 35%|███▍      | 441/1261 [20:01<38:30,  2.82s/it]"
     ]
    },
    {
     "name": "stdout",
     "output_type": "stream",
     "text": [
      "Number of boxes found:  1\n",
      "iterations:  449\n",
      "heatmap len:  10\n",
      "Number of boxes found:  5\n",
      "Number of boxes found:  3\n",
      "Number of boxes found:  3\n"
     ]
    },
    {
     "name": "stderr",
     "output_type": "stream",
     "text": [
      "\r",
      " 35%|███▌      | 442/1261 [20:04<38:21,  2.81s/it]"
     ]
    },
    {
     "name": "stdout",
     "output_type": "stream",
     "text": [
      "Number of boxes found:  2\n",
      "iterations:  450\n",
      "heatmap len:  10\n",
      "Number of boxes found:  1\n",
      "Number of boxes found:  4\n",
      "Number of boxes found:  3\n"
     ]
    },
    {
     "name": "stderr",
     "output_type": "stream",
     "text": [
      "\r",
      " 35%|███▌      | 443/1261 [20:07<38:53,  2.85s/it]"
     ]
    },
    {
     "name": "stdout",
     "output_type": "stream",
     "text": [
      "Number of boxes found:  2\n",
      "iterations:  451\n",
      "heatmap len:  10\n",
      "Number of boxes found:  1\n",
      "Number of boxes found:  4\n",
      "Number of boxes found:  3\n"
     ]
    },
    {
     "name": "stderr",
     "output_type": "stream",
     "text": [
      "\r",
      " 35%|███▌      | 444/1261 [20:10<38:35,  2.83s/it]"
     ]
    },
    {
     "name": "stdout",
     "output_type": "stream",
     "text": [
      "Number of boxes found:  1\n",
      "iterations:  452\n",
      "heatmap len:  10\n",
      "Number of boxes found:  3\n",
      "Number of boxes found:  4\n",
      "Number of boxes found:  3\n"
     ]
    },
    {
     "name": "stderr",
     "output_type": "stream",
     "text": [
      "\r",
      " 35%|███▌      | 445/1261 [20:13<38:46,  2.85s/it]"
     ]
    },
    {
     "name": "stdout",
     "output_type": "stream",
     "text": [
      "Number of boxes found:  1\n",
      "iterations:  453\n",
      "heatmap len:  10\n",
      "Number of boxes found:  2\n",
      "Number of boxes found:  4\n",
      "Number of boxes found:  3\n"
     ]
    },
    {
     "name": "stderr",
     "output_type": "stream",
     "text": [
      "\r",
      " 35%|███▌      | 446/1261 [20:16<38:48,  2.86s/it]"
     ]
    },
    {
     "name": "stdout",
     "output_type": "stream",
     "text": [
      "Number of boxes found:  2\n",
      "iterations:  454\n",
      "heatmap len:  10\n",
      "Number of boxes found:  5\n",
      "Number of boxes found:  3\n",
      "Number of boxes found:  3\n"
     ]
    },
    {
     "name": "stderr",
     "output_type": "stream",
     "text": [
      "\r",
      " 35%|███▌      | 447/1261 [20:18<38:41,  2.85s/it]"
     ]
    },
    {
     "name": "stdout",
     "output_type": "stream",
     "text": [
      "Number of boxes found:  1\n",
      "iterations:  455\n",
      "heatmap len:  10\n",
      "Number of boxes found:  5\n",
      "Number of boxes found:  2\n",
      "Number of boxes found:  3\n"
     ]
    },
    {
     "name": "stderr",
     "output_type": "stream",
     "text": [
      "\r",
      " 36%|███▌      | 448/1261 [20:21<38:49,  2.87s/it]"
     ]
    },
    {
     "name": "stdout",
     "output_type": "stream",
     "text": [
      "Number of boxes found:  1\n",
      "iterations:  456\n",
      "heatmap len:  10\n",
      "Number of boxes found:  1\n",
      "Number of boxes found:  4\n",
      "Number of boxes found:  3\n"
     ]
    },
    {
     "name": "stderr",
     "output_type": "stream",
     "text": [
      "\r",
      " 36%|███▌      | 449/1261 [20:25<40:39,  3.00s/it]"
     ]
    },
    {
     "name": "stdout",
     "output_type": "stream",
     "text": [
      "Number of boxes found:  0\n",
      "iterations:  457\n",
      "heatmap len:  10\n",
      "Number of boxes found:  3\n",
      "Number of boxes found:  2\n",
      "Number of boxes found:  3\n"
     ]
    },
    {
     "name": "stderr",
     "output_type": "stream",
     "text": [
      "\r",
      " 36%|███▌      | 450/1261 [20:27<39:34,  2.93s/it]"
     ]
    },
    {
     "name": "stdout",
     "output_type": "stream",
     "text": [
      "Number of boxes found:  1\n",
      "iterations:  458\n",
      "heatmap len:  10\n",
      "Number of boxes found:  2\n",
      "Number of boxes found:  2\n",
      "Number of boxes found:  3\n"
     ]
    },
    {
     "name": "stderr",
     "output_type": "stream",
     "text": [
      "\r",
      " 36%|███▌      | 451/1261 [20:30<38:45,  2.87s/it]"
     ]
    },
    {
     "name": "stdout",
     "output_type": "stream",
     "text": [
      "Number of boxes found:  0\n",
      "iterations:  459\n",
      "heatmap len:  10\n",
      "Number of boxes found:  3\n",
      "Number of boxes found:  2\n",
      "Number of boxes found:  3\n"
     ]
    },
    {
     "name": "stderr",
     "output_type": "stream",
     "text": [
      "\r",
      " 36%|███▌      | 452/1261 [20:33<38:03,  2.82s/it]"
     ]
    },
    {
     "name": "stdout",
     "output_type": "stream",
     "text": [
      "Number of boxes found:  0\n",
      "iterations:  460\n",
      "heatmap len:  10\n",
      "Number of boxes found:  2\n",
      "Number of boxes found:  3\n",
      "Number of boxes found:  2\n"
     ]
    },
    {
     "name": "stderr",
     "output_type": "stream",
     "text": [
      "\r",
      " 36%|███▌      | 453/1261 [20:36<37:29,  2.78s/it]"
     ]
    },
    {
     "name": "stdout",
     "output_type": "stream",
     "text": [
      "Number of boxes found:  0\n",
      "iterations:  461\n",
      "heatmap len:  10\n",
      "Number of boxes found:  2\n",
      "Number of boxes found:  2\n",
      "Number of boxes found:  2\n"
     ]
    },
    {
     "name": "stderr",
     "output_type": "stream",
     "text": [
      "\r",
      " 36%|███▌      | 454/1261 [20:38<37:14,  2.77s/it]"
     ]
    },
    {
     "name": "stdout",
     "output_type": "stream",
     "text": [
      "Number of boxes found:  0\n",
      "iterations:  462\n",
      "heatmap len:  10\n",
      "Number of boxes found:  2\n",
      "Number of boxes found:  2\n",
      "Number of boxes found:  2\n"
     ]
    },
    {
     "name": "stderr",
     "output_type": "stream",
     "text": [
      "\r",
      " 36%|███▌      | 455/1261 [20:41<37:09,  2.77s/it]"
     ]
    },
    {
     "name": "stdout",
     "output_type": "stream",
     "text": [
      "Number of boxes found:  0\n",
      "iterations:  463\n",
      "heatmap len:  10\n",
      "Number of boxes found:  3\n",
      "Number of boxes found:  2\n",
      "Number of boxes found:  3\n"
     ]
    },
    {
     "name": "stderr",
     "output_type": "stream",
     "text": [
      "\r",
      " 36%|███▌      | 456/1261 [20:44<36:56,  2.75s/it]"
     ]
    },
    {
     "name": "stdout",
     "output_type": "stream",
     "text": [
      "Number of boxes found:  0\n",
      "iterations:  464\n",
      "heatmap len:  10\n",
      "Number of boxes found:  1\n",
      "Number of boxes found:  2\n",
      "Number of boxes found:  3\n"
     ]
    },
    {
     "name": "stderr",
     "output_type": "stream",
     "text": [
      "\r",
      " 36%|███▌      | 457/1261 [20:47<36:47,  2.75s/it]"
     ]
    },
    {
     "name": "stdout",
     "output_type": "stream",
     "text": [
      "Number of boxes found:  0\n",
      "iterations:  465\n",
      "heatmap len:  10\n",
      "Number of boxes found:  2\n",
      "Number of boxes found:  2\n",
      "Number of boxes found:  3\n"
     ]
    },
    {
     "name": "stderr",
     "output_type": "stream",
     "text": [
      "\r",
      " 36%|███▋      | 458/1261 [20:49<36:46,  2.75s/it]"
     ]
    },
    {
     "name": "stdout",
     "output_type": "stream",
     "text": [
      "Number of boxes found:  0\n",
      "iterations:  466\n",
      "heatmap len:  10\n",
      "Number of boxes found:  2\n",
      "Number of boxes found:  2\n",
      "Number of boxes found:  3\n"
     ]
    },
    {
     "name": "stderr",
     "output_type": "stream",
     "text": [
      "\r",
      " 36%|███▋      | 459/1261 [20:52<36:34,  2.74s/it]"
     ]
    },
    {
     "name": "stdout",
     "output_type": "stream",
     "text": [
      "Number of boxes found:  1\n",
      "iterations:  467\n",
      "heatmap len:  10\n",
      "Number of boxes found:  1\n",
      "Number of boxes found:  2\n",
      "Number of boxes found:  3\n"
     ]
    },
    {
     "name": "stderr",
     "output_type": "stream",
     "text": [
      "\r",
      " 36%|███▋      | 460/1261 [20:55<36:43,  2.75s/it]"
     ]
    },
    {
     "name": "stdout",
     "output_type": "stream",
     "text": [
      "Number of boxes found:  0\n",
      "iterations:  468\n",
      "heatmap len:  10\n",
      "Number of boxes found:  1\n",
      "Number of boxes found:  2\n",
      "Number of boxes found:  3\n"
     ]
    },
    {
     "name": "stderr",
     "output_type": "stream",
     "text": [
      "\r",
      " 37%|███▋      | 461/1261 [20:58<36:41,  2.75s/it]"
     ]
    },
    {
     "name": "stdout",
     "output_type": "stream",
     "text": [
      "Number of boxes found:  0\n",
      "iterations:  469\n",
      "heatmap len:  10\n",
      "Number of boxes found:  1\n",
      "Number of boxes found:  3\n",
      "Number of boxes found:  3\n"
     ]
    },
    {
     "name": "stderr",
     "output_type": "stream",
     "text": [
      "\r",
      " 37%|███▋      | 462/1261 [21:00<36:38,  2.75s/it]"
     ]
    },
    {
     "name": "stdout",
     "output_type": "stream",
     "text": [
      "Number of boxes found:  0\n",
      "iterations:  470\n",
      "heatmap len:  10\n",
      "Number of boxes found:  3\n",
      "Number of boxes found:  4\n",
      "Number of boxes found:  3\n"
     ]
    },
    {
     "name": "stderr",
     "output_type": "stream",
     "text": [
      "\r",
      " 37%|███▋      | 463/1261 [21:03<36:37,  2.75s/it]"
     ]
    },
    {
     "name": "stdout",
     "output_type": "stream",
     "text": [
      "Number of boxes found:  0\n",
      "iterations:  471\n",
      "heatmap len:  10\n",
      "Number of boxes found:  3\n",
      "Number of boxes found:  3\n",
      "Number of boxes found:  3\n"
     ]
    },
    {
     "name": "stderr",
     "output_type": "stream",
     "text": [
      "\r",
      " 37%|███▋      | 464/1261 [21:06<37:10,  2.80s/it]"
     ]
    },
    {
     "name": "stdout",
     "output_type": "stream",
     "text": [
      "Number of boxes found:  0\n",
      "iterations:  472\n",
      "heatmap len:  10\n",
      "Number of boxes found:  2\n",
      "Number of boxes found:  4\n",
      "Number of boxes found:  3\n"
     ]
    },
    {
     "name": "stderr",
     "output_type": "stream",
     "text": [
      "\r",
      " 37%|███▋      | 465/1261 [21:09<37:38,  2.84s/it]"
     ]
    },
    {
     "name": "stdout",
     "output_type": "stream",
     "text": [
      "Number of boxes found:  0\n",
      "iterations:  473\n",
      "heatmap len:  10\n",
      "Number of boxes found:  4\n",
      "Number of boxes found:  2\n",
      "Number of boxes found:  3\n"
     ]
    },
    {
     "name": "stderr",
     "output_type": "stream",
     "text": [
      "\r",
      " 37%|███▋      | 466/1261 [21:12<37:33,  2.83s/it]"
     ]
    },
    {
     "name": "stdout",
     "output_type": "stream",
     "text": [
      "Number of boxes found:  1\n",
      "iterations:  474\n",
      "heatmap len:  10\n",
      "Number of boxes found:  4\n",
      "Number of boxes found:  2\n",
      "Number of boxes found:  3\n"
     ]
    },
    {
     "name": "stderr",
     "output_type": "stream",
     "text": [
      "\r",
      " 37%|███▋      | 467/1261 [21:14<37:06,  2.80s/it]"
     ]
    },
    {
     "name": "stdout",
     "output_type": "stream",
     "text": [
      "Number of boxes found:  2\n",
      "iterations:  475\n",
      "heatmap len:  10\n",
      "Number of boxes found:  2\n",
      "Number of boxes found:  3\n",
      "Number of boxes found:  3\n"
     ]
    },
    {
     "name": "stderr",
     "output_type": "stream",
     "text": [
      "\r",
      " 37%|███▋      | 468/1261 [21:17<37:31,  2.84s/it]"
     ]
    },
    {
     "name": "stdout",
     "output_type": "stream",
     "text": [
      "Number of boxes found:  1\n",
      "iterations:  476\n",
      "heatmap len:  10\n",
      "Number of boxes found:  3\n",
      "Number of boxes found:  2\n",
      "Number of boxes found:  3\n"
     ]
    },
    {
     "name": "stderr",
     "output_type": "stream",
     "text": [
      "\r",
      " 37%|███▋      | 469/1261 [21:20<37:33,  2.85s/it]"
     ]
    },
    {
     "name": "stdout",
     "output_type": "stream",
     "text": [
      "Number of boxes found:  2\n",
      "iterations:  477\n",
      "heatmap len:  10\n",
      "Number of boxes found:  3\n",
      "Number of boxes found:  4\n",
      "Number of boxes found:  4\n"
     ]
    },
    {
     "name": "stderr",
     "output_type": "stream",
     "text": [
      "\r",
      " 37%|███▋      | 470/1261 [21:23<38:27,  2.92s/it]"
     ]
    },
    {
     "name": "stdout",
     "output_type": "stream",
     "text": [
      "Number of boxes found:  2\n",
      "iterations:  478\n",
      "heatmap len:  10\n",
      "Number of boxes found:  1\n",
      "Number of boxes found:  2\n",
      "Number of boxes found:  4\n"
     ]
    },
    {
     "name": "stderr",
     "output_type": "stream",
     "text": [
      "\r",
      " 37%|███▋      | 471/1261 [21:26<37:59,  2.89s/it]"
     ]
    },
    {
     "name": "stdout",
     "output_type": "stream",
     "text": [
      "Number of boxes found:  2\n",
      "iterations:  479\n",
      "heatmap len:  10\n",
      "Number of boxes found:  2\n",
      "Number of boxes found:  4\n",
      "Number of boxes found:  4\n"
     ]
    },
    {
     "name": "stderr",
     "output_type": "stream",
     "text": [
      "\r",
      " 37%|███▋      | 472/1261 [21:29<37:55,  2.88s/it]"
     ]
    },
    {
     "name": "stdout",
     "output_type": "stream",
     "text": [
      "Number of boxes found:  2\n",
      "iterations:  480\n",
      "heatmap len:  10\n",
      "Number of boxes found:  2\n",
      "Number of boxes found:  4\n",
      "Number of boxes found:  4\n"
     ]
    },
    {
     "name": "stderr",
     "output_type": "stream",
     "text": [
      "\r",
      " 38%|███▊      | 473/1261 [21:32<37:30,  2.86s/it]"
     ]
    },
    {
     "name": "stdout",
     "output_type": "stream",
     "text": [
      "Number of boxes found:  1\n",
      "iterations:  481\n",
      "heatmap len:  10\n",
      "Number of boxes found:  2\n",
      "Number of boxes found:  4\n",
      "Number of boxes found:  4\n"
     ]
    },
    {
     "name": "stderr",
     "output_type": "stream",
     "text": [
      "\r",
      " 38%|███▊      | 474/1261 [21:35<37:08,  2.83s/it]"
     ]
    },
    {
     "name": "stdout",
     "output_type": "stream",
     "text": [
      "Number of boxes found:  1\n",
      "iterations:  482\n",
      "heatmap len:  10\n",
      "Number of boxes found:  3\n",
      "Number of boxes found:  4\n",
      "Number of boxes found:  5\n"
     ]
    },
    {
     "name": "stderr",
     "output_type": "stream",
     "text": [
      "\r",
      " 38%|███▊      | 475/1261 [21:37<36:42,  2.80s/it]"
     ]
    },
    {
     "name": "stdout",
     "output_type": "stream",
     "text": [
      "Number of boxes found:  1\n",
      "iterations:  483\n",
      "heatmap len:  10\n",
      "Number of boxes found:  2\n",
      "Number of boxes found:  4\n",
      "Number of boxes found:  4\n"
     ]
    },
    {
     "name": "stderr",
     "output_type": "stream",
     "text": [
      "\r",
      " 38%|███▊      | 476/1261 [21:40<36:33,  2.79s/it]"
     ]
    },
    {
     "name": "stdout",
     "output_type": "stream",
     "text": [
      "Number of boxes found:  0\n",
      "iterations:  484\n",
      "heatmap len:  10\n",
      "Number of boxes found:  2\n",
      "Number of boxes found:  3\n",
      "Number of boxes found:  2\n"
     ]
    },
    {
     "name": "stderr",
     "output_type": "stream",
     "text": [
      "\r",
      " 38%|███▊      | 477/1261 [21:43<36:29,  2.79s/it]"
     ]
    },
    {
     "name": "stdout",
     "output_type": "stream",
     "text": [
      "Number of boxes found:  0\n",
      "iterations:  485\n",
      "heatmap len:  10\n",
      "Number of boxes found:  3\n",
      "Number of boxes found:  4\n",
      "Number of boxes found:  3\n"
     ]
    },
    {
     "name": "stderr",
     "output_type": "stream",
     "text": [
      "\r",
      " 38%|███▊      | 478/1261 [21:46<36:15,  2.78s/it]"
     ]
    },
    {
     "name": "stdout",
     "output_type": "stream",
     "text": [
      "Number of boxes found:  0\n",
      "iterations:  486\n",
      "heatmap len:  10\n",
      "Number of boxes found:  3\n",
      "Number of boxes found:  4\n",
      "Number of boxes found:  2\n"
     ]
    },
    {
     "name": "stderr",
     "output_type": "stream",
     "text": [
      "\r",
      " 38%|███▊      | 479/1261 [21:48<36:28,  2.80s/it]"
     ]
    },
    {
     "name": "stdout",
     "output_type": "stream",
     "text": [
      "Number of boxes found:  0\n",
      "iterations:  487\n",
      "heatmap len:  10\n",
      "Number of boxes found:  5\n",
      "Number of boxes found:  4\n",
      "Number of boxes found:  3\n"
     ]
    },
    {
     "name": "stderr",
     "output_type": "stream",
     "text": [
      "\r",
      " 38%|███▊      | 480/1261 [21:51<36:29,  2.80s/it]"
     ]
    },
    {
     "name": "stdout",
     "output_type": "stream",
     "text": [
      "Number of boxes found:  1\n",
      "iterations:  488\n",
      "heatmap len:  10\n",
      "Number of boxes found:  1\n",
      "Number of boxes found:  3\n",
      "Number of boxes found:  1\n"
     ]
    },
    {
     "name": "stderr",
     "output_type": "stream",
     "text": [
      "\r",
      " 38%|███▊      | 481/1261 [21:54<36:17,  2.79s/it]"
     ]
    },
    {
     "name": "stdout",
     "output_type": "stream",
     "text": [
      "Number of boxes found:  0\n",
      "iterations:  489\n",
      "heatmap len:  10\n",
      "Number of boxes found:  2\n",
      "Number of boxes found:  2\n",
      "Number of boxes found:  1\n"
     ]
    },
    {
     "name": "stderr",
     "output_type": "stream",
     "text": [
      "\r",
      " 38%|███▊      | 482/1261 [21:57<36:06,  2.78s/it]"
     ]
    },
    {
     "name": "stdout",
     "output_type": "stream",
     "text": [
      "Number of boxes found:  0\n",
      "iterations:  490\n",
      "heatmap len:  10\n",
      "Number of boxes found:  2\n",
      "Number of boxes found:  3\n",
      "Number of boxes found:  1\n"
     ]
    },
    {
     "name": "stderr",
     "output_type": "stream",
     "text": [
      "\r",
      " 38%|███▊      | 483/1261 [21:59<35:43,  2.76s/it]"
     ]
    },
    {
     "name": "stdout",
     "output_type": "stream",
     "text": [
      "Number of boxes found:  1\n",
      "iterations:  491\n",
      "heatmap len:  10\n",
      "Number of boxes found:  1\n",
      "Number of boxes found:  2\n",
      "Number of boxes found:  2\n"
     ]
    },
    {
     "name": "stderr",
     "output_type": "stream",
     "text": [
      "\r",
      " 38%|███▊      | 484/1261 [22:02<35:30,  2.74s/it]"
     ]
    },
    {
     "name": "stdout",
     "output_type": "stream",
     "text": [
      "Number of boxes found:  0\n",
      "iterations:  492\n",
      "heatmap len:  10\n",
      "Number of boxes found:  1\n",
      "Number of boxes found:  2\n",
      "Number of boxes found:  2\n"
     ]
    },
    {
     "name": "stderr",
     "output_type": "stream",
     "text": [
      "\r",
      " 38%|███▊      | 485/1261 [22:05<35:27,  2.74s/it]"
     ]
    },
    {
     "name": "stdout",
     "output_type": "stream",
     "text": [
      "Number of boxes found:  0\n",
      "iterations:  493\n",
      "heatmap len:  10\n",
      "Number of boxes found:  2\n",
      "Number of boxes found:  3\n",
      "Number of boxes found:  2\n"
     ]
    },
    {
     "name": "stderr",
     "output_type": "stream",
     "text": [
      "\r",
      " 39%|███▊      | 486/1261 [22:08<35:19,  2.73s/it]"
     ]
    },
    {
     "name": "stdout",
     "output_type": "stream",
     "text": [
      "Number of boxes found:  0\n",
      "iterations:  494\n",
      "heatmap len:  10\n",
      "Number of boxes found:  4\n",
      "Number of boxes found:  3\n",
      "Number of boxes found:  2\n"
     ]
    },
    {
     "name": "stderr",
     "output_type": "stream",
     "text": [
      "\r",
      " 39%|███▊      | 487/1261 [22:10<35:00,  2.71s/it]"
     ]
    },
    {
     "name": "stdout",
     "output_type": "stream",
     "text": [
      "Number of boxes found:  0\n",
      "iterations:  495\n",
      "heatmap len:  10\n",
      "Number of boxes found:  3\n",
      "Number of boxes found:  3\n",
      "Number of boxes found:  2\n"
     ]
    },
    {
     "name": "stderr",
     "output_type": "stream",
     "text": [
      "\r",
      " 39%|███▊      | 488/1261 [22:13<34:49,  2.70s/it]"
     ]
    },
    {
     "name": "stdout",
     "output_type": "stream",
     "text": [
      "Number of boxes found:  0\n",
      "iterations:  496\n",
      "heatmap len:  10\n",
      "Number of boxes found:  2\n",
      "Number of boxes found:  2\n",
      "Number of boxes found:  3\n"
     ]
    },
    {
     "name": "stderr",
     "output_type": "stream",
     "text": [
      "\r",
      " 39%|███▉      | 489/1261 [22:16<34:35,  2.69s/it]"
     ]
    },
    {
     "name": "stdout",
     "output_type": "stream",
     "text": [
      "Number of boxes found:  0\n",
      "iterations:  497\n",
      "heatmap len:  10\n",
      "Number of boxes found:  3\n",
      "Number of boxes found:  2\n",
      "Number of boxes found:  2\n"
     ]
    },
    {
     "name": "stderr",
     "output_type": "stream",
     "text": [
      "\r",
      " 39%|███▉      | 490/1261 [22:18<34:23,  2.68s/it]"
     ]
    },
    {
     "name": "stdout",
     "output_type": "stream",
     "text": [
      "Number of boxes found:  0\n",
      "iterations:  498\n",
      "heatmap len:  10\n",
      "Number of boxes found:  4\n",
      "Number of boxes found:  4\n",
      "Number of boxes found:  2\n"
     ]
    },
    {
     "name": "stderr",
     "output_type": "stream",
     "text": [
      "\r",
      " 39%|███▉      | 491/1261 [22:21<34:21,  2.68s/it]"
     ]
    },
    {
     "name": "stdout",
     "output_type": "stream",
     "text": [
      "Number of boxes found:  1\n",
      "iterations:  499\n",
      "heatmap len:  10\n",
      "Number of boxes found:  4\n",
      "Number of boxes found:  1\n",
      "Number of boxes found:  3\n"
     ]
    },
    {
     "name": "stderr",
     "output_type": "stream",
     "text": [
      "\r",
      " 39%|███▉      | 492/1261 [22:24<35:04,  2.74s/it]"
     ]
    },
    {
     "name": "stdout",
     "output_type": "stream",
     "text": [
      "Number of boxes found:  1\n",
      "iterations:  500\n",
      "heatmap len:  10\n",
      "Number of boxes found:  4\n",
      "Number of boxes found:  1\n",
      "Number of boxes found:  3\n"
     ]
    },
    {
     "name": "stderr",
     "output_type": "stream",
     "text": [
      "\r",
      " 39%|███▉      | 493/1261 [22:27<34:48,  2.72s/it]"
     ]
    },
    {
     "name": "stdout",
     "output_type": "stream",
     "text": [
      "Number of boxes found:  1\n",
      "iterations:  501\n",
      "heatmap len:  10\n",
      "Number of boxes found:  3\n",
      "Number of boxes found:  3\n",
      "Number of boxes found:  2\n"
     ]
    },
    {
     "name": "stderr",
     "output_type": "stream",
     "text": [
      "\r",
      " 39%|███▉      | 494/1261 [22:29<34:41,  2.71s/it]"
     ]
    },
    {
     "name": "stdout",
     "output_type": "stream",
     "text": [
      "Number of boxes found:  0\n",
      "iterations:  502\n",
      "heatmap len:  10\n",
      "Number of boxes found:  4\n",
      "Number of boxes found:  1\n",
      "Number of boxes found:  2\n"
     ]
    },
    {
     "name": "stderr",
     "output_type": "stream",
     "text": [
      "\r",
      " 39%|███▉      | 495/1261 [22:32<34:42,  2.72s/it]"
     ]
    },
    {
     "name": "stdout",
     "output_type": "stream",
     "text": [
      "Number of boxes found:  0\n",
      "iterations:  503\n",
      "heatmap len:  10\n",
      "Number of boxes found:  5\n",
      "Number of boxes found:  2\n",
      "Number of boxes found:  1\n"
     ]
    },
    {
     "name": "stderr",
     "output_type": "stream",
     "text": [
      "\r",
      " 39%|███▉      | 496/1261 [22:35<34:48,  2.73s/it]"
     ]
    },
    {
     "name": "stdout",
     "output_type": "stream",
     "text": [
      "Number of boxes found:  0\n",
      "iterations:  504\n",
      "heatmap len:  10\n",
      "Number of boxes found:  4\n",
      "Number of boxes found:  2\n",
      "Number of boxes found:  2\n"
     ]
    },
    {
     "name": "stderr",
     "output_type": "stream",
     "text": [
      "\r",
      " 39%|███▉      | 497/1261 [22:37<34:45,  2.73s/it]"
     ]
    },
    {
     "name": "stdout",
     "output_type": "stream",
     "text": [
      "Number of boxes found:  0\n",
      "iterations:  505\n",
      "heatmap len:  10\n",
      "Number of boxes found:  2\n",
      "Number of boxes found:  3\n",
      "Number of boxes found:  3\n"
     ]
    },
    {
     "name": "stderr",
     "output_type": "stream",
     "text": [
      "\r",
      " 39%|███▉      | 498/1261 [22:40<34:37,  2.72s/it]"
     ]
    },
    {
     "name": "stdout",
     "output_type": "stream",
     "text": [
      "Number of boxes found:  0\n",
      "iterations:  506\n",
      "heatmap len:  10\n",
      "Number of boxes found:  6\n",
      "Number of boxes found:  3\n",
      "Number of boxes found:  3\n"
     ]
    },
    {
     "name": "stderr",
     "output_type": "stream",
     "text": [
      "\r",
      " 40%|███▉      | 499/1261 [22:43<34:40,  2.73s/it]"
     ]
    },
    {
     "name": "stdout",
     "output_type": "stream",
     "text": [
      "Number of boxes found:  0\n",
      "iterations:  507\n",
      "heatmap len:  10\n",
      "Number of boxes found:  5\n",
      "Number of boxes found:  4\n",
      "Number of boxes found:  1\n"
     ]
    },
    {
     "name": "stderr",
     "output_type": "stream",
     "text": [
      "\r",
      " 40%|███▉      | 500/1261 [22:46<34:34,  2.73s/it]"
     ]
    },
    {
     "name": "stdout",
     "output_type": "stream",
     "text": [
      "Number of boxes found:  0\n",
      "iterations:  508\n",
      "heatmap len:  10\n",
      "Number of boxes found:  4\n",
      "Number of boxes found:  4\n",
      "Number of boxes found:  2\n"
     ]
    },
    {
     "name": "stderr",
     "output_type": "stream",
     "text": [
      "\r",
      " 40%|███▉      | 501/1261 [22:48<34:48,  2.75s/it]"
     ]
    },
    {
     "name": "stdout",
     "output_type": "stream",
     "text": [
      "Number of boxes found:  1\n",
      "iterations:  509\n",
      "heatmap len:  10\n",
      "Number of boxes found:  3\n",
      "Number of boxes found:  4\n",
      "Number of boxes found:  1\n"
     ]
    },
    {
     "name": "stderr",
     "output_type": "stream",
     "text": [
      "\r",
      " 40%|███▉      | 502/1261 [22:51<34:41,  2.74s/it]"
     ]
    },
    {
     "name": "stdout",
     "output_type": "stream",
     "text": [
      "Number of boxes found:  0\n",
      "iterations:  510\n",
      "heatmap len:  10\n",
      "Number of boxes found:  2\n",
      "Number of boxes found:  5\n",
      "Number of boxes found:  1\n"
     ]
    },
    {
     "name": "stderr",
     "output_type": "stream",
     "text": [
      "\r",
      " 40%|███▉      | 503/1261 [22:54<34:37,  2.74s/it]"
     ]
    },
    {
     "name": "stdout",
     "output_type": "stream",
     "text": [
      "Number of boxes found:  0\n",
      "iterations:  511\n",
      "heatmap len:  10\n",
      "Number of boxes found:  6\n",
      "Number of boxes found:  4\n",
      "Number of boxes found:  1\n"
     ]
    },
    {
     "name": "stderr",
     "output_type": "stream",
     "text": [
      "\r",
      " 40%|███▉      | 504/1261 [22:57<34:33,  2.74s/it]"
     ]
    },
    {
     "name": "stdout",
     "output_type": "stream",
     "text": [
      "Number of boxes found:  0\n",
      "iterations:  512\n",
      "heatmap len:  10\n",
      "Number of boxes found:  2\n",
      "Number of boxes found:  2\n",
      "Number of boxes found:  2\n"
     ]
    },
    {
     "name": "stderr",
     "output_type": "stream",
     "text": [
      "\r",
      " 40%|████      | 505/1261 [22:59<34:33,  2.74s/it]"
     ]
    },
    {
     "name": "stdout",
     "output_type": "stream",
     "text": [
      "Number of boxes found:  0\n",
      "iterations:  513\n",
      "heatmap len:  10\n",
      "Number of boxes found:  3\n",
      "Number of boxes found:  4\n",
      "Number of boxes found:  1\n"
     ]
    },
    {
     "name": "stderr",
     "output_type": "stream",
     "text": [
      "\r",
      " 40%|████      | 506/1261 [23:02<34:11,  2.72s/it]"
     ]
    },
    {
     "name": "stdout",
     "output_type": "stream",
     "text": [
      "Number of boxes found:  0\n",
      "iterations:  514\n",
      "heatmap len:  10\n",
      "Number of boxes found:  1\n",
      "Number of boxes found:  5\n",
      "Number of boxes found:  1\n"
     ]
    },
    {
     "name": "stderr",
     "output_type": "stream",
     "text": [
      "\r",
      " 40%|████      | 507/1261 [23:05<34:13,  2.72s/it]"
     ]
    },
    {
     "name": "stdout",
     "output_type": "stream",
     "text": [
      "Number of boxes found:  0\n",
      "iterations:  515\n",
      "heatmap len:  10\n",
      "Number of boxes found:  0\n",
      "Number of boxes found:  4\n",
      "Number of boxes found:  1\n"
     ]
    },
    {
     "name": "stderr",
     "output_type": "stream",
     "text": [
      "\r",
      " 40%|████      | 508/1261 [23:08<34:23,  2.74s/it]"
     ]
    },
    {
     "name": "stdout",
     "output_type": "stream",
     "text": [
      "Number of boxes found:  0\n",
      "iterations:  516\n",
      "heatmap len:  10\n",
      "Number of boxes found:  4\n",
      "Number of boxes found:  4\n",
      "Number of boxes found:  1\n"
     ]
    },
    {
     "name": "stderr",
     "output_type": "stream",
     "text": [
      "\r",
      " 40%|████      | 509/1261 [23:10<34:21,  2.74s/it]"
     ]
    },
    {
     "name": "stdout",
     "output_type": "stream",
     "text": [
      "Number of boxes found:  0\n",
      "iterations:  517\n",
      "heatmap len:  10\n",
      "Number of boxes found:  2\n",
      "Number of boxes found:  3\n",
      "Number of boxes found:  1\n"
     ]
    },
    {
     "name": "stderr",
     "output_type": "stream",
     "text": [
      "\r",
      " 40%|████      | 510/1261 [23:13<33:57,  2.71s/it]"
     ]
    },
    {
     "name": "stdout",
     "output_type": "stream",
     "text": [
      "Number of boxes found:  0\n",
      "iterations:  518\n",
      "heatmap len:  10\n",
      "Number of boxes found:  3\n",
      "Number of boxes found:  2\n",
      "Number of boxes found:  1\n"
     ]
    },
    {
     "name": "stderr",
     "output_type": "stream",
     "text": [
      "\r",
      " 41%|████      | 511/1261 [23:16<33:52,  2.71s/it]"
     ]
    },
    {
     "name": "stdout",
     "output_type": "stream",
     "text": [
      "Number of boxes found:  0\n",
      "iterations:  519\n",
      "heatmap len:  10\n",
      "Number of boxes found:  2\n",
      "Number of boxes found:  3\n",
      "Number of boxes found:  1\n"
     ]
    },
    {
     "name": "stderr",
     "output_type": "stream",
     "text": [
      "\r",
      " 41%|████      | 512/1261 [23:18<33:36,  2.69s/it]"
     ]
    },
    {
     "name": "stdout",
     "output_type": "stream",
     "text": [
      "Number of boxes found:  0\n",
      "iterations:  520\n",
      "heatmap len:  10\n",
      "Number of boxes found:  4\n",
      "Number of boxes found:  2\n",
      "Number of boxes found:  1\n"
     ]
    },
    {
     "name": "stderr",
     "output_type": "stream",
     "text": [
      "\r",
      " 41%|████      | 513/1261 [23:21<33:52,  2.72s/it]"
     ]
    },
    {
     "name": "stdout",
     "output_type": "stream",
     "text": [
      "Number of boxes found:  1\n",
      "iterations:  521\n",
      "heatmap len:  10\n",
      "Number of boxes found:  3\n",
      "Number of boxes found:  2\n",
      "Number of boxes found:  1\n"
     ]
    },
    {
     "name": "stderr",
     "output_type": "stream",
     "text": [
      "\r",
      " 41%|████      | 514/1261 [23:24<34:01,  2.73s/it]"
     ]
    },
    {
     "name": "stdout",
     "output_type": "stream",
     "text": [
      "Number of boxes found:  0\n",
      "iterations:  522\n",
      "heatmap len:  10\n",
      "Number of boxes found:  2\n",
      "Number of boxes found:  2\n",
      "Number of boxes found:  1\n"
     ]
    },
    {
     "name": "stderr",
     "output_type": "stream",
     "text": [
      "\r",
      " 41%|████      | 515/1261 [23:27<33:57,  2.73s/it]"
     ]
    },
    {
     "name": "stdout",
     "output_type": "stream",
     "text": [
      "Number of boxes found:  0\n",
      "iterations:  523\n",
      "heatmap len:  10\n",
      "Number of boxes found:  2\n",
      "Number of boxes found:  2\n",
      "Number of boxes found:  1\n"
     ]
    },
    {
     "name": "stderr",
     "output_type": "stream",
     "text": [
      "\r",
      " 41%|████      | 516/1261 [23:29<33:53,  2.73s/it]"
     ]
    },
    {
     "name": "stdout",
     "output_type": "stream",
     "text": [
      "Number of boxes found:  0\n",
      "iterations:  524\n",
      "heatmap len:  10\n",
      "Number of boxes found:  2\n",
      "Number of boxes found:  2\n",
      "Number of boxes found:  1\n"
     ]
    },
    {
     "name": "stderr",
     "output_type": "stream",
     "text": [
      "\r",
      " 41%|████      | 517/1261 [23:32<33:47,  2.72s/it]"
     ]
    },
    {
     "name": "stdout",
     "output_type": "stream",
     "text": [
      "Number of boxes found:  0\n",
      "iterations:  525\n",
      "heatmap len:  10\n",
      "Number of boxes found:  3\n",
      "Number of boxes found:  2\n",
      "Number of boxes found:  1\n"
     ]
    },
    {
     "name": "stderr",
     "output_type": "stream",
     "text": [
      "\r",
      " 41%|████      | 518/1261 [23:35<33:23,  2.70s/it]"
     ]
    },
    {
     "name": "stdout",
     "output_type": "stream",
     "text": [
      "Number of boxes found:  0\n",
      "iterations:  526\n",
      "heatmap len:  10\n",
      "Number of boxes found:  2\n",
      "Number of boxes found:  2\n",
      "Number of boxes found:  1\n"
     ]
    },
    {
     "name": "stderr",
     "output_type": "stream",
     "text": [
      "\r",
      " 41%|████      | 519/1261 [23:37<33:33,  2.71s/it]"
     ]
    },
    {
     "name": "stdout",
     "output_type": "stream",
     "text": [
      "Number of boxes found:  0\n",
      "iterations:  527\n",
      "heatmap len:  10\n",
      "Number of boxes found:  2\n",
      "Number of boxes found:  2\n",
      "Number of boxes found:  2\n"
     ]
    },
    {
     "name": "stderr",
     "output_type": "stream",
     "text": [
      "\r",
      " 41%|████      | 520/1261 [23:40<33:16,  2.69s/it]"
     ]
    },
    {
     "name": "stdout",
     "output_type": "stream",
     "text": [
      "Number of boxes found:  0\n",
      "iterations:  528\n",
      "heatmap len:  10\n",
      "Number of boxes found:  2\n",
      "Number of boxes found:  2\n",
      "Number of boxes found:  2\n"
     ]
    },
    {
     "name": "stderr",
     "output_type": "stream",
     "text": [
      "\r",
      " 41%|████▏     | 521/1261 [23:43<33:13,  2.69s/it]"
     ]
    },
    {
     "name": "stdout",
     "output_type": "stream",
     "text": [
      "Number of boxes found:  0\n",
      "iterations:  529\n",
      "heatmap len:  10\n",
      "Number of boxes found:  2\n",
      "Number of boxes found:  2\n",
      "Number of boxes found:  2\n"
     ]
    },
    {
     "name": "stderr",
     "output_type": "stream",
     "text": [
      "\r",
      " 41%|████▏     | 522/1261 [23:45<32:59,  2.68s/it]"
     ]
    },
    {
     "name": "stdout",
     "output_type": "stream",
     "text": [
      "Number of boxes found:  0\n",
      "iterations:  530\n",
      "heatmap len:  10\n",
      "Number of boxes found:  2\n",
      "Number of boxes found:  2\n",
      "Number of boxes found:  2\n"
     ]
    },
    {
     "name": "stderr",
     "output_type": "stream",
     "text": [
      "\r",
      " 41%|████▏     | 523/1261 [23:48<33:00,  2.68s/it]"
     ]
    },
    {
     "name": "stdout",
     "output_type": "stream",
     "text": [
      "Number of boxes found:  0\n",
      "iterations:  531\n",
      "heatmap len:  10\n",
      "Number of boxes found:  5\n",
      "Number of boxes found:  2\n",
      "Number of boxes found:  2\n"
     ]
    },
    {
     "name": "stderr",
     "output_type": "stream",
     "text": [
      "\r",
      " 42%|████▏     | 524/1261 [23:51<33:07,  2.70s/it]"
     ]
    },
    {
     "name": "stdout",
     "output_type": "stream",
     "text": [
      "Number of boxes found:  0\n",
      "iterations:  532\n",
      "heatmap len:  10\n",
      "Number of boxes found:  3\n",
      "Number of boxes found:  2\n",
      "Number of boxes found:  2\n"
     ]
    },
    {
     "name": "stderr",
     "output_type": "stream",
     "text": [
      "\r",
      " 42%|████▏     | 525/1261 [23:53<32:50,  2.68s/it]"
     ]
    },
    {
     "name": "stdout",
     "output_type": "stream",
     "text": [
      "Number of boxes found:  0\n",
      "iterations:  533\n",
      "heatmap len:  10\n",
      "Number of boxes found:  6\n",
      "Number of boxes found:  2\n",
      "Number of boxes found:  1\n"
     ]
    },
    {
     "name": "stderr",
     "output_type": "stream",
     "text": [
      "\r",
      " 42%|████▏     | 526/1261 [23:56<32:47,  2.68s/it]"
     ]
    },
    {
     "name": "stdout",
     "output_type": "stream",
     "text": [
      "Number of boxes found:  0\n",
      "iterations:  534\n",
      "heatmap len:  10\n",
      "Number of boxes found:  4\n",
      "Number of boxes found:  3\n",
      "Number of boxes found:  1\n"
     ]
    },
    {
     "name": "stderr",
     "output_type": "stream",
     "text": [
      "\r",
      " 42%|████▏     | 527/1261 [23:59<32:37,  2.67s/it]"
     ]
    },
    {
     "name": "stdout",
     "output_type": "stream",
     "text": [
      "Number of boxes found:  0\n",
      "iterations:  535\n",
      "heatmap len:  10\n",
      "Number of boxes found:  4\n",
      "Number of boxes found:  3\n",
      "Number of boxes found:  2\n"
     ]
    },
    {
     "name": "stderr",
     "output_type": "stream",
     "text": [
      "\r",
      " 42%|████▏     | 528/1261 [24:01<32:29,  2.66s/it]"
     ]
    },
    {
     "name": "stdout",
     "output_type": "stream",
     "text": [
      "Number of boxes found:  0\n",
      "iterations:  536\n",
      "heatmap len:  10\n",
      "Number of boxes found:  4\n",
      "Number of boxes found:  5\n",
      "Number of boxes found:  2\n"
     ]
    },
    {
     "name": "stderr",
     "output_type": "stream",
     "text": [
      "\r",
      " 42%|████▏     | 529/1261 [24:04<32:17,  2.65s/it]"
     ]
    },
    {
     "name": "stdout",
     "output_type": "stream",
     "text": [
      "Number of boxes found:  0\n",
      "iterations:  537\n",
      "heatmap len:  10\n",
      "Number of boxes found:  4\n",
      "Number of boxes found:  2\n",
      "Number of boxes found:  1\n"
     ]
    },
    {
     "name": "stderr",
     "output_type": "stream",
     "text": [
      "\r",
      " 42%|████▏     | 530/1261 [24:07<32:24,  2.66s/it]"
     ]
    },
    {
     "name": "stdout",
     "output_type": "stream",
     "text": [
      "Number of boxes found:  0\n",
      "iterations:  538\n",
      "heatmap len:  10\n",
      "Number of boxes found:  5\n",
      "Number of boxes found:  2\n",
      "Number of boxes found:  1\n"
     ]
    },
    {
     "name": "stderr",
     "output_type": "stream",
     "text": [
      "\r",
      " 42%|████▏     | 531/1261 [24:09<32:39,  2.68s/it]"
     ]
    },
    {
     "name": "stdout",
     "output_type": "stream",
     "text": [
      "Number of boxes found:  0\n",
      "iterations:  539\n",
      "heatmap len:  10\n",
      "Number of boxes found:  3\n",
      "Number of boxes found:  2\n",
      "Number of boxes found:  4\n"
     ]
    },
    {
     "name": "stderr",
     "output_type": "stream",
     "text": [
      "\r",
      " 42%|████▏     | 532/1261 [24:12<32:38,  2.69s/it]"
     ]
    },
    {
     "name": "stdout",
     "output_type": "stream",
     "text": [
      "Number of boxes found:  0\n",
      "iterations:  540\n",
      "heatmap len:  10\n",
      "Number of boxes found:  2\n",
      "Number of boxes found:  2\n",
      "Number of boxes found:  2\n"
     ]
    },
    {
     "name": "stderr",
     "output_type": "stream",
     "text": [
      "\r",
      " 42%|████▏     | 533/1261 [24:15<32:46,  2.70s/it]"
     ]
    },
    {
     "name": "stdout",
     "output_type": "stream",
     "text": [
      "Number of boxes found:  0\n",
      "iterations:  541\n",
      "heatmap len:  10\n",
      "Number of boxes found:  3\n",
      "Number of boxes found:  1\n",
      "Number of boxes found:  3\n"
     ]
    },
    {
     "name": "stderr",
     "output_type": "stream",
     "text": [
      "\r",
      " 42%|████▏     | 534/1261 [24:18<32:35,  2.69s/it]"
     ]
    },
    {
     "name": "stdout",
     "output_type": "stream",
     "text": [
      "Number of boxes found:  0\n",
      "iterations:  542\n",
      "heatmap len:  10\n",
      "Number of boxes found:  3\n",
      "Number of boxes found:  1\n",
      "Number of boxes found:  1\n"
     ]
    },
    {
     "name": "stderr",
     "output_type": "stream",
     "text": [
      "\r",
      " 42%|████▏     | 535/1261 [24:20<32:28,  2.68s/it]"
     ]
    },
    {
     "name": "stdout",
     "output_type": "stream",
     "text": [
      "Number of boxes found:  1\n",
      "iterations:  543\n",
      "heatmap len:  10\n",
      "Number of boxes found:  5\n",
      "Number of boxes found:  3\n",
      "Number of boxes found:  2\n"
     ]
    },
    {
     "name": "stderr",
     "output_type": "stream",
     "text": [
      "\r",
      " 43%|████▎     | 536/1261 [24:23<32:53,  2.72s/it]"
     ]
    },
    {
     "name": "stdout",
     "output_type": "stream",
     "text": [
      "Number of boxes found:  1\n",
      "iterations:  544\n",
      "heatmap len:  10\n",
      "Number of boxes found:  5\n",
      "Number of boxes found:  3\n",
      "Number of boxes found:  1\n"
     ]
    },
    {
     "name": "stderr",
     "output_type": "stream",
     "text": [
      "\r",
      " 43%|████▎     | 537/1261 [24:26<33:06,  2.74s/it]"
     ]
    },
    {
     "name": "stdout",
     "output_type": "stream",
     "text": [
      "Number of boxes found:  1\n",
      "iterations:  545\n",
      "heatmap len:  10\n",
      "Number of boxes found:  2\n",
      "Number of boxes found:  4\n",
      "Number of boxes found:  2\n"
     ]
    },
    {
     "name": "stderr",
     "output_type": "stream",
     "text": [
      "\r",
      " 43%|████▎     | 538/1261 [24:29<33:00,  2.74s/it]"
     ]
    },
    {
     "name": "stdout",
     "output_type": "stream",
     "text": [
      "Number of boxes found:  1\n",
      "iterations:  546\n",
      "heatmap len:  10\n",
      "Number of boxes found:  2\n",
      "Number of boxes found:  3\n",
      "Number of boxes found:  2\n"
     ]
    },
    {
     "name": "stderr",
     "output_type": "stream",
     "text": [
      "\r",
      " 43%|████▎     | 539/1261 [24:31<32:49,  2.73s/it]"
     ]
    },
    {
     "name": "stdout",
     "output_type": "stream",
     "text": [
      "Number of boxes found:  0\n",
      "iterations:  547\n",
      "heatmap len:  10\n",
      "Number of boxes found:  2\n",
      "Number of boxes found:  2\n",
      "Number of boxes found:  1\n"
     ]
    },
    {
     "name": "stderr",
     "output_type": "stream",
     "text": [
      "\r",
      " 43%|████▎     | 540/1261 [24:34<32:55,  2.74s/it]"
     ]
    },
    {
     "name": "stdout",
     "output_type": "stream",
     "text": [
      "Number of boxes found:  0\n",
      "iterations:  548\n",
      "heatmap len:  10\n",
      "Number of boxes found:  2\n",
      "Number of boxes found:  2\n",
      "Number of boxes found:  1\n"
     ]
    },
    {
     "name": "stderr",
     "output_type": "stream",
     "text": [
      "\r",
      " 43%|████▎     | 541/1261 [24:37<32:51,  2.74s/it]"
     ]
    },
    {
     "name": "stdout",
     "output_type": "stream",
     "text": [
      "Number of boxes found:  0\n",
      "iterations:  549\n",
      "heatmap len:  10\n",
      "Number of boxes found:  5\n",
      "Number of boxes found:  1\n",
      "Number of boxes found:  1\n"
     ]
    },
    {
     "name": "stderr",
     "output_type": "stream",
     "text": [
      "\r",
      " 43%|████▎     | 542/1261 [24:40<33:15,  2.77s/it]"
     ]
    },
    {
     "name": "stdout",
     "output_type": "stream",
     "text": [
      "Number of boxes found:  0\n",
      "iterations:  550\n",
      "heatmap len:  10\n",
      "Number of boxes found:  5\n",
      "Number of boxes found:  2\n",
      "Number of boxes found:  1\n"
     ]
    },
    {
     "name": "stderr",
     "output_type": "stream",
     "text": [
      "\r",
      " 43%|████▎     | 543/1261 [24:42<33:28,  2.80s/it]"
     ]
    },
    {
     "name": "stdout",
     "output_type": "stream",
     "text": [
      "Number of boxes found:  0\n",
      "iterations:  551\n",
      "heatmap len:  10\n",
      "Number of boxes found:  4\n",
      "Number of boxes found:  1\n",
      "Number of boxes found:  1\n"
     ]
    },
    {
     "name": "stderr",
     "output_type": "stream",
     "text": [
      "\r",
      " 43%|████▎     | 544/1261 [24:45<33:20,  2.79s/it]"
     ]
    },
    {
     "name": "stdout",
     "output_type": "stream",
     "text": [
      "Number of boxes found:  1\n",
      "iterations:  552\n",
      "heatmap len:  10\n",
      "Number of boxes found:  5\n",
      "Number of boxes found:  2\n",
      "Number of boxes found:  1\n"
     ]
    },
    {
     "name": "stderr",
     "output_type": "stream",
     "text": [
      "\r",
      " 43%|████▎     | 545/1261 [24:48<34:18,  2.87s/it]"
     ]
    },
    {
     "name": "stdout",
     "output_type": "stream",
     "text": [
      "Number of boxes found:  0\n",
      "iterations:  553\n",
      "heatmap len:  10\n",
      "Number of boxes found:  3\n",
      "Number of boxes found:  2\n",
      "Number of boxes found:  1\n"
     ]
    },
    {
     "name": "stderr",
     "output_type": "stream",
     "text": [
      "\r",
      " 43%|████▎     | 546/1261 [24:51<34:12,  2.87s/it]"
     ]
    },
    {
     "name": "stdout",
     "output_type": "stream",
     "text": [
      "Number of boxes found:  0\n",
      "iterations:  554\n",
      "heatmap len:  10\n",
      "Number of boxes found:  6\n",
      "Number of boxes found:  1\n",
      "Number of boxes found:  1\n"
     ]
    },
    {
     "name": "stderr",
     "output_type": "stream",
     "text": [
      "\r",
      " 43%|████▎     | 547/1261 [24:54<33:50,  2.84s/it]"
     ]
    },
    {
     "name": "stdout",
     "output_type": "stream",
     "text": [
      "Number of boxes found:  0\n",
      "iterations:  555\n",
      "heatmap len:  10\n",
      "Number of boxes found:  5\n",
      "Number of boxes found:  2\n",
      "Number of boxes found:  1\n"
     ]
    },
    {
     "name": "stderr",
     "output_type": "stream",
     "text": [
      "\r",
      " 43%|████▎     | 548/1261 [24:57<33:31,  2.82s/it]"
     ]
    },
    {
     "name": "stdout",
     "output_type": "stream",
     "text": [
      "Number of boxes found:  0\n",
      "iterations:  556\n",
      "heatmap len:  10\n",
      "Number of boxes found:  4\n",
      "Number of boxes found:  4\n",
      "Number of boxes found:  1\n"
     ]
    },
    {
     "name": "stderr",
     "output_type": "stream",
     "text": [
      "\r",
      " 44%|████▎     | 549/1261 [25:00<33:44,  2.84s/it]"
     ]
    },
    {
     "name": "stdout",
     "output_type": "stream",
     "text": [
      "Number of boxes found:  0\n",
      "iterations:  557\n",
      "heatmap len:  10\n",
      "Number of boxes found:  0\n",
      "Number of boxes found:  3\n",
      "Number of boxes found:  1\n"
     ]
    },
    {
     "name": "stderr",
     "output_type": "stream",
     "text": [
      "\r",
      " 44%|████▎     | 550/1261 [25:02<33:37,  2.84s/it]"
     ]
    },
    {
     "name": "stdout",
     "output_type": "stream",
     "text": [
      "Number of boxes found:  0\n",
      "iterations:  558\n",
      "heatmap len:  10\n",
      "Number of boxes found:  2\n",
      "Number of boxes found:  3\n",
      "Number of boxes found:  1\n"
     ]
    },
    {
     "name": "stderr",
     "output_type": "stream",
     "text": [
      "\r",
      " 44%|████▎     | 551/1261 [25:05<33:35,  2.84s/it]"
     ]
    },
    {
     "name": "stdout",
     "output_type": "stream",
     "text": [
      "Number of boxes found:  0\n",
      "iterations:  559\n",
      "heatmap len:  10\n",
      "Number of boxes found:  1\n",
      "Number of boxes found:  3\n",
      "Number of boxes found:  1\n"
     ]
    },
    {
     "name": "stderr",
     "output_type": "stream",
     "text": [
      "\r",
      " 44%|████▍     | 552/1261 [25:08<33:23,  2.83s/it]"
     ]
    },
    {
     "name": "stdout",
     "output_type": "stream",
     "text": [
      "Number of boxes found:  0\n",
      "iterations:  560\n",
      "heatmap len:  10\n",
      "Number of boxes found:  0\n",
      "Number of boxes found:  3\n",
      "Number of boxes found:  1\n"
     ]
    },
    {
     "name": "stderr",
     "output_type": "stream",
     "text": [
      "\r",
      " 44%|████▍     | 553/1261 [25:11<34:06,  2.89s/it]"
     ]
    },
    {
     "name": "stdout",
     "output_type": "stream",
     "text": [
      "Number of boxes found:  0\n",
      "iterations:  561\n",
      "heatmap len:  10\n",
      "Number of boxes found:  0\n",
      "Number of boxes found:  3\n",
      "Number of boxes found:  1\n"
     ]
    },
    {
     "name": "stderr",
     "output_type": "stream",
     "text": [
      "\r",
      " 44%|████▍     | 554/1261 [25:14<34:27,  2.92s/it]"
     ]
    },
    {
     "name": "stdout",
     "output_type": "stream",
     "text": [
      "Number of boxes found:  0\n",
      "iterations:  562\n",
      "heatmap len:  10\n",
      "Number of boxes found:  0\n",
      "Number of boxes found:  4\n",
      "Number of boxes found:  1\n"
     ]
    },
    {
     "name": "stderr",
     "output_type": "stream",
     "text": [
      "\r",
      " 44%|████▍     | 555/1261 [25:17<33:57,  2.89s/it]"
     ]
    },
    {
     "name": "stdout",
     "output_type": "stream",
     "text": [
      "Number of boxes found:  0\n",
      "iterations:  563\n",
      "heatmap len:  10\n",
      "Number of boxes found:  0\n",
      "Number of boxes found:  4\n",
      "Number of boxes found:  1\n"
     ]
    },
    {
     "name": "stderr",
     "output_type": "stream",
     "text": [
      "\r",
      " 44%|████▍     | 556/1261 [25:20<34:04,  2.90s/it]"
     ]
    },
    {
     "name": "stdout",
     "output_type": "stream",
     "text": [
      "Number of boxes found:  0\n",
      "iterations:  564\n",
      "heatmap len:  10\n",
      "Number of boxes found:  1\n",
      "Number of boxes found:  2\n",
      "Number of boxes found:  1\n"
     ]
    },
    {
     "name": "stderr",
     "output_type": "stream",
     "text": [
      "\r",
      " 44%|████▍     | 557/1261 [25:23<33:45,  2.88s/it]"
     ]
    },
    {
     "name": "stdout",
     "output_type": "stream",
     "text": [
      "Number of boxes found:  0\n",
      "iterations:  565\n",
      "heatmap len:  10\n",
      "Number of boxes found:  0\n",
      "Number of boxes found:  4\n",
      "Number of boxes found:  1\n"
     ]
    },
    {
     "name": "stderr",
     "output_type": "stream",
     "text": [
      "\r",
      " 44%|████▍     | 558/1261 [25:26<34:14,  2.92s/it]"
     ]
    },
    {
     "name": "stdout",
     "output_type": "stream",
     "text": [
      "Number of boxes found:  0\n",
      "iterations:  566\n",
      "heatmap len:  10\n",
      "Number of boxes found:  0\n",
      "Number of boxes found:  3\n",
      "Number of boxes found:  1\n"
     ]
    },
    {
     "name": "stderr",
     "output_type": "stream",
     "text": [
      "\r",
      " 44%|████▍     | 559/1261 [25:29<34:09,  2.92s/it]"
     ]
    },
    {
     "name": "stdout",
     "output_type": "stream",
     "text": [
      "Number of boxes found:  0\n",
      "iterations:  567\n",
      "heatmap len:  10\n",
      "Number of boxes found:  4\n",
      "Number of boxes found:  2\n",
      "Number of boxes found:  1\n"
     ]
    },
    {
     "name": "stderr",
     "output_type": "stream",
     "text": [
      "\r",
      " 44%|████▍     | 560/1261 [25:31<33:38,  2.88s/it]"
     ]
    },
    {
     "name": "stdout",
     "output_type": "stream",
     "text": [
      "Number of boxes found:  0\n",
      "iterations:  568\n",
      "heatmap len:  10\n",
      "Number of boxes found:  4\n",
      "Number of boxes found:  2\n",
      "Number of boxes found:  1\n"
     ]
    },
    {
     "name": "stderr",
     "output_type": "stream",
     "text": [
      "\r",
      " 44%|████▍     | 561/1261 [25:34<33:32,  2.88s/it]"
     ]
    },
    {
     "name": "stdout",
     "output_type": "stream",
     "text": [
      "Number of boxes found:  0\n",
      "iterations:  569\n",
      "heatmap len:  10\n",
      "Number of boxes found:  1\n",
      "Number of boxes found:  3\n",
      "Number of boxes found:  0\n"
     ]
    },
    {
     "name": "stderr",
     "output_type": "stream",
     "text": [
      "\r",
      " 45%|████▍     | 562/1261 [25:37<33:41,  2.89s/it]"
     ]
    },
    {
     "name": "stdout",
     "output_type": "stream",
     "text": [
      "Number of boxes found:  0\n",
      "iterations:  570\n",
      "heatmap len:  10\n",
      "Number of boxes found:  6\n",
      "Number of boxes found:  2\n",
      "Number of boxes found:  1\n"
     ]
    },
    {
     "name": "stderr",
     "output_type": "stream",
     "text": [
      "\r",
      " 45%|████▍     | 563/1261 [25:40<33:15,  2.86s/it]"
     ]
    },
    {
     "name": "stdout",
     "output_type": "stream",
     "text": [
      "Number of boxes found:  0\n",
      "iterations:  571\n",
      "heatmap len:  10\n",
      "Number of boxes found:  0\n",
      "Number of boxes found:  3\n",
      "Number of boxes found:  2\n"
     ]
    },
    {
     "name": "stderr",
     "output_type": "stream",
     "text": [
      "\r",
      " 45%|████▍     | 564/1261 [25:43<33:08,  2.85s/it]"
     ]
    },
    {
     "name": "stdout",
     "output_type": "stream",
     "text": [
      "Number of boxes found:  0\n",
      "iterations:  572\n",
      "heatmap len:  10\n",
      "Number of boxes found:  4\n",
      "Number of boxes found:  2\n",
      "Number of boxes found:  1\n"
     ]
    },
    {
     "name": "stderr",
     "output_type": "stream",
     "text": [
      "\r",
      " 45%|████▍     | 565/1261 [25:46<32:54,  2.84s/it]"
     ]
    },
    {
     "name": "stdout",
     "output_type": "stream",
     "text": [
      "Number of boxes found:  0\n",
      "iterations:  573\n",
      "heatmap len:  10\n",
      "Number of boxes found:  5\n",
      "Number of boxes found:  2\n",
      "Number of boxes found:  1\n"
     ]
    },
    {
     "name": "stderr",
     "output_type": "stream",
     "text": [
      "\r",
      " 45%|████▍     | 566/1261 [25:48<32:39,  2.82s/it]"
     ]
    },
    {
     "name": "stdout",
     "output_type": "stream",
     "text": [
      "Number of boxes found:  0\n",
      "iterations:  574\n",
      "heatmap len:  10\n",
      "Number of boxes found:  6\n",
      "Number of boxes found:  1\n",
      "Number of boxes found:  1\n"
     ]
    },
    {
     "name": "stderr",
     "output_type": "stream",
     "text": [
      "\r",
      " 45%|████▍     | 567/1261 [25:51<32:40,  2.83s/it]"
     ]
    },
    {
     "name": "stdout",
     "output_type": "stream",
     "text": [
      "Number of boxes found:  0\n",
      "iterations:  575\n",
      "heatmap len:  10\n",
      "Number of boxes found:  5\n",
      "Number of boxes found:  2\n",
      "Number of boxes found:  1\n"
     ]
    },
    {
     "name": "stderr",
     "output_type": "stream",
     "text": [
      "\r",
      " 45%|████▌     | 568/1261 [25:54<32:35,  2.82s/it]"
     ]
    },
    {
     "name": "stdout",
     "output_type": "stream",
     "text": [
      "Number of boxes found:  0\n",
      "iterations:  576\n",
      "heatmap len:  10\n",
      "Number of boxes found:  5\n",
      "Number of boxes found:  1\n",
      "Number of boxes found:  1\n"
     ]
    },
    {
     "name": "stderr",
     "output_type": "stream",
     "text": [
      "\r",
      " 45%|████▌     | 569/1261 [25:57<32:21,  2.81s/it]"
     ]
    },
    {
     "name": "stdout",
     "output_type": "stream",
     "text": [
      "Number of boxes found:  0\n",
      "iterations:  577\n",
      "heatmap len:  10\n",
      "Number of boxes found:  3\n",
      "Number of boxes found:  1\n",
      "Number of boxes found:  1\n"
     ]
    },
    {
     "name": "stderr",
     "output_type": "stream",
     "text": [
      "\r",
      " 45%|████▌     | 570/1261 [26:00<32:27,  2.82s/it]"
     ]
    },
    {
     "name": "stdout",
     "output_type": "stream",
     "text": [
      "Number of boxes found:  0\n",
      "iterations:  578\n",
      "heatmap len:  10\n",
      "Number of boxes found:  0\n",
      "Number of boxes found:  2\n",
      "Number of boxes found:  1\n"
     ]
    },
    {
     "name": "stderr",
     "output_type": "stream",
     "text": [
      "\r",
      " 45%|████▌     | 571/1261 [26:02<32:27,  2.82s/it]"
     ]
    },
    {
     "name": "stdout",
     "output_type": "stream",
     "text": [
      "Number of boxes found:  0\n",
      "iterations:  579\n",
      "heatmap len:  10\n",
      "Number of boxes found:  0\n",
      "Number of boxes found:  2\n",
      "Number of boxes found:  1\n"
     ]
    },
    {
     "name": "stderr",
     "output_type": "stream",
     "text": [
      "\r",
      " 45%|████▌     | 572/1261 [26:05<31:51,  2.77s/it]"
     ]
    },
    {
     "name": "stdout",
     "output_type": "stream",
     "text": [
      "Number of boxes found:  0\n",
      "iterations:  580\n",
      "heatmap len:  10\n",
      "Number of boxes found:  0\n",
      "Number of boxes found:  1\n",
      "Number of boxes found:  1\n"
     ]
    },
    {
     "name": "stderr",
     "output_type": "stream",
     "text": [
      "\r",
      " 45%|████▌     | 573/1261 [26:08<31:38,  2.76s/it]"
     ]
    },
    {
     "name": "stdout",
     "output_type": "stream",
     "text": [
      "Number of boxes found:  0\n",
      "iterations:  581\n",
      "heatmap len:  10\n",
      "Number of boxes found:  0\n",
      "Number of boxes found:  1\n",
      "Number of boxes found:  1\n"
     ]
    },
    {
     "name": "stderr",
     "output_type": "stream",
     "text": [
      "\r",
      " 46%|████▌     | 574/1261 [26:11<31:29,  2.75s/it]"
     ]
    },
    {
     "name": "stdout",
     "output_type": "stream",
     "text": [
      "Number of boxes found:  0\n",
      "iterations:  582\n",
      "heatmap len:  10\n",
      "Number of boxes found:  0\n",
      "Number of boxes found:  1\n",
      "Number of boxes found:  1\n"
     ]
    },
    {
     "name": "stderr",
     "output_type": "stream",
     "text": [
      "\r",
      " 46%|████▌     | 575/1261 [26:13<31:13,  2.73s/it]"
     ]
    },
    {
     "name": "stdout",
     "output_type": "stream",
     "text": [
      "Number of boxes found:  0\n",
      "iterations:  583\n",
      "heatmap len:  10\n",
      "Number of boxes found:  1\n",
      "Number of boxes found:  1\n",
      "Number of boxes found:  1\n"
     ]
    },
    {
     "name": "stderr",
     "output_type": "stream",
     "text": [
      "\r",
      " 46%|████▌     | 576/1261 [26:16<31:06,  2.73s/it]"
     ]
    },
    {
     "name": "stdout",
     "output_type": "stream",
     "text": [
      "Number of boxes found:  0\n",
      "iterations:  584\n",
      "heatmap len:  10\n",
      "Number of boxes found:  2\n",
      "Number of boxes found:  1\n",
      "Number of boxes found:  0\n"
     ]
    },
    {
     "name": "stderr",
     "output_type": "stream",
     "text": [
      "\r",
      " 46%|████▌     | 577/1261 [26:19<30:56,  2.71s/it]"
     ]
    },
    {
     "name": "stdout",
     "output_type": "stream",
     "text": [
      "Number of boxes found:  0\n",
      "iterations:  585\n",
      "heatmap len:  10\n",
      "Number of boxes found:  2\n",
      "Number of boxes found:  1\n",
      "Number of boxes found:  1\n"
     ]
    },
    {
     "name": "stderr",
     "output_type": "stream",
     "text": [
      "\r",
      " 46%|████▌     | 578/1261 [26:21<30:54,  2.71s/it]"
     ]
    },
    {
     "name": "stdout",
     "output_type": "stream",
     "text": [
      "Number of boxes found:  0\n",
      "iterations:  586\n",
      "heatmap len:  10\n",
      "Number of boxes found:  2\n",
      "Number of boxes found:  2\n",
      "Number of boxes found:  1\n"
     ]
    },
    {
     "name": "stderr",
     "output_type": "stream",
     "text": [
      "\r",
      " 46%|████▌     | 579/1261 [26:24<31:08,  2.74s/it]"
     ]
    },
    {
     "name": "stdout",
     "output_type": "stream",
     "text": [
      "Number of boxes found:  0\n",
      "iterations:  587\n",
      "heatmap len:  10\n",
      "Number of boxes found:  3\n",
      "Number of boxes found:  1\n",
      "Number of boxes found:  1\n"
     ]
    },
    {
     "name": "stderr",
     "output_type": "stream",
     "text": [
      "\r",
      " 46%|████▌     | 580/1261 [26:27<30:56,  2.73s/it]"
     ]
    },
    {
     "name": "stdout",
     "output_type": "stream",
     "text": [
      "Number of boxes found:  0\n",
      "iterations:  588\n",
      "heatmap len:  10\n",
      "Number of boxes found:  3\n",
      "Number of boxes found:  1\n",
      "Number of boxes found:  1\n"
     ]
    },
    {
     "name": "stderr",
     "output_type": "stream",
     "text": [
      "\r",
      " 46%|████▌     | 581/1261 [26:30<31:04,  2.74s/it]"
     ]
    },
    {
     "name": "stdout",
     "output_type": "stream",
     "text": [
      "Number of boxes found:  0\n",
      "iterations:  589\n",
      "heatmap len:  10\n",
      "Number of boxes found:  2\n",
      "Number of boxes found:  1\n",
      "Number of boxes found:  1\n"
     ]
    },
    {
     "name": "stderr",
     "output_type": "stream",
     "text": [
      "\r",
      " 46%|████▌     | 582/1261 [26:32<31:05,  2.75s/it]"
     ]
    },
    {
     "name": "stdout",
     "output_type": "stream",
     "text": [
      "Number of boxes found:  0\n",
      "iterations:  590\n",
      "heatmap len:  10\n",
      "Number of boxes found:  3\n",
      "Number of boxes found:  2\n",
      "Number of boxes found:  0\n"
     ]
    },
    {
     "name": "stderr",
     "output_type": "stream",
     "text": [
      "\r",
      " 46%|████▌     | 583/1261 [26:35<31:05,  2.75s/it]"
     ]
    },
    {
     "name": "stdout",
     "output_type": "stream",
     "text": [
      "Number of boxes found:  0\n",
      "iterations:  591\n",
      "heatmap len:  10\n",
      "Number of boxes found:  4\n",
      "Number of boxes found:  2\n",
      "Number of boxes found:  0\n"
     ]
    },
    {
     "name": "stderr",
     "output_type": "stream",
     "text": [
      "\r",
      " 46%|████▋     | 584/1261 [26:38<31:06,  2.76s/it]"
     ]
    },
    {
     "name": "stdout",
     "output_type": "stream",
     "text": [
      "Number of boxes found:  1\n",
      "iterations:  592\n",
      "heatmap len:  10\n",
      "Number of boxes found:  4\n",
      "Number of boxes found:  2\n",
      "Number of boxes found:  0\n"
     ]
    },
    {
     "name": "stderr",
     "output_type": "stream",
     "text": [
      "\r",
      " 46%|████▋     | 585/1261 [26:41<31:01,  2.75s/it]"
     ]
    },
    {
     "name": "stdout",
     "output_type": "stream",
     "text": [
      "Number of boxes found:  1\n",
      "iterations:  593\n",
      "heatmap len:  10\n",
      "Number of boxes found:  3\n",
      "Number of boxes found:  2\n",
      "Number of boxes found:  0\n"
     ]
    },
    {
     "name": "stderr",
     "output_type": "stream",
     "text": [
      "\r",
      " 46%|████▋     | 586/1261 [26:43<31:05,  2.76s/it]"
     ]
    },
    {
     "name": "stdout",
     "output_type": "stream",
     "text": [
      "Number of boxes found:  1\n",
      "iterations:  594\n",
      "heatmap len:  10\n",
      "Number of boxes found:  3\n",
      "Number of boxes found:  2\n",
      "Number of boxes found:  0\n"
     ]
    },
    {
     "name": "stderr",
     "output_type": "stream",
     "text": [
      "\r",
      " 47%|████▋     | 587/1261 [26:46<31:00,  2.76s/it]"
     ]
    },
    {
     "name": "stdout",
     "output_type": "stream",
     "text": [
      "Number of boxes found:  0\n",
      "iterations:  595\n",
      "heatmap len:  10\n",
      "Number of boxes found:  3\n",
      "Number of boxes found:  2\n",
      "Number of boxes found:  0\n"
     ]
    },
    {
     "name": "stderr",
     "output_type": "stream",
     "text": [
      "\r",
      " 47%|████▋     | 588/1261 [26:49<31:23,  2.80s/it]"
     ]
    },
    {
     "name": "stdout",
     "output_type": "stream",
     "text": [
      "Number of boxes found:  1\n",
      "iterations:  596\n",
      "heatmap len:  10\n",
      "Number of boxes found:  3\n",
      "Number of boxes found:  2\n",
      "Number of boxes found:  0\n"
     ]
    },
    {
     "name": "stderr",
     "output_type": "stream",
     "text": [
      "\r",
      " 47%|████▋     | 589/1261 [26:52<31:30,  2.81s/it]"
     ]
    },
    {
     "name": "stdout",
     "output_type": "stream",
     "text": [
      "Number of boxes found:  1\n",
      "iterations:  597\n",
      "heatmap len:  10\n",
      "Number of boxes found:  1\n",
      "Number of boxes found:  1\n",
      "Number of boxes found:  1\n"
     ]
    },
    {
     "name": "stderr",
     "output_type": "stream",
     "text": [
      "\r",
      " 47%|████▋     | 590/1261 [26:55<31:33,  2.82s/it]"
     ]
    },
    {
     "name": "stdout",
     "output_type": "stream",
     "text": [
      "Number of boxes found:  1\n",
      "iterations:  598\n",
      "heatmap len:  10\n",
      "Number of boxes found:  0\n",
      "Number of boxes found:  2\n",
      "Number of boxes found:  0\n"
     ]
    },
    {
     "name": "stderr",
     "output_type": "stream",
     "text": [
      "\r",
      " 47%|████▋     | 591/1261 [26:58<31:09,  2.79s/it]"
     ]
    },
    {
     "name": "stdout",
     "output_type": "stream",
     "text": [
      "Number of boxes found:  0\n",
      "iterations:  599\n",
      "heatmap len:  10\n",
      "Number of boxes found:  2\n",
      "Number of boxes found:  2\n",
      "Number of boxes found:  0\n"
     ]
    },
    {
     "name": "stderr",
     "output_type": "stream",
     "text": [
      "\r",
      " 47%|████▋     | 592/1261 [27:00<30:49,  2.76s/it]"
     ]
    },
    {
     "name": "stdout",
     "output_type": "stream",
     "text": [
      "Number of boxes found:  0\n",
      "iterations:  600\n",
      "heatmap len:  10\n",
      "Number of boxes found:  2\n",
      "Number of boxes found:  2\n",
      "Number of boxes found:  1\n"
     ]
    },
    {
     "name": "stderr",
     "output_type": "stream",
     "text": [
      "\r",
      " 47%|████▋     | 593/1261 [27:03<30:34,  2.75s/it]"
     ]
    },
    {
     "name": "stdout",
     "output_type": "stream",
     "text": [
      "Number of boxes found:  0\n",
      "iterations:  601\n",
      "heatmap len:  10\n",
      "Number of boxes found:  3\n",
      "Number of boxes found:  3\n",
      "Number of boxes found:  0\n"
     ]
    },
    {
     "name": "stderr",
     "output_type": "stream",
     "text": [
      "\r",
      " 47%|████▋     | 594/1261 [27:06<30:20,  2.73s/it]"
     ]
    },
    {
     "name": "stdout",
     "output_type": "stream",
     "text": [
      "Number of boxes found:  0\n",
      "iterations:  602\n",
      "heatmap len:  10\n",
      "Number of boxes found:  4\n",
      "Number of boxes found:  2\n",
      "Number of boxes found:  2\n"
     ]
    },
    {
     "name": "stderr",
     "output_type": "stream",
     "text": [
      "\r",
      " 47%|████▋     | 595/1261 [27:08<30:04,  2.71s/it]"
     ]
    },
    {
     "name": "stdout",
     "output_type": "stream",
     "text": [
      "Number of boxes found:  0\n",
      "iterations:  603\n",
      "heatmap len:  10\n",
      "Number of boxes found:  2\n",
      "Number of boxes found:  2\n",
      "Number of boxes found:  2\n"
     ]
    },
    {
     "name": "stderr",
     "output_type": "stream",
     "text": [
      "\r",
      " 47%|████▋     | 596/1261 [27:11<30:04,  2.71s/it]"
     ]
    },
    {
     "name": "stdout",
     "output_type": "stream",
     "text": [
      "Number of boxes found:  0\n",
      "iterations:  604\n",
      "heatmap len:  10\n",
      "Number of boxes found:  2\n",
      "Number of boxes found:  2\n",
      "Number of boxes found:  2\n"
     ]
    },
    {
     "name": "stderr",
     "output_type": "stream",
     "text": [
      "\r",
      " 47%|████▋     | 597/1261 [27:14<29:57,  2.71s/it]"
     ]
    },
    {
     "name": "stdout",
     "output_type": "stream",
     "text": [
      "Number of boxes found:  0\n",
      "iterations:  605\n",
      "heatmap len:  10\n",
      "Number of boxes found:  3\n",
      "Number of boxes found:  2\n",
      "Number of boxes found:  2\n"
     ]
    },
    {
     "name": "stderr",
     "output_type": "stream",
     "text": [
      "\r",
      " 47%|████▋     | 598/1261 [27:16<30:01,  2.72s/it]"
     ]
    },
    {
     "name": "stdout",
     "output_type": "stream",
     "text": [
      "Number of boxes found:  0\n",
      "iterations:  606\n",
      "heatmap len:  10\n",
      "Number of boxes found:  2\n",
      "Number of boxes found:  2\n",
      "Number of boxes found:  2\n"
     ]
    },
    {
     "name": "stderr",
     "output_type": "stream",
     "text": [
      "\r",
      " 48%|████▊     | 599/1261 [27:19<30:07,  2.73s/it]"
     ]
    },
    {
     "name": "stdout",
     "output_type": "stream",
     "text": [
      "Number of boxes found:  0\n",
      "iterations:  607\n",
      "heatmap len:  10\n",
      "Number of boxes found:  2\n",
      "Number of boxes found:  3\n",
      "Number of boxes found:  2\n"
     ]
    },
    {
     "name": "stderr",
     "output_type": "stream",
     "text": [
      "\r",
      " 48%|████▊     | 600/1261 [27:22<30:27,  2.76s/it]"
     ]
    },
    {
     "name": "stdout",
     "output_type": "stream",
     "text": [
      "Number of boxes found:  0\n",
      "iterations:  608\n",
      "heatmap len:  10\n",
      "Number of boxes found:  0\n",
      "Number of boxes found:  1\n",
      "Number of boxes found:  1\n"
     ]
    },
    {
     "name": "stderr",
     "output_type": "stream",
     "text": [
      "\r",
      " 48%|████▊     | 601/1261 [27:25<30:04,  2.73s/it]"
     ]
    },
    {
     "name": "stdout",
     "output_type": "stream",
     "text": [
      "Number of boxes found:  0\n",
      "iterations:  609\n",
      "heatmap len:  10\n",
      "Number of boxes found:  0\n",
      "Number of boxes found:  1\n",
      "Number of boxes found:  1\n"
     ]
    },
    {
     "name": "stderr",
     "output_type": "stream",
     "text": [
      "\r",
      " 48%|████▊     | 602/1261 [27:27<29:49,  2.72s/it]"
     ]
    },
    {
     "name": "stdout",
     "output_type": "stream",
     "text": [
      "Number of boxes found:  0\n",
      "iterations:  610\n",
      "heatmap len:  10\n",
      "Number of boxes found:  0\n",
      "Number of boxes found:  1\n",
      "Number of boxes found:  2\n"
     ]
    },
    {
     "name": "stderr",
     "output_type": "stream",
     "text": [
      "\r",
      " 48%|████▊     | 603/1261 [27:30<29:41,  2.71s/it]"
     ]
    },
    {
     "name": "stdout",
     "output_type": "stream",
     "text": [
      "Number of boxes found:  0\n",
      "iterations:  611\n",
      "heatmap len:  10\n",
      "Number of boxes found:  0\n",
      "Number of boxes found:  1\n",
      "Number of boxes found:  2\n"
     ]
    },
    {
     "name": "stderr",
     "output_type": "stream",
     "text": [
      "\r",
      " 48%|████▊     | 604/1261 [27:33<29:30,  2.69s/it]"
     ]
    },
    {
     "name": "stdout",
     "output_type": "stream",
     "text": [
      "Number of boxes found:  0\n",
      "iterations:  612\n",
      "heatmap len:  10\n",
      "Number of boxes found:  0\n",
      "Number of boxes found:  1\n",
      "Number of boxes found:  1\n"
     ]
    },
    {
     "name": "stderr",
     "output_type": "stream",
     "text": [
      "\r",
      " 48%|████▊     | 605/1261 [27:35<29:30,  2.70s/it]"
     ]
    },
    {
     "name": "stdout",
     "output_type": "stream",
     "text": [
      "Number of boxes found:  0\n",
      "iterations:  613\n",
      "heatmap len:  10\n",
      "Number of boxes found:  3\n",
      "Number of boxes found:  2\n",
      "Number of boxes found:  1\n"
     ]
    },
    {
     "name": "stderr",
     "output_type": "stream",
     "text": [
      "\r",
      " 48%|████▊     | 606/1261 [27:38<29:30,  2.70s/it]"
     ]
    },
    {
     "name": "stdout",
     "output_type": "stream",
     "text": [
      "Number of boxes found:  0\n",
      "iterations:  614\n",
      "heatmap len:  10\n",
      "Number of boxes found:  4\n",
      "Number of boxes found:  2\n",
      "Number of boxes found:  0\n"
     ]
    },
    {
     "name": "stderr",
     "output_type": "stream",
     "text": [
      "\r",
      " 48%|████▊     | 607/1261 [27:41<29:23,  2.70s/it]"
     ]
    },
    {
     "name": "stdout",
     "output_type": "stream",
     "text": [
      "Number of boxes found:  0\n",
      "iterations:  615\n",
      "heatmap len:  10\n",
      "Number of boxes found:  6\n",
      "Number of boxes found:  2\n",
      "Number of boxes found:  0\n"
     ]
    },
    {
     "name": "stderr",
     "output_type": "stream",
     "text": [
      "\r",
      " 48%|████▊     | 608/1261 [27:44<29:41,  2.73s/it]"
     ]
    },
    {
     "name": "stdout",
     "output_type": "stream",
     "text": [
      "Number of boxes found:  1\n",
      "iterations:  616\n",
      "heatmap len:  10\n",
      "Number of boxes found:  3\n",
      "Number of boxes found:  2\n",
      "Number of boxes found:  0\n"
     ]
    },
    {
     "name": "stderr",
     "output_type": "stream",
     "text": [
      "\r",
      " 48%|████▊     | 609/1261 [27:46<29:51,  2.75s/it]"
     ]
    },
    {
     "name": "stdout",
     "output_type": "stream",
     "text": [
      "Number of boxes found:  1\n",
      "iterations:  617\n",
      "heatmap len:  10\n",
      "Number of boxes found:  3\n",
      "Number of boxes found:  1\n",
      "Number of boxes found:  0\n"
     ]
    },
    {
     "name": "stderr",
     "output_type": "stream",
     "text": [
      "\r",
      " 48%|████▊     | 610/1261 [27:49<29:41,  2.74s/it]"
     ]
    },
    {
     "name": "stdout",
     "output_type": "stream",
     "text": [
      "Number of boxes found:  0\n",
      "iterations:  618\n",
      "heatmap len:  10\n",
      "Number of boxes found:  2\n",
      "Number of boxes found:  0\n",
      "Number of boxes found:  0\n"
     ]
    },
    {
     "name": "stderr",
     "output_type": "stream",
     "text": [
      "\r",
      " 48%|████▊     | 611/1261 [27:52<29:42,  2.74s/it]"
     ]
    },
    {
     "name": "stdout",
     "output_type": "stream",
     "text": [
      "Number of boxes found:  0\n",
      "iterations:  619\n",
      "heatmap len:  10\n",
      "Number of boxes found:  3\n",
      "Number of boxes found:  1\n",
      "Number of boxes found:  0\n"
     ]
    },
    {
     "name": "stderr",
     "output_type": "stream",
     "text": [
      "\r",
      " 49%|████▊     | 612/1261 [27:55<29:50,  2.76s/it]"
     ]
    },
    {
     "name": "stdout",
     "output_type": "stream",
     "text": [
      "Number of boxes found:  0\n",
      "iterations:  620\n",
      "heatmap len:  10\n",
      "Number of boxes found:  2\n",
      "Number of boxes found:  1\n",
      "Number of boxes found:  0\n"
     ]
    },
    {
     "name": "stderr",
     "output_type": "stream",
     "text": [
      "\r",
      " 49%|████▊     | 613/1261 [27:57<29:35,  2.74s/it]"
     ]
    },
    {
     "name": "stdout",
     "output_type": "stream",
     "text": [
      "Number of boxes found:  0\n",
      "iterations:  621\n",
      "heatmap len:  10\n",
      "Number of boxes found:  1\n",
      "Number of boxes found:  1\n",
      "Number of boxes found:  0\n"
     ]
    },
    {
     "name": "stderr",
     "output_type": "stream",
     "text": [
      "\r",
      " 49%|████▊     | 614/1261 [28:00<29:24,  2.73s/it]"
     ]
    },
    {
     "name": "stdout",
     "output_type": "stream",
     "text": [
      "Number of boxes found:  0\n",
      "iterations:  622\n",
      "heatmap len:  10\n",
      "Number of boxes found:  3\n",
      "Number of boxes found:  1\n",
      "Number of boxes found:  2\n"
     ]
    },
    {
     "name": "stderr",
     "output_type": "stream",
     "text": [
      "\r",
      " 49%|████▉     | 615/1261 [28:03<29:15,  2.72s/it]"
     ]
    },
    {
     "name": "stdout",
     "output_type": "stream",
     "text": [
      "Number of boxes found:  0\n",
      "iterations:  623\n",
      "heatmap len:  10\n",
      "Number of boxes found:  2\n",
      "Number of boxes found:  1\n",
      "Number of boxes found:  2\n"
     ]
    },
    {
     "name": "stderr",
     "output_type": "stream",
     "text": [
      "\r",
      " 49%|████▉     | 616/1261 [28:06<29:18,  2.73s/it]"
     ]
    },
    {
     "name": "stdout",
     "output_type": "stream",
     "text": [
      "Number of boxes found:  0\n",
      "iterations:  624\n",
      "heatmap len:  10\n",
      "Number of boxes found:  2\n",
      "Number of boxes found:  1\n",
      "Number of boxes found:  2\n"
     ]
    },
    {
     "name": "stderr",
     "output_type": "stream",
     "text": [
      "\r",
      " 49%|████▉     | 617/1261 [28:08<29:13,  2.72s/it]"
     ]
    },
    {
     "name": "stdout",
     "output_type": "stream",
     "text": [
      "Number of boxes found:  0\n",
      "iterations:  625\n",
      "heatmap len:  10\n",
      "Number of boxes found:  1\n",
      "Number of boxes found:  1\n",
      "Number of boxes found:  2\n"
     ]
    },
    {
     "name": "stderr",
     "output_type": "stream",
     "text": [
      "\r",
      " 49%|████▉     | 618/1261 [28:11<29:21,  2.74s/it]"
     ]
    },
    {
     "name": "stdout",
     "output_type": "stream",
     "text": [
      "Number of boxes found:  0\n",
      "iterations:  626\n",
      "heatmap len:  10\n",
      "Number of boxes found:  1\n",
      "Number of boxes found:  2\n",
      "Number of boxes found:  2\n"
     ]
    },
    {
     "name": "stderr",
     "output_type": "stream",
     "text": [
      "\r",
      " 49%|████▉     | 619/1261 [28:14<29:38,  2.77s/it]"
     ]
    },
    {
     "name": "stdout",
     "output_type": "stream",
     "text": [
      "Number of boxes found:  0\n",
      "iterations:  627\n",
      "heatmap len:  10\n",
      "Number of boxes found:  3\n",
      "Number of boxes found:  2\n",
      "Number of boxes found:  2\n"
     ]
    },
    {
     "name": "stderr",
     "output_type": "stream",
     "text": [
      "\r",
      " 49%|████▉     | 620/1261 [28:17<29:21,  2.75s/it]"
     ]
    },
    {
     "name": "stdout",
     "output_type": "stream",
     "text": [
      "Number of boxes found:  0\n",
      "iterations:  628\n",
      "heatmap len:  10\n",
      "Number of boxes found:  3\n",
      "Number of boxes found:  2\n",
      "Number of boxes found:  2\n"
     ]
    },
    {
     "name": "stderr",
     "output_type": "stream",
     "text": [
      "\r",
      " 49%|████▉     | 621/1261 [28:19<29:17,  2.75s/it]"
     ]
    },
    {
     "name": "stdout",
     "output_type": "stream",
     "text": [
      "Number of boxes found:  0\n",
      "iterations:  629\n",
      "heatmap len:  10\n",
      "Number of boxes found:  4\n",
      "Number of boxes found:  1\n",
      "Number of boxes found:  2\n"
     ]
    },
    {
     "name": "stderr",
     "output_type": "stream",
     "text": [
      "\r",
      " 49%|████▉     | 622/1261 [28:22<29:02,  2.73s/it]"
     ]
    },
    {
     "name": "stdout",
     "output_type": "stream",
     "text": [
      "Number of boxes found:  0\n",
      "iterations:  630\n",
      "heatmap len:  10\n",
      "Number of boxes found:  6\n",
      "Number of boxes found:  2\n",
      "Number of boxes found:  1\n"
     ]
    },
    {
     "name": "stderr",
     "output_type": "stream",
     "text": [
      "\r",
      " 49%|████▉     | 623/1261 [28:25<29:08,  2.74s/it]"
     ]
    },
    {
     "name": "stdout",
     "output_type": "stream",
     "text": [
      "Number of boxes found:  0\n",
      "iterations:  631\n",
      "heatmap len:  10\n",
      "Number of boxes found:  4\n",
      "Number of boxes found:  3\n",
      "Number of boxes found:  1\n"
     ]
    },
    {
     "name": "stderr",
     "output_type": "stream",
     "text": [
      "\r",
      " 49%|████▉     | 624/1261 [28:28<29:05,  2.74s/it]"
     ]
    },
    {
     "name": "stdout",
     "output_type": "stream",
     "text": [
      "Number of boxes found:  0\n",
      "iterations:  632\n",
      "heatmap len:  10\n",
      "Number of boxes found:  7\n",
      "Number of boxes found:  4\n",
      "Number of boxes found:  2\n"
     ]
    },
    {
     "name": "stderr",
     "output_type": "stream",
     "text": [
      "\r",
      " 50%|████▉     | 625/1261 [28:30<29:01,  2.74s/it]"
     ]
    },
    {
     "name": "stdout",
     "output_type": "stream",
     "text": [
      "Number of boxes found:  0\n",
      "iterations:  633\n",
      "heatmap len:  10\n",
      "Number of boxes found:  3\n",
      "Number of boxes found:  2\n",
      "Number of boxes found:  1\n"
     ]
    },
    {
     "name": "stderr",
     "output_type": "stream",
     "text": [
      "\r",
      " 50%|████▉     | 626/1261 [28:33<28:48,  2.72s/it]"
     ]
    },
    {
     "name": "stdout",
     "output_type": "stream",
     "text": [
      "Number of boxes found:  0\n",
      "iterations:  634\n",
      "heatmap len:  10\n",
      "Number of boxes found:  3\n",
      "Number of boxes found:  2\n",
      "Number of boxes found:  2\n"
     ]
    },
    {
     "name": "stderr",
     "output_type": "stream",
     "text": [
      "\r",
      " 50%|████▉     | 627/1261 [28:36<28:40,  2.71s/it]"
     ]
    },
    {
     "name": "stdout",
     "output_type": "stream",
     "text": [
      "Number of boxes found:  0\n",
      "iterations:  635\n",
      "heatmap len:  10\n",
      "Number of boxes found:  3\n",
      "Number of boxes found:  3\n",
      "Number of boxes found:  2\n"
     ]
    },
    {
     "name": "stderr",
     "output_type": "stream",
     "text": [
      "\r",
      " 50%|████▉     | 628/1261 [28:38<28:40,  2.72s/it]"
     ]
    },
    {
     "name": "stdout",
     "output_type": "stream",
     "text": [
      "Number of boxes found:  0\n",
      "iterations:  636\n",
      "heatmap len:  10\n",
      "Number of boxes found:  3\n",
      "Number of boxes found:  2\n",
      "Number of boxes found:  2\n"
     ]
    },
    {
     "name": "stderr",
     "output_type": "stream",
     "text": [
      "\r",
      " 50%|████▉     | 629/1261 [28:41<28:32,  2.71s/it]"
     ]
    },
    {
     "name": "stdout",
     "output_type": "stream",
     "text": [
      "Number of boxes found:  0\n",
      "iterations:  637\n",
      "heatmap len:  10\n",
      "Number of boxes found:  3\n",
      "Number of boxes found:  1\n",
      "Number of boxes found:  1\n"
     ]
    },
    {
     "name": "stderr",
     "output_type": "stream",
     "text": [
      "\r",
      " 50%|████▉     | 630/1261 [28:44<28:37,  2.72s/it]"
     ]
    },
    {
     "name": "stdout",
     "output_type": "stream",
     "text": [
      "Number of boxes found:  0\n",
      "iterations:  638\n",
      "heatmap len:  10\n",
      "Number of boxes found:  1\n",
      "Number of boxes found:  1\n",
      "Number of boxes found:  1\n"
     ]
    },
    {
     "name": "stderr",
     "output_type": "stream",
     "text": [
      "\r",
      " 50%|█████     | 631/1261 [28:46<28:29,  2.71s/it]"
     ]
    },
    {
     "name": "stdout",
     "output_type": "stream",
     "text": [
      "Number of boxes found:  0\n",
      "iterations:  639\n",
      "heatmap len:  10\n",
      "Number of boxes found:  1\n",
      "Number of boxes found:  1\n",
      "Number of boxes found:  1\n"
     ]
    },
    {
     "name": "stderr",
     "output_type": "stream",
     "text": [
      "\r",
      " 50%|█████     | 632/1261 [28:49<28:35,  2.73s/it]"
     ]
    },
    {
     "name": "stdout",
     "output_type": "stream",
     "text": [
      "Number of boxes found:  0\n",
      "iterations:  640\n",
      "heatmap len:  10\n",
      "Number of boxes found:  1\n",
      "Number of boxes found:  1\n",
      "Number of boxes found:  1\n"
     ]
    },
    {
     "name": "stderr",
     "output_type": "stream",
     "text": [
      "\r",
      " 50%|█████     | 633/1261 [28:52<28:47,  2.75s/it]"
     ]
    },
    {
     "name": "stdout",
     "output_type": "stream",
     "text": [
      "Number of boxes found:  0\n",
      "iterations:  641\n",
      "heatmap len:  10\n",
      "Number of boxes found:  2\n",
      "Number of boxes found:  1\n",
      "Number of boxes found:  0\n"
     ]
    },
    {
     "name": "stderr",
     "output_type": "stream",
     "text": [
      "\r",
      " 50%|█████     | 634/1261 [28:55<28:34,  2.73s/it]"
     ]
    },
    {
     "name": "stdout",
     "output_type": "stream",
     "text": [
      "Number of boxes found:  0\n",
      "iterations:  642\n",
      "heatmap len:  10\n",
      "Number of boxes found:  2\n",
      "Number of boxes found:  1\n",
      "Number of boxes found:  0\n"
     ]
    },
    {
     "name": "stderr",
     "output_type": "stream",
     "text": [
      "\r",
      " 50%|█████     | 635/1261 [28:58<28:37,  2.74s/it]"
     ]
    },
    {
     "name": "stdout",
     "output_type": "stream",
     "text": [
      "Number of boxes found:  0\n",
      "iterations:  643\n",
      "heatmap len:  10\n",
      "Number of boxes found:  1\n",
      "Number of boxes found:  1\n",
      "Number of boxes found:  0\n"
     ]
    },
    {
     "name": "stderr",
     "output_type": "stream",
     "text": [
      "\r",
      " 50%|█████     | 636/1261 [29:00<28:54,  2.77s/it]"
     ]
    },
    {
     "name": "stdout",
     "output_type": "stream",
     "text": [
      "Number of boxes found:  0\n",
      "iterations:  644\n",
      "heatmap len:  10\n",
      "Number of boxes found:  1\n",
      "Number of boxes found:  1\n",
      "Number of boxes found:  0\n"
     ]
    },
    {
     "name": "stderr",
     "output_type": "stream",
     "text": [
      "\r",
      " 51%|█████     | 637/1261 [29:03<28:30,  2.74s/it]"
     ]
    },
    {
     "name": "stdout",
     "output_type": "stream",
     "text": [
      "Number of boxes found:  0\n",
      "iterations:  645\n",
      "heatmap len:  10\n",
      "Number of boxes found:  1\n",
      "Number of boxes found:  1\n",
      "Number of boxes found:  0\n"
     ]
    },
    {
     "name": "stderr",
     "output_type": "stream",
     "text": [
      "\r",
      " 51%|█████     | 638/1261 [29:06<28:13,  2.72s/it]"
     ]
    },
    {
     "name": "stdout",
     "output_type": "stream",
     "text": [
      "Number of boxes found:  0\n",
      "iterations:  646\n",
      "heatmap len:  10\n",
      "Number of boxes found:  2\n",
      "Number of boxes found:  1\n",
      "Number of boxes found:  0\n"
     ]
    },
    {
     "name": "stderr",
     "output_type": "stream",
     "text": [
      "\r",
      " 51%|█████     | 639/1261 [29:09<28:47,  2.78s/it]"
     ]
    },
    {
     "name": "stdout",
     "output_type": "stream",
     "text": [
      "Number of boxes found:  0\n",
      "iterations:  647\n",
      "heatmap len:  10\n",
      "Number of boxes found:  1\n",
      "Number of boxes found:  1\n",
      "Number of boxes found:  2\n"
     ]
    },
    {
     "name": "stderr",
     "output_type": "stream",
     "text": [
      "\r",
      " 51%|█████     | 640/1261 [29:11<28:52,  2.79s/it]"
     ]
    },
    {
     "name": "stdout",
     "output_type": "stream",
     "text": [
      "Number of boxes found:  0\n",
      "iterations:  648\n",
      "heatmap len:  10\n",
      "Number of boxes found:  2\n",
      "Number of boxes found:  1\n",
      "Number of boxes found:  2\n"
     ]
    },
    {
     "name": "stderr",
     "output_type": "stream",
     "text": [
      "\r",
      " 51%|█████     | 641/1261 [29:14<28:41,  2.78s/it]"
     ]
    },
    {
     "name": "stdout",
     "output_type": "stream",
     "text": [
      "Number of boxes found:  0\n",
      "iterations:  649\n",
      "heatmap len:  10\n",
      "Number of boxes found:  2\n",
      "Number of boxes found:  2\n",
      "Number of boxes found:  1\n"
     ]
    },
    {
     "name": "stderr",
     "output_type": "stream",
     "text": [
      "\r",
      " 51%|█████     | 642/1261 [29:17<29:02,  2.81s/it]"
     ]
    },
    {
     "name": "stdout",
     "output_type": "stream",
     "text": [
      "Number of boxes found:  0\n",
      "iterations:  650\n",
      "heatmap len:  10\n",
      "Number of boxes found:  2\n",
      "Number of boxes found:  2\n",
      "Number of boxes found:  1\n"
     ]
    },
    {
     "name": "stderr",
     "output_type": "stream",
     "text": [
      "\r",
      " 51%|█████     | 643/1261 [29:20<29:00,  2.82s/it]"
     ]
    },
    {
     "name": "stdout",
     "output_type": "stream",
     "text": [
      "Number of boxes found:  0\n",
      "iterations:  651\n",
      "heatmap len:  10\n",
      "Number of boxes found:  3\n",
      "Number of boxes found:  1\n",
      "Number of boxes found:  1\n"
     ]
    },
    {
     "name": "stderr",
     "output_type": "stream",
     "text": [
      "\r",
      " 51%|█████     | 644/1261 [29:23<28:55,  2.81s/it]"
     ]
    },
    {
     "name": "stdout",
     "output_type": "stream",
     "text": [
      "Number of boxes found:  0\n",
      "iterations:  652\n",
      "heatmap len:  10\n",
      "Number of boxes found:  3\n",
      "Number of boxes found:  3\n",
      "Number of boxes found:  0\n"
     ]
    },
    {
     "name": "stderr",
     "output_type": "stream",
     "text": [
      "\r",
      " 51%|█████     | 645/1261 [29:25<28:47,  2.80s/it]"
     ]
    },
    {
     "name": "stdout",
     "output_type": "stream",
     "text": [
      "Number of boxes found:  0\n",
      "iterations:  653\n",
      "heatmap len:  10\n",
      "Number of boxes found:  3\n",
      "Number of boxes found:  1\n",
      "Number of boxes found:  0\n"
     ]
    },
    {
     "name": "stderr",
     "output_type": "stream",
     "text": [
      "\r",
      " 51%|█████     | 646/1261 [29:29<29:32,  2.88s/it]"
     ]
    },
    {
     "name": "stdout",
     "output_type": "stream",
     "text": [
      "Number of boxes found:  0\n",
      "iterations:  654\n",
      "heatmap len:  10\n",
      "Number of boxes found:  3\n",
      "Number of boxes found:  1\n",
      "Number of boxes found:  0\n"
     ]
    },
    {
     "name": "stderr",
     "output_type": "stream",
     "text": [
      "\r",
      " 51%|█████▏    | 647/1261 [29:31<29:19,  2.87s/it]"
     ]
    },
    {
     "name": "stdout",
     "output_type": "stream",
     "text": [
      "Number of boxes found:  0\n",
      "iterations:  655\n",
      "heatmap len:  10\n",
      "Number of boxes found:  2\n",
      "Number of boxes found:  1\n",
      "Number of boxes found:  0\n"
     ]
    },
    {
     "name": "stderr",
     "output_type": "stream",
     "text": [
      "\r",
      " 51%|█████▏    | 648/1261 [29:34<29:16,  2.86s/it]"
     ]
    },
    {
     "name": "stdout",
     "output_type": "stream",
     "text": [
      "Number of boxes found:  0\n",
      "iterations:  656\n",
      "heatmap len:  10\n",
      "Number of boxes found:  2\n",
      "Number of boxes found:  1\n",
      "Number of boxes found:  0\n"
     ]
    },
    {
     "name": "stderr",
     "output_type": "stream",
     "text": [
      "\r",
      " 51%|█████▏    | 649/1261 [29:37<29:12,  2.86s/it]"
     ]
    },
    {
     "name": "stdout",
     "output_type": "stream",
     "text": [
      "Number of boxes found:  0\n",
      "iterations:  657\n",
      "heatmap len:  10\n",
      "Number of boxes found:  2\n",
      "Number of boxes found:  1\n",
      "Number of boxes found:  0\n"
     ]
    },
    {
     "name": "stderr",
     "output_type": "stream",
     "text": [
      "\r",
      " 52%|█████▏    | 650/1261 [29:40<28:57,  2.84s/it]"
     ]
    },
    {
     "name": "stdout",
     "output_type": "stream",
     "text": [
      "Number of boxes found:  0\n",
      "iterations:  658\n",
      "heatmap len:  10\n",
      "Number of boxes found:  2\n",
      "Number of boxes found:  3\n",
      "Number of boxes found:  0\n"
     ]
    },
    {
     "name": "stderr",
     "output_type": "stream",
     "text": [
      "\r",
      " 52%|█████▏    | 651/1261 [29:43<28:30,  2.80s/it]"
     ]
    },
    {
     "name": "stdout",
     "output_type": "stream",
     "text": [
      "Number of boxes found:  0\n",
      "iterations:  659\n",
      "heatmap len:  10\n",
      "Number of boxes found:  2\n",
      "Number of boxes found:  1\n",
      "Number of boxes found:  0\n"
     ]
    },
    {
     "name": "stderr",
     "output_type": "stream",
     "text": [
      "\r",
      " 52%|█████▏    | 652/1261 [29:45<28:20,  2.79s/it]"
     ]
    },
    {
     "name": "stdout",
     "output_type": "stream",
     "text": [
      "Number of boxes found:  0\n",
      "iterations:  660\n",
      "heatmap len:  10\n",
      "Number of boxes found:  2\n",
      "Number of boxes found:  2\n",
      "Number of boxes found:  1\n"
     ]
    },
    {
     "name": "stderr",
     "output_type": "stream",
     "text": [
      "\r",
      " 52%|█████▏    | 653/1261 [29:48<28:27,  2.81s/it]"
     ]
    },
    {
     "name": "stdout",
     "output_type": "stream",
     "text": [
      "Number of boxes found:  0\n",
      "iterations:  661\n",
      "heatmap len:  10\n",
      "Number of boxes found:  4\n",
      "Number of boxes found:  3\n",
      "Number of boxes found:  1\n"
     ]
    },
    {
     "name": "stderr",
     "output_type": "stream",
     "text": [
      "\r",
      " 52%|█████▏    | 654/1261 [29:51<28:18,  2.80s/it]"
     ]
    },
    {
     "name": "stdout",
     "output_type": "stream",
     "text": [
      "Number of boxes found:  0\n",
      "iterations:  662\n",
      "heatmap len:  10\n",
      "Number of boxes found:  3\n",
      "Number of boxes found:  3\n",
      "Number of boxes found:  1\n"
     ]
    },
    {
     "name": "stderr",
     "output_type": "stream",
     "text": [
      "\r",
      " 52%|█████▏    | 655/1261 [29:54<28:28,  2.82s/it]"
     ]
    },
    {
     "name": "stdout",
     "output_type": "stream",
     "text": [
      "Number of boxes found:  0\n",
      "iterations:  663\n",
      "heatmap len:  10\n",
      "Number of boxes found:  1\n",
      "Number of boxes found:  2\n",
      "Number of boxes found:  1\n"
     ]
    },
    {
     "name": "stderr",
     "output_type": "stream",
     "text": [
      "\r",
      " 52%|█████▏    | 656/1261 [29:57<28:15,  2.80s/it]"
     ]
    },
    {
     "name": "stdout",
     "output_type": "stream",
     "text": [
      "Number of boxes found:  0\n",
      "iterations:  664\n",
      "heatmap len:  10\n",
      "Number of boxes found:  1\n",
      "Number of boxes found:  3\n",
      "Number of boxes found:  1\n"
     ]
    },
    {
     "name": "stderr",
     "output_type": "stream",
     "text": [
      "\r",
      " 52%|█████▏    | 657/1261 [30:00<28:55,  2.87s/it]"
     ]
    },
    {
     "name": "stdout",
     "output_type": "stream",
     "text": [
      "Number of boxes found:  0\n",
      "iterations:  665\n",
      "heatmap len:  10\n",
      "Number of boxes found:  2\n",
      "Number of boxes found:  3\n",
      "Number of boxes found:  1\n"
     ]
    },
    {
     "name": "stderr",
     "output_type": "stream",
     "text": [
      "\r",
      " 52%|█████▏    | 658/1261 [30:03<28:52,  2.87s/it]"
     ]
    },
    {
     "name": "stdout",
     "output_type": "stream",
     "text": [
      "Number of boxes found:  0\n",
      "iterations:  666\n",
      "heatmap len:  10\n",
      "Number of boxes found:  2\n",
      "Number of boxes found:  2\n",
      "Number of boxes found:  1\n"
     ]
    },
    {
     "name": "stderr",
     "output_type": "stream",
     "text": [
      "\r",
      " 52%|█████▏    | 659/1261 [30:05<29:04,  2.90s/it]"
     ]
    },
    {
     "name": "stdout",
     "output_type": "stream",
     "text": [
      "Number of boxes found:  0\n",
      "iterations:  667\n",
      "heatmap len:  10\n",
      "Number of boxes found:  3\n",
      "Number of boxes found:  2\n",
      "Number of boxes found:  0\n"
     ]
    },
    {
     "name": "stderr",
     "output_type": "stream",
     "text": [
      "\r",
      " 52%|█████▏    | 660/1261 [30:08<29:11,  2.91s/it]"
     ]
    },
    {
     "name": "stdout",
     "output_type": "stream",
     "text": [
      "Number of boxes found:  0\n",
      "iterations:  668\n",
      "heatmap len:  10\n",
      "Number of boxes found:  3\n",
      "Number of boxes found:  1\n",
      "Number of boxes found:  0\n"
     ]
    },
    {
     "name": "stderr",
     "output_type": "stream",
     "text": [
      "\r",
      " 52%|█████▏    | 661/1261 [30:11<29:29,  2.95s/it]"
     ]
    },
    {
     "name": "stdout",
     "output_type": "stream",
     "text": [
      "Number of boxes found:  0\n",
      "iterations:  669\n",
      "heatmap len:  10\n",
      "Number of boxes found:  2\n",
      "Number of boxes found:  1\n",
      "Number of boxes found:  0\n"
     ]
    },
    {
     "name": "stderr",
     "output_type": "stream",
     "text": [
      "\r",
      " 52%|█████▏    | 662/1261 [30:14<28:48,  2.89s/it]"
     ]
    },
    {
     "name": "stdout",
     "output_type": "stream",
     "text": [
      "Number of boxes found:  0\n",
      "iterations:  670\n",
      "heatmap len:  10\n",
      "Number of boxes found:  2\n",
      "Number of boxes found:  3\n",
      "Number of boxes found:  0\n"
     ]
    },
    {
     "name": "stderr",
     "output_type": "stream",
     "text": [
      "\r",
      " 53%|█████▎    | 663/1261 [30:17<28:21,  2.85s/it]"
     ]
    },
    {
     "name": "stdout",
     "output_type": "stream",
     "text": [
      "Number of boxes found:  0\n",
      "iterations:  671\n",
      "heatmap len:  10\n",
      "Number of boxes found:  2\n",
      "Number of boxes found:  2\n",
      "Number of boxes found:  1\n"
     ]
    },
    {
     "name": "stderr",
     "output_type": "stream",
     "text": [
      "\r",
      " 53%|█████▎    | 664/1261 [30:20<27:56,  2.81s/it]"
     ]
    },
    {
     "name": "stdout",
     "output_type": "stream",
     "text": [
      "Number of boxes found:  0\n",
      "iterations:  672\n",
      "heatmap len:  10\n",
      "Number of boxes found:  3\n",
      "Number of boxes found:  2\n",
      "Number of boxes found:  1\n"
     ]
    },
    {
     "name": "stderr",
     "output_type": "stream",
     "text": [
      "\r",
      " 53%|█████▎    | 665/1261 [30:22<27:45,  2.79s/it]"
     ]
    },
    {
     "name": "stdout",
     "output_type": "stream",
     "text": [
      "Number of boxes found:  0\n",
      "iterations:  673\n",
      "heatmap len:  10\n",
      "Number of boxes found:  3\n",
      "Number of boxes found:  1\n",
      "Number of boxes found:  1\n"
     ]
    },
    {
     "name": "stderr",
     "output_type": "stream",
     "text": [
      "\r",
      " 53%|█████▎    | 666/1261 [30:25<28:18,  2.86s/it]"
     ]
    },
    {
     "name": "stdout",
     "output_type": "stream",
     "text": [
      "Number of boxes found:  0\n",
      "iterations:  674\n",
      "heatmap len:  10\n",
      "Number of boxes found:  3\n",
      "Number of boxes found:  1\n",
      "Number of boxes found:  0\n"
     ]
    },
    {
     "name": "stderr",
     "output_type": "stream",
     "text": [
      "\r",
      " 53%|█████▎    | 667/1261 [30:28<27:55,  2.82s/it]"
     ]
    },
    {
     "name": "stdout",
     "output_type": "stream",
     "text": [
      "Number of boxes found:  0\n",
      "iterations:  675\n",
      "heatmap len:  10\n",
      "Number of boxes found:  2\n",
      "Number of boxes found:  1\n",
      "Number of boxes found:  1\n"
     ]
    },
    {
     "name": "stderr",
     "output_type": "stream",
     "text": [
      "\r",
      " 53%|█████▎    | 668/1261 [30:31<28:00,  2.83s/it]"
     ]
    },
    {
     "name": "stdout",
     "output_type": "stream",
     "text": [
      "Number of boxes found:  0\n",
      "iterations:  676\n",
      "heatmap len:  10\n",
      "Number of boxes found:  3\n",
      "Number of boxes found:  2\n",
      "Number of boxes found:  1\n"
     ]
    },
    {
     "name": "stderr",
     "output_type": "stream",
     "text": [
      "\r",
      " 53%|█████▎    | 669/1261 [30:34<28:08,  2.85s/it]"
     ]
    },
    {
     "name": "stdout",
     "output_type": "stream",
     "text": [
      "Number of boxes found:  0\n",
      "iterations:  677\n",
      "heatmap len:  10\n",
      "Number of boxes found:  3\n",
      "Number of boxes found:  2\n",
      "Number of boxes found:  1\n"
     ]
    },
    {
     "name": "stderr",
     "output_type": "stream",
     "text": [
      "\r",
      " 53%|█████▎    | 670/1261 [30:37<28:02,  2.85s/it]"
     ]
    },
    {
     "name": "stdout",
     "output_type": "stream",
     "text": [
      "Number of boxes found:  0\n",
      "iterations:  678\n",
      "heatmap len:  10\n",
      "Number of boxes found:  2\n",
      "Number of boxes found:  2\n",
      "Number of boxes found:  1\n"
     ]
    },
    {
     "name": "stderr",
     "output_type": "stream",
     "text": [
      "\r",
      " 53%|█████▎    | 671/1261 [30:39<27:38,  2.81s/it]"
     ]
    },
    {
     "name": "stdout",
     "output_type": "stream",
     "text": [
      "Number of boxes found:  0\n",
      "iterations:  679\n",
      "heatmap len:  10\n",
      "Number of boxes found:  2\n",
      "Number of boxes found:  1\n",
      "Number of boxes found:  0\n"
     ]
    },
    {
     "name": "stderr",
     "output_type": "stream",
     "text": [
      "\r",
      " 53%|█████▎    | 672/1261 [30:42<27:18,  2.78s/it]"
     ]
    },
    {
     "name": "stdout",
     "output_type": "stream",
     "text": [
      "Number of boxes found:  0\n",
      "iterations:  680\n",
      "heatmap len:  10\n",
      "Number of boxes found:  3\n",
      "Number of boxes found:  1\n",
      "Number of boxes found:  1\n"
     ]
    },
    {
     "name": "stderr",
     "output_type": "stream",
     "text": [
      "\r",
      " 53%|█████▎    | 673/1261 [30:45<27:08,  2.77s/it]"
     ]
    },
    {
     "name": "stdout",
     "output_type": "stream",
     "text": [
      "Number of boxes found:  0\n",
      "iterations:  681\n",
      "heatmap len:  10\n",
      "Number of boxes found:  2\n",
      "Number of boxes found:  1\n",
      "Number of boxes found:  1\n"
     ]
    },
    {
     "name": "stderr",
     "output_type": "stream",
     "text": [
      "\r",
      " 53%|█████▎    | 674/1261 [30:48<27:02,  2.76s/it]"
     ]
    },
    {
     "name": "stdout",
     "output_type": "stream",
     "text": [
      "Number of boxes found:  0\n",
      "iterations:  682\n",
      "heatmap len:  10\n",
      "Number of boxes found:  2\n",
      "Number of boxes found:  1\n",
      "Number of boxes found:  1\n"
     ]
    },
    {
     "name": "stderr",
     "output_type": "stream",
     "text": [
      "\r",
      " 54%|█████▎    | 675/1261 [30:51<27:17,  2.79s/it]"
     ]
    },
    {
     "name": "stdout",
     "output_type": "stream",
     "text": [
      "Number of boxes found:  0\n",
      "iterations:  683\n",
      "heatmap len:  10\n",
      "Number of boxes found:  2\n",
      "Number of boxes found:  1\n",
      "Number of boxes found:  0\n"
     ]
    },
    {
     "name": "stderr",
     "output_type": "stream",
     "text": [
      "\r",
      " 54%|█████▎    | 676/1261 [30:53<27:09,  2.79s/it]"
     ]
    },
    {
     "name": "stdout",
     "output_type": "stream",
     "text": [
      "Number of boxes found:  0\n",
      "iterations:  684\n",
      "heatmap len:  10\n",
      "Number of boxes found:  2\n",
      "Number of boxes found:  1\n",
      "Number of boxes found:  0\n"
     ]
    },
    {
     "name": "stderr",
     "output_type": "stream",
     "text": [
      "\r",
      " 54%|█████▎    | 677/1261 [30:56<27:16,  2.80s/it]"
     ]
    },
    {
     "name": "stdout",
     "output_type": "stream",
     "text": [
      "Number of boxes found:  0\n",
      "iterations:  685\n",
      "heatmap len:  10\n",
      "Number of boxes found:  3\n",
      "Number of boxes found:  1\n",
      "Number of boxes found:  0\n"
     ]
    },
    {
     "name": "stderr",
     "output_type": "stream",
     "text": [
      "\r",
      " 54%|█████▍    | 678/1261 [30:59<27:11,  2.80s/it]"
     ]
    },
    {
     "name": "stdout",
     "output_type": "stream",
     "text": [
      "Number of boxes found:  0\n",
      "iterations:  686\n",
      "heatmap len:  10\n",
      "Number of boxes found:  2\n",
      "Number of boxes found:  1\n",
      "Number of boxes found:  1\n"
     ]
    },
    {
     "name": "stderr",
     "output_type": "stream",
     "text": [
      "\r",
      " 54%|█████▍    | 679/1261 [31:02<27:18,  2.82s/it]"
     ]
    },
    {
     "name": "stdout",
     "output_type": "stream",
     "text": [
      "Number of boxes found:  0\n",
      "iterations:  687\n",
      "heatmap len:  10\n",
      "Number of boxes found:  3\n",
      "Number of boxes found:  1\n",
      "Number of boxes found:  0\n"
     ]
    },
    {
     "name": "stderr",
     "output_type": "stream",
     "text": [
      "\r",
      " 54%|█████▍    | 680/1261 [31:05<27:07,  2.80s/it]"
     ]
    },
    {
     "name": "stdout",
     "output_type": "stream",
     "text": [
      "Number of boxes found:  0\n",
      "iterations:  688\n",
      "heatmap len:  10\n",
      "Number of boxes found:  3\n",
      "Number of boxes found:  1\n",
      "Number of boxes found:  0\n"
     ]
    },
    {
     "name": "stderr",
     "output_type": "stream",
     "text": [
      "\r",
      " 54%|█████▍    | 681/1261 [31:07<27:05,  2.80s/it]"
     ]
    },
    {
     "name": "stdout",
     "output_type": "stream",
     "text": [
      "Number of boxes found:  0\n",
      "iterations:  689\n",
      "heatmap len:  10\n",
      "Number of boxes found:  2\n",
      "Number of boxes found:  1\n",
      "Number of boxes found:  0\n"
     ]
    },
    {
     "name": "stderr",
     "output_type": "stream",
     "text": [
      "\r",
      " 54%|█████▍    | 682/1261 [31:10<27:08,  2.81s/it]"
     ]
    },
    {
     "name": "stdout",
     "output_type": "stream",
     "text": [
      "Number of boxes found:  0\n",
      "iterations:  690\n",
      "heatmap len:  10\n",
      "Number of boxes found:  3\n",
      "Number of boxes found:  1\n",
      "Number of boxes found:  0\n"
     ]
    },
    {
     "name": "stderr",
     "output_type": "stream",
     "text": [
      "\r",
      " 54%|█████▍    | 683/1261 [31:13<27:04,  2.81s/it]"
     ]
    },
    {
     "name": "stdout",
     "output_type": "stream",
     "text": [
      "Number of boxes found:  0\n",
      "iterations:  691\n",
      "heatmap len:  10\n",
      "Number of boxes found:  1\n",
      "Number of boxes found:  1\n",
      "Number of boxes found:  0\n"
     ]
    },
    {
     "name": "stderr",
     "output_type": "stream",
     "text": [
      "\r",
      " 54%|█████▍    | 684/1261 [31:16<26:41,  2.78s/it]"
     ]
    },
    {
     "name": "stdout",
     "output_type": "stream",
     "text": [
      "Number of boxes found:  0\n",
      "iterations:  692\n",
      "heatmap len:  10\n",
      "Number of boxes found:  2\n",
      "Number of boxes found:  1\n",
      "Number of boxes found:  0\n"
     ]
    },
    {
     "name": "stderr",
     "output_type": "stream",
     "text": [
      "\r",
      " 54%|█████▍    | 685/1261 [31:18<26:36,  2.77s/it]"
     ]
    },
    {
     "name": "stdout",
     "output_type": "stream",
     "text": [
      "Number of boxes found:  0\n",
      "iterations:  693\n",
      "heatmap len:  10\n",
      "Number of boxes found:  1\n",
      "Number of boxes found:  1\n",
      "Number of boxes found:  0\n"
     ]
    },
    {
     "name": "stderr",
     "output_type": "stream",
     "text": [
      "\r",
      " 54%|█████▍    | 686/1261 [31:21<26:35,  2.78s/it]"
     ]
    },
    {
     "name": "stdout",
     "output_type": "stream",
     "text": [
      "Number of boxes found:  0\n",
      "iterations:  694\n",
      "heatmap len:  10\n",
      "Number of boxes found:  2\n",
      "Number of boxes found:  1\n",
      "Number of boxes found:  0\n"
     ]
    },
    {
     "name": "stderr",
     "output_type": "stream",
     "text": [
      "\r",
      " 54%|█████▍    | 687/1261 [31:24<26:39,  2.79s/it]"
     ]
    },
    {
     "name": "stdout",
     "output_type": "stream",
     "text": [
      "Number of boxes found:  0\n",
      "iterations:  695\n",
      "heatmap len:  10\n",
      "Number of boxes found:  2\n",
      "Number of boxes found:  1\n",
      "Number of boxes found:  1\n"
     ]
    },
    {
     "name": "stderr",
     "output_type": "stream",
     "text": [
      "\r",
      " 55%|█████▍    | 688/1261 [31:27<26:40,  2.79s/it]"
     ]
    },
    {
     "name": "stdout",
     "output_type": "stream",
     "text": [
      "Number of boxes found:  0\n",
      "iterations:  696\n",
      "heatmap len:  10\n",
      "Number of boxes found:  2\n",
      "Number of boxes found:  1\n",
      "Number of boxes found:  0\n"
     ]
    },
    {
     "name": "stderr",
     "output_type": "stream",
     "text": [
      "\r",
      " 55%|█████▍    | 689/1261 [31:30<26:36,  2.79s/it]"
     ]
    },
    {
     "name": "stdout",
     "output_type": "stream",
     "text": [
      "Number of boxes found:  0\n",
      "iterations:  697\n",
      "heatmap len:  10\n",
      "Number of boxes found:  1\n",
      "Number of boxes found:  1\n",
      "Number of boxes found:  1\n"
     ]
    },
    {
     "name": "stderr",
     "output_type": "stream",
     "text": [
      "\r",
      " 55%|█████▍    | 690/1261 [31:32<26:27,  2.78s/it]"
     ]
    },
    {
     "name": "stdout",
     "output_type": "stream",
     "text": [
      "Number of boxes found:  0\n",
      "iterations:  698\n",
      "heatmap len:  10\n",
      "Number of boxes found:  1\n",
      "Number of boxes found:  1\n",
      "Number of boxes found:  1\n"
     ]
    },
    {
     "name": "stderr",
     "output_type": "stream",
     "text": [
      "\r",
      " 55%|█████▍    | 691/1261 [31:35<26:29,  2.79s/it]"
     ]
    },
    {
     "name": "stdout",
     "output_type": "stream",
     "text": [
      "Number of boxes found:  0\n",
      "iterations:  699\n",
      "heatmap len:  10\n",
      "Number of boxes found:  2\n",
      "Number of boxes found:  2\n",
      "Number of boxes found:  2\n"
     ]
    },
    {
     "name": "stderr",
     "output_type": "stream",
     "text": [
      "\r",
      " 55%|█████▍    | 692/1261 [31:38<26:31,  2.80s/it]"
     ]
    },
    {
     "name": "stdout",
     "output_type": "stream",
     "text": [
      "Number of boxes found:  0\n",
      "iterations:  700\n",
      "heatmap len:  10\n",
      "Number of boxes found:  3\n",
      "Number of boxes found:  4\n",
      "Number of boxes found:  2\n"
     ]
    },
    {
     "name": "stderr",
     "output_type": "stream",
     "text": [
      "\r",
      " 55%|█████▍    | 693/1261 [31:41<26:41,  2.82s/it]"
     ]
    },
    {
     "name": "stdout",
     "output_type": "stream",
     "text": [
      "Number of boxes found:  0\n",
      "iterations:  701\n",
      "heatmap len:  10\n",
      "Number of boxes found:  4\n",
      "Number of boxes found:  5\n",
      "Number of boxes found:  1\n"
     ]
    },
    {
     "name": "stderr",
     "output_type": "stream",
     "text": [
      "\r",
      " 55%|█████▌    | 694/1261 [31:44<26:39,  2.82s/it]"
     ]
    },
    {
     "name": "stdout",
     "output_type": "stream",
     "text": [
      "Number of boxes found:  0\n",
      "iterations:  702\n",
      "heatmap len:  10\n",
      "Number of boxes found:  8\n",
      "Number of boxes found:  6\n",
      "Number of boxes found:  3\n"
     ]
    },
    {
     "name": "stderr",
     "output_type": "stream",
     "text": [
      "\r",
      " 55%|█████▌    | 695/1261 [31:47<26:37,  2.82s/it]"
     ]
    },
    {
     "name": "stdout",
     "output_type": "stream",
     "text": [
      "Number of boxes found:  0\n",
      "iterations:  703\n",
      "heatmap len:  10\n",
      "Number of boxes found:  7\n",
      "Number of boxes found:  7\n",
      "Number of boxes found:  3\n"
     ]
    },
    {
     "name": "stderr",
     "output_type": "stream",
     "text": [
      "\r",
      " 55%|█████▌    | 696/1261 [31:50<26:55,  2.86s/it]"
     ]
    },
    {
     "name": "stdout",
     "output_type": "stream",
     "text": [
      "Number of boxes found:  0\n",
      "iterations:  704\n",
      "heatmap len:  10\n",
      "Number of boxes found:  4\n",
      "Number of boxes found:  3\n",
      "Number of boxes found:  1\n"
     ]
    },
    {
     "name": "stderr",
     "output_type": "stream",
     "text": [
      "\r",
      " 55%|█████▌    | 697/1261 [31:52<26:28,  2.82s/it]"
     ]
    },
    {
     "name": "stdout",
     "output_type": "stream",
     "text": [
      "Number of boxes found:  0\n",
      "iterations:  705\n",
      "heatmap len:  10\n",
      "Number of boxes found:  2\n",
      "Number of boxes found:  5\n",
      "Number of boxes found:  2\n"
     ]
    },
    {
     "name": "stderr",
     "output_type": "stream",
     "text": [
      "\r",
      " 55%|█████▌    | 698/1261 [31:55<26:04,  2.78s/it]"
     ]
    },
    {
     "name": "stdout",
     "output_type": "stream",
     "text": [
      "Number of boxes found:  0\n",
      "iterations:  706\n",
      "heatmap len:  10\n",
      "Number of boxes found:  6\n",
      "Number of boxes found:  4\n",
      "Number of boxes found:  2\n"
     ]
    },
    {
     "name": "stderr",
     "output_type": "stream",
     "text": [
      "\r",
      " 55%|█████▌    | 699/1261 [31:58<25:51,  2.76s/it]"
     ]
    },
    {
     "name": "stdout",
     "output_type": "stream",
     "text": [
      "Number of boxes found:  0\n",
      "iterations:  707\n",
      "heatmap len:  10\n",
      "Number of boxes found:  6\n",
      "Number of boxes found:  3\n",
      "Number of boxes found:  3\n"
     ]
    },
    {
     "name": "stderr",
     "output_type": "stream",
     "text": [
      "\r",
      " 56%|█████▌    | 700/1261 [32:00<25:52,  2.77s/it]"
     ]
    },
    {
     "name": "stdout",
     "output_type": "stream",
     "text": [
      "Number of boxes found:  0\n",
      "iterations:  708\n",
      "heatmap len:  10\n",
      "Number of boxes found:  7\n",
      "Number of boxes found:  5\n",
      "Number of boxes found:  4\n"
     ]
    },
    {
     "name": "stderr",
     "output_type": "stream",
     "text": [
      "\r",
      " 56%|█████▌    | 701/1261 [32:03<26:10,  2.81s/it]"
     ]
    },
    {
     "name": "stdout",
     "output_type": "stream",
     "text": [
      "Number of boxes found:  1\n",
      "iterations:  709\n",
      "heatmap len:  10\n",
      "Number of boxes found:  10\n",
      "Number of boxes found:  5\n",
      "Number of boxes found:  1\n"
     ]
    },
    {
     "name": "stderr",
     "output_type": "stream",
     "text": [
      "\r",
      " 56%|█████▌    | 702/1261 [32:06<25:58,  2.79s/it]"
     ]
    },
    {
     "name": "stdout",
     "output_type": "stream",
     "text": [
      "Number of boxes found:  1\n",
      "iterations:  710\n",
      "heatmap len:  10\n",
      "Number of boxes found:  9\n",
      "Number of boxes found:  9\n",
      "Number of boxes found:  5\n"
     ]
    },
    {
     "name": "stderr",
     "output_type": "stream",
     "text": [
      "\r",
      " 56%|█████▌    | 703/1261 [32:09<25:34,  2.75s/it]"
     ]
    },
    {
     "name": "stdout",
     "output_type": "stream",
     "text": [
      "Number of boxes found:  1\n",
      "iterations:  711\n",
      "heatmap len:  10\n",
      "Number of boxes found:  10\n",
      "Number of boxes found:  7\n",
      "Number of boxes found:  3\n"
     ]
    },
    {
     "name": "stderr",
     "output_type": "stream",
     "text": [
      "\r",
      " 56%|█████▌    | 704/1261 [32:11<25:28,  2.74s/it]"
     ]
    },
    {
     "name": "stdout",
     "output_type": "stream",
     "text": [
      "Number of boxes found:  1\n",
      "iterations:  712\n",
      "heatmap len:  10\n",
      "Number of boxes found:  8\n",
      "Number of boxes found:  4\n",
      "Number of boxes found:  3\n"
     ]
    },
    {
     "name": "stderr",
     "output_type": "stream",
     "text": [
      "\r",
      " 56%|█████▌    | 705/1261 [32:14<25:32,  2.76s/it]"
     ]
    },
    {
     "name": "stdout",
     "output_type": "stream",
     "text": [
      "Number of boxes found:  1\n",
      "iterations:  713\n",
      "heatmap len:  10\n",
      "Number of boxes found:  5\n",
      "Number of boxes found:  7\n",
      "Number of boxes found:  4\n"
     ]
    },
    {
     "name": "stderr",
     "output_type": "stream",
     "text": [
      "\r",
      " 56%|█████▌    | 706/1261 [32:17<25:18,  2.74s/it]"
     ]
    },
    {
     "name": "stdout",
     "output_type": "stream",
     "text": [
      "Number of boxes found:  2\n",
      "iterations:  714\n",
      "heatmap len:  10\n",
      "Number of boxes found:  8\n",
      "Number of boxes found:  7\n",
      "Number of boxes found:  5\n"
     ]
    },
    {
     "name": "stderr",
     "output_type": "stream",
     "text": [
      "\r",
      " 56%|█████▌    | 707/1261 [32:20<25:01,  2.71s/it]"
     ]
    },
    {
     "name": "stdout",
     "output_type": "stream",
     "text": [
      "Number of boxes found:  3\n",
      "iterations:  715\n",
      "heatmap len:  10\n",
      "Number of boxes found:  11\n",
      "Number of boxes found:  10\n",
      "Number of boxes found:  5\n"
     ]
    },
    {
     "name": "stderr",
     "output_type": "stream",
     "text": [
      "\r",
      " 56%|█████▌    | 708/1261 [32:22<24:50,  2.70s/it]"
     ]
    },
    {
     "name": "stdout",
     "output_type": "stream",
     "text": [
      "Number of boxes found:  3\n",
      "iterations:  716\n",
      "heatmap len:  10\n",
      "Number of boxes found:  10\n",
      "Number of boxes found:  7\n",
      "Number of boxes found:  6\n"
     ]
    },
    {
     "name": "stderr",
     "output_type": "stream",
     "text": [
      "\r",
      " 56%|█████▌    | 709/1261 [32:25<25:10,  2.74s/it]"
     ]
    },
    {
     "name": "stdout",
     "output_type": "stream",
     "text": [
      "Number of boxes found:  4\n",
      "iterations:  717\n",
      "heatmap len:  10\n",
      "Number of boxes found:  11\n",
      "Number of boxes found:  14\n",
      "Number of boxes found:  7\n"
     ]
    },
    {
     "name": "stderr",
     "output_type": "stream",
     "text": [
      "\r",
      " 56%|█████▋    | 710/1261 [32:28<24:58,  2.72s/it]"
     ]
    },
    {
     "name": "stdout",
     "output_type": "stream",
     "text": [
      "Number of boxes found:  1\n",
      "iterations:  718\n",
      "heatmap len:  10\n",
      "Number of boxes found:  11\n",
      "Number of boxes found:  9\n",
      "Number of boxes found:  6\n"
     ]
    },
    {
     "name": "stderr",
     "output_type": "stream",
     "text": [
      "\r",
      " 56%|█████▋    | 711/1261 [32:30<24:46,  2.70s/it]"
     ]
    },
    {
     "name": "stdout",
     "output_type": "stream",
     "text": [
      "Number of boxes found:  2\n",
      "iterations:  719\n",
      "heatmap len:  10\n",
      "Number of boxes found:  11\n",
      "Number of boxes found:  11\n",
      "Number of boxes found:  5\n"
     ]
    },
    {
     "name": "stderr",
     "output_type": "stream",
     "text": [
      "\r",
      " 56%|█████▋    | 712/1261 [32:33<24:34,  2.69s/it]"
     ]
    },
    {
     "name": "stdout",
     "output_type": "stream",
     "text": [
      "Number of boxes found:  2\n",
      "iterations:  720\n",
      "heatmap len:  10\n",
      "Number of boxes found:  8\n",
      "Number of boxes found:  9\n",
      "Number of boxes found:  5\n"
     ]
    },
    {
     "name": "stderr",
     "output_type": "stream",
     "text": [
      "\r",
      " 57%|█████▋    | 713/1261 [32:36<24:25,  2.67s/it]"
     ]
    },
    {
     "name": "stdout",
     "output_type": "stream",
     "text": [
      "Number of boxes found:  4\n",
      "iterations:  721\n",
      "heatmap len:  10\n",
      "Number of boxes found:  9\n",
      "Number of boxes found:  10\n",
      "Number of boxes found:  4\n"
     ]
    },
    {
     "name": "stderr",
     "output_type": "stream",
     "text": [
      "\r",
      " 57%|█████▋    | 714/1261 [32:38<24:21,  2.67s/it]"
     ]
    },
    {
     "name": "stdout",
     "output_type": "stream",
     "text": [
      "Number of boxes found:  2\n",
      "iterations:  722\n",
      "heatmap len:  10\n",
      "Number of boxes found:  7\n",
      "Number of boxes found:  9\n",
      "Number of boxes found:  7\n"
     ]
    },
    {
     "name": "stderr",
     "output_type": "stream",
     "text": [
      "\r",
      " 57%|█████▋    | 715/1261 [32:41<24:10,  2.66s/it]"
     ]
    },
    {
     "name": "stdout",
     "output_type": "stream",
     "text": [
      "Number of boxes found:  2\n",
      "iterations:  723\n",
      "heatmap len:  10\n",
      "Number of boxes found:  9\n",
      "Number of boxes found:  7\n",
      "Number of boxes found:  6\n"
     ]
    },
    {
     "name": "stderr",
     "output_type": "stream",
     "text": [
      "\r",
      " 57%|█████▋    | 716/1261 [32:44<24:04,  2.65s/it]"
     ]
    },
    {
     "name": "stdout",
     "output_type": "stream",
     "text": [
      "Number of boxes found:  4\n",
      "iterations:  724\n",
      "heatmap len:  10\n",
      "Number of boxes found:  10\n",
      "Number of boxes found:  6\n",
      "Number of boxes found:  6\n"
     ]
    },
    {
     "name": "stderr",
     "output_type": "stream",
     "text": [
      "\r",
      " 57%|█████▋    | 717/1261 [32:46<24:04,  2.66s/it]"
     ]
    },
    {
     "name": "stdout",
     "output_type": "stream",
     "text": [
      "Number of boxes found:  4\n",
      "iterations:  725\n",
      "heatmap len:  10\n",
      "Number of boxes found:  8\n",
      "Number of boxes found:  7\n",
      "Number of boxes found:  5\n"
     ]
    },
    {
     "name": "stderr",
     "output_type": "stream",
     "text": [
      "\r",
      " 57%|█████▋    | 718/1261 [32:49<24:08,  2.67s/it]"
     ]
    },
    {
     "name": "stdout",
     "output_type": "stream",
     "text": [
      "Number of boxes found:  6\n",
      "iterations:  726\n",
      "heatmap len:  10\n",
      "Number of boxes found:  12\n",
      "Number of boxes found:  9\n",
      "Number of boxes found:  5\n"
     ]
    },
    {
     "name": "stderr",
     "output_type": "stream",
     "text": [
      "\r",
      " 57%|█████▋    | 719/1261 [32:52<24:18,  2.69s/it]"
     ]
    },
    {
     "name": "stdout",
     "output_type": "stream",
     "text": [
      "Number of boxes found:  6\n",
      "iterations:  727\n",
      "heatmap len:  10\n",
      "Number of boxes found:  10\n",
      "Number of boxes found:  5\n",
      "Number of boxes found:  5\n"
     ]
    },
    {
     "name": "stderr",
     "output_type": "stream",
     "text": [
      "\r",
      " 57%|█████▋    | 720/1261 [32:54<24:24,  2.71s/it]"
     ]
    },
    {
     "name": "stdout",
     "output_type": "stream",
     "text": [
      "Number of boxes found:  6\n",
      "iterations:  728\n",
      "heatmap len:  10\n",
      "Number of boxes found:  3\n",
      "Number of boxes found:  2\n",
      "Number of boxes found:  3\n"
     ]
    },
    {
     "name": "stderr",
     "output_type": "stream",
     "text": [
      "\r",
      " 57%|█████▋    | 721/1261 [32:57<24:29,  2.72s/it]"
     ]
    },
    {
     "name": "stdout",
     "output_type": "stream",
     "text": [
      "Number of boxes found:  3\n",
      "iterations:  729\n",
      "heatmap len:  10\n",
      "Number of boxes found:  5\n",
      "Number of boxes found:  2\n",
      "Number of boxes found:  3\n"
     ]
    },
    {
     "name": "stderr",
     "output_type": "stream",
     "text": [
      "\r",
      " 57%|█████▋    | 722/1261 [33:00<24:29,  2.73s/it]"
     ]
    },
    {
     "name": "stdout",
     "output_type": "stream",
     "text": [
      "Number of boxes found:  3\n",
      "iterations:  730\n",
      "heatmap len:  10\n",
      "Number of boxes found:  3\n",
      "Number of boxes found:  2\n",
      "Number of boxes found:  4\n"
     ]
    },
    {
     "name": "stderr",
     "output_type": "stream",
     "text": [
      "\r",
      " 57%|█████▋    | 723/1261 [33:03<24:09,  2.69s/it]"
     ]
    },
    {
     "name": "stdout",
     "output_type": "stream",
     "text": [
      "Number of boxes found:  5\n",
      "iterations:  731\n",
      "heatmap len:  10\n",
      "Number of boxes found:  4\n",
      "Number of boxes found:  5\n",
      "Number of boxes found:  7\n"
     ]
    },
    {
     "name": "stderr",
     "output_type": "stream",
     "text": [
      "\r",
      " 57%|█████▋    | 724/1261 [33:05<23:58,  2.68s/it]"
     ]
    },
    {
     "name": "stdout",
     "output_type": "stream",
     "text": [
      "Number of boxes found:  6\n",
      "iterations:  732\n",
      "heatmap len:  10\n",
      "Number of boxes found:  2\n",
      "Number of boxes found:  8\n",
      "Number of boxes found:  7\n"
     ]
    },
    {
     "name": "stderr",
     "output_type": "stream",
     "text": [
      "\r",
      " 57%|█████▋    | 725/1261 [33:08<24:00,  2.69s/it]"
     ]
    },
    {
     "name": "stdout",
     "output_type": "stream",
     "text": [
      "Number of boxes found:  8\n",
      "iterations:  733\n",
      "heatmap len:  10\n",
      "Number of boxes found:  4\n",
      "Number of boxes found:  6\n",
      "Number of boxes found:  5\n"
     ]
    },
    {
     "name": "stderr",
     "output_type": "stream",
     "text": [
      "\r",
      " 58%|█████▊    | 726/1261 [33:11<24:09,  2.71s/it]"
     ]
    },
    {
     "name": "stdout",
     "output_type": "stream",
     "text": [
      "Number of boxes found:  6\n",
      "iterations:  734\n",
      "heatmap len:  10\n",
      "Number of boxes found:  4\n",
      "Number of boxes found:  8\n",
      "Number of boxes found:  7\n"
     ]
    },
    {
     "name": "stderr",
     "output_type": "stream",
     "text": [
      "\r",
      " 58%|█████▊    | 727/1261 [33:13<24:11,  2.72s/it]"
     ]
    },
    {
     "name": "stdout",
     "output_type": "stream",
     "text": [
      "Number of boxes found:  4\n",
      "iterations:  735\n",
      "heatmap len:  10\n",
      "Number of boxes found:  7\n",
      "Number of boxes found:  9\n",
      "Number of boxes found:  9\n"
     ]
    },
    {
     "name": "stderr",
     "output_type": "stream",
     "text": [
      "\r",
      " 58%|█████▊    | 728/1261 [33:16<24:10,  2.72s/it]"
     ]
    },
    {
     "name": "stdout",
     "output_type": "stream",
     "text": [
      "Number of boxes found:  6\n",
      "iterations:  736\n",
      "heatmap len:  10\n",
      "Number of boxes found:  8\n",
      "Number of boxes found:  6\n",
      "Number of boxes found:  8\n"
     ]
    },
    {
     "name": "stderr",
     "output_type": "stream",
     "text": [
      "\r",
      " 58%|█████▊    | 729/1261 [33:19<24:03,  2.71s/it]"
     ]
    },
    {
     "name": "stdout",
     "output_type": "stream",
     "text": [
      "Number of boxes found:  3\n",
      "iterations:  737\n",
      "heatmap len:  10\n",
      "Number of boxes found:  10\n",
      "Number of boxes found:  9\n",
      "Number of boxes found:  8\n"
     ]
    },
    {
     "name": "stderr",
     "output_type": "stream",
     "text": [
      "\r",
      " 58%|█████▊    | 730/1261 [33:22<24:12,  2.74s/it]"
     ]
    },
    {
     "name": "stdout",
     "output_type": "stream",
     "text": [
      "Number of boxes found:  6\n",
      "iterations:  738\n",
      "heatmap len:  10\n",
      "Number of boxes found:  8\n",
      "Number of boxes found:  7\n",
      "Number of boxes found:  9\n"
     ]
    },
    {
     "name": "stderr",
     "output_type": "stream",
     "text": [
      "\r",
      " 58%|█████▊    | 731/1261 [33:24<24:14,  2.75s/it]"
     ]
    },
    {
     "name": "stdout",
     "output_type": "stream",
     "text": [
      "Number of boxes found:  5\n",
      "iterations:  739\n",
      "heatmap len:  10\n",
      "Number of boxes found:  9\n",
      "Number of boxes found:  6\n",
      "Number of boxes found:  10\n"
     ]
    },
    {
     "name": "stderr",
     "output_type": "stream",
     "text": [
      "\r",
      " 58%|█████▊    | 732/1261 [33:27<24:11,  2.74s/it]"
     ]
    },
    {
     "name": "stdout",
     "output_type": "stream",
     "text": [
      "Number of boxes found:  4\n",
      "iterations:  740\n",
      "heatmap len:  10\n",
      "Number of boxes found:  6\n",
      "Number of boxes found:  11\n",
      "Number of boxes found:  10\n"
     ]
    },
    {
     "name": "stderr",
     "output_type": "stream",
     "text": [
      "\r",
      " 58%|█████▊    | 733/1261 [33:30<24:02,  2.73s/it]"
     ]
    },
    {
     "name": "stdout",
     "output_type": "stream",
     "text": [
      "Number of boxes found:  3\n",
      "iterations:  741\n",
      "heatmap len:  10\n",
      "Number of boxes found:  8\n",
      "Number of boxes found:  8\n",
      "Number of boxes found:  9\n"
     ]
    },
    {
     "name": "stderr",
     "output_type": "stream",
     "text": [
      "\r",
      " 58%|█████▊    | 734/1261 [33:33<24:00,  2.73s/it]"
     ]
    },
    {
     "name": "stdout",
     "output_type": "stream",
     "text": [
      "Number of boxes found:  5\n",
      "iterations:  742\n",
      "heatmap len:  10\n",
      "Number of boxes found:  5\n",
      "Number of boxes found:  11\n",
      "Number of boxes found:  10\n"
     ]
    },
    {
     "name": "stderr",
     "output_type": "stream",
     "text": [
      "\r",
      " 58%|█████▊    | 735/1261 [33:35<23:52,  2.72s/it]"
     ]
    },
    {
     "name": "stdout",
     "output_type": "stream",
     "text": [
      "Number of boxes found:  3\n",
      "iterations:  743\n",
      "heatmap len:  10\n",
      "Number of boxes found:  8\n",
      "Number of boxes found:  11\n",
      "Number of boxes found:  14\n"
     ]
    },
    {
     "name": "stderr",
     "output_type": "stream",
     "text": [
      "\r",
      " 58%|█████▊    | 736/1261 [33:38<23:48,  2.72s/it]"
     ]
    },
    {
     "name": "stdout",
     "output_type": "stream",
     "text": [
      "Number of boxes found:  7\n",
      "iterations:  744\n",
      "heatmap len:  10\n",
      "Number of boxes found:  6\n",
      "Number of boxes found:  5\n",
      "Number of boxes found:  13\n"
     ]
    },
    {
     "name": "stderr",
     "output_type": "stream",
     "text": [
      "\r",
      " 58%|█████▊    | 737/1261 [33:41<23:50,  2.73s/it]"
     ]
    },
    {
     "name": "stdout",
     "output_type": "stream",
     "text": [
      "Number of boxes found:  6\n",
      "iterations:  745\n",
      "heatmap len:  10\n",
      "Number of boxes found:  9\n",
      "Number of boxes found:  6\n",
      "Number of boxes found:  8\n"
     ]
    },
    {
     "name": "stderr",
     "output_type": "stream",
     "text": [
      "\r",
      " 59%|█████▊    | 738/1261 [33:44<23:50,  2.74s/it]"
     ]
    },
    {
     "name": "stdout",
     "output_type": "stream",
     "text": [
      "Number of boxes found:  5\n",
      "iterations:  746\n",
      "heatmap len:  10\n",
      "Number of boxes found:  6\n",
      "Number of boxes found:  11\n",
      "Number of boxes found:  8\n"
     ]
    },
    {
     "name": "stderr",
     "output_type": "stream",
     "text": [
      "\r",
      " 59%|█████▊    | 739/1261 [33:46<23:40,  2.72s/it]"
     ]
    },
    {
     "name": "stdout",
     "output_type": "stream",
     "text": [
      "Number of boxes found:  5\n",
      "iterations:  747\n",
      "heatmap len:  10\n",
      "Number of boxes found:  10\n",
      "Number of boxes found:  9\n",
      "Number of boxes found:  11\n"
     ]
    },
    {
     "name": "stderr",
     "output_type": "stream",
     "text": [
      "\r",
      " 59%|█████▊    | 740/1261 [33:49<23:32,  2.71s/it]"
     ]
    },
    {
     "name": "stdout",
     "output_type": "stream",
     "text": [
      "Number of boxes found:  6\n",
      "iterations:  748\n",
      "heatmap len:  10\n",
      "Number of boxes found:  10\n",
      "Number of boxes found:  6\n",
      "Number of boxes found:  11\n"
     ]
    },
    {
     "name": "stderr",
     "output_type": "stream",
     "text": [
      "\r",
      " 59%|█████▉    | 741/1261 [33:52<23:48,  2.75s/it]"
     ]
    },
    {
     "name": "stdout",
     "output_type": "stream",
     "text": [
      "Number of boxes found:  7\n",
      "iterations:  749\n",
      "heatmap len:  10\n",
      "Number of boxes found:  5\n",
      "Number of boxes found:  9\n",
      "Number of boxes found:  13\n"
     ]
    },
    {
     "name": "stderr",
     "output_type": "stream",
     "text": [
      "\r",
      " 59%|█████▉    | 742/1261 [33:55<23:52,  2.76s/it]"
     ]
    },
    {
     "name": "stdout",
     "output_type": "stream",
     "text": [
      "Number of boxes found:  9\n",
      "iterations:  750\n",
      "heatmap len:  10\n",
      "Number of boxes found:  8\n",
      "Number of boxes found:  9\n",
      "Number of boxes found:  12\n"
     ]
    },
    {
     "name": "stderr",
     "output_type": "stream",
     "text": [
      "\r",
      " 59%|█████▉    | 743/1261 [33:57<23:58,  2.78s/it]"
     ]
    },
    {
     "name": "stdout",
     "output_type": "stream",
     "text": [
      "Number of boxes found:  8\n",
      "iterations:  751\n",
      "heatmap len:  10\n",
      "Number of boxes found:  6\n",
      "Number of boxes found:  11\n",
      "Number of boxes found:  11\n"
     ]
    },
    {
     "name": "stderr",
     "output_type": "stream",
     "text": [
      "\r",
      " 59%|█████▉    | 744/1261 [34:00<24:03,  2.79s/it]"
     ]
    },
    {
     "name": "stdout",
     "output_type": "stream",
     "text": [
      "Number of boxes found:  9\n",
      "iterations:  752\n",
      "heatmap len:  10\n",
      "Number of boxes found:  6\n",
      "Number of boxes found:  12\n",
      "Number of boxes found:  10\n"
     ]
    },
    {
     "name": "stderr",
     "output_type": "stream",
     "text": [
      "\r",
      " 59%|█████▉    | 745/1261 [34:03<24:21,  2.83s/it]"
     ]
    },
    {
     "name": "stdout",
     "output_type": "stream",
     "text": [
      "Number of boxes found:  9\n",
      "iterations:  753\n",
      "heatmap len:  10\n",
      "Number of boxes found:  7\n",
      "Number of boxes found:  15\n",
      "Number of boxes found:  8\n"
     ]
    },
    {
     "name": "stderr",
     "output_type": "stream",
     "text": [
      "\r",
      " 59%|█████▉    | 746/1261 [34:06<24:18,  2.83s/it]"
     ]
    },
    {
     "name": "stdout",
     "output_type": "stream",
     "text": [
      "Number of boxes found:  8\n",
      "iterations:  754\n",
      "heatmap len:  10\n",
      "Number of boxes found:  9\n",
      "Number of boxes found:  9\n",
      "Number of boxes found:  12\n"
     ]
    },
    {
     "name": "stderr",
     "output_type": "stream",
     "text": [
      "\r",
      " 59%|█████▉    | 747/1261 [34:09<24:09,  2.82s/it]"
     ]
    },
    {
     "name": "stdout",
     "output_type": "stream",
     "text": [
      "Number of boxes found:  6\n",
      "iterations:  755\n",
      "heatmap len:  10\n",
      "Number of boxes found:  13\n",
      "Number of boxes found:  13\n",
      "Number of boxes found:  9\n"
     ]
    },
    {
     "name": "stderr",
     "output_type": "stream",
     "text": [
      "\r",
      " 59%|█████▉    | 748/1261 [34:11<23:52,  2.79s/it]"
     ]
    },
    {
     "name": "stdout",
     "output_type": "stream",
     "text": [
      "Number of boxes found:  9\n",
      "iterations:  756\n",
      "heatmap len:  10\n",
      "Number of boxes found:  9\n",
      "Number of boxes found:  9\n",
      "Number of boxes found:  12\n"
     ]
    },
    {
     "name": "stderr",
     "output_type": "stream",
     "text": [
      "\r",
      " 59%|█████▉    | 749/1261 [34:14<24:08,  2.83s/it]"
     ]
    },
    {
     "name": "stdout",
     "output_type": "stream",
     "text": [
      "Number of boxes found:  6\n",
      "iterations:  757\n",
      "heatmap len:  10\n",
      "Number of boxes found:  14\n",
      "Number of boxes found:  14\n",
      "Number of boxes found:  12\n"
     ]
    },
    {
     "name": "stderr",
     "output_type": "stream",
     "text": [
      "\r",
      " 59%|█████▉    | 750/1261 [34:17<23:56,  2.81s/it]"
     ]
    },
    {
     "name": "stdout",
     "output_type": "stream",
     "text": [
      "Number of boxes found:  8\n",
      "iterations:  758\n",
      "heatmap len:  10\n",
      "Number of boxes found:  4\n",
      "Number of boxes found:  5\n",
      "Number of boxes found:  9\n"
     ]
    },
    {
     "name": "stderr",
     "output_type": "stream",
     "text": [
      "\r",
      " 60%|█████▉    | 751/1261 [34:20<23:28,  2.76s/it]"
     ]
    },
    {
     "name": "stdout",
     "output_type": "stream",
     "text": [
      "Number of boxes found:  4\n",
      "iterations:  759\n",
      "heatmap len:  10\n",
      "Number of boxes found:  7\n",
      "Number of boxes found:  7\n",
      "Number of boxes found:  9\n"
     ]
    },
    {
     "name": "stderr",
     "output_type": "stream",
     "text": [
      "\r",
      " 60%|█████▉    | 752/1261 [34:23<23:28,  2.77s/it]"
     ]
    },
    {
     "name": "stdout",
     "output_type": "stream",
     "text": [
      "Number of boxes found:  6\n",
      "iterations:  760\n",
      "heatmap len:  10\n",
      "Number of boxes found:  10\n",
      "Number of boxes found:  7\n",
      "Number of boxes found:  10\n"
     ]
    },
    {
     "name": "stderr",
     "output_type": "stream",
     "text": [
      "\r",
      " 60%|█████▉    | 753/1261 [34:26<24:28,  2.89s/it]"
     ]
    },
    {
     "name": "stdout",
     "output_type": "stream",
     "text": [
      "Number of boxes found:  5\n",
      "iterations:  761\n",
      "heatmap len:  10\n",
      "Number of boxes found:  8\n",
      "Number of boxes found:  5\n",
      "Number of boxes found:  10\n"
     ]
    },
    {
     "name": "stderr",
     "output_type": "stream",
     "text": [
      "\r",
      " 60%|█████▉    | 754/1261 [34:29<24:22,  2.89s/it]"
     ]
    },
    {
     "name": "stdout",
     "output_type": "stream",
     "text": [
      "Number of boxes found:  6\n",
      "iterations:  762\n",
      "heatmap len:  10\n",
      "Number of boxes found:  7\n",
      "Number of boxes found:  8\n",
      "Number of boxes found:  13\n"
     ]
    },
    {
     "name": "stderr",
     "output_type": "stream",
     "text": [
      "\r",
      " 60%|█████▉    | 755/1261 [34:31<23:59,  2.85s/it]"
     ]
    },
    {
     "name": "stdout",
     "output_type": "stream",
     "text": [
      "Number of boxes found:  8\n",
      "iterations:  763\n",
      "heatmap len:  10\n",
      "Number of boxes found:  9\n",
      "Number of boxes found:  9\n",
      "Number of boxes found:  12\n"
     ]
    },
    {
     "name": "stderr",
     "output_type": "stream",
     "text": [
      "\r",
      " 60%|█████▉    | 756/1261 [34:34<23:39,  2.81s/it]"
     ]
    },
    {
     "name": "stdout",
     "output_type": "stream",
     "text": [
      "Number of boxes found:  8\n",
      "iterations:  764\n",
      "heatmap len:  10\n",
      "Number of boxes found:  10\n",
      "Number of boxes found:  12\n",
      "Number of boxes found:  12\n"
     ]
    },
    {
     "name": "stderr",
     "output_type": "stream",
     "text": [
      "\r",
      " 60%|██████    | 757/1261 [34:37<23:26,  2.79s/it]"
     ]
    },
    {
     "name": "stdout",
     "output_type": "stream",
     "text": [
      "Number of boxes found:  8\n",
      "iterations:  765\n",
      "heatmap len:  10\n",
      "Number of boxes found:  12\n",
      "Number of boxes found:  14\n",
      "Number of boxes found:  12\n"
     ]
    },
    {
     "name": "stderr",
     "output_type": "stream",
     "text": [
      "\r",
      " 60%|██████    | 758/1261 [34:40<23:17,  2.78s/it]"
     ]
    },
    {
     "name": "stdout",
     "output_type": "stream",
     "text": [
      "Number of boxes found:  9\n",
      "iterations:  766\n",
      "heatmap len:  10\n",
      "Number of boxes found:  10\n",
      "Number of boxes found:  10\n",
      "Number of boxes found:  13\n"
     ]
    },
    {
     "name": "stderr",
     "output_type": "stream",
     "text": [
      "\r",
      " 60%|██████    | 759/1261 [34:42<22:59,  2.75s/it]"
     ]
    },
    {
     "name": "stdout",
     "output_type": "stream",
     "text": [
      "Number of boxes found:  8\n",
      "iterations:  767\n",
      "heatmap len:  10\n",
      "Number of boxes found:  9\n",
      "Number of boxes found:  12\n",
      "Number of boxes found:  14\n"
     ]
    },
    {
     "name": "stderr",
     "output_type": "stream",
     "text": [
      "\r",
      " 60%|██████    | 760/1261 [34:45<22:45,  2.73s/it]"
     ]
    },
    {
     "name": "stdout",
     "output_type": "stream",
     "text": [
      "Number of boxes found:  12\n",
      "iterations:  768\n",
      "heatmap len:  10\n",
      "Number of boxes found:  10\n",
      "Number of boxes found:  11\n",
      "Number of boxes found:  15\n"
     ]
    },
    {
     "name": "stderr",
     "output_type": "stream",
     "text": [
      "\r",
      " 60%|██████    | 761/1261 [34:48<22:45,  2.73s/it]"
     ]
    },
    {
     "name": "stdout",
     "output_type": "stream",
     "text": [
      "Number of boxes found:  11\n",
      "iterations:  769\n",
      "heatmap len:  10\n",
      "Number of boxes found:  18\n",
      "Number of boxes found:  12\n",
      "Number of boxes found:  11\n"
     ]
    },
    {
     "name": "stderr",
     "output_type": "stream",
     "text": [
      "\r",
      " 60%|██████    | 762/1261 [34:50<22:48,  2.74s/it]"
     ]
    },
    {
     "name": "stdout",
     "output_type": "stream",
     "text": [
      "Number of boxes found:  10\n",
      "iterations:  770\n",
      "heatmap len:  10\n",
      "Number of boxes found:  14\n",
      "Number of boxes found:  15\n",
      "Number of boxes found:  14\n"
     ]
    },
    {
     "name": "stderr",
     "output_type": "stream",
     "text": [
      "\r",
      " 61%|██████    | 763/1261 [34:53<22:50,  2.75s/it]"
     ]
    },
    {
     "name": "stdout",
     "output_type": "stream",
     "text": [
      "Number of boxes found:  10\n",
      "iterations:  771\n",
      "heatmap len:  10\n",
      "Number of boxes found:  21\n",
      "Number of boxes found:  14\n",
      "Number of boxes found:  13\n"
     ]
    },
    {
     "name": "stderr",
     "output_type": "stream",
     "text": [
      "\r",
      " 61%|██████    | 764/1261 [34:56<22:40,  2.74s/it]"
     ]
    },
    {
     "name": "stdout",
     "output_type": "stream",
     "text": [
      "Number of boxes found:  11\n",
      "iterations:  772\n",
      "heatmap len:  10\n",
      "Number of boxes found:  20\n",
      "Number of boxes found:  15\n",
      "Number of boxes found:  14\n"
     ]
    },
    {
     "name": "stderr",
     "output_type": "stream",
     "text": [
      "\r",
      " 61%|██████    | 765/1261 [34:59<22:36,  2.74s/it]"
     ]
    },
    {
     "name": "stdout",
     "output_type": "stream",
     "text": [
      "Number of boxes found:  10\n",
      "iterations:  773\n",
      "heatmap len:  10\n",
      "Number of boxes found:  20\n",
      "Number of boxes found:  16\n",
      "Number of boxes found:  16\n"
     ]
    },
    {
     "name": "stderr",
     "output_type": "stream",
     "text": [
      "\r",
      " 61%|██████    | 766/1261 [35:01<22:35,  2.74s/it]"
     ]
    },
    {
     "name": "stdout",
     "output_type": "stream",
     "text": [
      "Number of boxes found:  10\n",
      "iterations:  774\n",
      "heatmap len:  10\n",
      "Number of boxes found:  15\n",
      "Number of boxes found:  16\n",
      "Number of boxes found:  14\n"
     ]
    },
    {
     "name": "stderr",
     "output_type": "stream",
     "text": [
      "\r",
      " 61%|██████    | 767/1261 [35:04<22:30,  2.73s/it]"
     ]
    },
    {
     "name": "stdout",
     "output_type": "stream",
     "text": [
      "Number of boxes found:  10\n",
      "iterations:  775\n",
      "heatmap len:  10\n",
      "Number of boxes found:  19\n",
      "Number of boxes found:  15\n",
      "Number of boxes found:  14\n"
     ]
    },
    {
     "name": "stderr",
     "output_type": "stream",
     "text": [
      "\r",
      " 61%|██████    | 768/1261 [35:07<22:22,  2.72s/it]"
     ]
    },
    {
     "name": "stdout",
     "output_type": "stream",
     "text": [
      "Number of boxes found:  9\n",
      "iterations:  776\n",
      "heatmap len:  10\n",
      "Number of boxes found:  19\n",
      "Number of boxes found:  13\n",
      "Number of boxes found:  11\n"
     ]
    },
    {
     "name": "stderr",
     "output_type": "stream",
     "text": [
      "\r",
      " 61%|██████    | 769/1261 [35:10<22:19,  2.72s/it]"
     ]
    },
    {
     "name": "stdout",
     "output_type": "stream",
     "text": [
      "Number of boxes found:  10\n",
      "iterations:  777\n",
      "heatmap len:  10\n",
      "Number of boxes found:  19\n",
      "Number of boxes found:  12\n",
      "Number of boxes found:  13\n"
     ]
    },
    {
     "name": "stderr",
     "output_type": "stream",
     "text": [
      "\r",
      " 61%|██████    | 770/1261 [35:12<22:20,  2.73s/it]"
     ]
    },
    {
     "name": "stdout",
     "output_type": "stream",
     "text": [
      "Number of boxes found:  10\n",
      "iterations:  778\n",
      "heatmap len:  10\n",
      "Number of boxes found:  20\n",
      "Number of boxes found:  15\n",
      "Number of boxes found:  11\n"
     ]
    },
    {
     "name": "stderr",
     "output_type": "stream",
     "text": [
      "\r",
      " 61%|██████    | 771/1261 [35:15<22:18,  2.73s/it]"
     ]
    },
    {
     "name": "stdout",
     "output_type": "stream",
     "text": [
      "Number of boxes found:  10\n",
      "iterations:  779\n",
      "heatmap len:  10\n",
      "Number of boxes found:  15\n",
      "Number of boxes found:  12\n",
      "Number of boxes found:  13\n"
     ]
    },
    {
     "name": "stderr",
     "output_type": "stream",
     "text": [
      "\r",
      " 61%|██████    | 772/1261 [35:18<22:25,  2.75s/it]"
     ]
    },
    {
     "name": "stdout",
     "output_type": "stream",
     "text": [
      "Number of boxes found:  9\n",
      "iterations:  780\n",
      "heatmap len:  10\n",
      "Number of boxes found:  18\n",
      "Number of boxes found:  13\n",
      "Number of boxes found:  12\n"
     ]
    },
    {
     "name": "stderr",
     "output_type": "stream",
     "text": [
      "\r",
      " 61%|██████▏   | 773/1261 [35:21<22:32,  2.77s/it]"
     ]
    },
    {
     "name": "stdout",
     "output_type": "stream",
     "text": [
      "Number of boxes found:  9\n",
      "iterations:  781\n",
      "heatmap len:  10\n",
      "Number of boxes found:  16\n",
      "Number of boxes found:  11\n",
      "Number of boxes found:  13\n"
     ]
    },
    {
     "name": "stderr",
     "output_type": "stream",
     "text": [
      "\r",
      " 61%|██████▏   | 774/1261 [35:24<22:50,  2.81s/it]"
     ]
    },
    {
     "name": "stdout",
     "output_type": "stream",
     "text": [
      "Number of boxes found:  8\n",
      "iterations:  782\n",
      "heatmap len:  10\n",
      "Number of boxes found:  15\n",
      "Number of boxes found:  14\n",
      "Number of boxes found:  11\n"
     ]
    },
    {
     "name": "stderr",
     "output_type": "stream",
     "text": [
      "\r",
      " 61%|██████▏   | 775/1261 [35:26<22:55,  2.83s/it]"
     ]
    },
    {
     "name": "stdout",
     "output_type": "stream",
     "text": [
      "Number of boxes found:  8\n",
      "iterations:  783\n",
      "heatmap len:  10\n",
      "Number of boxes found:  15\n",
      "Number of boxes found:  12\n",
      "Number of boxes found:  11\n"
     ]
    },
    {
     "name": "stderr",
     "output_type": "stream",
     "text": [
      "\r",
      " 62%|██████▏   | 776/1261 [35:29<22:52,  2.83s/it]"
     ]
    },
    {
     "name": "stdout",
     "output_type": "stream",
     "text": [
      "Number of boxes found:  10\n",
      "iterations:  784\n",
      "heatmap len:  10\n",
      "Number of boxes found:  12\n",
      "Number of boxes found:  11\n",
      "Number of boxes found:  9\n"
     ]
    },
    {
     "name": "stderr",
     "output_type": "stream",
     "text": [
      "\r",
      " 62%|██████▏   | 777/1261 [35:32<23:04,  2.86s/it]"
     ]
    },
    {
     "name": "stdout",
     "output_type": "stream",
     "text": [
      "Number of boxes found:  8\n",
      "iterations:  785\n",
      "heatmap len:  10\n",
      "Number of boxes found:  15\n",
      "Number of boxes found:  9\n",
      "Number of boxes found:  11\n"
     ]
    },
    {
     "name": "stderr",
     "output_type": "stream",
     "text": [
      "\r",
      " 62%|██████▏   | 778/1261 [35:35<22:53,  2.84s/it]"
     ]
    },
    {
     "name": "stdout",
     "output_type": "stream",
     "text": [
      "Number of boxes found:  7\n",
      "iterations:  786\n",
      "heatmap len:  10\n",
      "Number of boxes found:  10\n",
      "Number of boxes found:  10\n",
      "Number of boxes found:  11\n"
     ]
    },
    {
     "name": "stderr",
     "output_type": "stream",
     "text": [
      "\r",
      " 62%|██████▏   | 779/1261 [35:38<22:28,  2.80s/it]"
     ]
    },
    {
     "name": "stdout",
     "output_type": "stream",
     "text": [
      "Number of boxes found:  7\n",
      "iterations:  787\n",
      "heatmap len:  10\n",
      "Number of boxes found:  8\n",
      "Number of boxes found:  12\n",
      "Number of boxes found:  10\n"
     ]
    },
    {
     "name": "stderr",
     "output_type": "stream",
     "text": [
      "\r",
      " 62%|██████▏   | 780/1261 [35:40<22:25,  2.80s/it]"
     ]
    },
    {
     "name": "stdout",
     "output_type": "stream",
     "text": [
      "Number of boxes found:  9\n",
      "iterations:  788\n",
      "heatmap len:  10\n",
      "Number of boxes found:  7\n",
      "Number of boxes found:  9\n",
      "Number of boxes found:  8\n"
     ]
    },
    {
     "name": "stderr",
     "output_type": "stream",
     "text": [
      "\r",
      " 62%|██████▏   | 781/1261 [35:43<22:20,  2.79s/it]"
     ]
    },
    {
     "name": "stdout",
     "output_type": "stream",
     "text": [
      "Number of boxes found:  9\n",
      "iterations:  789\n",
      "heatmap len:  10\n",
      "Number of boxes found:  8\n",
      "Number of boxes found:  10\n",
      "Number of boxes found:  9\n"
     ]
    },
    {
     "name": "stderr",
     "output_type": "stream",
     "text": [
      "\r",
      " 62%|██████▏   | 782/1261 [35:46<22:26,  2.81s/it]"
     ]
    },
    {
     "name": "stdout",
     "output_type": "stream",
     "text": [
      "Number of boxes found:  9\n",
      "iterations:  790\n",
      "heatmap len:  10\n",
      "Number of boxes found:  10\n",
      "Number of boxes found:  9\n",
      "Number of boxes found:  13\n"
     ]
    },
    {
     "name": "stderr",
     "output_type": "stream",
     "text": [
      "\r",
      " 62%|██████▏   | 783/1261 [35:49<22:17,  2.80s/it]"
     ]
    },
    {
     "name": "stdout",
     "output_type": "stream",
     "text": [
      "Number of boxes found:  7\n",
      "iterations:  791\n",
      "heatmap len:  10\n",
      "Number of boxes found:  12\n",
      "Number of boxes found:  8\n",
      "Number of boxes found:  9\n"
     ]
    },
    {
     "name": "stderr",
     "output_type": "stream",
     "text": [
      "\r",
      " 62%|██████▏   | 784/1261 [35:52<22:18,  2.81s/it]"
     ]
    },
    {
     "name": "stdout",
     "output_type": "stream",
     "text": [
      "Number of boxes found:  6\n",
      "iterations:  792\n",
      "heatmap len:  10\n",
      "Number of boxes found:  12\n",
      "Number of boxes found:  7\n",
      "Number of boxes found:  11\n"
     ]
    },
    {
     "name": "stderr",
     "output_type": "stream",
     "text": [
      "\r",
      " 62%|██████▏   | 785/1261 [35:54<22:01,  2.78s/it]"
     ]
    },
    {
     "name": "stdout",
     "output_type": "stream",
     "text": [
      "Number of boxes found:  7\n",
      "iterations:  793\n",
      "heatmap len:  10\n",
      "Number of boxes found:  9\n",
      "Number of boxes found:  9\n",
      "Number of boxes found:  12\n"
     ]
    },
    {
     "name": "stderr",
     "output_type": "stream",
     "text": [
      "\r",
      " 62%|██████▏   | 786/1261 [35:57<21:49,  2.76s/it]"
     ]
    },
    {
     "name": "stdout",
     "output_type": "stream",
     "text": [
      "Number of boxes found:  6\n",
      "iterations:  794\n",
      "heatmap len:  10\n",
      "Number of boxes found:  9\n",
      "Number of boxes found:  10\n",
      "Number of boxes found:  12\n"
     ]
    },
    {
     "name": "stderr",
     "output_type": "stream",
     "text": [
      "\r",
      " 62%|██████▏   | 787/1261 [36:00<21:41,  2.74s/it]"
     ]
    },
    {
     "name": "stdout",
     "output_type": "stream",
     "text": [
      "Number of boxes found:  7\n",
      "iterations:  795\n",
      "heatmap len:  10\n",
      "Number of boxes found:  10\n",
      "Number of boxes found:  11\n",
      "Number of boxes found:  11\n"
     ]
    },
    {
     "name": "stderr",
     "output_type": "stream",
     "text": [
      "\r",
      " 62%|██████▏   | 788/1261 [36:03<21:38,  2.74s/it]"
     ]
    },
    {
     "name": "stdout",
     "output_type": "stream",
     "text": [
      "Number of boxes found:  7\n",
      "iterations:  796\n",
      "heatmap len:  10\n",
      "Number of boxes found:  13\n",
      "Number of boxes found:  12\n",
      "Number of boxes found:  12\n"
     ]
    },
    {
     "name": "stderr",
     "output_type": "stream",
     "text": [
      "\r",
      " 63%|██████▎   | 789/1261 [36:05<21:31,  2.74s/it]"
     ]
    },
    {
     "name": "stdout",
     "output_type": "stream",
     "text": [
      "Number of boxes found:  6\n",
      "iterations:  797\n",
      "heatmap len:  10\n",
      "Number of boxes found:  10\n",
      "Number of boxes found:  16\n",
      "Number of boxes found:  12\n"
     ]
    },
    {
     "name": "stderr",
     "output_type": "stream",
     "text": [
      "\r",
      " 63%|██████▎   | 790/1261 [36:08<21:43,  2.77s/it]"
     ]
    },
    {
     "name": "stdout",
     "output_type": "stream",
     "text": [
      "Number of boxes found:  6\n",
      "iterations:  798\n",
      "heatmap len:  10\n",
      "Number of boxes found:  11\n",
      "Number of boxes found:  14\n",
      "Number of boxes found:  12\n"
     ]
    },
    {
     "name": "stderr",
     "output_type": "stream",
     "text": [
      "\r",
      " 63%|██████▎   | 791/1261 [36:11<21:50,  2.79s/it]"
     ]
    },
    {
     "name": "stdout",
     "output_type": "stream",
     "text": [
      "Number of boxes found:  7\n",
      "iterations:  799\n",
      "heatmap len:  10\n",
      "Number of boxes found:  8\n",
      "Number of boxes found:  11\n",
      "Number of boxes found:  10\n"
     ]
    },
    {
     "name": "stderr",
     "output_type": "stream",
     "text": [
      "\r",
      " 63%|██████▎   | 792/1261 [36:14<21:59,  2.81s/it]"
     ]
    },
    {
     "name": "stdout",
     "output_type": "stream",
     "text": [
      "Number of boxes found:  6\n",
      "iterations:  800\n",
      "heatmap len:  10\n",
      "Number of boxes found:  9\n",
      "Number of boxes found:  10\n",
      "Number of boxes found:  12\n"
     ]
    },
    {
     "name": "stderr",
     "output_type": "stream",
     "text": [
      "\r",
      " 63%|██████▎   | 793/1261 [36:17<22:21,  2.87s/it]"
     ]
    },
    {
     "name": "stdout",
     "output_type": "stream",
     "text": [
      "Number of boxes found:  5\n",
      "iterations:  801\n",
      "heatmap len:  10\n",
      "Number of boxes found:  10\n",
      "Number of boxes found:  9\n",
      "Number of boxes found:  12\n"
     ]
    },
    {
     "name": "stderr",
     "output_type": "stream",
     "text": [
      "\r",
      " 63%|██████▎   | 794/1261 [36:20<22:10,  2.85s/it]"
     ]
    },
    {
     "name": "stdout",
     "output_type": "stream",
     "text": [
      "Number of boxes found:  5\n",
      "iterations:  802\n",
      "heatmap len:  10\n",
      "Number of boxes found:  11\n",
      "Number of boxes found:  6\n",
      "Number of boxes found:  10\n"
     ]
    },
    {
     "name": "stderr",
     "output_type": "stream",
     "text": [
      "\r",
      " 63%|██████▎   | 795/1261 [36:22<21:48,  2.81s/it]"
     ]
    },
    {
     "name": "stdout",
     "output_type": "stream",
     "text": [
      "Number of boxes found:  6\n",
      "iterations:  803\n",
      "heatmap len:  10\n",
      "Number of boxes found:  10\n",
      "Number of boxes found:  13\n",
      "Number of boxes found:  9\n"
     ]
    },
    {
     "name": "stderr",
     "output_type": "stream",
     "text": [
      "\r",
      " 63%|██████▎   | 796/1261 [36:25<21:45,  2.81s/it]"
     ]
    },
    {
     "name": "stdout",
     "output_type": "stream",
     "text": [
      "Number of boxes found:  6\n",
      "iterations:  804\n",
      "heatmap len:  10\n",
      "Number of boxes found:  10\n",
      "Number of boxes found:  9\n",
      "Number of boxes found:  11\n"
     ]
    },
    {
     "name": "stderr",
     "output_type": "stream",
     "text": [
      "\r",
      " 63%|██████▎   | 797/1261 [36:28<21:42,  2.81s/it]"
     ]
    },
    {
     "name": "stdout",
     "output_type": "stream",
     "text": [
      "Number of boxes found:  6\n",
      "iterations:  805\n",
      "heatmap len:  10\n",
      "Number of boxes found:  14\n",
      "Number of boxes found:  9\n",
      "Number of boxes found:  12\n"
     ]
    },
    {
     "name": "stderr",
     "output_type": "stream",
     "text": [
      "\r",
      " 63%|██████▎   | 798/1261 [36:31<21:35,  2.80s/it]"
     ]
    },
    {
     "name": "stdout",
     "output_type": "stream",
     "text": [
      "Number of boxes found:  6\n",
      "iterations:  806\n",
      "heatmap len:  10\n",
      "Number of boxes found:  11\n",
      "Number of boxes found:  10\n",
      "Number of boxes found:  13\n"
     ]
    },
    {
     "name": "stderr",
     "output_type": "stream",
     "text": [
      "\r",
      " 63%|██████▎   | 799/1261 [36:33<21:21,  2.77s/it]"
     ]
    },
    {
     "name": "stdout",
     "output_type": "stream",
     "text": [
      "Number of boxes found:  7\n",
      "iterations:  807\n",
      "heatmap len:  10\n",
      "Number of boxes found:  16\n",
      "Number of boxes found:  9\n",
      "Number of boxes found:  10\n"
     ]
    },
    {
     "name": "stderr",
     "output_type": "stream",
     "text": [
      "\r",
      " 63%|██████▎   | 800/1261 [36:36<21:15,  2.77s/it]"
     ]
    },
    {
     "name": "stdout",
     "output_type": "stream",
     "text": [
      "Number of boxes found:  6\n",
      "iterations:  808\n",
      "heatmap len:  10\n",
      "Number of boxes found:  20\n",
      "Number of boxes found:  13\n",
      "Number of boxes found:  10\n"
     ]
    },
    {
     "name": "stderr",
     "output_type": "stream",
     "text": [
      "\r",
      " 64%|██████▎   | 801/1261 [36:39<21:15,  2.77s/it]"
     ]
    },
    {
     "name": "stdout",
     "output_type": "stream",
     "text": [
      "Number of boxes found:  7\n",
      "iterations:  809\n",
      "heatmap len:  10\n",
      "Number of boxes found:  15\n",
      "Number of boxes found:  7\n",
      "Number of boxes found:  11\n"
     ]
    },
    {
     "name": "stderr",
     "output_type": "stream",
     "text": [
      "\r",
      " 64%|██████▎   | 802/1261 [36:42<21:32,  2.82s/it]"
     ]
    },
    {
     "name": "stdout",
     "output_type": "stream",
     "text": [
      "Number of boxes found:  6\n",
      "iterations:  810\n",
      "heatmap len:  10\n",
      "Number of boxes found:  15\n",
      "Number of boxes found:  12\n",
      "Number of boxes found:  12\n"
     ]
    },
    {
     "name": "stderr",
     "output_type": "stream",
     "text": [
      "\r",
      " 64%|██████▎   | 803/1261 [36:45<21:20,  2.80s/it]"
     ]
    },
    {
     "name": "stdout",
     "output_type": "stream",
     "text": [
      "Number of boxes found:  6\n",
      "iterations:  811\n",
      "heatmap len:  10\n",
      "Number of boxes found:  12\n",
      "Number of boxes found:  13\n",
      "Number of boxes found:  13\n"
     ]
    },
    {
     "name": "stderr",
     "output_type": "stream",
     "text": [
      "\r",
      " 64%|██████▍   | 804/1261 [36:47<21:09,  2.78s/it]"
     ]
    },
    {
     "name": "stdout",
     "output_type": "stream",
     "text": [
      "Number of boxes found:  6\n",
      "iterations:  812\n",
      "heatmap len:  10\n",
      "Number of boxes found:  11\n",
      "Number of boxes found:  14\n",
      "Number of boxes found:  12\n"
     ]
    },
    {
     "name": "stderr",
     "output_type": "stream",
     "text": [
      "\r",
      " 64%|██████▍   | 805/1261 [36:50<21:09,  2.78s/it]"
     ]
    },
    {
     "name": "stdout",
     "output_type": "stream",
     "text": [
      "Number of boxes found:  6\n",
      "iterations:  813\n",
      "heatmap len:  10\n",
      "Number of boxes found:  14\n",
      "Number of boxes found:  12\n",
      "Number of boxes found:  14\n"
     ]
    },
    {
     "name": "stderr",
     "output_type": "stream",
     "text": [
      "\r",
      " 64%|██████▍   | 806/1261 [36:53<21:06,  2.78s/it]"
     ]
    },
    {
     "name": "stdout",
     "output_type": "stream",
     "text": [
      "Number of boxes found:  5\n",
      "iterations:  814\n",
      "heatmap len:  10\n",
      "Number of boxes found:  15\n",
      "Number of boxes found:  11\n",
      "Number of boxes found:  13\n"
     ]
    },
    {
     "name": "stderr",
     "output_type": "stream",
     "text": [
      "\r",
      " 64%|██████▍   | 807/1261 [36:56<21:01,  2.78s/it]"
     ]
    },
    {
     "name": "stdout",
     "output_type": "stream",
     "text": [
      "Number of boxes found:  6\n",
      "iterations:  815\n",
      "heatmap len:  10\n",
      "Number of boxes found:  18\n",
      "Number of boxes found:  10\n",
      "Number of boxes found:  13\n"
     ]
    },
    {
     "name": "stderr",
     "output_type": "stream",
     "text": [
      "\r",
      " 64%|██████▍   | 808/1261 [36:58<20:47,  2.75s/it]"
     ]
    },
    {
     "name": "stdout",
     "output_type": "stream",
     "text": [
      "Number of boxes found:  5\n",
      "iterations:  816\n",
      "heatmap len:  10\n",
      "Number of boxes found:  14\n",
      "Number of boxes found:  16\n",
      "Number of boxes found:  12\n"
     ]
    },
    {
     "name": "stderr",
     "output_type": "stream",
     "text": [
      "\r",
      " 64%|██████▍   | 809/1261 [37:01<20:43,  2.75s/it]"
     ]
    },
    {
     "name": "stdout",
     "output_type": "stream",
     "text": [
      "Number of boxes found:  4\n",
      "iterations:  817\n",
      "heatmap len:  10\n",
      "Number of boxes found:  11\n",
      "Number of boxes found:  13\n",
      "Number of boxes found:  10\n"
     ]
    },
    {
     "name": "stderr",
     "output_type": "stream",
     "text": [
      "\r",
      " 64%|██████▍   | 810/1261 [37:04<20:38,  2.75s/it]"
     ]
    },
    {
     "name": "stdout",
     "output_type": "stream",
     "text": [
      "Number of boxes found:  4\n",
      "iterations:  818\n",
      "heatmap len:  10\n",
      "Number of boxes found:  9\n",
      "Number of boxes found:  5\n",
      "Number of boxes found:  8\n"
     ]
    },
    {
     "name": "stderr",
     "output_type": "stream",
     "text": [
      "\r",
      " 64%|██████▍   | 811/1261 [37:07<20:36,  2.75s/it]"
     ]
    },
    {
     "name": "stdout",
     "output_type": "stream",
     "text": [
      "Number of boxes found:  4\n",
      "iterations:  819\n",
      "heatmap len:  10\n",
      "Number of boxes found:  9\n",
      "Number of boxes found:  8\n",
      "Number of boxes found:  11\n"
     ]
    },
    {
     "name": "stderr",
     "output_type": "stream",
     "text": [
      "\r",
      " 64%|██████▍   | 812/1261 [37:09<20:30,  2.74s/it]"
     ]
    },
    {
     "name": "stdout",
     "output_type": "stream",
     "text": [
      "Number of boxes found:  4\n",
      "iterations:  820\n",
      "heatmap len:  10\n",
      "Number of boxes found:  7\n",
      "Number of boxes found:  7\n",
      "Number of boxes found:  12\n"
     ]
    },
    {
     "name": "stderr",
     "output_type": "stream",
     "text": [
      "\r",
      " 64%|██████▍   | 813/1261 [37:12<20:21,  2.73s/it]"
     ]
    },
    {
     "name": "stdout",
     "output_type": "stream",
     "text": [
      "Number of boxes found:  4\n",
      "iterations:  821\n",
      "heatmap len:  10\n",
      "Number of boxes found:  9\n",
      "Number of boxes found:  10\n",
      "Number of boxes found:  10\n"
     ]
    },
    {
     "name": "stderr",
     "output_type": "stream",
     "text": [
      "\r",
      " 65%|██████▍   | 814/1261 [37:15<20:18,  2.73s/it]"
     ]
    },
    {
     "name": "stdout",
     "output_type": "stream",
     "text": [
      "Number of boxes found:  6\n",
      "iterations:  822\n",
      "heatmap len:  10\n",
      "Number of boxes found:  10\n",
      "Number of boxes found:  8\n",
      "Number of boxes found:  10\n"
     ]
    },
    {
     "name": "stderr",
     "output_type": "stream",
     "text": [
      "\r",
      " 65%|██████▍   | 815/1261 [37:18<20:26,  2.75s/it]"
     ]
    },
    {
     "name": "stdout",
     "output_type": "stream",
     "text": [
      "Number of boxes found:  5\n",
      "iterations:  823\n",
      "heatmap len:  10\n",
      "Number of boxes found:  9\n",
      "Number of boxes found:  11\n",
      "Number of boxes found:  8\n"
     ]
    },
    {
     "name": "stderr",
     "output_type": "stream",
     "text": [
      "\r",
      " 65%|██████▍   | 816/1261 [37:20<20:18,  2.74s/it]"
     ]
    },
    {
     "name": "stdout",
     "output_type": "stream",
     "text": [
      "Number of boxes found:  6\n",
      "iterations:  824\n",
      "heatmap len:  10\n",
      "Number of boxes found:  14\n",
      "Number of boxes found:  10\n",
      "Number of boxes found:  8\n"
     ]
    },
    {
     "name": "stderr",
     "output_type": "stream",
     "text": [
      "\r",
      " 65%|██████▍   | 817/1261 [37:23<20:27,  2.76s/it]"
     ]
    },
    {
     "name": "stdout",
     "output_type": "stream",
     "text": [
      "Number of boxes found:  6\n",
      "iterations:  825\n",
      "heatmap len:  10\n",
      "Number of boxes found:  14\n",
      "Number of boxes found:  8\n",
      "Number of boxes found:  9\n"
     ]
    },
    {
     "name": "stderr",
     "output_type": "stream",
     "text": [
      "\r",
      " 65%|██████▍   | 818/1261 [37:26<20:29,  2.77s/it]"
     ]
    },
    {
     "name": "stdout",
     "output_type": "stream",
     "text": [
      "Number of boxes found:  6\n",
      "iterations:  826\n",
      "heatmap len:  10\n",
      "Number of boxes found:  11\n",
      "Number of boxes found:  9\n",
      "Number of boxes found:  11\n"
     ]
    },
    {
     "name": "stderr",
     "output_type": "stream",
     "text": [
      "\r",
      " 65%|██████▍   | 819/1261 [37:29<20:29,  2.78s/it]"
     ]
    },
    {
     "name": "stdout",
     "output_type": "stream",
     "text": [
      "Number of boxes found:  6\n",
      "iterations:  827\n",
      "heatmap len:  10\n",
      "Number of boxes found:  9\n",
      "Number of boxes found:  10\n",
      "Number of boxes found:  8\n"
     ]
    },
    {
     "name": "stderr",
     "output_type": "stream",
     "text": [
      "\r",
      " 65%|██████▌   | 820/1261 [37:31<20:18,  2.76s/it]"
     ]
    },
    {
     "name": "stdout",
     "output_type": "stream",
     "text": [
      "Number of boxes found:  6\n",
      "iterations:  828\n",
      "heatmap len:  10\n",
      "Number of boxes found:  9\n",
      "Number of boxes found:  10\n",
      "Number of boxes found:  7\n"
     ]
    },
    {
     "name": "stderr",
     "output_type": "stream",
     "text": [
      "\r",
      " 65%|██████▌   | 821/1261 [37:34<20:20,  2.77s/it]"
     ]
    },
    {
     "name": "stdout",
     "output_type": "stream",
     "text": [
      "Number of boxes found:  4\n",
      "iterations:  829\n",
      "heatmap len:  10\n",
      "Number of boxes found:  7\n",
      "Number of boxes found:  9\n",
      "Number of boxes found:  8\n"
     ]
    },
    {
     "name": "stderr",
     "output_type": "stream",
     "text": [
      "\r",
      " 65%|██████▌   | 822/1261 [37:37<20:31,  2.81s/it]"
     ]
    },
    {
     "name": "stdout",
     "output_type": "stream",
     "text": [
      "Number of boxes found:  4\n",
      "iterations:  830\n",
      "heatmap len:  10\n",
      "Number of boxes found:  11\n",
      "Number of boxes found:  13\n",
      "Number of boxes found:  9\n"
     ]
    },
    {
     "name": "stderr",
     "output_type": "stream",
     "text": [
      "\r",
      " 65%|██████▌   | 823/1261 [37:40<20:35,  2.82s/it]"
     ]
    },
    {
     "name": "stdout",
     "output_type": "stream",
     "text": [
      "Number of boxes found:  4\n",
      "iterations:  831\n",
      "heatmap len:  10\n",
      "Number of boxes found:  11\n",
      "Number of boxes found:  8\n",
      "Number of boxes found:  9\n"
     ]
    },
    {
     "name": "stderr",
     "output_type": "stream",
     "text": [
      "\r",
      " 65%|██████▌   | 824/1261 [37:43<20:29,  2.81s/it]"
     ]
    },
    {
     "name": "stdout",
     "output_type": "stream",
     "text": [
      "Number of boxes found:  4\n",
      "iterations:  832\n",
      "heatmap len:  10\n",
      "Number of boxes found:  11\n",
      "Number of boxes found:  10\n",
      "Number of boxes found:  7\n"
     ]
    },
    {
     "name": "stderr",
     "output_type": "stream",
     "text": [
      "\r",
      " 65%|██████▌   | 825/1261 [37:46<20:31,  2.83s/it]"
     ]
    },
    {
     "name": "stdout",
     "output_type": "stream",
     "text": [
      "Number of boxes found:  4\n",
      "iterations:  833\n",
      "heatmap len:  10\n",
      "Number of boxes found:  10\n",
      "Number of boxes found:  8\n",
      "Number of boxes found:  8\n"
     ]
    },
    {
     "name": "stderr",
     "output_type": "stream",
     "text": [
      "\r",
      " 66%|██████▌   | 826/1261 [37:49<20:48,  2.87s/it]"
     ]
    },
    {
     "name": "stdout",
     "output_type": "stream",
     "text": [
      "Number of boxes found:  4\n",
      "iterations:  834\n",
      "heatmap len:  10\n",
      "Number of boxes found:  10\n",
      "Number of boxes found:  11\n",
      "Number of boxes found:  10\n"
     ]
    },
    {
     "name": "stderr",
     "output_type": "stream",
     "text": [
      "\r",
      " 66%|██████▌   | 827/1261 [37:51<20:21,  2.81s/it]"
     ]
    },
    {
     "name": "stdout",
     "output_type": "stream",
     "text": [
      "Number of boxes found:  4\n",
      "iterations:  835\n",
      "heatmap len:  10\n",
      "Number of boxes found:  12\n",
      "Number of boxes found:  10\n",
      "Number of boxes found:  9\n"
     ]
    },
    {
     "name": "stderr",
     "output_type": "stream",
     "text": [
      "\r",
      " 66%|██████▌   | 828/1261 [37:54<20:10,  2.80s/it]"
     ]
    },
    {
     "name": "stdout",
     "output_type": "stream",
     "text": [
      "Number of boxes found:  4\n",
      "iterations:  836\n",
      "heatmap len:  10\n",
      "Number of boxes found:  9\n",
      "Number of boxes found:  6\n",
      "Number of boxes found:  7\n"
     ]
    },
    {
     "name": "stderr",
     "output_type": "stream",
     "text": [
      "\r",
      " 66%|██████▌   | 829/1261 [37:57<20:02,  2.78s/it]"
     ]
    },
    {
     "name": "stdout",
     "output_type": "stream",
     "text": [
      "Number of boxes found:  5\n",
      "iterations:  837\n",
      "heatmap len:  10\n",
      "Number of boxes found:  11\n",
      "Number of boxes found:  7\n",
      "Number of boxes found:  8\n"
     ]
    },
    {
     "name": "stderr",
     "output_type": "stream",
     "text": [
      "\r",
      " 66%|██████▌   | 830/1261 [38:00<19:54,  2.77s/it]"
     ]
    },
    {
     "name": "stdout",
     "output_type": "stream",
     "text": [
      "Number of boxes found:  3\n",
      "iterations:  838\n",
      "heatmap len:  10\n",
      "Number of boxes found:  10\n",
      "Number of boxes found:  11\n",
      "Number of boxes found:  8\n"
     ]
    },
    {
     "name": "stderr",
     "output_type": "stream",
     "text": [
      "\r",
      " 66%|██████▌   | 831/1261 [38:02<20:00,  2.79s/it]"
     ]
    },
    {
     "name": "stdout",
     "output_type": "stream",
     "text": [
      "Number of boxes found:  3\n",
      "iterations:  839\n",
      "heatmap len:  10\n",
      "Number of boxes found:  11\n",
      "Number of boxes found:  7\n",
      "Number of boxes found:  8\n"
     ]
    },
    {
     "name": "stderr",
     "output_type": "stream",
     "text": [
      "\r",
      " 66%|██████▌   | 832/1261 [38:05<19:55,  2.79s/it]"
     ]
    },
    {
     "name": "stdout",
     "output_type": "stream",
     "text": [
      "Number of boxes found:  4\n",
      "iterations:  840\n",
      "heatmap len:  10\n",
      "Number of boxes found:  11\n",
      "Number of boxes found:  9\n",
      "Number of boxes found:  8\n"
     ]
    },
    {
     "name": "stderr",
     "output_type": "stream",
     "text": [
      "\r",
      " 66%|██████▌   | 833/1261 [38:08<19:59,  2.80s/it]"
     ]
    },
    {
     "name": "stdout",
     "output_type": "stream",
     "text": [
      "Number of boxes found:  3\n",
      "iterations:  841\n",
      "heatmap len:  10\n",
      "Number of boxes found:  14\n",
      "Number of boxes found:  10\n",
      "Number of boxes found:  7\n"
     ]
    },
    {
     "name": "stderr",
     "output_type": "stream",
     "text": [
      "\r",
      " 66%|██████▌   | 834/1261 [38:11<20:02,  2.82s/it]"
     ]
    },
    {
     "name": "stdout",
     "output_type": "stream",
     "text": [
      "Number of boxes found:  4\n",
      "iterations:  842\n",
      "heatmap len:  10\n",
      "Number of boxes found:  14\n",
      "Number of boxes found:  9\n",
      "Number of boxes found:  7\n"
     ]
    },
    {
     "name": "stderr",
     "output_type": "stream",
     "text": [
      "\r",
      " 66%|██████▌   | 835/1261 [38:14<20:15,  2.85s/it]"
     ]
    },
    {
     "name": "stdout",
     "output_type": "stream",
     "text": [
      "Number of boxes found:  3\n",
      "iterations:  843\n",
      "heatmap len:  10\n",
      "Number of boxes found:  12\n",
      "Number of boxes found:  8\n",
      "Number of boxes found:  7\n"
     ]
    },
    {
     "name": "stderr",
     "output_type": "stream",
     "text": [
      "\r",
      " 66%|██████▋   | 836/1261 [38:17<20:17,  2.86s/it]"
     ]
    },
    {
     "name": "stdout",
     "output_type": "stream",
     "text": [
      "Number of boxes found:  3\n",
      "iterations:  844\n",
      "heatmap len:  10\n",
      "Number of boxes found:  13\n",
      "Number of boxes found:  8\n",
      "Number of boxes found:  7\n"
     ]
    },
    {
     "name": "stderr",
     "output_type": "stream",
     "text": [
      "\r",
      " 66%|██████▋   | 837/1261 [38:19<19:58,  2.83s/it]"
     ]
    },
    {
     "name": "stdout",
     "output_type": "stream",
     "text": [
      "Number of boxes found:  3\n",
      "iterations:  845\n",
      "heatmap len:  10\n",
      "Number of boxes found:  10\n",
      "Number of boxes found:  8\n",
      "Number of boxes found:  6\n"
     ]
    },
    {
     "name": "stderr",
     "output_type": "stream",
     "text": [
      "\r",
      " 66%|██████▋   | 838/1261 [38:22<20:05,  2.85s/it]"
     ]
    },
    {
     "name": "stdout",
     "output_type": "stream",
     "text": [
      "Number of boxes found:  3\n",
      "iterations:  846\n",
      "heatmap len:  10\n",
      "Number of boxes found:  10\n",
      "Number of boxes found:  9\n",
      "Number of boxes found:  6\n"
     ]
    },
    {
     "name": "stderr",
     "output_type": "stream",
     "text": [
      "\r",
      " 67%|██████▋   | 839/1261 [38:25<20:21,  2.89s/it]"
     ]
    },
    {
     "name": "stdout",
     "output_type": "stream",
     "text": [
      "Number of boxes found:  3\n",
      "iterations:  847\n",
      "heatmap len:  10\n",
      "Number of boxes found:  10\n",
      "Number of boxes found:  9\n",
      "Number of boxes found:  5\n"
     ]
    },
    {
     "name": "stderr",
     "output_type": "stream",
     "text": [
      "\r",
      " 67%|██████▋   | 840/1261 [38:28<20:37,  2.94s/it]"
     ]
    },
    {
     "name": "stdout",
     "output_type": "stream",
     "text": [
      "Number of boxes found:  3\n",
      "iterations:  848\n",
      "heatmap len:  10\n",
      "Number of boxes found:  11\n",
      "Number of boxes found:  7\n",
      "Number of boxes found:  6\n"
     ]
    },
    {
     "name": "stderr",
     "output_type": "stream",
     "text": [
      "\r",
      " 67%|██████▋   | 841/1261 [38:31<20:22,  2.91s/it]"
     ]
    },
    {
     "name": "stdout",
     "output_type": "stream",
     "text": [
      "Number of boxes found:  3\n",
      "iterations:  849\n",
      "heatmap len:  10\n",
      "Number of boxes found:  9\n",
      "Number of boxes found:  7\n",
      "Number of boxes found:  6\n"
     ]
    },
    {
     "name": "stderr",
     "output_type": "stream",
     "text": [
      "\r",
      " 67%|██████▋   | 842/1261 [38:34<20:13,  2.90s/it]"
     ]
    },
    {
     "name": "stdout",
     "output_type": "stream",
     "text": [
      "Number of boxes found:  3\n",
      "iterations:  850\n",
      "heatmap len:  10\n",
      "Number of boxes found:  9\n",
      "Number of boxes found:  6\n",
      "Number of boxes found:  6\n"
     ]
    },
    {
     "name": "stderr",
     "output_type": "stream",
     "text": [
      "\r",
      " 67%|██████▋   | 843/1261 [38:37<20:32,  2.95s/it]"
     ]
    },
    {
     "name": "stdout",
     "output_type": "stream",
     "text": [
      "Number of boxes found:  4\n",
      "iterations:  851\n",
      "heatmap len:  10\n",
      "Number of boxes found:  11\n",
      "Number of boxes found:  8\n",
      "Number of boxes found:  7\n"
     ]
    },
    {
     "name": "stderr",
     "output_type": "stream",
     "text": [
      "\r",
      " 67%|██████▋   | 844/1261 [38:40<20:10,  2.90s/it]"
     ]
    },
    {
     "name": "stdout",
     "output_type": "stream",
     "text": [
      "Number of boxes found:  4\n",
      "iterations:  852\n",
      "heatmap len:  10\n",
      "Number of boxes found:  8\n",
      "Number of boxes found:  8\n",
      "Number of boxes found:  7\n"
     ]
    },
    {
     "name": "stderr",
     "output_type": "stream",
     "text": [
      "\r",
      " 67%|██████▋   | 845/1261 [38:43<20:00,  2.89s/it]"
     ]
    },
    {
     "name": "stdout",
     "output_type": "stream",
     "text": [
      "Number of boxes found:  4\n",
      "iterations:  853\n",
      "heatmap len:  10\n",
      "Number of boxes found:  9\n",
      "Number of boxes found:  9\n",
      "Number of boxes found:  8\n"
     ]
    },
    {
     "name": "stderr",
     "output_type": "stream",
     "text": [
      "\r",
      " 67%|██████▋   | 846/1261 [38:45<19:31,  2.82s/it]"
     ]
    },
    {
     "name": "stdout",
     "output_type": "stream",
     "text": [
      "Number of boxes found:  4\n",
      "iterations:  854\n",
      "heatmap len:  10\n",
      "Number of boxes found:  8\n",
      "Number of boxes found:  7\n",
      "Number of boxes found:  9\n"
     ]
    },
    {
     "name": "stderr",
     "output_type": "stream",
     "text": [
      "\r",
      " 67%|██████▋   | 847/1261 [38:48<19:25,  2.81s/it]"
     ]
    },
    {
     "name": "stdout",
     "output_type": "stream",
     "text": [
      "Number of boxes found:  4\n",
      "iterations:  855\n",
      "heatmap len:  10\n",
      "Number of boxes found:  9\n",
      "Number of boxes found:  4\n",
      "Number of boxes found:  8\n"
     ]
    },
    {
     "name": "stderr",
     "output_type": "stream",
     "text": [
      "\r",
      " 67%|██████▋   | 848/1261 [38:51<19:18,  2.81s/it]"
     ]
    },
    {
     "name": "stdout",
     "output_type": "stream",
     "text": [
      "Number of boxes found:  4\n",
      "iterations:  856\n",
      "heatmap len:  10\n",
      "Number of boxes found:  12\n",
      "Number of boxes found:  4\n",
      "Number of boxes found:  9\n"
     ]
    },
    {
     "name": "stderr",
     "output_type": "stream",
     "text": [
      "\r",
      " 67%|██████▋   | 849/1261 [38:54<19:35,  2.85s/it]"
     ]
    },
    {
     "name": "stdout",
     "output_type": "stream",
     "text": [
      "Number of boxes found:  4\n",
      "iterations:  857\n",
      "heatmap len:  10\n",
      "Number of boxes found:  10\n",
      "Number of boxes found:  6\n",
      "Number of boxes found:  6\n"
     ]
    },
    {
     "name": "stderr",
     "output_type": "stream",
     "text": [
      "\r",
      " 67%|██████▋   | 850/1261 [38:57<19:18,  2.82s/it]"
     ]
    },
    {
     "name": "stdout",
     "output_type": "stream",
     "text": [
      "Number of boxes found:  4\n",
      "iterations:  858\n",
      "heatmap len:  10\n",
      "Number of boxes found:  7\n",
      "Number of boxes found:  7\n",
      "Number of boxes found:  6\n"
     ]
    },
    {
     "name": "stderr",
     "output_type": "stream",
     "text": [
      "\r",
      " 67%|██████▋   | 851/1261 [39:00<19:09,  2.80s/it]"
     ]
    },
    {
     "name": "stdout",
     "output_type": "stream",
     "text": [
      "Number of boxes found:  4\n",
      "iterations:  859\n",
      "heatmap len:  10\n",
      "Number of boxes found:  9\n",
      "Number of boxes found:  4\n",
      "Number of boxes found:  7\n"
     ]
    },
    {
     "name": "stderr",
     "output_type": "stream",
     "text": [
      "\r",
      " 68%|██████▊   | 852/1261 [39:03<19:29,  2.86s/it]"
     ]
    },
    {
     "name": "stdout",
     "output_type": "stream",
     "text": [
      "Number of boxes found:  4\n",
      "iterations:  860\n",
      "heatmap len:  10\n",
      "Number of boxes found:  6\n",
      "Number of boxes found:  5\n",
      "Number of boxes found:  8\n"
     ]
    },
    {
     "name": "stderr",
     "output_type": "stream",
     "text": [
      "\r",
      " 68%|██████▊   | 853/1261 [39:05<19:23,  2.85s/it]"
     ]
    },
    {
     "name": "stdout",
     "output_type": "stream",
     "text": [
      "Number of boxes found:  5\n",
      "iterations:  861\n",
      "heatmap len:  10\n",
      "Number of boxes found:  7\n",
      "Number of boxes found:  5\n",
      "Number of boxes found:  7\n"
     ]
    },
    {
     "name": "stderr",
     "output_type": "stream",
     "text": [
      "\r",
      " 68%|██████▊   | 854/1261 [39:08<19:17,  2.84s/it]"
     ]
    },
    {
     "name": "stdout",
     "output_type": "stream",
     "text": [
      "Number of boxes found:  5\n",
      "iterations:  862\n",
      "heatmap len:  10\n",
      "Number of boxes found:  5\n",
      "Number of boxes found:  4\n",
      "Number of boxes found:  6\n"
     ]
    },
    {
     "name": "stderr",
     "output_type": "stream",
     "text": [
      "\r",
      " 68%|██████▊   | 855/1261 [39:11<19:04,  2.82s/it]"
     ]
    },
    {
     "name": "stdout",
     "output_type": "stream",
     "text": [
      "Number of boxes found:  4\n",
      "iterations:  863\n",
      "heatmap len:  10\n",
      "Number of boxes found:  8\n",
      "Number of boxes found:  3\n",
      "Number of boxes found:  7\n"
     ]
    },
    {
     "name": "stderr",
     "output_type": "stream",
     "text": [
      "\r",
      " 68%|██████▊   | 856/1261 [39:14<18:56,  2.81s/it]"
     ]
    },
    {
     "name": "stdout",
     "output_type": "stream",
     "text": [
      "Number of boxes found:  4\n",
      "iterations:  864\n",
      "heatmap len:  10\n",
      "Number of boxes found:  8\n",
      "Number of boxes found:  5\n",
      "Number of boxes found:  6\n"
     ]
    },
    {
     "name": "stderr",
     "output_type": "stream",
     "text": [
      "\r",
      " 68%|██████▊   | 857/1261 [39:16<18:33,  2.76s/it]"
     ]
    },
    {
     "name": "stdout",
     "output_type": "stream",
     "text": [
      "Number of boxes found:  4\n",
      "iterations:  865\n",
      "heatmap len:  10\n",
      "Number of boxes found:  8\n",
      "Number of boxes found:  3\n",
      "Number of boxes found:  3\n"
     ]
    },
    {
     "name": "stderr",
     "output_type": "stream",
     "text": [
      "\r",
      " 68%|██████▊   | 858/1261 [39:19<18:31,  2.76s/it]"
     ]
    },
    {
     "name": "stdout",
     "output_type": "stream",
     "text": [
      "Number of boxes found:  3\n",
      "iterations:  866\n",
      "heatmap len:  10\n",
      "Number of boxes found:  6\n",
      "Number of boxes found:  4\n",
      "Number of boxes found:  5\n"
     ]
    },
    {
     "name": "stderr",
     "output_type": "stream",
     "text": [
      "\r",
      " 68%|██████▊   | 859/1261 [39:22<18:39,  2.78s/it]"
     ]
    },
    {
     "name": "stdout",
     "output_type": "stream",
     "text": [
      "Number of boxes found:  3\n",
      "iterations:  867\n",
      "heatmap len:  10\n",
      "Number of boxes found:  6\n",
      "Number of boxes found:  5\n",
      "Number of boxes found:  6\n"
     ]
    },
    {
     "name": "stderr",
     "output_type": "stream",
     "text": [
      "\r",
      " 68%|██████▊   | 860/1261 [39:25<18:44,  2.81s/it]"
     ]
    },
    {
     "name": "stdout",
     "output_type": "stream",
     "text": [
      "Number of boxes found:  3\n",
      "iterations:  868\n",
      "heatmap len:  10\n",
      "Number of boxes found:  7\n",
      "Number of boxes found:  4\n",
      "Number of boxes found:  7\n"
     ]
    },
    {
     "name": "stderr",
     "output_type": "stream",
     "text": [
      "\r",
      " 68%|██████▊   | 861/1261 [39:28<18:37,  2.79s/it]"
     ]
    },
    {
     "name": "stdout",
     "output_type": "stream",
     "text": [
      "Number of boxes found:  4\n",
      "iterations:  869\n",
      "heatmap len:  10\n",
      "Number of boxes found:  7\n",
      "Number of boxes found:  6\n",
      "Number of boxes found:  8\n"
     ]
    },
    {
     "name": "stderr",
     "output_type": "stream",
     "text": [
      "\r",
      " 68%|██████▊   | 862/1261 [39:31<18:51,  2.84s/it]"
     ]
    },
    {
     "name": "stdout",
     "output_type": "stream",
     "text": [
      "Number of boxes found:  3\n",
      "iterations:  870\n",
      "heatmap len:  10\n",
      "Number of boxes found:  10\n",
      "Number of boxes found:  6\n",
      "Number of boxes found:  7\n"
     ]
    },
    {
     "name": "stderr",
     "output_type": "stream",
     "text": [
      "\r",
      " 68%|██████▊   | 863/1261 [39:33<18:36,  2.80s/it]"
     ]
    },
    {
     "name": "stdout",
     "output_type": "stream",
     "text": [
      "Number of boxes found:  3\n",
      "iterations:  871\n",
      "heatmap len:  10\n",
      "Number of boxes found:  9\n",
      "Number of boxes found:  9\n",
      "Number of boxes found:  7\n"
     ]
    },
    {
     "name": "stderr",
     "output_type": "stream",
     "text": [
      "\r",
      " 69%|██████▊   | 864/1261 [39:36<18:17,  2.77s/it]"
     ]
    },
    {
     "name": "stdout",
     "output_type": "stream",
     "text": [
      "Number of boxes found:  4\n",
      "iterations:  872\n",
      "heatmap len:  10\n",
      "Number of boxes found:  11\n",
      "Number of boxes found:  8\n",
      "Number of boxes found:  9\n"
     ]
    },
    {
     "name": "stderr",
     "output_type": "stream",
     "text": [
      "\r",
      " 69%|██████▊   | 865/1261 [39:39<18:05,  2.74s/it]"
     ]
    },
    {
     "name": "stdout",
     "output_type": "stream",
     "text": [
      "Number of boxes found:  3\n",
      "iterations:  873\n",
      "heatmap len:  10\n",
      "Number of boxes found:  11\n",
      "Number of boxes found:  7\n",
      "Number of boxes found:  7\n"
     ]
    },
    {
     "name": "stderr",
     "output_type": "stream",
     "text": [
      "\r",
      " 69%|██████▊   | 866/1261 [39:41<18:07,  2.75s/it]"
     ]
    },
    {
     "name": "stdout",
     "output_type": "stream",
     "text": [
      "Number of boxes found:  4\n",
      "iterations:  874\n",
      "heatmap len:  10\n",
      "Number of boxes found:  13\n",
      "Number of boxes found:  10\n",
      "Number of boxes found:  7\n"
     ]
    },
    {
     "name": "stderr",
     "output_type": "stream",
     "text": [
      "\r",
      " 69%|██████▉   | 867/1261 [39:44<18:01,  2.74s/it]"
     ]
    },
    {
     "name": "stdout",
     "output_type": "stream",
     "text": [
      "Number of boxes found:  4\n",
      "iterations:  875\n",
      "heatmap len:  10\n",
      "Number of boxes found:  12\n",
      "Number of boxes found:  6\n",
      "Number of boxes found:  6\n"
     ]
    },
    {
     "name": "stderr",
     "output_type": "stream",
     "text": [
      "\r",
      " 69%|██████▉   | 868/1261 [39:47<18:03,  2.76s/it]"
     ]
    },
    {
     "name": "stdout",
     "output_type": "stream",
     "text": [
      "Number of boxes found:  3\n",
      "iterations:  876\n",
      "heatmap len:  10\n",
      "Number of boxes found:  13\n",
      "Number of boxes found:  6\n",
      "Number of boxes found:  8\n"
     ]
    },
    {
     "name": "stderr",
     "output_type": "stream",
     "text": [
      "\r",
      " 69%|██████▉   | 869/1261 [39:50<17:46,  2.72s/it]"
     ]
    },
    {
     "name": "stdout",
     "output_type": "stream",
     "text": [
      "Number of boxes found:  3\n",
      "iterations:  877\n",
      "heatmap len:  10\n",
      "Number of boxes found:  10\n",
      "Number of boxes found:  7\n",
      "Number of boxes found:  8\n"
     ]
    },
    {
     "name": "stderr",
     "output_type": "stream",
     "text": [
      "\r",
      " 69%|██████▉   | 870/1261 [39:52<17:39,  2.71s/it]"
     ]
    },
    {
     "name": "stdout",
     "output_type": "stream",
     "text": [
      "Number of boxes found:  4\n",
      "iterations:  878\n",
      "heatmap len:  10\n",
      "Number of boxes found:  5\n",
      "Number of boxes found:  5\n",
      "Number of boxes found:  4\n"
     ]
    },
    {
     "name": "stderr",
     "output_type": "stream",
     "text": [
      "\r",
      " 69%|██████▉   | 871/1261 [39:55<17:39,  2.72s/it]"
     ]
    },
    {
     "name": "stdout",
     "output_type": "stream",
     "text": [
      "Number of boxes found:  3\n",
      "iterations:  879\n",
      "heatmap len:  10\n",
      "Number of boxes found:  6\n",
      "Number of boxes found:  8\n",
      "Number of boxes found:  6\n"
     ]
    },
    {
     "name": "stderr",
     "output_type": "stream",
     "text": [
      "\r",
      " 69%|██████▉   | 872/1261 [39:58<17:38,  2.72s/it]"
     ]
    },
    {
     "name": "stdout",
     "output_type": "stream",
     "text": [
      "Number of boxes found:  3\n",
      "iterations:  880\n",
      "heatmap len:  10\n",
      "Number of boxes found:  9\n",
      "Number of boxes found:  6\n",
      "Number of boxes found:  7\n"
     ]
    },
    {
     "name": "stderr",
     "output_type": "stream",
     "text": [
      "\r",
      " 69%|██████▉   | 873/1261 [40:00<17:25,  2.69s/it]"
     ]
    },
    {
     "name": "stdout",
     "output_type": "stream",
     "text": [
      "Number of boxes found:  3\n",
      "iterations:  881\n",
      "heatmap len:  10\n",
      "Number of boxes found:  10\n",
      "Number of boxes found:  7\n",
      "Number of boxes found:  6\n"
     ]
    },
    {
     "name": "stderr",
     "output_type": "stream",
     "text": [
      "\r",
      " 69%|██████▉   | 874/1261 [40:03<17:24,  2.70s/it]"
     ]
    },
    {
     "name": "stdout",
     "output_type": "stream",
     "text": [
      "Number of boxes found:  3\n",
      "iterations:  882\n",
      "heatmap len:  10\n",
      "Number of boxes found:  12\n",
      "Number of boxes found:  6\n",
      "Number of boxes found:  7\n"
     ]
    },
    {
     "name": "stderr",
     "output_type": "stream",
     "text": [
      "\r",
      " 69%|██████▉   | 875/1261 [40:06<17:11,  2.67s/it]"
     ]
    },
    {
     "name": "stdout",
     "output_type": "stream",
     "text": [
      "Number of boxes found:  4\n",
      "iterations:  883\n",
      "heatmap len:  10\n",
      "Number of boxes found:  10\n",
      "Number of boxes found:  8\n",
      "Number of boxes found:  9\n"
     ]
    },
    {
     "name": "stderr",
     "output_type": "stream",
     "text": [
      "\r",
      " 69%|██████▉   | 876/1261 [40:08<17:02,  2.66s/it]"
     ]
    },
    {
     "name": "stdout",
     "output_type": "stream",
     "text": [
      "Number of boxes found:  4\n",
      "iterations:  884\n",
      "heatmap len:  10\n",
      "Number of boxes found:  12\n",
      "Number of boxes found:  9\n",
      "Number of boxes found:  5\n"
     ]
    },
    {
     "name": "stderr",
     "output_type": "stream",
     "text": [
      "\r",
      " 70%|██████▉   | 877/1261 [40:11<17:02,  2.66s/it]"
     ]
    },
    {
     "name": "stdout",
     "output_type": "stream",
     "text": [
      "Number of boxes found:  3\n",
      "iterations:  885\n",
      "heatmap len:  10\n",
      "Number of boxes found:  8\n",
      "Number of boxes found:  8\n",
      "Number of boxes found:  7\n"
     ]
    },
    {
     "name": "stderr",
     "output_type": "stream",
     "text": [
      "\r",
      " 70%|██████▉   | 878/1261 [40:14<16:59,  2.66s/it]"
     ]
    },
    {
     "name": "stdout",
     "output_type": "stream",
     "text": [
      "Number of boxes found:  3\n",
      "iterations:  886\n",
      "heatmap len:  10\n",
      "Number of boxes found:  9\n",
      "Number of boxes found:  11\n",
      "Number of boxes found:  7\n"
     ]
    },
    {
     "name": "stderr",
     "output_type": "stream",
     "text": [
      "\r",
      " 70%|██████▉   | 879/1261 [40:16<17:02,  2.68s/it]"
     ]
    },
    {
     "name": "stdout",
     "output_type": "stream",
     "text": [
      "Number of boxes found:  2\n",
      "iterations:  887\n",
      "heatmap len:  10\n",
      "Number of boxes found:  11\n",
      "Number of boxes found:  12\n",
      "Number of boxes found:  7\n"
     ]
    },
    {
     "name": "stderr",
     "output_type": "stream",
     "text": [
      "\r",
      " 70%|██████▉   | 880/1261 [40:19<17:00,  2.68s/it]"
     ]
    },
    {
     "name": "stdout",
     "output_type": "stream",
     "text": [
      "Number of boxes found:  2\n",
      "iterations:  888\n",
      "heatmap len:  10\n",
      "Number of boxes found:  9\n",
      "Number of boxes found:  12\n",
      "Number of boxes found:  8\n"
     ]
    },
    {
     "name": "stderr",
     "output_type": "stream",
     "text": [
      "\r",
      " 70%|██████▉   | 881/1261 [40:22<17:04,  2.69s/it]"
     ]
    },
    {
     "name": "stdout",
     "output_type": "stream",
     "text": [
      "Number of boxes found:  2\n",
      "iterations:  889\n",
      "heatmap len:  10\n",
      "Number of boxes found:  11\n",
      "Number of boxes found:  11\n",
      "Number of boxes found:  7\n"
     ]
    },
    {
     "name": "stderr",
     "output_type": "stream",
     "text": [
      "\r",
      " 70%|██████▉   | 882/1261 [40:25<17:28,  2.77s/it]"
     ]
    },
    {
     "name": "stdout",
     "output_type": "stream",
     "text": [
      "Number of boxes found:  2\n",
      "iterations:  890\n",
      "heatmap len:  10\n",
      "Number of boxes found:  10\n",
      "Number of boxes found:  9\n",
      "Number of boxes found:  6\n"
     ]
    },
    {
     "name": "stderr",
     "output_type": "stream",
     "text": [
      "\r",
      " 70%|███████   | 883/1261 [40:27<17:24,  2.76s/it]"
     ]
    },
    {
     "name": "stdout",
     "output_type": "stream",
     "text": [
      "Number of boxes found:  2\n",
      "iterations:  891\n",
      "heatmap len:  10\n",
      "Number of boxes found:  7\n",
      "Number of boxes found:  11\n",
      "Number of boxes found:  5\n"
     ]
    },
    {
     "name": "stderr",
     "output_type": "stream",
     "text": [
      "\r",
      " 70%|███████   | 884/1261 [40:30<17:33,  2.79s/it]"
     ]
    },
    {
     "name": "stdout",
     "output_type": "stream",
     "text": [
      "Number of boxes found:  3\n",
      "iterations:  892\n",
      "heatmap len:  10\n",
      "Number of boxes found:  11\n",
      "Number of boxes found:  13\n",
      "Number of boxes found:  7\n"
     ]
    },
    {
     "name": "stderr",
     "output_type": "stream",
     "text": [
      "\r",
      " 70%|███████   | 885/1261 [40:33<17:40,  2.82s/it]"
     ]
    },
    {
     "name": "stdout",
     "output_type": "stream",
     "text": [
      "Number of boxes found:  3\n",
      "iterations:  893\n",
      "heatmap len:  10\n",
      "Number of boxes found:  12\n",
      "Number of boxes found:  11\n",
      "Number of boxes found:  9\n"
     ]
    },
    {
     "name": "stderr",
     "output_type": "stream",
     "text": [
      "\r",
      " 70%|███████   | 886/1261 [40:36<17:26,  2.79s/it]"
     ]
    },
    {
     "name": "stdout",
     "output_type": "stream",
     "text": [
      "Number of boxes found:  3\n",
      "iterations:  894\n",
      "heatmap len:  10\n",
      "Number of boxes found:  15\n",
      "Number of boxes found:  13\n",
      "Number of boxes found:  10\n"
     ]
    },
    {
     "name": "stderr",
     "output_type": "stream",
     "text": [
      "\r",
      " 70%|███████   | 887/1261 [40:39<17:25,  2.80s/it]"
     ]
    },
    {
     "name": "stdout",
     "output_type": "stream",
     "text": [
      "Number of boxes found:  3\n",
      "iterations:  895\n",
      "heatmap len:  10\n",
      "Number of boxes found:  14\n",
      "Number of boxes found:  9\n",
      "Number of boxes found:  8\n"
     ]
    },
    {
     "name": "stderr",
     "output_type": "stream",
     "text": [
      "\r",
      " 70%|███████   | 888/1261 [40:41<17:17,  2.78s/it]"
     ]
    },
    {
     "name": "stdout",
     "output_type": "stream",
     "text": [
      "Number of boxes found:  3\n",
      "iterations:  896\n",
      "heatmap len:  10\n",
      "Number of boxes found:  17\n",
      "Number of boxes found:  11\n",
      "Number of boxes found:  10\n"
     ]
    },
    {
     "name": "stderr",
     "output_type": "stream",
     "text": [
      "\r",
      " 70%|███████   | 889/1261 [40:44<17:31,  2.83s/it]"
     ]
    },
    {
     "name": "stdout",
     "output_type": "stream",
     "text": [
      "Number of boxes found:  3\n",
      "iterations:  897\n",
      "heatmap len:  10\n",
      "Number of boxes found:  16\n",
      "Number of boxes found:  13\n",
      "Number of boxes found:  8\n"
     ]
    },
    {
     "name": "stderr",
     "output_type": "stream",
     "text": [
      "\r",
      " 71%|███████   | 890/1261 [40:47<17:33,  2.84s/it]"
     ]
    },
    {
     "name": "stdout",
     "output_type": "stream",
     "text": [
      "Number of boxes found:  3\n",
      "iterations:  898\n",
      "heatmap len:  10\n",
      "Number of boxes found:  10\n",
      "Number of boxes found:  14\n",
      "Number of boxes found:  11\n"
     ]
    },
    {
     "name": "stderr",
     "output_type": "stream",
     "text": [
      "\r",
      " 71%|███████   | 891/1261 [40:50<17:18,  2.81s/it]"
     ]
    },
    {
     "name": "stdout",
     "output_type": "stream",
     "text": [
      "Number of boxes found:  4\n",
      "iterations:  899\n",
      "heatmap len:  10\n",
      "Number of boxes found:  13\n",
      "Number of boxes found:  16\n",
      "Number of boxes found:  12\n"
     ]
    },
    {
     "name": "stderr",
     "output_type": "stream",
     "text": [
      "\r",
      " 71%|███████   | 892/1261 [40:53<17:20,  2.82s/it]"
     ]
    },
    {
     "name": "stdout",
     "output_type": "stream",
     "text": [
      "Number of boxes found:  4\n",
      "iterations:  900\n",
      "heatmap len:  10\n",
      "Number of boxes found:  13\n",
      "Number of boxes found:  12\n",
      "Number of boxes found:  11\n"
     ]
    },
    {
     "name": "stderr",
     "output_type": "stream",
     "text": [
      "\r",
      " 71%|███████   | 893/1261 [40:56<17:16,  2.82s/it]"
     ]
    },
    {
     "name": "stdout",
     "output_type": "stream",
     "text": [
      "Number of boxes found:  3\n",
      "iterations:  901\n",
      "heatmap len:  10\n",
      "Number of boxes found:  10\n",
      "Number of boxes found:  12\n",
      "Number of boxes found:  11\n"
     ]
    },
    {
     "name": "stderr",
     "output_type": "stream",
     "text": [
      "\r",
      " 71%|███████   | 894/1261 [40:59<17:28,  2.86s/it]"
     ]
    },
    {
     "name": "stdout",
     "output_type": "stream",
     "text": [
      "Number of boxes found:  2\n",
      "iterations:  902\n",
      "heatmap len:  10\n",
      "Number of boxes found:  12\n",
      "Number of boxes found:  10\n",
      "Number of boxes found:  10\n"
     ]
    },
    {
     "name": "stderr",
     "output_type": "stream",
     "text": [
      "\r",
      " 71%|███████   | 895/1261 [41:02<17:42,  2.90s/it]"
     ]
    },
    {
     "name": "stdout",
     "output_type": "stream",
     "text": [
      "Number of boxes found:  2\n",
      "iterations:  903\n",
      "heatmap len:  10\n",
      "Number of boxes found:  10\n",
      "Number of boxes found:  11\n",
      "Number of boxes found:  10\n"
     ]
    },
    {
     "name": "stderr",
     "output_type": "stream",
     "text": [
      "\r",
      " 71%|███████   | 896/1261 [41:04<17:35,  2.89s/it]"
     ]
    },
    {
     "name": "stdout",
     "output_type": "stream",
     "text": [
      "Number of boxes found:  2\n",
      "iterations:  904\n",
      "heatmap len:  10\n",
      "Number of boxes found:  14\n",
      "Number of boxes found:  12\n",
      "Number of boxes found:  9\n"
     ]
    },
    {
     "name": "stderr",
     "output_type": "stream",
     "text": [
      "\r",
      " 71%|███████   | 897/1261 [41:07<17:28,  2.88s/it]"
     ]
    },
    {
     "name": "stdout",
     "output_type": "stream",
     "text": [
      "Number of boxes found:  2\n",
      "iterations:  905\n",
      "heatmap len:  10\n",
      "Number of boxes found:  13\n",
      "Number of boxes found:  12\n",
      "Number of boxes found:  9\n"
     ]
    },
    {
     "name": "stderr",
     "output_type": "stream",
     "text": [
      "\r",
      " 71%|███████   | 898/1261 [41:10<17:22,  2.87s/it]"
     ]
    },
    {
     "name": "stdout",
     "output_type": "stream",
     "text": [
      "Number of boxes found:  2\n",
      "iterations:  906\n",
      "heatmap len:  10\n",
      "Number of boxes found:  13\n",
      "Number of boxes found:  16\n",
      "Number of boxes found:  9\n"
     ]
    },
    {
     "name": "stderr",
     "output_type": "stream",
     "text": [
      "\r",
      " 71%|███████▏  | 899/1261 [41:13<17:10,  2.85s/it]"
     ]
    },
    {
     "name": "stdout",
     "output_type": "stream",
     "text": [
      "Number of boxes found:  2\n",
      "iterations:  907\n",
      "heatmap len:  10\n",
      "Number of boxes found:  14\n",
      "Number of boxes found:  14\n",
      "Number of boxes found:  8\n"
     ]
    },
    {
     "name": "stderr",
     "output_type": "stream",
     "text": [
      "\r",
      " 71%|███████▏  | 900/1261 [41:16<17:03,  2.83s/it]"
     ]
    },
    {
     "name": "stdout",
     "output_type": "stream",
     "text": [
      "Number of boxes found:  2\n",
      "iterations:  908\n",
      "heatmap len:  10\n",
      "Number of boxes found:  7\n",
      "Number of boxes found:  6\n",
      "Number of boxes found:  6\n"
     ]
    },
    {
     "name": "stderr",
     "output_type": "stream",
     "text": [
      "\r",
      " 71%|███████▏  | 901/1261 [41:19<17:16,  2.88s/it]"
     ]
    },
    {
     "name": "stdout",
     "output_type": "stream",
     "text": [
      "Number of boxes found:  2\n",
      "iterations:  909\n",
      "heatmap len:  10\n",
      "Number of boxes found:  8\n",
      "Number of boxes found:  9\n",
      "Number of boxes found:  7\n"
     ]
    },
    {
     "name": "stderr",
     "output_type": "stream",
     "text": [
      "\r",
      " 72%|███████▏  | 902/1261 [41:22<17:25,  2.91s/it]"
     ]
    },
    {
     "name": "stdout",
     "output_type": "stream",
     "text": [
      "Number of boxes found:  2\n",
      "iterations:  910\n",
      "heatmap len:  10\n",
      "Number of boxes found:  9\n",
      "Number of boxes found:  13\n",
      "Number of boxes found:  7\n"
     ]
    },
    {
     "name": "stderr",
     "output_type": "stream",
     "text": [
      "\r",
      " 72%|███████▏  | 903/1261 [41:25<17:07,  2.87s/it]"
     ]
    },
    {
     "name": "stdout",
     "output_type": "stream",
     "text": [
      "Number of boxes found:  1\n",
      "iterations:  911\n",
      "heatmap len:  10\n",
      "Number of boxes found:  12\n",
      "Number of boxes found:  12\n",
      "Number of boxes found:  10\n"
     ]
    },
    {
     "name": "stderr",
     "output_type": "stream",
     "text": [
      "\r",
      " 72%|███████▏  | 904/1261 [41:27<16:54,  2.84s/it]"
     ]
    },
    {
     "name": "stdout",
     "output_type": "stream",
     "text": [
      "Number of boxes found:  2\n",
      "iterations:  912\n",
      "heatmap len:  10\n",
      "Number of boxes found:  9\n",
      "Number of boxes found:  12\n",
      "Number of boxes found:  11\n"
     ]
    },
    {
     "name": "stderr",
     "output_type": "stream",
     "text": [
      "\r",
      " 72%|███████▏  | 905/1261 [41:30<16:52,  2.84s/it]"
     ]
    },
    {
     "name": "stdout",
     "output_type": "stream",
     "text": [
      "Number of boxes found:  2\n",
      "iterations:  913\n",
      "heatmap len:  10\n",
      "Number of boxes found:  12\n",
      "Number of boxes found:  15\n",
      "Number of boxes found:  9\n"
     ]
    },
    {
     "name": "stderr",
     "output_type": "stream",
     "text": [
      "\r",
      " 72%|███████▏  | 906/1261 [41:33<16:57,  2.87s/it]"
     ]
    },
    {
     "name": "stdout",
     "output_type": "stream",
     "text": [
      "Number of boxes found:  2\n",
      "iterations:  914\n",
      "heatmap len:  10\n",
      "Number of boxes found:  13\n",
      "Number of boxes found:  16\n",
      "Number of boxes found:  8\n"
     ]
    },
    {
     "name": "stderr",
     "output_type": "stream",
     "text": [
      "\r",
      " 72%|███████▏  | 907/1261 [41:36<16:54,  2.87s/it]"
     ]
    },
    {
     "name": "stdout",
     "output_type": "stream",
     "text": [
      "Number of boxes found:  1\n",
      "iterations:  915\n",
      "heatmap len:  10\n",
      "Number of boxes found:  11\n",
      "Number of boxes found:  10\n",
      "Number of boxes found:  9\n"
     ]
    },
    {
     "name": "stderr",
     "output_type": "stream",
     "text": [
      "\r",
      " 72%|███████▏  | 908/1261 [41:39<16:40,  2.84s/it]"
     ]
    },
    {
     "name": "stdout",
     "output_type": "stream",
     "text": [
      "Number of boxes found:  1\n",
      "iterations:  916\n",
      "heatmap len:  10\n",
      "Number of boxes found:  11\n",
      "Number of boxes found:  7\n",
      "Number of boxes found:  8\n"
     ]
    },
    {
     "name": "stderr",
     "output_type": "stream",
     "text": [
      "\r",
      " 72%|███████▏  | 909/1261 [41:41<16:34,  2.83s/it]"
     ]
    },
    {
     "name": "stdout",
     "output_type": "stream",
     "text": [
      "Number of boxes found:  1\n",
      "iterations:  917\n",
      "heatmap len:  10\n",
      "Number of boxes found:  10\n",
      "Number of boxes found:  4\n",
      "Number of boxes found:  8\n"
     ]
    },
    {
     "name": "stderr",
     "output_type": "stream",
     "text": [
      "\r",
      " 72%|███████▏  | 910/1261 [41:44<16:26,  2.81s/it]"
     ]
    },
    {
     "name": "stdout",
     "output_type": "stream",
     "text": [
      "Number of boxes found:  3\n",
      "iterations:  918\n",
      "heatmap len:  10\n",
      "Number of boxes found:  9\n",
      "Number of boxes found:  6\n",
      "Number of boxes found:  7\n"
     ]
    },
    {
     "name": "stderr",
     "output_type": "stream",
     "text": [
      "\r",
      " 72%|███████▏  | 911/1261 [41:47<16:23,  2.81s/it]"
     ]
    },
    {
     "name": "stdout",
     "output_type": "stream",
     "text": [
      "Number of boxes found:  2\n",
      "iterations:  919\n",
      "heatmap len:  10\n",
      "Number of boxes found:  10\n",
      "Number of boxes found:  6\n",
      "Number of boxes found:  7\n"
     ]
    },
    {
     "name": "stderr",
     "output_type": "stream",
     "text": [
      "\r",
      " 72%|███████▏  | 912/1261 [41:50<16:07,  2.77s/it]"
     ]
    },
    {
     "name": "stdout",
     "output_type": "stream",
     "text": [
      "Number of boxes found:  3\n",
      "iterations:  920\n",
      "heatmap len:  10\n",
      "Number of boxes found:  11\n",
      "Number of boxes found:  8\n",
      "Number of boxes found:  7\n"
     ]
    },
    {
     "name": "stderr",
     "output_type": "stream",
     "text": [
      "\r",
      " 72%|███████▏  | 913/1261 [41:53<16:18,  2.81s/it]"
     ]
    },
    {
     "name": "stdout",
     "output_type": "stream",
     "text": [
      "Number of boxes found:  2\n",
      "iterations:  921\n",
      "heatmap len:  10\n",
      "Number of boxes found:  11\n",
      "Number of boxes found:  5\n",
      "Number of boxes found:  8\n"
     ]
    },
    {
     "name": "stderr",
     "output_type": "stream",
     "text": [
      "\r",
      " 72%|███████▏  | 914/1261 [41:56<16:24,  2.84s/it]"
     ]
    },
    {
     "name": "stdout",
     "output_type": "stream",
     "text": [
      "Number of boxes found:  4\n",
      "iterations:  922\n",
      "heatmap len:  10\n",
      "Number of boxes found:  9\n",
      "Number of boxes found:  12\n",
      "Number of boxes found:  9\n"
     ]
    },
    {
     "name": "stderr",
     "output_type": "stream",
     "text": [
      "\r",
      " 73%|███████▎  | 915/1261 [41:59<16:33,  2.87s/it]"
     ]
    },
    {
     "name": "stdout",
     "output_type": "stream",
     "text": [
      "Number of boxes found:  4\n",
      "iterations:  923\n",
      "heatmap len:  10\n",
      "Number of boxes found:  10\n",
      "Number of boxes found:  8\n",
      "Number of boxes found:  7\n"
     ]
    },
    {
     "name": "stderr",
     "output_type": "stream",
     "text": [
      "\r",
      " 73%|███████▎  | 916/1261 [42:01<16:30,  2.87s/it]"
     ]
    },
    {
     "name": "stdout",
     "output_type": "stream",
     "text": [
      "Number of boxes found:  2\n",
      "iterations:  924\n",
      "heatmap len:  10\n",
      "Number of boxes found:  11\n",
      "Number of boxes found:  12\n",
      "Number of boxes found:  8\n"
     ]
    },
    {
     "name": "stderr",
     "output_type": "stream",
     "text": [
      "\r",
      " 73%|███████▎  | 917/1261 [42:04<16:32,  2.89s/it]"
     ]
    },
    {
     "name": "stdout",
     "output_type": "stream",
     "text": [
      "Number of boxes found:  2\n",
      "iterations:  925\n",
      "heatmap len:  10\n",
      "Number of boxes found:  10\n",
      "Number of boxes found:  12\n",
      "Number of boxes found:  9\n"
     ]
    },
    {
     "name": "stderr",
     "output_type": "stream",
     "text": [
      "\r",
      " 73%|███████▎  | 918/1261 [42:07<16:35,  2.90s/it]"
     ]
    },
    {
     "name": "stdout",
     "output_type": "stream",
     "text": [
      "Number of boxes found:  3\n",
      "iterations:  926\n",
      "heatmap len:  10\n",
      "Number of boxes found:  10\n",
      "Number of boxes found:  10\n",
      "Number of boxes found:  8\n"
     ]
    },
    {
     "name": "stderr",
     "output_type": "stream",
     "text": [
      "\r",
      " 73%|███████▎  | 919/1261 [42:10<16:35,  2.91s/it]"
     ]
    },
    {
     "name": "stdout",
     "output_type": "stream",
     "text": [
      "Number of boxes found:  4\n",
      "iterations:  927\n",
      "heatmap len:  10\n",
      "Number of boxes found:  8\n",
      "Number of boxes found:  9\n",
      "Number of boxes found:  8\n"
     ]
    },
    {
     "name": "stderr",
     "output_type": "stream",
     "text": [
      "\r",
      " 73%|███████▎  | 920/1261 [42:13<16:36,  2.92s/it]"
     ]
    },
    {
     "name": "stdout",
     "output_type": "stream",
     "text": [
      "Number of boxes found:  3\n",
      "iterations:  928\n",
      "heatmap len:  10\n",
      "Number of boxes found:  5\n",
      "Number of boxes found:  8\n",
      "Number of boxes found:  9\n"
     ]
    },
    {
     "name": "stderr",
     "output_type": "stream",
     "text": [
      "\r",
      " 73%|███████▎  | 921/1261 [42:16<16:23,  2.89s/it]"
     ]
    },
    {
     "name": "stdout",
     "output_type": "stream",
     "text": [
      "Number of boxes found:  3\n",
      "iterations:  929\n",
      "heatmap len:  10\n",
      "Number of boxes found:  6\n",
      "Number of boxes found:  10\n",
      "Number of boxes found:  8\n"
     ]
    },
    {
     "name": "stderr",
     "output_type": "stream",
     "text": [
      "\r",
      " 73%|███████▎  | 922/1261 [42:19<16:08,  2.86s/it]"
     ]
    },
    {
     "name": "stdout",
     "output_type": "stream",
     "text": [
      "Number of boxes found:  4\n",
      "iterations:  930\n",
      "heatmap len:  10\n",
      "Number of boxes found:  10\n",
      "Number of boxes found:  8\n",
      "Number of boxes found:  8\n"
     ]
    },
    {
     "name": "stderr",
     "output_type": "stream",
     "text": [
      "\r",
      " 73%|███████▎  | 923/1261 [42:22<16:01,  2.85s/it]"
     ]
    },
    {
     "name": "stdout",
     "output_type": "stream",
     "text": [
      "Number of boxes found:  5\n",
      "iterations:  931\n",
      "heatmap len:  10\n",
      "Number of boxes found:  4\n",
      "Number of boxes found:  8\n",
      "Number of boxes found:  6\n"
     ]
    },
    {
     "name": "stderr",
     "output_type": "stream",
     "text": [
      "\r",
      " 73%|███████▎  | 924/1261 [42:25<16:29,  2.94s/it]"
     ]
    },
    {
     "name": "stdout",
     "output_type": "stream",
     "text": [
      "Number of boxes found:  4\n",
      "iterations:  932\n",
      "heatmap len:  10\n",
      "Number of boxes found:  9\n",
      "Number of boxes found:  7\n",
      "Number of boxes found:  7\n"
     ]
    },
    {
     "name": "stderr",
     "output_type": "stream",
     "text": [
      "\r",
      " 73%|███████▎  | 925/1261 [42:27<16:01,  2.86s/it]"
     ]
    },
    {
     "name": "stdout",
     "output_type": "stream",
     "text": [
      "Number of boxes found:  1\n",
      "iterations:  933\n",
      "heatmap len:  10\n",
      "Number of boxes found:  6\n",
      "Number of boxes found:  7\n",
      "Number of boxes found:  8\n"
     ]
    },
    {
     "name": "stderr",
     "output_type": "stream",
     "text": [
      "\r",
      " 73%|███████▎  | 926/1261 [42:30<15:55,  2.85s/it]"
     ]
    },
    {
     "name": "stdout",
     "output_type": "stream",
     "text": [
      "Number of boxes found:  2\n",
      "iterations:  934\n",
      "heatmap len:  10\n",
      "Number of boxes found:  10\n",
      "Number of boxes found:  11\n",
      "Number of boxes found:  7\n"
     ]
    },
    {
     "name": "stderr",
     "output_type": "stream",
     "text": [
      "\r",
      " 74%|███████▎  | 927/1261 [42:33<15:49,  2.84s/it]"
     ]
    },
    {
     "name": "stdout",
     "output_type": "stream",
     "text": [
      "Number of boxes found:  2\n",
      "iterations:  935\n",
      "heatmap len:  10\n",
      "Number of boxes found:  7\n",
      "Number of boxes found:  12\n",
      "Number of boxes found:  9\n"
     ]
    },
    {
     "name": "stderr",
     "output_type": "stream",
     "text": [
      "\r",
      " 74%|███████▎  | 928/1261 [42:36<15:39,  2.82s/it]"
     ]
    },
    {
     "name": "stdout",
     "output_type": "stream",
     "text": [
      "Number of boxes found:  2\n",
      "iterations:  936\n",
      "heatmap len:  10\n",
      "Number of boxes found:  5\n",
      "Number of boxes found:  12\n",
      "Number of boxes found:  7\n"
     ]
    },
    {
     "name": "stderr",
     "output_type": "stream",
     "text": [
      "\r",
      " 74%|███████▎  | 929/1261 [42:39<15:31,  2.80s/it]"
     ]
    },
    {
     "name": "stdout",
     "output_type": "stream",
     "text": [
      "Number of boxes found:  3\n",
      "iterations:  937\n",
      "heatmap len:  10\n",
      "Number of boxes found:  9\n",
      "Number of boxes found:  12\n",
      "Number of boxes found:  7\n"
     ]
    },
    {
     "name": "stderr",
     "output_type": "stream",
     "text": [
      "\r",
      " 74%|███████▍  | 930/1261 [42:41<15:27,  2.80s/it]"
     ]
    },
    {
     "name": "stdout",
     "output_type": "stream",
     "text": [
      "Number of boxes found:  3\n",
      "iterations:  938\n",
      "heatmap len:  10\n",
      "Number of boxes found:  5\n",
      "Number of boxes found:  7\n",
      "Number of boxes found:  6\n"
     ]
    },
    {
     "name": "stderr",
     "output_type": "stream",
     "text": [
      "\r",
      " 74%|███████▍  | 931/1261 [42:44<15:24,  2.80s/it]"
     ]
    },
    {
     "name": "stdout",
     "output_type": "stream",
     "text": [
      "Number of boxes found:  2\n",
      "iterations:  939\n",
      "heatmap len:  10\n",
      "Number of boxes found:  6\n",
      "Number of boxes found:  9\n",
      "Number of boxes found:  6\n"
     ]
    },
    {
     "name": "stderr",
     "output_type": "stream",
     "text": [
      "\r",
      " 74%|███████▍  | 932/1261 [42:47<15:26,  2.82s/it]"
     ]
    },
    {
     "name": "stdout",
     "output_type": "stream",
     "text": [
      "Number of boxes found:  3\n",
      "iterations:  940\n",
      "heatmap len:  10\n",
      "Number of boxes found:  7\n",
      "Number of boxes found:  7\n",
      "Number of boxes found:  7\n"
     ]
    },
    {
     "name": "stderr",
     "output_type": "stream",
     "text": [
      "\r",
      " 74%|███████▍  | 933/1261 [42:50<15:20,  2.81s/it]"
     ]
    },
    {
     "name": "stdout",
     "output_type": "stream",
     "text": [
      "Number of boxes found:  3\n",
      "iterations:  941\n",
      "heatmap len:  10\n",
      "Number of boxes found:  8\n",
      "Number of boxes found:  10\n",
      "Number of boxes found:  6\n"
     ]
    },
    {
     "name": "stderr",
     "output_type": "stream",
     "text": [
      "\r",
      " 74%|███████▍  | 934/1261 [42:53<15:16,  2.80s/it]"
     ]
    },
    {
     "name": "stdout",
     "output_type": "stream",
     "text": [
      "Number of boxes found:  2\n",
      "iterations:  942\n",
      "heatmap len:  10\n",
      "Number of boxes found:  7\n",
      "Number of boxes found:  11\n",
      "Number of boxes found:  7\n"
     ]
    },
    {
     "name": "stderr",
     "output_type": "stream",
     "text": [
      "\r",
      " 74%|███████▍  | 935/1261 [42:55<15:09,  2.79s/it]"
     ]
    },
    {
     "name": "stdout",
     "output_type": "stream",
     "text": [
      "Number of boxes found:  3\n",
      "iterations:  943\n",
      "heatmap len:  10\n",
      "Number of boxes found:  6\n",
      "Number of boxes found:  11\n",
      "Number of boxes found:  7\n"
     ]
    },
    {
     "name": "stderr",
     "output_type": "stream",
     "text": [
      "\r",
      " 74%|███████▍  | 936/1261 [42:58<14:59,  2.77s/it]"
     ]
    },
    {
     "name": "stdout",
     "output_type": "stream",
     "text": [
      "Number of boxes found:  2\n",
      "iterations:  944\n",
      "heatmap len:  10\n",
      "Number of boxes found:  7\n",
      "Number of boxes found:  9\n",
      "Number of boxes found:  7\n"
     ]
    },
    {
     "name": "stderr",
     "output_type": "stream",
     "text": [
      "\r",
      " 74%|███████▍  | 937/1261 [43:01<14:54,  2.76s/it]"
     ]
    },
    {
     "name": "stdout",
     "output_type": "stream",
     "text": [
      "Number of boxes found:  4\n",
      "iterations:  945\n",
      "heatmap len:  10\n",
      "Number of boxes found:  8\n",
      "Number of boxes found:  10\n",
      "Number of boxes found:  7\n"
     ]
    },
    {
     "name": "stderr",
     "output_type": "stream",
     "text": [
      "\r",
      " 74%|███████▍  | 938/1261 [43:04<14:51,  2.76s/it]"
     ]
    },
    {
     "name": "stdout",
     "output_type": "stream",
     "text": [
      "Number of boxes found:  4\n",
      "iterations:  946\n",
      "heatmap len:  10\n",
      "Number of boxes found:  6\n",
      "Number of boxes found:  10\n",
      "Number of boxes found:  8\n"
     ]
    },
    {
     "name": "stderr",
     "output_type": "stream",
     "text": [
      "\r",
      " 74%|███████▍  | 939/1261 [43:06<14:51,  2.77s/it]"
     ]
    },
    {
     "name": "stdout",
     "output_type": "stream",
     "text": [
      "Number of boxes found:  4\n",
      "iterations:  947\n",
      "heatmap len:  10\n",
      "Number of boxes found:  12\n",
      "Number of boxes found:  13\n",
      "Number of boxes found:  8\n"
     ]
    },
    {
     "name": "stderr",
     "output_type": "stream",
     "text": [
      "\r",
      " 75%|███████▍  | 940/1261 [43:09<14:51,  2.78s/it]"
     ]
    },
    {
     "name": "stdout",
     "output_type": "stream",
     "text": [
      "Number of boxes found:  4\n",
      "iterations:  948\n",
      "heatmap len:  10\n",
      "Number of boxes found:  10\n",
      "Number of boxes found:  11\n",
      "Number of boxes found:  9\n"
     ]
    },
    {
     "name": "stderr",
     "output_type": "stream",
     "text": [
      "\r",
      " 75%|███████▍  | 941/1261 [43:12<14:55,  2.80s/it]"
     ]
    },
    {
     "name": "stdout",
     "output_type": "stream",
     "text": [
      "Number of boxes found:  4\n",
      "iterations:  949\n",
      "heatmap len:  10\n",
      "Number of boxes found:  10\n",
      "Number of boxes found:  14\n",
      "Number of boxes found:  8\n"
     ]
    },
    {
     "name": "stderr",
     "output_type": "stream",
     "text": [
      "\r",
      " 75%|███████▍  | 942/1261 [43:15<15:09,  2.85s/it]"
     ]
    },
    {
     "name": "stdout",
     "output_type": "stream",
     "text": [
      "Number of boxes found:  3\n",
      "iterations:  950\n",
      "heatmap len:  10\n",
      "Number of boxes found:  11\n",
      "Number of boxes found:  12\n",
      "Number of boxes found:  10\n"
     ]
    },
    {
     "name": "stderr",
     "output_type": "stream",
     "text": [
      "\r",
      " 75%|███████▍  | 943/1261 [43:18<15:04,  2.84s/it]"
     ]
    },
    {
     "name": "stdout",
     "output_type": "stream",
     "text": [
      "Number of boxes found:  4\n",
      "iterations:  951\n",
      "heatmap len:  10\n",
      "Number of boxes found:  9\n",
      "Number of boxes found:  10\n",
      "Number of boxes found:  10\n"
     ]
    },
    {
     "name": "stderr",
     "output_type": "stream",
     "text": [
      "\r",
      " 75%|███████▍  | 944/1261 [43:21<14:52,  2.82s/it]"
     ]
    },
    {
     "name": "stdout",
     "output_type": "stream",
     "text": [
      "Number of boxes found:  4\n",
      "iterations:  952\n",
      "heatmap len:  10\n",
      "Number of boxes found:  8\n",
      "Number of boxes found:  10\n",
      "Number of boxes found:  9\n"
     ]
    },
    {
     "name": "stderr",
     "output_type": "stream",
     "text": [
      "\r",
      " 75%|███████▍  | 945/1261 [43:23<14:46,  2.80s/it]"
     ]
    },
    {
     "name": "stdout",
     "output_type": "stream",
     "text": [
      "Number of boxes found:  4\n",
      "iterations:  953\n",
      "heatmap len:  10\n",
      "Number of boxes found:  6\n",
      "Number of boxes found:  10\n",
      "Number of boxes found:  10\n"
     ]
    },
    {
     "name": "stderr",
     "output_type": "stream",
     "text": [
      "\r",
      " 75%|███████▌  | 946/1261 [43:26<14:37,  2.78s/it]"
     ]
    },
    {
     "name": "stdout",
     "output_type": "stream",
     "text": [
      "Number of boxes found:  5\n",
      "iterations:  954\n",
      "heatmap len:  10\n",
      "Number of boxes found:  9\n",
      "Number of boxes found:  9\n",
      "Number of boxes found:  9\n"
     ]
    },
    {
     "name": "stderr",
     "output_type": "stream",
     "text": [
      "\r",
      " 75%|███████▌  | 947/1261 [43:29<14:37,  2.79s/it]"
     ]
    },
    {
     "name": "stdout",
     "output_type": "stream",
     "text": [
      "Number of boxes found:  3\n",
      "iterations:  955\n",
      "heatmap len:  10\n",
      "Number of boxes found:  10\n",
      "Number of boxes found:  11\n",
      "Number of boxes found:  8\n"
     ]
    },
    {
     "name": "stderr",
     "output_type": "stream",
     "text": [
      "\r",
      " 75%|███████▌  | 948/1261 [43:32<14:40,  2.81s/it]"
     ]
    },
    {
     "name": "stdout",
     "output_type": "stream",
     "text": [
      "Number of boxes found:  4\n",
      "iterations:  956\n",
      "heatmap len:  10\n",
      "Number of boxes found:  13\n",
      "Number of boxes found:  11\n",
      "Number of boxes found:  9\n"
     ]
    },
    {
     "name": "stderr",
     "output_type": "stream",
     "text": [
      "\r",
      " 75%|███████▌  | 949/1261 [43:35<14:38,  2.82s/it]"
     ]
    },
    {
     "name": "stdout",
     "output_type": "stream",
     "text": [
      "Number of boxes found:  3\n",
      "iterations:  957\n",
      "heatmap len:  10\n",
      "Number of boxes found:  9\n",
      "Number of boxes found:  10\n",
      "Number of boxes found:  9\n"
     ]
    },
    {
     "name": "stderr",
     "output_type": "stream",
     "text": [
      "\r",
      " 75%|███████▌  | 950/1261 [43:37<14:40,  2.83s/it]"
     ]
    },
    {
     "name": "stdout",
     "output_type": "stream",
     "text": [
      "Number of boxes found:  4\n",
      "iterations:  958\n",
      "heatmap len:  10\n",
      "Number of boxes found:  12\n",
      "Number of boxes found:  10\n",
      "Number of boxes found:  7\n"
     ]
    },
    {
     "name": "stderr",
     "output_type": "stream",
     "text": [
      "\r",
      " 75%|███████▌  | 951/1261 [43:40<14:32,  2.81s/it]"
     ]
    },
    {
     "name": "stdout",
     "output_type": "stream",
     "text": [
      "Number of boxes found:  3\n",
      "iterations:  959\n",
      "heatmap len:  10\n",
      "Number of boxes found:  10\n",
      "Number of boxes found:  10\n",
      "Number of boxes found:  9\n"
     ]
    },
    {
     "name": "stderr",
     "output_type": "stream",
     "text": [
      "\r",
      " 75%|███████▌  | 952/1261 [43:43<14:26,  2.80s/it]"
     ]
    },
    {
     "name": "stdout",
     "output_type": "stream",
     "text": [
      "Number of boxes found:  4\n",
      "iterations:  960\n",
      "heatmap len:  10\n",
      "Number of boxes found:  9\n",
      "Number of boxes found:  13\n",
      "Number of boxes found:  10\n"
     ]
    },
    {
     "name": "stderr",
     "output_type": "stream",
     "text": [
      "\r",
      " 76%|███████▌  | 953/1261 [43:46<14:22,  2.80s/it]"
     ]
    },
    {
     "name": "stdout",
     "output_type": "stream",
     "text": [
      "Number of boxes found:  3\n",
      "iterations:  961\n",
      "heatmap len:  10\n",
      "Number of boxes found:  8\n",
      "Number of boxes found:  12\n",
      "Number of boxes found:  10\n"
     ]
    },
    {
     "name": "stderr",
     "output_type": "stream",
     "text": [
      "\r",
      " 76%|███████▌  | 954/1261 [43:49<14:21,  2.81s/it]"
     ]
    },
    {
     "name": "stdout",
     "output_type": "stream",
     "text": [
      "Number of boxes found:  3\n",
      "iterations:  962\n",
      "heatmap len:  10\n",
      "Number of boxes found:  8\n",
      "Number of boxes found:  12\n",
      "Number of boxes found:  6\n"
     ]
    },
    {
     "name": "stderr",
     "output_type": "stream",
     "text": [
      "\r",
      " 76%|███████▌  | 955/1261 [43:51<14:21,  2.82s/it]"
     ]
    },
    {
     "name": "stdout",
     "output_type": "stream",
     "text": [
      "Number of boxes found:  4\n",
      "iterations:  963\n",
      "heatmap len:  10\n",
      "Number of boxes found:  10\n",
      "Number of boxes found:  13\n",
      "Number of boxes found:  9\n"
     ]
    },
    {
     "name": "stderr",
     "output_type": "stream",
     "text": [
      "\r",
      " 76%|███████▌  | 956/1261 [43:54<14:36,  2.87s/it]"
     ]
    },
    {
     "name": "stdout",
     "output_type": "stream",
     "text": [
      "Number of boxes found:  3\n",
      "iterations:  964\n",
      "heatmap len:  10\n",
      "Number of boxes found:  7\n",
      "Number of boxes found:  13\n",
      "Number of boxes found:  7\n"
     ]
    },
    {
     "name": "stderr",
     "output_type": "stream",
     "text": [
      "\r",
      " 76%|███████▌  | 957/1261 [43:57<14:28,  2.86s/it]"
     ]
    },
    {
     "name": "stdout",
     "output_type": "stream",
     "text": [
      "Number of boxes found:  4\n",
      "iterations:  965\n",
      "heatmap len:  10\n",
      "Number of boxes found:  9\n",
      "Number of boxes found:  13\n",
      "Number of boxes found:  9\n"
     ]
    },
    {
     "name": "stderr",
     "output_type": "stream",
     "text": [
      "\r",
      " 76%|███████▌  | 958/1261 [44:00<14:19,  2.84s/it]"
     ]
    },
    {
     "name": "stdout",
     "output_type": "stream",
     "text": [
      "Number of boxes found:  3\n",
      "iterations:  966\n",
      "heatmap len:  10\n",
      "Number of boxes found:  4\n",
      "Number of boxes found:  16\n",
      "Number of boxes found:  9\n"
     ]
    },
    {
     "name": "stderr",
     "output_type": "stream",
     "text": [
      "\r",
      " 76%|███████▌  | 959/1261 [44:03<14:23,  2.86s/it]"
     ]
    },
    {
     "name": "stdout",
     "output_type": "stream",
     "text": [
      "Number of boxes found:  3\n",
      "iterations:  967\n",
      "heatmap len:  10\n",
      "Number of boxes found:  11\n",
      "Number of boxes found:  10\n",
      "Number of boxes found:  9\n"
     ]
    },
    {
     "name": "stderr",
     "output_type": "stream",
     "text": [
      "\r",
      " 76%|███████▌  | 960/1261 [44:06<14:13,  2.84s/it]"
     ]
    },
    {
     "name": "stdout",
     "output_type": "stream",
     "text": [
      "Number of boxes found:  4\n",
      "iterations:  968\n",
      "heatmap len:  10\n",
      "Number of boxes found:  1\n",
      "Number of boxes found:  4\n",
      "Number of boxes found:  8\n"
     ]
    },
    {
     "name": "stderr",
     "output_type": "stream",
     "text": [
      "\r",
      " 76%|███████▌  | 961/1261 [44:08<14:01,  2.80s/it]"
     ]
    },
    {
     "name": "stdout",
     "output_type": "stream",
     "text": [
      "Number of boxes found:  3\n",
      "iterations:  969\n",
      "heatmap len:  10\n",
      "Number of boxes found:  3\n",
      "Number of boxes found:  6\n",
      "Number of boxes found:  8\n"
     ]
    },
    {
     "name": "stderr",
     "output_type": "stream",
     "text": [
      "\r",
      " 76%|███████▋  | 962/1261 [44:11<13:51,  2.78s/it]"
     ]
    },
    {
     "name": "stdout",
     "output_type": "stream",
     "text": [
      "Number of boxes found:  4\n",
      "iterations:  970\n",
      "heatmap len:  10\n",
      "Number of boxes found:  3\n",
      "Number of boxes found:  6\n",
      "Number of boxes found:  8\n"
     ]
    },
    {
     "name": "stderr",
     "output_type": "stream",
     "text": [
      "\r",
      " 76%|███████▋  | 963/1261 [44:14<13:48,  2.78s/it]"
     ]
    },
    {
     "name": "stdout",
     "output_type": "stream",
     "text": [
      "Number of boxes found:  4\n",
      "iterations:  971\n",
      "heatmap len:  10\n",
      "Number of boxes found:  1\n",
      "Number of boxes found:  6\n",
      "Number of boxes found:  8\n"
     ]
    },
    {
     "name": "stderr",
     "output_type": "stream",
     "text": [
      "\r",
      " 76%|███████▋  | 964/1261 [44:17<13:49,  2.79s/it]"
     ]
    },
    {
     "name": "stdout",
     "output_type": "stream",
     "text": [
      "Number of boxes found:  4\n",
      "iterations:  972\n",
      "heatmap len:  10\n",
      "Number of boxes found:  4\n",
      "Number of boxes found:  6\n",
      "Number of boxes found:  8\n"
     ]
    },
    {
     "name": "stderr",
     "output_type": "stream",
     "text": [
      "\r",
      " 77%|███████▋  | 965/1261 [44:20<13:53,  2.81s/it]"
     ]
    },
    {
     "name": "stdout",
     "output_type": "stream",
     "text": [
      "Number of boxes found:  5\n",
      "iterations:  973\n",
      "heatmap len:  10\n",
      "Number of boxes found:  5\n",
      "Number of boxes found:  9\n",
      "Number of boxes found:  9\n"
     ]
    },
    {
     "name": "stderr",
     "output_type": "stream",
     "text": [
      "\r",
      " 77%|███████▋  | 966/1261 [44:23<13:52,  2.82s/it]"
     ]
    },
    {
     "name": "stdout",
     "output_type": "stream",
     "text": [
      "Number of boxes found:  3\n",
      "iterations:  974\n",
      "heatmap len:  10\n",
      "Number of boxes found:  5\n",
      "Number of boxes found:  8\n",
      "Number of boxes found:  9\n"
     ]
    },
    {
     "name": "stderr",
     "output_type": "stream",
     "text": [
      "\r",
      " 77%|███████▋  | 967/1261 [44:26<14:28,  2.96s/it]"
     ]
    },
    {
     "name": "stdout",
     "output_type": "stream",
     "text": [
      "Number of boxes found:  2\n",
      "iterations:  975\n",
      "heatmap len:  10\n",
      "Number of boxes found:  4\n",
      "Number of boxes found:  5\n",
      "Number of boxes found:  7\n"
     ]
    },
    {
     "name": "stderr",
     "output_type": "stream",
     "text": [
      "\r",
      " 77%|███████▋  | 968/1261 [44:29<14:29,  2.97s/it]"
     ]
    },
    {
     "name": "stdout",
     "output_type": "stream",
     "text": [
      "Number of boxes found:  2\n",
      "iterations:  976\n",
      "heatmap len:  10\n",
      "Number of boxes found:  4\n",
      "Number of boxes found:  3\n",
      "Number of boxes found:  7\n"
     ]
    },
    {
     "name": "stderr",
     "output_type": "stream",
     "text": [
      "\r",
      " 77%|███████▋  | 969/1261 [44:31<14:05,  2.89s/it]"
     ]
    },
    {
     "name": "stdout",
     "output_type": "stream",
     "text": [
      "Number of boxes found:  2\n",
      "iterations:  977\n",
      "heatmap len:  10\n",
      "Number of boxes found:  3\n",
      "Number of boxes found:  4\n",
      "Number of boxes found:  7\n"
     ]
    },
    {
     "name": "stderr",
     "output_type": "stream",
     "text": [
      "\r",
      " 77%|███████▋  | 970/1261 [44:34<14:02,  2.89s/it]"
     ]
    },
    {
     "name": "stdout",
     "output_type": "stream",
     "text": [
      "Number of boxes found:  3\n",
      "iterations:  978\n",
      "heatmap len:  10\n",
      "Number of boxes found:  3\n",
      "Number of boxes found:  7\n",
      "Number of boxes found:  8\n"
     ]
    },
    {
     "name": "stderr",
     "output_type": "stream",
     "text": [
      "\r",
      " 77%|███████▋  | 971/1261 [44:37<13:53,  2.88s/it]"
     ]
    },
    {
     "name": "stdout",
     "output_type": "stream",
     "text": [
      "Number of boxes found:  5\n",
      "iterations:  979\n",
      "heatmap len:  10\n",
      "Number of boxes found:  5\n",
      "Number of boxes found:  5\n",
      "Number of boxes found:  10\n"
     ]
    },
    {
     "name": "stderr",
     "output_type": "stream",
     "text": [
      "\r",
      " 77%|███████▋  | 972/1261 [44:40<13:36,  2.82s/it]"
     ]
    },
    {
     "name": "stdout",
     "output_type": "stream",
     "text": [
      "Number of boxes found:  5\n",
      "iterations:  980\n",
      "heatmap len:  10\n",
      "Number of boxes found:  5\n",
      "Number of boxes found:  6\n",
      "Number of boxes found:  8\n"
     ]
    },
    {
     "name": "stderr",
     "output_type": "stream",
     "text": [
      "\r",
      " 77%|███████▋  | 973/1261 [44:43<13:23,  2.79s/it]"
     ]
    },
    {
     "name": "stdout",
     "output_type": "stream",
     "text": [
      "Number of boxes found:  4\n",
      "iterations:  981\n",
      "heatmap len:  10\n",
      "Number of boxes found:  9\n",
      "Number of boxes found:  10\n",
      "Number of boxes found:  7\n"
     ]
    },
    {
     "name": "stderr",
     "output_type": "stream",
     "text": [
      "\r",
      " 77%|███████▋  | 974/1261 [44:45<13:26,  2.81s/it]"
     ]
    },
    {
     "name": "stdout",
     "output_type": "stream",
     "text": [
      "Number of boxes found:  4\n",
      "iterations:  982\n",
      "heatmap len:  10\n",
      "Number of boxes found:  3\n",
      "Number of boxes found:  7\n",
      "Number of boxes found:  7\n"
     ]
    },
    {
     "name": "stderr",
     "output_type": "stream",
     "text": [
      "\r",
      " 77%|███████▋  | 975/1261 [44:48<13:19,  2.79s/it]"
     ]
    },
    {
     "name": "stdout",
     "output_type": "stream",
     "text": [
      "Number of boxes found:  5\n",
      "iterations:  983\n",
      "heatmap len:  10\n",
      "Number of boxes found:  3\n",
      "Number of boxes found:  6\n",
      "Number of boxes found:  10\n"
     ]
    },
    {
     "name": "stderr",
     "output_type": "stream",
     "text": [
      "\r",
      " 77%|███████▋  | 976/1261 [44:51<13:13,  2.78s/it]"
     ]
    },
    {
     "name": "stdout",
     "output_type": "stream",
     "text": [
      "Number of boxes found:  5\n",
      "iterations:  984\n",
      "heatmap len:  10\n",
      "Number of boxes found:  1\n",
      "Number of boxes found:  6\n",
      "Number of boxes found:  7\n"
     ]
    },
    {
     "name": "stderr",
     "output_type": "stream",
     "text": [
      "\r",
      " 77%|███████▋  | 977/1261 [44:54<13:01,  2.75s/it]"
     ]
    },
    {
     "name": "stdout",
     "output_type": "stream",
     "text": [
      "Number of boxes found:  5\n",
      "iterations:  985\n",
      "heatmap len:  10\n",
      "Number of boxes found:  5\n",
      "Number of boxes found:  9\n",
      "Number of boxes found:  6\n"
     ]
    },
    {
     "name": "stderr",
     "output_type": "stream",
     "text": [
      "\r",
      " 78%|███████▊  | 978/1261 [44:56<13:01,  2.76s/it]"
     ]
    },
    {
     "name": "stdout",
     "output_type": "stream",
     "text": [
      "Number of boxes found:  3\n",
      "iterations:  986\n",
      "heatmap len:  10\n",
      "Number of boxes found:  8\n",
      "Number of boxes found:  8\n",
      "Number of boxes found:  7\n"
     ]
    },
    {
     "name": "stderr",
     "output_type": "stream",
     "text": [
      "\r",
      " 78%|███████▊  | 979/1261 [44:59<12:57,  2.76s/it]"
     ]
    },
    {
     "name": "stdout",
     "output_type": "stream",
     "text": [
      "Number of boxes found:  4\n",
      "iterations:  987\n",
      "heatmap len:  10\n",
      "Number of boxes found:  8\n",
      "Number of boxes found:  9\n",
      "Number of boxes found:  7\n"
     ]
    },
    {
     "name": "stderr",
     "output_type": "stream",
     "text": [
      "\r",
      " 78%|███████▊  | 980/1261 [45:02<12:55,  2.76s/it]"
     ]
    },
    {
     "name": "stdout",
     "output_type": "stream",
     "text": [
      "Number of boxes found:  3\n",
      "iterations:  988\n",
      "heatmap len:  10\n",
      "Number of boxes found:  7\n",
      "Number of boxes found:  7\n",
      "Number of boxes found:  6\n"
     ]
    },
    {
     "name": "stderr",
     "output_type": "stream",
     "text": [
      "\r",
      " 78%|███████▊  | 981/1261 [45:05<12:46,  2.74s/it]"
     ]
    },
    {
     "name": "stdout",
     "output_type": "stream",
     "text": [
      "Number of boxes found:  4\n",
      "iterations:  989\n",
      "heatmap len:  10\n",
      "Number of boxes found:  5\n",
      "Number of boxes found:  9\n",
      "Number of boxes found:  6\n"
     ]
    },
    {
     "name": "stderr",
     "output_type": "stream",
     "text": [
      "\r",
      " 78%|███████▊  | 982/1261 [45:08<12:53,  2.77s/it]"
     ]
    },
    {
     "name": "stdout",
     "output_type": "stream",
     "text": [
      "Number of boxes found:  5\n",
      "iterations:  990\n",
      "heatmap len:  10\n",
      "Number of boxes found:  6\n",
      "Number of boxes found:  9\n",
      "Number of boxes found:  7\n"
     ]
    },
    {
     "name": "stderr",
     "output_type": "stream",
     "text": [
      "\r",
      " 78%|███████▊  | 983/1261 [45:10<12:56,  2.79s/it]"
     ]
    },
    {
     "name": "stdout",
     "output_type": "stream",
     "text": [
      "Number of boxes found:  4\n",
      "iterations:  991\n",
      "heatmap len:  10\n",
      "Number of boxes found:  5\n",
      "Number of boxes found:  11\n",
      "Number of boxes found:  11\n"
     ]
    },
    {
     "name": "stderr",
     "output_type": "stream",
     "text": [
      "\r",
      " 78%|███████▊  | 984/1261 [45:13<12:58,  2.81s/it]"
     ]
    },
    {
     "name": "stdout",
     "output_type": "stream",
     "text": [
      "Number of boxes found:  4\n",
      "iterations:  992\n",
      "heatmap len:  10\n",
      "Number of boxes found:  5\n",
      "Number of boxes found:  10\n",
      "Number of boxes found:  11\n"
     ]
    },
    {
     "name": "stderr",
     "output_type": "stream",
     "text": [
      "\r",
      " 78%|███████▊  | 985/1261 [45:16<13:02,  2.83s/it]"
     ]
    },
    {
     "name": "stdout",
     "output_type": "stream",
     "text": [
      "Number of boxes found:  3\n",
      "iterations:  993\n",
      "heatmap len:  10\n",
      "Number of boxes found:  9\n",
      "Number of boxes found:  8\n",
      "Number of boxes found:  10\n"
     ]
    },
    {
     "name": "stderr",
     "output_type": "stream",
     "text": [
      "\r",
      " 78%|███████▊  | 986/1261 [45:19<12:46,  2.79s/it]"
     ]
    },
    {
     "name": "stdout",
     "output_type": "stream",
     "text": [
      "Number of boxes found:  4\n",
      "iterations:  994\n",
      "heatmap len:  10\n",
      "Number of boxes found:  8\n",
      "Number of boxes found:  10\n",
      "Number of boxes found:  10\n"
     ]
    },
    {
     "name": "stderr",
     "output_type": "stream",
     "text": [
      "\r",
      " 78%|███████▊  | 987/1261 [45:22<12:38,  2.77s/it]"
     ]
    },
    {
     "name": "stdout",
     "output_type": "stream",
     "text": [
      "Number of boxes found:  3\n",
      "iterations:  995\n",
      "heatmap len:  10\n",
      "Number of boxes found:  9\n",
      "Number of boxes found:  12\n",
      "Number of boxes found:  10\n"
     ]
    },
    {
     "name": "stderr",
     "output_type": "stream",
     "text": [
      "\r",
      " 78%|███████▊  | 988/1261 [45:24<12:41,  2.79s/it]"
     ]
    },
    {
     "name": "stdout",
     "output_type": "stream",
     "text": [
      "Number of boxes found:  5\n",
      "iterations:  996\n",
      "heatmap len:  10\n",
      "Number of boxes found:  11\n",
      "Number of boxes found:  9\n",
      "Number of boxes found:  9\n"
     ]
    },
    {
     "name": "stderr",
     "output_type": "stream",
     "text": [
      "\r",
      " 78%|███████▊  | 989/1261 [45:27<12:44,  2.81s/it]"
     ]
    },
    {
     "name": "stdout",
     "output_type": "stream",
     "text": [
      "Number of boxes found:  3\n",
      "iterations:  997\n",
      "heatmap len:  10\n",
      "Number of boxes found:  8\n",
      "Number of boxes found:  7\n",
      "Number of boxes found:  9\n"
     ]
    },
    {
     "name": "stderr",
     "output_type": "stream",
     "text": [
      "\r",
      " 79%|███████▊  | 990/1261 [45:30<12:35,  2.79s/it]"
     ]
    },
    {
     "name": "stdout",
     "output_type": "stream",
     "text": [
      "Number of boxes found:  4\n",
      "iterations:  998\n",
      "heatmap len:  10\n",
      "Number of boxes found:  6\n",
      "Number of boxes found:  4\n",
      "Number of boxes found:  6\n"
     ]
    },
    {
     "name": "stderr",
     "output_type": "stream",
     "text": [
      "\r",
      " 79%|███████▊  | 991/1261 [45:33<12:38,  2.81s/it]"
     ]
    },
    {
     "name": "stdout",
     "output_type": "stream",
     "text": [
      "Number of boxes found:  3\n",
      "iterations:  999\n",
      "heatmap len:  10\n",
      "Number of boxes found:  8\n",
      "Number of boxes found:  6\n",
      "Number of boxes found:  6\n"
     ]
    },
    {
     "name": "stderr",
     "output_type": "stream",
     "text": [
      "\r",
      " 79%|███████▊  | 992/1261 [45:36<12:28,  2.78s/it]"
     ]
    },
    {
     "name": "stdout",
     "output_type": "stream",
     "text": [
      "Number of boxes found:  3\n",
      "iterations:  1000\n",
      "heatmap len:  10\n",
      "Number of boxes found:  10\n",
      "Number of boxes found:  6\n",
      "Number of boxes found:  7\n"
     ]
    },
    {
     "name": "stderr",
     "output_type": "stream",
     "text": [
      "\r",
      " 79%|███████▊  | 993/1261 [45:38<12:20,  2.76s/it]"
     ]
    },
    {
     "name": "stdout",
     "output_type": "stream",
     "text": [
      "Number of boxes found:  3\n",
      "iterations:  1001\n",
      "heatmap len:  10\n",
      "Number of boxes found:  11\n",
      "Number of boxes found:  7\n",
      "Number of boxes found:  6\n"
     ]
    },
    {
     "name": "stderr",
     "output_type": "stream",
     "text": [
      "\r",
      " 79%|███████▉  | 994/1261 [45:41<12:31,  2.81s/it]"
     ]
    },
    {
     "name": "stdout",
     "output_type": "stream",
     "text": [
      "Number of boxes found:  4\n",
      "iterations:  1002\n",
      "heatmap len:  10\n",
      "Number of boxes found:  8\n",
      "Number of boxes found:  8\n",
      "Number of boxes found:  5\n"
     ]
    },
    {
     "name": "stderr",
     "output_type": "stream",
     "text": [
      "\r",
      " 79%|███████▉  | 995/1261 [45:44<12:38,  2.85s/it]"
     ]
    },
    {
     "name": "stdout",
     "output_type": "stream",
     "text": [
      "Number of boxes found:  4\n",
      "iterations:  1003\n",
      "heatmap len:  10\n",
      "Number of boxes found:  7\n",
      "Number of boxes found:  8\n",
      "Number of boxes found:  7\n"
     ]
    },
    {
     "name": "stderr",
     "output_type": "stream",
     "text": [
      "\r",
      " 79%|███████▉  | 996/1261 [45:47<12:24,  2.81s/it]"
     ]
    },
    {
     "name": "stdout",
     "output_type": "stream",
     "text": [
      "Number of boxes found:  4\n",
      "iterations:  1004\n",
      "heatmap len:  10\n",
      "Number of boxes found:  5\n",
      "Number of boxes found:  9\n",
      "Number of boxes found:  7\n"
     ]
    },
    {
     "name": "stderr",
     "output_type": "stream",
     "text": [
      "\r",
      " 79%|███████▉  | 997/1261 [45:50<12:34,  2.86s/it]"
     ]
    },
    {
     "name": "stdout",
     "output_type": "stream",
     "text": [
      "Number of boxes found:  4\n",
      "iterations:  1005\n",
      "heatmap len:  10\n",
      "Number of boxes found:  7\n",
      "Number of boxes found:  10\n",
      "Number of boxes found:  6\n"
     ]
    },
    {
     "name": "stderr",
     "output_type": "stream",
     "text": [
      "\r",
      " 79%|███████▉  | 998/1261 [45:53<12:31,  2.86s/it]"
     ]
    },
    {
     "name": "stdout",
     "output_type": "stream",
     "text": [
      "Number of boxes found:  2\n",
      "iterations:  1006\n",
      "heatmap len:  10\n",
      "Number of boxes found:  7\n",
      "Number of boxes found:  10\n",
      "Number of boxes found:  5\n"
     ]
    },
    {
     "name": "stderr",
     "output_type": "stream",
     "text": [
      "\r",
      " 79%|███████▉  | 999/1261 [45:55<12:16,  2.81s/it]"
     ]
    },
    {
     "name": "stdout",
     "output_type": "stream",
     "text": [
      "Number of boxes found:  2\n",
      "iterations:  1007\n",
      "heatmap len:  10\n",
      "Number of boxes found:  9\n",
      "Number of boxes found:  7\n",
      "Number of boxes found:  8\n"
     ]
    },
    {
     "name": "stderr",
     "output_type": "stream",
     "text": [
      "\r",
      " 79%|███████▉  | 1000/1261 [45:58<12:05,  2.78s/it]"
     ]
    },
    {
     "name": "stdout",
     "output_type": "stream",
     "text": [
      "Number of boxes found:  3\n",
      "iterations:  1008\n",
      "heatmap len:  10\n",
      "Number of boxes found:  4\n",
      "Number of boxes found:  7\n",
      "Number of boxes found:  7\n"
     ]
    },
    {
     "name": "stderr",
     "output_type": "stream",
     "text": [
      "\r",
      " 79%|███████▉  | 1001/1261 [46:01<11:55,  2.75s/it]"
     ]
    },
    {
     "name": "stdout",
     "output_type": "stream",
     "text": [
      "Number of boxes found:  2\n",
      "iterations:  1009\n",
      "heatmap len:  10\n",
      "Number of boxes found:  2\n",
      "Number of boxes found:  7\n",
      "Number of boxes found:  6\n"
     ]
    },
    {
     "name": "stderr",
     "output_type": "stream",
     "text": [
      "\r",
      " 79%|███████▉  | 1002/1261 [46:04<11:55,  2.76s/it]"
     ]
    },
    {
     "name": "stdout",
     "output_type": "stream",
     "text": [
      "Number of boxes found:  2\n",
      "iterations:  1010\n",
      "heatmap len:  10\n",
      "Number of boxes found:  5\n",
      "Number of boxes found:  8\n",
      "Number of boxes found:  6\n"
     ]
    },
    {
     "name": "stderr",
     "output_type": "stream",
     "text": [
      "\r",
      " 80%|███████▉  | 1003/1261 [46:06<11:56,  2.78s/it]"
     ]
    },
    {
     "name": "stdout",
     "output_type": "stream",
     "text": [
      "Number of boxes found:  2\n",
      "iterations:  1011\n",
      "heatmap len:  10\n",
      "Number of boxes found:  6\n",
      "Number of boxes found:  5\n",
      "Number of boxes found:  9\n"
     ]
    },
    {
     "name": "stderr",
     "output_type": "stream",
     "text": [
      "\r",
      " 80%|███████▉  | 1004/1261 [46:09<11:53,  2.77s/it]"
     ]
    },
    {
     "name": "stdout",
     "output_type": "stream",
     "text": [
      "Number of boxes found:  2\n",
      "iterations:  1012\n",
      "heatmap len:  10\n",
      "Number of boxes found:  6\n",
      "Number of boxes found:  5\n",
      "Number of boxes found:  10\n"
     ]
    },
    {
     "name": "stderr",
     "output_type": "stream",
     "text": [
      "\r",
      " 80%|███████▉  | 1005/1261 [46:12<11:54,  2.79s/it]"
     ]
    },
    {
     "name": "stdout",
     "output_type": "stream",
     "text": [
      "Number of boxes found:  1\n",
      "iterations:  1013\n",
      "heatmap len:  10\n",
      "Number of boxes found:  4\n",
      "Number of boxes found:  9\n",
      "Number of boxes found:  11\n"
     ]
    },
    {
     "name": "stderr",
     "output_type": "stream",
     "text": [
      "\r",
      " 80%|███████▉  | 1006/1261 [46:15<11:55,  2.81s/it]"
     ]
    },
    {
     "name": "stdout",
     "output_type": "stream",
     "text": [
      "Number of boxes found:  2\n",
      "iterations:  1014\n",
      "heatmap len:  10\n",
      "Number of boxes found:  2\n",
      "Number of boxes found:  9\n",
      "Number of boxes found:  11\n"
     ]
    },
    {
     "name": "stderr",
     "output_type": "stream",
     "text": [
      "\r",
      " 80%|███████▉  | 1007/1261 [46:18<11:51,  2.80s/it]"
     ]
    },
    {
     "name": "stdout",
     "output_type": "stream",
     "text": [
      "Number of boxes found:  2\n",
      "iterations:  1015\n",
      "heatmap len:  10\n",
      "Number of boxes found:  6\n",
      "Number of boxes found:  8\n",
      "Number of boxes found:  8\n"
     ]
    },
    {
     "name": "stderr",
     "output_type": "stream",
     "text": [
      "\r",
      " 80%|███████▉  | 1008/1261 [46:20<11:53,  2.82s/it]"
     ]
    },
    {
     "name": "stdout",
     "output_type": "stream",
     "text": [
      "Number of boxes found:  2\n",
      "iterations:  1016\n",
      "heatmap len:  10\n",
      "Number of boxes found:  4\n",
      "Number of boxes found:  5\n",
      "Number of boxes found:  7\n"
     ]
    },
    {
     "name": "stderr",
     "output_type": "stream",
     "text": [
      "\r",
      " 80%|████████  | 1009/1261 [46:24<12:11,  2.90s/it]"
     ]
    },
    {
     "name": "stdout",
     "output_type": "stream",
     "text": [
      "Number of boxes found:  2\n",
      "iterations:  1017\n",
      "heatmap len:  10\n",
      "Number of boxes found:  7\n",
      "Number of boxes found:  7\n",
      "Number of boxes found:  6\n"
     ]
    },
    {
     "name": "stderr",
     "output_type": "stream",
     "text": [
      "\r",
      " 80%|████████  | 1010/1261 [46:27<12:45,  3.05s/it]"
     ]
    },
    {
     "name": "stdout",
     "output_type": "stream",
     "text": [
      "Number of boxes found:  2\n",
      "iterations:  1018\n",
      "heatmap len:  10\n",
      "Number of boxes found:  8\n",
      "Number of boxes found:  5\n",
      "Number of boxes found:  6\n"
     ]
    },
    {
     "name": "stderr",
     "output_type": "stream",
     "text": [
      "\r",
      " 80%|████████  | 1011/1261 [46:30<12:14,  2.94s/it]"
     ]
    },
    {
     "name": "stdout",
     "output_type": "stream",
     "text": [
      "Number of boxes found:  3\n",
      "iterations:  1019\n",
      "heatmap len:  10\n",
      "Number of boxes found:  4\n",
      "Number of boxes found:  8\n",
      "Number of boxes found:  7\n"
     ]
    },
    {
     "name": "stderr",
     "output_type": "stream",
     "text": [
      "\r",
      " 80%|████████  | 1012/1261 [46:32<12:02,  2.90s/it]"
     ]
    },
    {
     "name": "stdout",
     "output_type": "stream",
     "text": [
      "Number of boxes found:  3\n",
      "iterations:  1020\n",
      "heatmap len:  10\n",
      "Number of boxes found:  3\n",
      "Number of boxes found:  7\n",
      "Number of boxes found:  7\n"
     ]
    },
    {
     "name": "stderr",
     "output_type": "stream",
     "text": [
      "\r",
      " 80%|████████  | 1013/1261 [46:35<11:50,  2.86s/it]"
     ]
    },
    {
     "name": "stdout",
     "output_type": "stream",
     "text": [
      "Number of boxes found:  3\n",
      "iterations:  1021\n",
      "heatmap len:  10\n",
      "Number of boxes found:  3\n",
      "Number of boxes found:  9\n",
      "Number of boxes found:  8\n"
     ]
    },
    {
     "name": "stderr",
     "output_type": "stream",
     "text": [
      "\r",
      " 80%|████████  | 1014/1261 [46:38<12:16,  2.98s/it]"
     ]
    },
    {
     "name": "stdout",
     "output_type": "stream",
     "text": [
      "Number of boxes found:  2\n",
      "iterations:  1022\n",
      "heatmap len:  10\n",
      "Number of boxes found:  8\n",
      "Number of boxes found:  8\n",
      "Number of boxes found:  4\n"
     ]
    },
    {
     "name": "stderr",
     "output_type": "stream",
     "text": [
      "\r",
      " 80%|████████  | 1015/1261 [46:41<12:12,  2.98s/it]"
     ]
    },
    {
     "name": "stdout",
     "output_type": "stream",
     "text": [
      "Number of boxes found:  2\n",
      "iterations:  1023\n",
      "heatmap len:  10\n",
      "Number of boxes found:  8\n",
      "Number of boxes found:  10\n",
      "Number of boxes found:  6\n"
     ]
    },
    {
     "name": "stderr",
     "output_type": "stream",
     "text": [
      "\r",
      " 81%|████████  | 1016/1261 [46:44<12:02,  2.95s/it]"
     ]
    },
    {
     "name": "stdout",
     "output_type": "stream",
     "text": [
      "Number of boxes found:  3\n",
      "iterations:  1024\n",
      "heatmap len:  10\n",
      "Number of boxes found:  9\n",
      "Number of boxes found:  9\n",
      "Number of boxes found:  5\n"
     ]
    },
    {
     "name": "stderr",
     "output_type": "stream",
     "text": [
      "\r",
      " 81%|████████  | 1017/1261 [46:47<11:51,  2.92s/it]"
     ]
    },
    {
     "name": "stdout",
     "output_type": "stream",
     "text": [
      "Number of boxes found:  3\n",
      "iterations:  1025\n",
      "heatmap len:  10\n",
      "Number of boxes found:  4\n",
      "Number of boxes found:  9\n",
      "Number of boxes found:  5\n"
     ]
    },
    {
     "name": "stderr",
     "output_type": "stream",
     "text": [
      "\r",
      " 81%|████████  | 1018/1261 [46:50<12:01,  2.97s/it]"
     ]
    },
    {
     "name": "stdout",
     "output_type": "stream",
     "text": [
      "Number of boxes found:  3\n",
      "iterations:  1026\n",
      "heatmap len:  10\n",
      "Number of boxes found:  6\n",
      "Number of boxes found:  7\n",
      "Number of boxes found:  5\n"
     ]
    },
    {
     "name": "stderr",
     "output_type": "stream",
     "text": [
      "\r",
      " 81%|████████  | 1019/1261 [46:53<11:51,  2.94s/it]"
     ]
    },
    {
     "name": "stdout",
     "output_type": "stream",
     "text": [
      "Number of boxes found:  3\n",
      "iterations:  1027\n",
      "heatmap len:  10\n",
      "Number of boxes found:  10\n",
      "Number of boxes found:  8\n",
      "Number of boxes found:  6\n"
     ]
    },
    {
     "name": "stderr",
     "output_type": "stream",
     "text": [
      "\r",
      " 81%|████████  | 1020/1261 [46:56<11:39,  2.90s/it]"
     ]
    },
    {
     "name": "stdout",
     "output_type": "stream",
     "text": [
      "Number of boxes found:  3\n",
      "iterations:  1028\n",
      "heatmap len:  10\n",
      "Number of boxes found:  6\n",
      "Number of boxes found:  7\n",
      "Number of boxes found:  3\n"
     ]
    },
    {
     "name": "stderr",
     "output_type": "stream",
     "text": [
      "\r",
      " 81%|████████  | 1021/1261 [46:59<11:32,  2.89s/it]"
     ]
    },
    {
     "name": "stdout",
     "output_type": "stream",
     "text": [
      "Number of boxes found:  2\n",
      "iterations:  1029\n",
      "heatmap len:  10\n",
      "Number of boxes found:  5\n",
      "Number of boxes found:  7\n",
      "Number of boxes found:  4\n"
     ]
    },
    {
     "name": "stderr",
     "output_type": "stream",
     "text": [
      "\r",
      " 81%|████████  | 1022/1261 [47:02<11:34,  2.91s/it]"
     ]
    },
    {
     "name": "stdout",
     "output_type": "stream",
     "text": [
      "Number of boxes found:  2\n",
      "iterations:  1030\n",
      "heatmap len:  10\n",
      "Number of boxes found:  7\n",
      "Number of boxes found:  9\n",
      "Number of boxes found:  5\n"
     ]
    },
    {
     "name": "stderr",
     "output_type": "stream",
     "text": [
      "\r",
      " 81%|████████  | 1023/1261 [47:05<11:30,  2.90s/it]"
     ]
    },
    {
     "name": "stdout",
     "output_type": "stream",
     "text": [
      "Number of boxes found:  2\n",
      "iterations:  1031\n",
      "heatmap len:  10\n",
      "Number of boxes found:  11\n",
      "Number of boxes found:  8\n",
      "Number of boxes found:  5\n"
     ]
    },
    {
     "name": "stderr",
     "output_type": "stream",
     "text": [
      "\r",
      " 81%|████████  | 1024/1261 [47:07<11:24,  2.89s/it]"
     ]
    },
    {
     "name": "stdout",
     "output_type": "stream",
     "text": [
      "Number of boxes found:  2\n",
      "iterations:  1032\n",
      "heatmap len:  10\n",
      "Number of boxes found:  9\n",
      "Number of boxes found:  7\n",
      "Number of boxes found:  3\n"
     ]
    },
    {
     "name": "stderr",
     "output_type": "stream",
     "text": [
      "\r",
      " 81%|████████▏ | 1025/1261 [47:10<11:23,  2.90s/it]"
     ]
    },
    {
     "name": "stdout",
     "output_type": "stream",
     "text": [
      "Number of boxes found:  1\n",
      "iterations:  1033\n",
      "heatmap len:  10\n",
      "Number of boxes found:  11\n",
      "Number of boxes found:  6\n",
      "Number of boxes found:  2\n"
     ]
    },
    {
     "name": "stderr",
     "output_type": "stream",
     "text": [
      "\r",
      " 81%|████████▏ | 1026/1261 [47:13<11:18,  2.89s/it]"
     ]
    },
    {
     "name": "stdout",
     "output_type": "stream",
     "text": [
      "Number of boxes found:  2\n",
      "iterations:  1034\n",
      "heatmap len:  10\n",
      "Number of boxes found:  12\n",
      "Number of boxes found:  8\n",
      "Number of boxes found:  5\n"
     ]
    },
    {
     "name": "stderr",
     "output_type": "stream",
     "text": [
      "\r",
      " 81%|████████▏ | 1027/1261 [47:16<11:04,  2.84s/it]"
     ]
    },
    {
     "name": "stdout",
     "output_type": "stream",
     "text": [
      "Number of boxes found:  2\n",
      "iterations:  1035\n",
      "heatmap len:  10\n",
      "Number of boxes found:  10\n",
      "Number of boxes found:  12\n",
      "Number of boxes found:  7\n"
     ]
    },
    {
     "name": "stderr",
     "output_type": "stream",
     "text": [
      "\r",
      " 82%|████████▏ | 1028/1261 [47:19<10:51,  2.79s/it]"
     ]
    },
    {
     "name": "stdout",
     "output_type": "stream",
     "text": [
      "Number of boxes found:  2\n",
      "iterations:  1036\n",
      "heatmap len:  10\n",
      "Number of boxes found:  15\n",
      "Number of boxes found:  8\n",
      "Number of boxes found:  7\n"
     ]
    },
    {
     "name": "stderr",
     "output_type": "stream",
     "text": [
      "\r",
      " 82%|████████▏ | 1029/1261 [47:21<10:42,  2.77s/it]"
     ]
    },
    {
     "name": "stdout",
     "output_type": "stream",
     "text": [
      "Number of boxes found:  1\n",
      "iterations:  1037\n",
      "heatmap len:  10\n",
      "Number of boxes found:  15\n",
      "Number of boxes found:  9\n",
      "Number of boxes found:  5\n"
     ]
    },
    {
     "name": "stderr",
     "output_type": "stream",
     "text": [
      "\r",
      " 82%|████████▏ | 1030/1261 [47:24<10:44,  2.79s/it]"
     ]
    },
    {
     "name": "stdout",
     "output_type": "stream",
     "text": [
      "Number of boxes found:  1\n",
      "iterations:  1038\n",
      "heatmap len:  10\n",
      "Number of boxes found:  9\n",
      "Number of boxes found:  8\n",
      "Number of boxes found:  7\n"
     ]
    },
    {
     "name": "stderr",
     "output_type": "stream",
     "text": [
      "\r",
      " 82%|████████▏ | 1031/1261 [47:27<10:42,  2.79s/it]"
     ]
    },
    {
     "name": "stdout",
     "output_type": "stream",
     "text": [
      "Number of boxes found:  2\n",
      "iterations:  1039\n",
      "heatmap len:  10\n",
      "Number of boxes found:  12\n",
      "Number of boxes found:  7\n",
      "Number of boxes found:  6\n"
     ]
    },
    {
     "name": "stderr",
     "output_type": "stream",
     "text": [
      "\r",
      " 82%|████████▏ | 1032/1261 [47:30<10:48,  2.83s/it]"
     ]
    },
    {
     "name": "stdout",
     "output_type": "stream",
     "text": [
      "Number of boxes found:  3\n",
      "iterations:  1040\n",
      "heatmap len:  10\n",
      "Number of boxes found:  10\n",
      "Number of boxes found:  10\n",
      "Number of boxes found:  5\n"
     ]
    },
    {
     "name": "stderr",
     "output_type": "stream",
     "text": [
      "\r",
      " 82%|████████▏ | 1033/1261 [47:33<10:44,  2.83s/it]"
     ]
    },
    {
     "name": "stdout",
     "output_type": "stream",
     "text": [
      "Number of boxes found:  2\n",
      "iterations:  1041\n",
      "heatmap len:  10\n",
      "Number of boxes found:  12\n",
      "Number of boxes found:  4\n",
      "Number of boxes found:  7\n"
     ]
    },
    {
     "name": "stderr",
     "output_type": "stream",
     "text": [
      "\r",
      " 82%|████████▏ | 1034/1261 [47:36<10:36,  2.80s/it]"
     ]
    },
    {
     "name": "stdout",
     "output_type": "stream",
     "text": [
      "Number of boxes found:  3\n",
      "iterations:  1042\n",
      "heatmap len:  10\n",
      "Number of boxes found:  15\n",
      "Number of boxes found:  9\n",
      "Number of boxes found:  7\n"
     ]
    },
    {
     "name": "stderr",
     "output_type": "stream",
     "text": [
      "\r",
      " 82%|████████▏ | 1035/1261 [47:38<10:34,  2.81s/it]"
     ]
    },
    {
     "name": "stdout",
     "output_type": "stream",
     "text": [
      "Number of boxes found:  3\n",
      "iterations:  1043\n",
      "heatmap len:  10\n",
      "Number of boxes found:  14\n",
      "Number of boxes found:  9\n",
      "Number of boxes found:  7\n"
     ]
    },
    {
     "name": "stderr",
     "output_type": "stream",
     "text": [
      "\r",
      " 82%|████████▏ | 1036/1261 [47:41<10:40,  2.84s/it]"
     ]
    },
    {
     "name": "stdout",
     "output_type": "stream",
     "text": [
      "Number of boxes found:  4\n",
      "iterations:  1044\n",
      "heatmap len:  10\n",
      "Number of boxes found:  11\n",
      "Number of boxes found:  8\n",
      "Number of boxes found:  6\n"
     ]
    },
    {
     "name": "stderr",
     "output_type": "stream",
     "text": [
      "\r",
      " 82%|████████▏ | 1037/1261 [47:44<10:30,  2.82s/it]"
     ]
    },
    {
     "name": "stdout",
     "output_type": "stream",
     "text": [
      "Number of boxes found:  3\n",
      "iterations:  1045\n",
      "heatmap len:  10\n",
      "Number of boxes found:  14\n",
      "Number of boxes found:  9\n",
      "Number of boxes found:  8\n"
     ]
    },
    {
     "name": "stderr",
     "output_type": "stream",
     "text": [
      "\r",
      " 82%|████████▏ | 1038/1261 [47:47<10:20,  2.78s/it]"
     ]
    },
    {
     "name": "stdout",
     "output_type": "stream",
     "text": [
      "Number of boxes found:  4\n",
      "iterations:  1046\n",
      "heatmap len:  10\n",
      "Number of boxes found:  16\n",
      "Number of boxes found:  6\n",
      "Number of boxes found:  7\n"
     ]
    },
    {
     "name": "stderr",
     "output_type": "stream",
     "text": [
      "\r",
      " 82%|████████▏ | 1039/1261 [47:49<10:15,  2.77s/it]"
     ]
    },
    {
     "name": "stdout",
     "output_type": "stream",
     "text": [
      "Number of boxes found:  4\n",
      "iterations:  1047\n",
      "heatmap len:  10\n",
      "Number of boxes found:  12\n",
      "Number of boxes found:  10\n",
      "Number of boxes found:  5\n"
     ]
    },
    {
     "name": "stderr",
     "output_type": "stream",
     "text": [
      "\r",
      " 82%|████████▏ | 1040/1261 [47:52<10:07,  2.75s/it]"
     ]
    },
    {
     "name": "stdout",
     "output_type": "stream",
     "text": [
      "Number of boxes found:  3\n",
      "iterations:  1048\n",
      "heatmap len:  10\n",
      "Number of boxes found:  13\n",
      "Number of boxes found:  12\n",
      "Number of boxes found:  5\n"
     ]
    },
    {
     "name": "stderr",
     "output_type": "stream",
     "text": [
      "\r",
      " 83%|████████▎ | 1041/1261 [47:55<10:00,  2.73s/it]"
     ]
    },
    {
     "name": "stdout",
     "output_type": "stream",
     "text": [
      "Number of boxes found:  3\n",
      "iterations:  1049\n",
      "heatmap len:  10\n",
      "Number of boxes found:  24\n",
      "Number of boxes found:  14\n",
      "Number of boxes found:  7\n"
     ]
    },
    {
     "name": "stderr",
     "output_type": "stream",
     "text": [
      "\r",
      " 83%|████████▎ | 1042/1261 [47:58<10:00,  2.74s/it]"
     ]
    },
    {
     "name": "stdout",
     "output_type": "stream",
     "text": [
      "Number of boxes found:  4\n",
      "iterations:  1050\n",
      "heatmap len:  10\n",
      "Number of boxes found:  20\n",
      "Number of boxes found:  11\n",
      "Number of boxes found:  8\n"
     ]
    },
    {
     "name": "stderr",
     "output_type": "stream",
     "text": [
      "\r",
      " 83%|████████▎ | 1043/1261 [48:00<10:00,  2.76s/it]"
     ]
    },
    {
     "name": "stdout",
     "output_type": "stream",
     "text": [
      "Number of boxes found:  5\n",
      "iterations:  1051\n",
      "heatmap len:  10\n",
      "Number of boxes found:  16\n",
      "Number of boxes found:  17\n",
      "Number of boxes found:  8\n"
     ]
    },
    {
     "name": "stderr",
     "output_type": "stream",
     "text": [
      "\r",
      " 83%|████████▎ | 1044/1261 [48:03<10:07,  2.80s/it]"
     ]
    },
    {
     "name": "stdout",
     "output_type": "stream",
     "text": [
      "Number of boxes found:  4\n",
      "iterations:  1052\n",
      "heatmap len:  10\n",
      "Number of boxes found:  18\n",
      "Number of boxes found:  28\n",
      "Number of boxes found:  10\n"
     ]
    },
    {
     "name": "stderr",
     "output_type": "stream",
     "text": [
      "\r",
      " 83%|████████▎ | 1045/1261 [48:06<10:03,  2.79s/it]"
     ]
    },
    {
     "name": "stdout",
     "output_type": "stream",
     "text": [
      "Number of boxes found:  5\n",
      "iterations:  1053\n",
      "heatmap len:  10\n",
      "Number of boxes found:  21\n",
      "Number of boxes found:  21\n",
      "Number of boxes found:  12\n"
     ]
    },
    {
     "name": "stderr",
     "output_type": "stream",
     "text": [
      "\r",
      " 83%|████████▎ | 1046/1261 [48:09<09:53,  2.76s/it]"
     ]
    },
    {
     "name": "stdout",
     "output_type": "stream",
     "text": [
      "Number of boxes found:  3\n",
      "iterations:  1054\n",
      "heatmap len:  10\n",
      "Number of boxes found:  17\n",
      "Number of boxes found:  18\n",
      "Number of boxes found:  10\n"
     ]
    },
    {
     "name": "stderr",
     "output_type": "stream",
     "text": [
      "\r",
      " 83%|████████▎ | 1047/1261 [48:12<09:50,  2.76s/it]"
     ]
    },
    {
     "name": "stdout",
     "output_type": "stream",
     "text": [
      "Number of boxes found:  6\n",
      "iterations:  1055\n",
      "heatmap len:  10\n",
      "Number of boxes found:  9\n",
      "Number of boxes found:  11\n",
      "Number of boxes found:  7\n"
     ]
    },
    {
     "name": "stderr",
     "output_type": "stream",
     "text": [
      "\r",
      " 83%|████████▎ | 1048/1261 [48:14<09:45,  2.75s/it]"
     ]
    },
    {
     "name": "stdout",
     "output_type": "stream",
     "text": [
      "Number of boxes found:  4\n",
      "iterations:  1056\n",
      "heatmap len:  10\n",
      "Number of boxes found:  17\n",
      "Number of boxes found:  10\n",
      "Number of boxes found:  8\n"
     ]
    },
    {
     "name": "stderr",
     "output_type": "stream",
     "text": [
      "\r",
      " 83%|████████▎ | 1049/1261 [48:17<09:35,  2.71s/it]"
     ]
    },
    {
     "name": "stdout",
     "output_type": "stream",
     "text": [
      "Number of boxes found:  2\n",
      "iterations:  1057\n",
      "heatmap len:  10\n",
      "Number of boxes found:  14\n",
      "Number of boxes found:  13\n",
      "Number of boxes found:  9\n"
     ]
    },
    {
     "name": "stderr",
     "output_type": "stream",
     "text": [
      "\r",
      " 83%|████████▎ | 1050/1261 [48:20<09:27,  2.69s/it]"
     ]
    },
    {
     "name": "stdout",
     "output_type": "stream",
     "text": [
      "Number of boxes found:  3\n",
      "iterations:  1058\n",
      "heatmap len:  10\n",
      "Number of boxes found:  6\n",
      "Number of boxes found:  8\n",
      "Number of boxes found:  5\n"
     ]
    },
    {
     "name": "stderr",
     "output_type": "stream",
     "text": [
      "\r",
      " 83%|████████▎ | 1051/1261 [48:22<09:30,  2.72s/it]"
     ]
    },
    {
     "name": "stdout",
     "output_type": "stream",
     "text": [
      "Number of boxes found:  2\n",
      "iterations:  1059\n",
      "heatmap len:  10\n",
      "Number of boxes found:  6\n",
      "Number of boxes found:  7\n",
      "Number of boxes found:  5\n"
     ]
    },
    {
     "name": "stderr",
     "output_type": "stream",
     "text": [
      "\r",
      " 83%|████████▎ | 1052/1261 [48:26<10:11,  2.93s/it]"
     ]
    },
    {
     "name": "stdout",
     "output_type": "stream",
     "text": [
      "Number of boxes found:  2\n",
      "iterations:  1060\n",
      "heatmap len:  10\n",
      "Number of boxes found:  12\n",
      "Number of boxes found:  10\n",
      "Number of boxes found:  6\n"
     ]
    },
    {
     "name": "stderr",
     "output_type": "stream",
     "text": [
      "\r",
      " 84%|████████▎ | 1053/1261 [48:29<10:01,  2.89s/it]"
     ]
    },
    {
     "name": "stdout",
     "output_type": "stream",
     "text": [
      "Number of boxes found:  2\n",
      "iterations:  1061\n",
      "heatmap len:  10\n",
      "Number of boxes found:  10\n",
      "Number of boxes found:  7\n",
      "Number of boxes found:  6\n"
     ]
    },
    {
     "name": "stderr",
     "output_type": "stream",
     "text": [
      "\r",
      " 84%|████████▎ | 1054/1261 [48:31<09:54,  2.87s/it]"
     ]
    },
    {
     "name": "stdout",
     "output_type": "stream",
     "text": [
      "Number of boxes found:  2\n",
      "iterations:  1062\n",
      "heatmap len:  10\n",
      "Number of boxes found:  10\n",
      "Number of boxes found:  7\n",
      "Number of boxes found:  7\n"
     ]
    },
    {
     "name": "stderr",
     "output_type": "stream",
     "text": [
      "\r",
      " 84%|████████▎ | 1055/1261 [48:34<09:49,  2.86s/it]"
     ]
    },
    {
     "name": "stdout",
     "output_type": "stream",
     "text": [
      "Number of boxes found:  2\n",
      "iterations:  1063\n",
      "heatmap len:  10\n",
      "Number of boxes found:  7\n",
      "Number of boxes found:  4\n",
      "Number of boxes found:  7\n"
     ]
    },
    {
     "name": "stderr",
     "output_type": "stream",
     "text": [
      "\r",
      " 84%|████████▎ | 1056/1261 [48:37<09:46,  2.86s/it]"
     ]
    },
    {
     "name": "stdout",
     "output_type": "stream",
     "text": [
      "Number of boxes found:  2\n",
      "iterations:  1064\n",
      "heatmap len:  10\n",
      "Number of boxes found:  7\n",
      "Number of boxes found:  5\n",
      "Number of boxes found:  7\n"
     ]
    },
    {
     "name": "stderr",
     "output_type": "stream",
     "text": [
      "\r",
      " 84%|████████▍ | 1057/1261 [48:40<09:40,  2.85s/it]"
     ]
    },
    {
     "name": "stdout",
     "output_type": "stream",
     "text": [
      "Number of boxes found:  2\n",
      "iterations:  1065\n",
      "heatmap len:  10\n",
      "Number of boxes found:  9\n",
      "Number of boxes found:  5\n",
      "Number of boxes found:  8\n"
     ]
    },
    {
     "name": "stderr",
     "output_type": "stream",
     "text": [
      "\r",
      " 84%|████████▍ | 1058/1261 [48:43<09:42,  2.87s/it]"
     ]
    },
    {
     "name": "stdout",
     "output_type": "stream",
     "text": [
      "Number of boxes found:  2\n",
      "iterations:  1066\n",
      "heatmap len:  10\n",
      "Number of boxes found:  11\n",
      "Number of boxes found:  5\n",
      "Number of boxes found:  7\n"
     ]
    },
    {
     "name": "stderr",
     "output_type": "stream",
     "text": [
      "\r",
      " 84%|████████▍ | 1059/1261 [48:46<09:33,  2.84s/it]"
     ]
    },
    {
     "name": "stdout",
     "output_type": "stream",
     "text": [
      "Number of boxes found:  3\n",
      "iterations:  1067\n",
      "heatmap len:  10\n",
      "Number of boxes found:  11\n",
      "Number of boxes found:  5\n",
      "Number of boxes found:  8\n"
     ]
    },
    {
     "name": "stderr",
     "output_type": "stream",
     "text": [
      "\r",
      " 84%|████████▍ | 1060/1261 [48:49<09:39,  2.88s/it]"
     ]
    },
    {
     "name": "stdout",
     "output_type": "stream",
     "text": [
      "Number of boxes found:  4\n",
      "iterations:  1068\n",
      "heatmap len:  10\n",
      "Number of boxes found:  9\n",
      "Number of boxes found:  6\n",
      "Number of boxes found:  8\n"
     ]
    },
    {
     "name": "stderr",
     "output_type": "stream",
     "text": [
      "\r",
      " 84%|████████▍ | 1061/1261 [48:51<09:41,  2.91s/it]"
     ]
    },
    {
     "name": "stdout",
     "output_type": "stream",
     "text": [
      "Number of boxes found:  4\n",
      "iterations:  1069\n",
      "heatmap len:  10\n",
      "Number of boxes found:  9\n",
      "Number of boxes found:  7\n",
      "Number of boxes found:  9\n"
     ]
    },
    {
     "name": "stderr",
     "output_type": "stream",
     "text": [
      "\r",
      " 84%|████████▍ | 1062/1261 [48:54<09:33,  2.88s/it]"
     ]
    },
    {
     "name": "stdout",
     "output_type": "stream",
     "text": [
      "Number of boxes found:  4\n",
      "iterations:  1070\n",
      "heatmap len:  10\n",
      "Number of boxes found:  9\n",
      "Number of boxes found:  5\n",
      "Number of boxes found:  7\n"
     ]
    },
    {
     "name": "stderr",
     "output_type": "stream",
     "text": [
      "\r",
      " 84%|████████▍ | 1063/1261 [48:57<09:21,  2.83s/it]"
     ]
    },
    {
     "name": "stdout",
     "output_type": "stream",
     "text": [
      "Number of boxes found:  2\n",
      "iterations:  1071\n",
      "heatmap len:  10\n",
      "Number of boxes found:  11\n",
      "Number of boxes found:  6\n",
      "Number of boxes found:  5\n"
     ]
    },
    {
     "name": "stderr",
     "output_type": "stream",
     "text": [
      "\r",
      " 84%|████████▍ | 1064/1261 [49:00<09:14,  2.81s/it]"
     ]
    },
    {
     "name": "stdout",
     "output_type": "stream",
     "text": [
      "Number of boxes found:  2\n",
      "iterations:  1072\n",
      "heatmap len:  10\n",
      "Number of boxes found:  8\n",
      "Number of boxes found:  10\n",
      "Number of boxes found:  4\n"
     ]
    },
    {
     "name": "stderr",
     "output_type": "stream",
     "text": [
      "\r",
      " 84%|████████▍ | 1065/1261 [49:03<09:07,  2.79s/it]"
     ]
    },
    {
     "name": "stdout",
     "output_type": "stream",
     "text": [
      "Number of boxes found:  2\n",
      "iterations:  1073\n",
      "heatmap len:  10\n",
      "Number of boxes found:  15\n",
      "Number of boxes found:  9\n",
      "Number of boxes found:  5\n"
     ]
    },
    {
     "name": "stderr",
     "output_type": "stream",
     "text": [
      "\r",
      " 85%|████████▍ | 1066/1261 [49:06<09:21,  2.88s/it]"
     ]
    },
    {
     "name": "stdout",
     "output_type": "stream",
     "text": [
      "Number of boxes found:  1\n",
      "iterations:  1074\n",
      "heatmap len:  10\n",
      "Number of boxes found:  10\n",
      "Number of boxes found:  10\n",
      "Number of boxes found:  5\n"
     ]
    },
    {
     "name": "stderr",
     "output_type": "stream",
     "text": [
      "\r",
      " 85%|████████▍ | 1067/1261 [49:08<09:13,  2.85s/it]"
     ]
    },
    {
     "name": "stdout",
     "output_type": "stream",
     "text": [
      "Number of boxes found:  1\n",
      "iterations:  1075\n",
      "heatmap len:  10\n",
      "Number of boxes found:  10\n",
      "Number of boxes found:  10\n",
      "Number of boxes found:  5\n"
     ]
    },
    {
     "name": "stderr",
     "output_type": "stream",
     "text": [
      "\r",
      " 85%|████████▍ | 1068/1261 [49:11<09:03,  2.81s/it]"
     ]
    },
    {
     "name": "stdout",
     "output_type": "stream",
     "text": [
      "Number of boxes found:  1\n",
      "iterations:  1076\n",
      "heatmap len:  10\n",
      "Number of boxes found:  15\n",
      "Number of boxes found:  12\n",
      "Number of boxes found:  8\n"
     ]
    },
    {
     "name": "stderr",
     "output_type": "stream",
     "text": [
      "\r",
      " 85%|████████▍ | 1069/1261 [49:14<08:54,  2.78s/it]"
     ]
    },
    {
     "name": "stdout",
     "output_type": "stream",
     "text": [
      "Number of boxes found:  3\n",
      "iterations:  1077\n",
      "heatmap len:  10\n",
      "Number of boxes found:  14\n",
      "Number of boxes found:  12\n",
      "Number of boxes found:  6\n"
     ]
    },
    {
     "name": "stderr",
     "output_type": "stream",
     "text": [
      "\r",
      " 85%|████████▍ | 1070/1261 [49:17<08:48,  2.77s/it]"
     ]
    },
    {
     "name": "stdout",
     "output_type": "stream",
     "text": [
      "Number of boxes found:  2\n",
      "iterations:  1078\n",
      "heatmap len:  10\n",
      "Number of boxes found:  16\n",
      "Number of boxes found:  10\n",
      "Number of boxes found:  5\n"
     ]
    },
    {
     "name": "stderr",
     "output_type": "stream",
     "text": [
      "\r",
      " 85%|████████▍ | 1071/1261 [49:19<08:45,  2.76s/it]"
     ]
    },
    {
     "name": "stdout",
     "output_type": "stream",
     "text": [
      "Number of boxes found:  1\n",
      "iterations:  1079\n",
      "heatmap len:  10\n",
      "Number of boxes found:  16\n",
      "Number of boxes found:  11\n",
      "Number of boxes found:  6\n"
     ]
    },
    {
     "name": "stderr",
     "output_type": "stream",
     "text": [
      "\r",
      " 85%|████████▌ | 1072/1261 [49:22<08:38,  2.74s/it]"
     ]
    },
    {
     "name": "stdout",
     "output_type": "stream",
     "text": [
      "Number of boxes found:  1\n",
      "iterations:  1080\n",
      "heatmap len:  10\n",
      "Number of boxes found:  17\n",
      "Number of boxes found:  13\n",
      "Number of boxes found:  6\n"
     ]
    },
    {
     "name": "stderr",
     "output_type": "stream",
     "text": [
      "\r",
      " 85%|████████▌ | 1073/1261 [49:25<08:41,  2.78s/it]"
     ]
    },
    {
     "name": "stdout",
     "output_type": "stream",
     "text": [
      "Number of boxes found:  2\n",
      "iterations:  1081\n",
      "heatmap len:  10\n",
      "Number of boxes found:  14\n",
      "Number of boxes found:  11\n",
      "Number of boxes found:  7\n"
     ]
    },
    {
     "name": "stderr",
     "output_type": "stream",
     "text": [
      "\r",
      " 85%|████████▌ | 1074/1261 [49:28<08:37,  2.77s/it]"
     ]
    },
    {
     "name": "stdout",
     "output_type": "stream",
     "text": [
      "Number of boxes found:  1\n",
      "iterations:  1082\n",
      "heatmap len:  10\n",
      "Number of boxes found:  14\n",
      "Number of boxes found:  11\n",
      "Number of boxes found:  7\n"
     ]
    },
    {
     "name": "stderr",
     "output_type": "stream",
     "text": [
      "\r",
      " 85%|████████▌ | 1075/1261 [49:30<08:39,  2.80s/it]"
     ]
    },
    {
     "name": "stdout",
     "output_type": "stream",
     "text": [
      "Number of boxes found:  2\n",
      "iterations:  1083\n",
      "heatmap len:  10\n",
      "Number of boxes found:  14\n",
      "Number of boxes found:  13\n",
      "Number of boxes found:  7\n"
     ]
    },
    {
     "name": "stderr",
     "output_type": "stream",
     "text": [
      "\r",
      " 85%|████████▌ | 1076/1261 [49:33<08:40,  2.81s/it]"
     ]
    },
    {
     "name": "stdout",
     "output_type": "stream",
     "text": [
      "Number of boxes found:  2\n",
      "iterations:  1084\n",
      "heatmap len:  10\n",
      "Number of boxes found:  16\n",
      "Number of boxes found:  10\n",
      "Number of boxes found:  7\n"
     ]
    },
    {
     "name": "stderr",
     "output_type": "stream",
     "text": [
      "\r",
      " 85%|████████▌ | 1077/1261 [49:36<08:31,  2.78s/it]"
     ]
    },
    {
     "name": "stdout",
     "output_type": "stream",
     "text": [
      "Number of boxes found:  2\n",
      "iterations:  1085\n",
      "heatmap len:  10\n",
      "Number of boxes found:  13\n",
      "Number of boxes found:  7\n",
      "Number of boxes found:  8\n"
     ]
    },
    {
     "name": "stderr",
     "output_type": "stream",
     "text": [
      "\r",
      " 85%|████████▌ | 1078/1261 [49:39<08:23,  2.75s/it]"
     ]
    },
    {
     "name": "stdout",
     "output_type": "stream",
     "text": [
      "Number of boxes found:  2\n",
      "iterations:  1086\n",
      "heatmap len:  10\n",
      "Number of boxes found:  14\n",
      "Number of boxes found:  9\n",
      "Number of boxes found:  8\n"
     ]
    },
    {
     "name": "stderr",
     "output_type": "stream",
     "text": [
      "\r",
      " 86%|████████▌ | 1079/1261 [49:42<08:25,  2.78s/it]"
     ]
    },
    {
     "name": "stdout",
     "output_type": "stream",
     "text": [
      "Number of boxes found:  2\n",
      "iterations:  1087\n",
      "heatmap len:  10\n",
      "Number of boxes found:  16\n",
      "Number of boxes found:  10\n",
      "Number of boxes found:  9\n"
     ]
    },
    {
     "name": "stderr",
     "output_type": "stream",
     "text": [
      "\r",
      " 86%|████████▌ | 1080/1261 [49:44<08:21,  2.77s/it]"
     ]
    },
    {
     "name": "stdout",
     "output_type": "stream",
     "text": [
      "Number of boxes found:  3\n",
      "iterations:  1088\n",
      "heatmap len:  10\n",
      "Number of boxes found:  11\n",
      "Number of boxes found:  9\n",
      "Number of boxes found:  4\n"
     ]
    },
    {
     "name": "stderr",
     "output_type": "stream",
     "text": [
      "\r",
      " 86%|████████▌ | 1081/1261 [49:47<08:28,  2.83s/it]"
     ]
    },
    {
     "name": "stdout",
     "output_type": "stream",
     "text": [
      "Number of boxes found:  1\n",
      "iterations:  1089\n",
      "heatmap len:  10\n",
      "Number of boxes found:  11\n",
      "Number of boxes found:  8\n",
      "Number of boxes found:  7\n"
     ]
    },
    {
     "name": "stderr",
     "output_type": "stream",
     "text": [
      "\r",
      " 86%|████████▌ | 1082/1261 [49:50<08:26,  2.83s/it]"
     ]
    },
    {
     "name": "stdout",
     "output_type": "stream",
     "text": [
      "Number of boxes found:  2\n",
      "iterations:  1090\n",
      "heatmap len:  10\n",
      "Number of boxes found:  10\n",
      "Number of boxes found:  9\n",
      "Number of boxes found:  5\n"
     ]
    },
    {
     "name": "stderr",
     "output_type": "stream",
     "text": [
      "\r",
      " 86%|████████▌ | 1083/1261 [49:53<08:21,  2.82s/it]"
     ]
    },
    {
     "name": "stdout",
     "output_type": "stream",
     "text": [
      "Number of boxes found:  1\n",
      "iterations:  1091\n",
      "heatmap len:  10\n",
      "Number of boxes found:  13\n",
      "Number of boxes found:  10\n",
      "Number of boxes found:  5\n"
     ]
    },
    {
     "name": "stderr",
     "output_type": "stream",
     "text": [
      "\r",
      " 86%|████████▌ | 1084/1261 [49:56<08:13,  2.79s/it]"
     ]
    },
    {
     "name": "stdout",
     "output_type": "stream",
     "text": [
      "Number of boxes found:  1\n",
      "iterations:  1092\n",
      "heatmap len:  10\n",
      "Number of boxes found:  9\n",
      "Number of boxes found:  10\n",
      "Number of boxes found:  6\n"
     ]
    },
    {
     "name": "stderr",
     "output_type": "stream",
     "text": [
      "\r",
      " 86%|████████▌ | 1085/1261 [49:58<08:09,  2.78s/it]"
     ]
    },
    {
     "name": "stdout",
     "output_type": "stream",
     "text": [
      "Number of boxes found:  1\n",
      "iterations:  1093\n",
      "heatmap len:  10\n",
      "Number of boxes found:  11\n",
      "Number of boxes found:  8\n",
      "Number of boxes found:  4\n"
     ]
    },
    {
     "name": "stderr",
     "output_type": "stream",
     "text": [
      "\r",
      " 86%|████████▌ | 1086/1261 [50:01<08:02,  2.76s/it]"
     ]
    },
    {
     "name": "stdout",
     "output_type": "stream",
     "text": [
      "Number of boxes found:  1\n",
      "iterations:  1094\n",
      "heatmap len:  10\n",
      "Number of boxes found:  11\n",
      "Number of boxes found:  10\n",
      "Number of boxes found:  3\n"
     ]
    },
    {
     "name": "stderr",
     "output_type": "stream",
     "text": [
      "\r",
      " 86%|████████▌ | 1087/1261 [50:04<07:57,  2.74s/it]"
     ]
    },
    {
     "name": "stdout",
     "output_type": "stream",
     "text": [
      "Number of boxes found:  1\n",
      "iterations:  1095\n",
      "heatmap len:  10\n",
      "Number of boxes found:  11\n",
      "Number of boxes found:  9\n",
      "Number of boxes found:  3\n"
     ]
    },
    {
     "name": "stderr",
     "output_type": "stream",
     "text": [
      "\r",
      " 86%|████████▋ | 1088/1261 [50:07<07:52,  2.73s/it]"
     ]
    },
    {
     "name": "stdout",
     "output_type": "stream",
     "text": [
      "Number of boxes found:  1\n",
      "iterations:  1096\n",
      "heatmap len:  10\n",
      "Number of boxes found:  11\n",
      "Number of boxes found:  9\n",
      "Number of boxes found:  3\n"
     ]
    },
    {
     "name": "stderr",
     "output_type": "stream",
     "text": [
      "\r",
      " 86%|████████▋ | 1089/1261 [50:09<07:52,  2.75s/it]"
     ]
    },
    {
     "name": "stdout",
     "output_type": "stream",
     "text": [
      "Number of boxes found:  2\n",
      "iterations:  1097\n",
      "heatmap len:  10\n",
      "Number of boxes found:  9\n",
      "Number of boxes found:  8\n",
      "Number of boxes found:  6\n"
     ]
    },
    {
     "name": "stderr",
     "output_type": "stream",
     "text": [
      "\r",
      " 86%|████████▋ | 1090/1261 [50:12<07:59,  2.81s/it]"
     ]
    },
    {
     "name": "stdout",
     "output_type": "stream",
     "text": [
      "Number of boxes found:  2\n",
      "iterations:  1098\n",
      "heatmap len:  10\n",
      "Number of boxes found:  12\n",
      "Number of boxes found:  9\n",
      "Number of boxes found:  4\n"
     ]
    },
    {
     "name": "stderr",
     "output_type": "stream",
     "text": [
      "\r",
      " 87%|████████▋ | 1091/1261 [50:15<08:01,  2.83s/it]"
     ]
    },
    {
     "name": "stdout",
     "output_type": "stream",
     "text": [
      "Number of boxes found:  2\n",
      "iterations:  1099\n",
      "heatmap len:  10\n",
      "Number of boxes found:  8\n",
      "Number of boxes found:  10\n",
      "Number of boxes found:  5\n"
     ]
    },
    {
     "name": "stderr",
     "output_type": "stream",
     "text": [
      "\r",
      " 87%|████████▋ | 1092/1261 [50:18<07:57,  2.83s/it]"
     ]
    },
    {
     "name": "stdout",
     "output_type": "stream",
     "text": [
      "Number of boxes found:  2\n",
      "iterations:  1100\n",
      "heatmap len:  10\n",
      "Number of boxes found:  12\n",
      "Number of boxes found:  10\n",
      "Number of boxes found:  5\n"
     ]
    },
    {
     "name": "stderr",
     "output_type": "stream",
     "text": [
      "\r",
      " 87%|████████▋ | 1093/1261 [50:21<08:01,  2.87s/it]"
     ]
    },
    {
     "name": "stdout",
     "output_type": "stream",
     "text": [
      "Number of boxes found:  2\n",
      "iterations:  1101\n",
      "heatmap len:  10\n",
      "Number of boxes found:  6\n",
      "Number of boxes found:  7\n",
      "Number of boxes found:  4\n"
     ]
    },
    {
     "name": "stderr",
     "output_type": "stream",
     "text": [
      "\r",
      " 87%|████████▋ | 1094/1261 [50:24<08:09,  2.93s/it]"
     ]
    },
    {
     "name": "stdout",
     "output_type": "stream",
     "text": [
      "Number of boxes found:  2\n",
      "iterations:  1102\n",
      "heatmap len:  10\n",
      "Number of boxes found:  8\n",
      "Number of boxes found:  9\n",
      "Number of boxes found:  5\n"
     ]
    },
    {
     "name": "stderr",
     "output_type": "stream",
     "text": [
      "\r",
      " 87%|████████▋ | 1095/1261 [50:27<08:05,  2.92s/it]"
     ]
    },
    {
     "name": "stdout",
     "output_type": "stream",
     "text": [
      "Number of boxes found:  2\n",
      "iterations:  1103\n",
      "heatmap len:  10\n",
      "Number of boxes found:  7\n",
      "Number of boxes found:  6\n",
      "Number of boxes found:  5\n"
     ]
    },
    {
     "name": "stderr",
     "output_type": "stream",
     "text": [
      "\r",
      " 87%|████████▋ | 1096/1261 [50:30<08:07,  2.95s/it]"
     ]
    },
    {
     "name": "stdout",
     "output_type": "stream",
     "text": [
      "Number of boxes found:  1\n",
      "iterations:  1104\n",
      "heatmap len:  10\n",
      "Number of boxes found:  8\n",
      "Number of boxes found:  6\n",
      "Number of boxes found:  5\n"
     ]
    },
    {
     "name": "stderr",
     "output_type": "stream",
     "text": [
      "\r",
      " 87%|████████▋ | 1097/1261 [50:33<08:07,  2.97s/it]"
     ]
    },
    {
     "name": "stdout",
     "output_type": "stream",
     "text": [
      "Number of boxes found:  1\n",
      "iterations:  1105\n",
      "heatmap len:  10\n",
      "Number of boxes found:  9\n",
      "Number of boxes found:  8\n",
      "Number of boxes found:  5\n"
     ]
    },
    {
     "name": "stderr",
     "output_type": "stream",
     "text": [
      "\r",
      " 87%|████████▋ | 1098/1261 [50:36<08:07,  2.99s/it]"
     ]
    },
    {
     "name": "stdout",
     "output_type": "stream",
     "text": [
      "Number of boxes found:  1\n",
      "iterations:  1106\n",
      "heatmap len:  10\n",
      "Number of boxes found:  11\n",
      "Number of boxes found:  9\n",
      "Number of boxes found:  5\n"
     ]
    },
    {
     "name": "stderr",
     "output_type": "stream",
     "text": [
      "\r",
      " 87%|████████▋ | 1099/1261 [50:39<08:02,  2.98s/it]"
     ]
    },
    {
     "name": "stdout",
     "output_type": "stream",
     "text": [
      "Number of boxes found:  1\n",
      "iterations:  1107\n",
      "heatmap len:  10\n",
      "Number of boxes found:  11\n",
      "Number of boxes found:  11\n",
      "Number of boxes found:  6\n"
     ]
    },
    {
     "name": "stderr",
     "output_type": "stream",
     "text": [
      "\r",
      " 87%|████████▋ | 1100/1261 [50:42<07:52,  2.93s/it]"
     ]
    },
    {
     "name": "stdout",
     "output_type": "stream",
     "text": [
      "Number of boxes found:  2\n",
      "iterations:  1108\n",
      "heatmap len:  10\n",
      "Number of boxes found:  10\n",
      "Number of boxes found:  10\n",
      "Number of boxes found:  6\n"
     ]
    },
    {
     "name": "stderr",
     "output_type": "stream",
     "text": [
      "\r",
      " 87%|████████▋ | 1101/1261 [50:44<07:39,  2.87s/it]"
     ]
    },
    {
     "name": "stdout",
     "output_type": "stream",
     "text": [
      "Number of boxes found:  2\n",
      "iterations:  1109\n",
      "heatmap len:  10\n",
      "Number of boxes found:  9\n",
      "Number of boxes found:  9\n",
      "Number of boxes found:  6\n"
     ]
    },
    {
     "name": "stderr",
     "output_type": "stream",
     "text": [
      "\r",
      " 87%|████████▋ | 1102/1261 [50:47<07:36,  2.87s/it]"
     ]
    },
    {
     "name": "stdout",
     "output_type": "stream",
     "text": [
      "Number of boxes found:  1\n",
      "iterations:  1110\n",
      "heatmap len:  10\n",
      "Number of boxes found:  10\n",
      "Number of boxes found:  9\n",
      "Number of boxes found:  6\n"
     ]
    },
    {
     "name": "stderr",
     "output_type": "stream",
     "text": [
      "\r",
      " 87%|████████▋ | 1103/1261 [50:50<07:29,  2.84s/it]"
     ]
    },
    {
     "name": "stdout",
     "output_type": "stream",
     "text": [
      "Number of boxes found:  1\n",
      "iterations:  1111\n",
      "heatmap len:  10\n",
      "Number of boxes found:  8\n",
      "Number of boxes found:  10\n",
      "Number of boxes found:  6\n"
     ]
    },
    {
     "name": "stderr",
     "output_type": "stream",
     "text": [
      "\r",
      " 88%|████████▊ | 1104/1261 [50:53<07:19,  2.80s/it]"
     ]
    },
    {
     "name": "stdout",
     "output_type": "stream",
     "text": [
      "Number of boxes found:  2\n",
      "iterations:  1112\n",
      "heatmap len:  10\n",
      "Number of boxes found:  11\n",
      "Number of boxes found:  10\n",
      "Number of boxes found:  4\n"
     ]
    },
    {
     "name": "stderr",
     "output_type": "stream",
     "text": [
      "\r",
      " 88%|████████▊ | 1105/1261 [50:56<07:16,  2.80s/it]"
     ]
    },
    {
     "name": "stdout",
     "output_type": "stream",
     "text": [
      "Number of boxes found:  1\n",
      "iterations:  1113\n",
      "heatmap len:  10\n",
      "Number of boxes found:  10\n",
      "Number of boxes found:  10\n",
      "Number of boxes found:  6\n"
     ]
    },
    {
     "name": "stderr",
     "output_type": "stream",
     "text": [
      "\r",
      " 88%|████████▊ | 1106/1261 [50:58<07:11,  2.78s/it]"
     ]
    },
    {
     "name": "stdout",
     "output_type": "stream",
     "text": [
      "Number of boxes found:  1\n",
      "iterations:  1114\n",
      "heatmap len:  10\n",
      "Number of boxes found:  9\n",
      "Number of boxes found:  9\n",
      "Number of boxes found:  6\n"
     ]
    },
    {
     "name": "stderr",
     "output_type": "stream",
     "text": [
      "\r",
      " 88%|████████▊ | 1107/1261 [51:01<07:04,  2.76s/it]"
     ]
    },
    {
     "name": "stdout",
     "output_type": "stream",
     "text": [
      "Number of boxes found:  1\n",
      "iterations:  1115\n",
      "heatmap len:  10\n",
      "Number of boxes found:  10\n",
      "Number of boxes found:  8\n",
      "Number of boxes found:  5\n"
     ]
    },
    {
     "name": "stderr",
     "output_type": "stream",
     "text": [
      "\r",
      " 88%|████████▊ | 1108/1261 [51:04<07:08,  2.80s/it]"
     ]
    },
    {
     "name": "stdout",
     "output_type": "stream",
     "text": [
      "Number of boxes found:  1\n",
      "iterations:  1116\n",
      "heatmap len:  10\n",
      "Number of boxes found:  7\n",
      "Number of boxes found:  8\n",
      "Number of boxes found:  4\n"
     ]
    },
    {
     "name": "stderr",
     "output_type": "stream",
     "text": [
      "\r",
      " 88%|████████▊ | 1109/1261 [51:07<07:13,  2.85s/it]"
     ]
    },
    {
     "name": "stdout",
     "output_type": "stream",
     "text": [
      "Number of boxes found:  1\n",
      "iterations:  1117\n",
      "heatmap len:  10\n",
      "Number of boxes found:  9\n",
      "Number of boxes found:  7\n",
      "Number of boxes found:  6\n"
     ]
    },
    {
     "name": "stderr",
     "output_type": "stream",
     "text": [
      "\r",
      " 88%|████████▊ | 1110/1261 [51:10<07:04,  2.81s/it]"
     ]
    },
    {
     "name": "stdout",
     "output_type": "stream",
     "text": [
      "Number of boxes found:  2\n",
      "iterations:  1118\n",
      "heatmap len:  10\n",
      "Number of boxes found:  7\n",
      "Number of boxes found:  9\n",
      "Number of boxes found:  5\n"
     ]
    },
    {
     "name": "stderr",
     "output_type": "stream",
     "text": [
      "\r",
      " 88%|████████▊ | 1111/1261 [51:12<07:00,  2.80s/it]"
     ]
    },
    {
     "name": "stdout",
     "output_type": "stream",
     "text": [
      "Number of boxes found:  0\n",
      "iterations:  1119\n",
      "heatmap len:  10\n",
      "Number of boxes found:  5\n",
      "Number of boxes found:  8\n",
      "Number of boxes found:  6\n"
     ]
    },
    {
     "name": "stderr",
     "output_type": "stream",
     "text": [
      "\r",
      " 88%|████████▊ | 1112/1261 [51:15<06:53,  2.78s/it]"
     ]
    },
    {
     "name": "stdout",
     "output_type": "stream",
     "text": [
      "Number of boxes found:  1\n",
      "iterations:  1120\n",
      "heatmap len:  10\n",
      "Number of boxes found:  7\n",
      "Number of boxes found:  8\n",
      "Number of boxes found:  6\n"
     ]
    },
    {
     "name": "stderr",
     "output_type": "stream",
     "text": [
      "\r",
      " 88%|████████▊ | 1113/1261 [51:18<06:47,  2.75s/it]"
     ]
    },
    {
     "name": "stdout",
     "output_type": "stream",
     "text": [
      "Number of boxes found:  0\n",
      "iterations:  1121\n",
      "heatmap len:  10\n",
      "Number of boxes found:  3\n",
      "Number of boxes found:  5\n",
      "Number of boxes found:  4\n"
     ]
    },
    {
     "name": "stderr",
     "output_type": "stream",
     "text": [
      "\r",
      " 88%|████████▊ | 1114/1261 [51:21<06:43,  2.74s/it]"
     ]
    },
    {
     "name": "stdout",
     "output_type": "stream",
     "text": [
      "Number of boxes found:  1\n",
      "iterations:  1122\n",
      "heatmap len:  10\n",
      "Number of boxes found:  8\n",
      "Number of boxes found:  10\n",
      "Number of boxes found:  4\n"
     ]
    },
    {
     "name": "stderr",
     "output_type": "stream",
     "text": [
      "\r",
      " 88%|████████▊ | 1115/1261 [51:23<06:41,  2.75s/it]"
     ]
    },
    {
     "name": "stdout",
     "output_type": "stream",
     "text": [
      "Number of boxes found:  1\n",
      "iterations:  1123\n",
      "heatmap len:  10\n",
      "Number of boxes found:  11\n",
      "Number of boxes found:  9\n",
      "Number of boxes found:  4\n"
     ]
    },
    {
     "name": "stderr",
     "output_type": "stream",
     "text": [
      "\r",
      " 89%|████████▊ | 1116/1261 [51:26<06:39,  2.75s/it]"
     ]
    },
    {
     "name": "stdout",
     "output_type": "stream",
     "text": [
      "Number of boxes found:  1\n",
      "iterations:  1124\n",
      "heatmap len:  10\n",
      "Number of boxes found:  7\n",
      "Number of boxes found:  6\n",
      "Number of boxes found:  3\n"
     ]
    },
    {
     "name": "stderr",
     "output_type": "stream",
     "text": [
      "\r",
      " 89%|████████▊ | 1117/1261 [51:29<06:42,  2.79s/it]"
     ]
    },
    {
     "name": "stdout",
     "output_type": "stream",
     "text": [
      "Number of boxes found:  1\n",
      "iterations:  1125\n",
      "heatmap len:  10\n",
      "Number of boxes found:  7\n",
      "Number of boxes found:  5\n",
      "Number of boxes found:  3\n"
     ]
    },
    {
     "name": "stderr",
     "output_type": "stream",
     "text": [
      "\r",
      " 89%|████████▊ | 1118/1261 [51:32<06:45,  2.83s/it]"
     ]
    },
    {
     "name": "stdout",
     "output_type": "stream",
     "text": [
      "Number of boxes found:  0\n",
      "iterations:  1126\n",
      "heatmap len:  10\n",
      "Number of boxes found:  7\n",
      "Number of boxes found:  7\n",
      "Number of boxes found:  3\n"
     ]
    },
    {
     "name": "stderr",
     "output_type": "stream",
     "text": [
      "\r",
      " 89%|████████▊ | 1119/1261 [51:35<07:02,  2.97s/it]"
     ]
    },
    {
     "name": "stdout",
     "output_type": "stream",
     "text": [
      "Number of boxes found:  1\n",
      "iterations:  1127\n",
      "heatmap len:  10\n",
      "Number of boxes found:  6\n",
      "Number of boxes found:  7\n",
      "Number of boxes found:  4\n"
     ]
    },
    {
     "name": "stderr",
     "output_type": "stream",
     "text": [
      "\r",
      " 89%|████████▉ | 1120/1261 [51:38<06:53,  2.94s/it]"
     ]
    },
    {
     "name": "stdout",
     "output_type": "stream",
     "text": [
      "Number of boxes found:  1\n",
      "iterations:  1128\n",
      "heatmap len:  10\n",
      "Number of boxes found:  5\n",
      "Number of boxes found:  7\n",
      "Number of boxes found:  3\n"
     ]
    },
    {
     "name": "stderr",
     "output_type": "stream",
     "text": [
      "\r",
      " 89%|████████▉ | 1121/1261 [51:41<06:42,  2.88s/it]"
     ]
    },
    {
     "name": "stdout",
     "output_type": "stream",
     "text": [
      "Number of boxes found:  1\n",
      "iterations:  1129\n",
      "heatmap len:  10\n",
      "Number of boxes found:  7\n",
      "Number of boxes found:  8\n",
      "Number of boxes found:  3\n"
     ]
    },
    {
     "name": "stderr",
     "output_type": "stream",
     "text": [
      "\r",
      " 89%|████████▉ | 1122/1261 [51:44<06:33,  2.83s/it]"
     ]
    },
    {
     "name": "stdout",
     "output_type": "stream",
     "text": [
      "Number of boxes found:  1\n",
      "iterations:  1130\n",
      "heatmap len:  10\n",
      "Number of boxes found:  4\n",
      "Number of boxes found:  6\n",
      "Number of boxes found:  3\n"
     ]
    },
    {
     "name": "stderr",
     "output_type": "stream",
     "text": [
      "\r",
      " 89%|████████▉ | 1123/1261 [51:46<06:31,  2.84s/it]"
     ]
    },
    {
     "name": "stdout",
     "output_type": "stream",
     "text": [
      "Number of boxes found:  1\n",
      "iterations:  1131\n",
      "heatmap len:  10\n",
      "Number of boxes found:  6\n",
      "Number of boxes found:  7\n",
      "Number of boxes found:  4\n"
     ]
    },
    {
     "name": "stderr",
     "output_type": "stream",
     "text": [
      "\r",
      " 89%|████████▉ | 1124/1261 [51:49<06:25,  2.81s/it]"
     ]
    },
    {
     "name": "stdout",
     "output_type": "stream",
     "text": [
      "Number of boxes found:  0\n",
      "iterations:  1132\n",
      "heatmap len:  10\n",
      "Number of boxes found:  7\n",
      "Number of boxes found:  6\n",
      "Number of boxes found:  3\n"
     ]
    },
    {
     "name": "stderr",
     "output_type": "stream",
     "text": [
      "\r",
      " 89%|████████▉ | 1125/1261 [51:52<06:18,  2.79s/it]"
     ]
    },
    {
     "name": "stdout",
     "output_type": "stream",
     "text": [
      "Number of boxes found:  0\n",
      "iterations:  1133\n",
      "heatmap len:  10\n",
      "Number of boxes found:  8\n",
      "Number of boxes found:  10\n",
      "Number of boxes found:  4\n"
     ]
    },
    {
     "name": "stderr",
     "output_type": "stream",
     "text": [
      "\r",
      " 89%|████████▉ | 1126/1261 [51:55<06:12,  2.76s/it]"
     ]
    },
    {
     "name": "stdout",
     "output_type": "stream",
     "text": [
      "Number of boxes found:  0\n",
      "iterations:  1134\n",
      "heatmap len:  10\n",
      "Number of boxes found:  8\n",
      "Number of boxes found:  7\n",
      "Number of boxes found:  2\n"
     ]
    },
    {
     "name": "stderr",
     "output_type": "stream",
     "text": [
      "\r",
      " 89%|████████▉ | 1127/1261 [51:57<06:11,  2.77s/it]"
     ]
    },
    {
     "name": "stdout",
     "output_type": "stream",
     "text": [
      "Number of boxes found:  2\n",
      "iterations:  1135\n",
      "heatmap len:  10\n",
      "Number of boxes found:  5\n",
      "Number of boxes found:  6\n",
      "Number of boxes found:  2\n"
     ]
    },
    {
     "name": "stderr",
     "output_type": "stream",
     "text": [
      "\r",
      " 89%|████████▉ | 1128/1261 [52:00<06:04,  2.74s/it]"
     ]
    },
    {
     "name": "stdout",
     "output_type": "stream",
     "text": [
      "Number of boxes found:  1\n",
      "iterations:  1136\n",
      "heatmap len:  10\n",
      "Number of boxes found:  7\n",
      "Number of boxes found:  8\n",
      "Number of boxes found:  2\n"
     ]
    },
    {
     "name": "stderr",
     "output_type": "stream",
     "text": [
      "\r",
      " 90%|████████▉ | 1129/1261 [52:03<06:03,  2.75s/it]"
     ]
    },
    {
     "name": "stdout",
     "output_type": "stream",
     "text": [
      "Number of boxes found:  1\n",
      "iterations:  1137\n",
      "heatmap len:  10\n",
      "Number of boxes found:  5\n",
      "Number of boxes found:  7\n",
      "Number of boxes found:  2\n"
     ]
    },
    {
     "name": "stderr",
     "output_type": "stream",
     "text": [
      "\r",
      " 90%|████████▉ | 1130/1261 [52:06<06:05,  2.79s/it]"
     ]
    },
    {
     "name": "stdout",
     "output_type": "stream",
     "text": [
      "Number of boxes found:  1\n",
      "iterations:  1138\n",
      "heatmap len:  10\n",
      "Number of boxes found:  8\n",
      "Number of boxes found:  6\n",
      "Number of boxes found:  3\n"
     ]
    },
    {
     "name": "stderr",
     "output_type": "stream",
     "text": [
      "\r",
      " 90%|████████▉ | 1131/1261 [52:09<06:10,  2.85s/it]"
     ]
    },
    {
     "name": "stdout",
     "output_type": "stream",
     "text": [
      "Number of boxes found:  1\n",
      "iterations:  1139\n",
      "heatmap len:  10\n",
      "Number of boxes found:  10\n",
      "Number of boxes found:  8\n",
      "Number of boxes found:  5\n"
     ]
    },
    {
     "name": "stderr",
     "output_type": "stream",
     "text": [
      "\r",
      " 90%|████████▉ | 1132/1261 [52:11<06:05,  2.83s/it]"
     ]
    },
    {
     "name": "stdout",
     "output_type": "stream",
     "text": [
      "Number of boxes found:  1\n",
      "iterations:  1140\n",
      "heatmap len:  10\n",
      "Number of boxes found:  9\n",
      "Number of boxes found:  7\n",
      "Number of boxes found:  3\n"
     ]
    },
    {
     "name": "stderr",
     "output_type": "stream",
     "text": [
      "\r",
      " 90%|████████▉ | 1133/1261 [52:14<05:58,  2.80s/it]"
     ]
    },
    {
     "name": "stdout",
     "output_type": "stream",
     "text": [
      "Number of boxes found:  1\n",
      "iterations:  1141\n",
      "heatmap len:  10\n",
      "Number of boxes found:  7\n",
      "Number of boxes found:  7\n",
      "Number of boxes found:  2\n"
     ]
    },
    {
     "name": "stderr",
     "output_type": "stream",
     "text": [
      "\r",
      " 90%|████████▉ | 1134/1261 [52:17<05:55,  2.80s/it]"
     ]
    },
    {
     "name": "stdout",
     "output_type": "stream",
     "text": [
      "Number of boxes found:  1\n",
      "iterations:  1142\n",
      "heatmap len:  10\n",
      "Number of boxes found:  11\n",
      "Number of boxes found:  8\n",
      "Number of boxes found:  3\n"
     ]
    },
    {
     "name": "stderr",
     "output_type": "stream",
     "text": [
      "\r",
      " 90%|█████████ | 1135/1261 [52:20<05:48,  2.77s/it]"
     ]
    },
    {
     "name": "stdout",
     "output_type": "stream",
     "text": [
      "Number of boxes found:  1\n",
      "iterations:  1143\n",
      "heatmap len:  10\n",
      "Number of boxes found:  10\n",
      "Number of boxes found:  8\n",
      "Number of boxes found:  2\n"
     ]
    },
    {
     "name": "stderr",
     "output_type": "stream",
     "text": [
      "\r",
      " 90%|█████████ | 1136/1261 [52:22<05:43,  2.75s/it]"
     ]
    },
    {
     "name": "stdout",
     "output_type": "stream",
     "text": [
      "Number of boxes found:  1\n",
      "iterations:  1144\n",
      "heatmap len:  10\n",
      "Number of boxes found:  9\n",
      "Number of boxes found:  5\n",
      "Number of boxes found:  3\n"
     ]
    },
    {
     "name": "stderr",
     "output_type": "stream",
     "text": [
      "\r",
      " 90%|█████████ | 1137/1261 [52:25<05:47,  2.80s/it]"
     ]
    },
    {
     "name": "stdout",
     "output_type": "stream",
     "text": [
      "Number of boxes found:  2\n",
      "iterations:  1145\n",
      "heatmap len:  10\n",
      "Number of boxes found:  9\n",
      "Number of boxes found:  6\n",
      "Number of boxes found:  3\n"
     ]
    },
    {
     "name": "stderr",
     "output_type": "stream",
     "text": [
      "\r",
      " 90%|█████████ | 1138/1261 [52:28<05:42,  2.78s/it]"
     ]
    },
    {
     "name": "stdout",
     "output_type": "stream",
     "text": [
      "Number of boxes found:  2\n",
      "iterations:  1146\n",
      "heatmap len:  10\n",
      "Number of boxes found:  9\n",
      "Number of boxes found:  8\n",
      "Number of boxes found:  2\n"
     ]
    },
    {
     "name": "stderr",
     "output_type": "stream",
     "text": [
      "\r",
      " 90%|█████████ | 1139/1261 [52:31<05:38,  2.77s/it]"
     ]
    },
    {
     "name": "stdout",
     "output_type": "stream",
     "text": [
      "Number of boxes found:  2\n",
      "iterations:  1147\n",
      "heatmap len:  10\n",
      "Number of boxes found:  10\n",
      "Number of boxes found:  6\n",
      "Number of boxes found:  2\n"
     ]
    },
    {
     "name": "stderr",
     "output_type": "stream",
     "text": [
      "\r",
      " 90%|█████████ | 1140/1261 [52:33<05:32,  2.75s/it]"
     ]
    },
    {
     "name": "stdout",
     "output_type": "stream",
     "text": [
      "Number of boxes found:  1\n",
      "iterations:  1148\n",
      "heatmap len:  10\n",
      "Number of boxes found:  0\n",
      "Number of boxes found:  3\n",
      "Number of boxes found:  2\n"
     ]
    },
    {
     "name": "stderr",
     "output_type": "stream",
     "text": [
      "\r",
      " 90%|█████████ | 1141/1261 [52:36<05:25,  2.72s/it]"
     ]
    },
    {
     "name": "stdout",
     "output_type": "stream",
     "text": [
      "Number of boxes found:  0\n",
      "iterations:  1149\n",
      "heatmap len:  10\n",
      "Number of boxes found:  2\n",
      "Number of boxes found:  4\n",
      "Number of boxes found:  2\n"
     ]
    },
    {
     "name": "stderr",
     "output_type": "stream",
     "text": [
      "\r",
      " 91%|█████████ | 1142/1261 [52:39<05:22,  2.71s/it]"
     ]
    },
    {
     "name": "stdout",
     "output_type": "stream",
     "text": [
      "Number of boxes found:  0\n",
      "iterations:  1150\n",
      "heatmap len:  10\n",
      "Number of boxes found:  4\n",
      "Number of boxes found:  8\n",
      "Number of boxes found:  2\n"
     ]
    },
    {
     "name": "stderr",
     "output_type": "stream",
     "text": [
      "\r",
      " 91%|█████████ | 1143/1261 [52:42<05:20,  2.72s/it]"
     ]
    },
    {
     "name": "stdout",
     "output_type": "stream",
     "text": [
      "Number of boxes found:  0\n",
      "iterations:  1151\n",
      "heatmap len:  10\n",
      "Number of boxes found:  4\n",
      "Number of boxes found:  10\n",
      "Number of boxes found:  2\n"
     ]
    },
    {
     "name": "stderr",
     "output_type": "stream",
     "text": [
      "\r",
      " 91%|█████████ | 1144/1261 [52:44<05:17,  2.72s/it]"
     ]
    },
    {
     "name": "stdout",
     "output_type": "stream",
     "text": [
      "Number of boxes found:  0\n",
      "iterations:  1152\n",
      "heatmap len:  10\n",
      "Number of boxes found:  6\n",
      "Number of boxes found:  9\n",
      "Number of boxes found:  3\n"
     ]
    },
    {
     "name": "stderr",
     "output_type": "stream",
     "text": [
      "\r",
      " 91%|█████████ | 1145/1261 [52:47<05:16,  2.73s/it]"
     ]
    },
    {
     "name": "stdout",
     "output_type": "stream",
     "text": [
      "Number of boxes found:  0\n",
      "iterations:  1153\n",
      "heatmap len:  10\n",
      "Number of boxes found:  9\n",
      "Number of boxes found:  8\n",
      "Number of boxes found:  2\n"
     ]
    },
    {
     "name": "stderr",
     "output_type": "stream",
     "text": [
      "\r",
      " 91%|█████████ | 1146/1261 [52:50<05:16,  2.75s/it]"
     ]
    },
    {
     "name": "stdout",
     "output_type": "stream",
     "text": [
      "Number of boxes found:  0\n",
      "iterations:  1154\n",
      "heatmap len:  10\n",
      "Number of boxes found:  7\n",
      "Number of boxes found:  8\n",
      "Number of boxes found:  3\n"
     ]
    },
    {
     "name": "stderr",
     "output_type": "stream",
     "text": [
      "\r",
      " 91%|█████████ | 1147/1261 [52:53<05:11,  2.73s/it]"
     ]
    },
    {
     "name": "stdout",
     "output_type": "stream",
     "text": [
      "Number of boxes found:  0\n",
      "iterations:  1155\n",
      "heatmap len:  10\n",
      "Number of boxes found:  5\n",
      "Number of boxes found:  8\n",
      "Number of boxes found:  3\n"
     ]
    },
    {
     "name": "stderr",
     "output_type": "stream",
     "text": [
      "\r",
      " 91%|█████████ | 1148/1261 [52:55<05:14,  2.78s/it]"
     ]
    },
    {
     "name": "stdout",
     "output_type": "stream",
     "text": [
      "Number of boxes found:  1\n",
      "iterations:  1156\n",
      "heatmap len:  10\n",
      "Number of boxes found:  6\n",
      "Number of boxes found:  8\n",
      "Number of boxes found:  2\n"
     ]
    },
    {
     "name": "stderr",
     "output_type": "stream",
     "text": [
      "\r",
      " 91%|█████████ | 1149/1261 [52:58<05:10,  2.77s/it]"
     ]
    },
    {
     "name": "stdout",
     "output_type": "stream",
     "text": [
      "Number of boxes found:  2\n",
      "iterations:  1157\n",
      "heatmap len:  10\n",
      "Number of boxes found:  4\n",
      "Number of boxes found:  7\n",
      "Number of boxes found:  4\n"
     ]
    },
    {
     "name": "stderr",
     "output_type": "stream",
     "text": [
      "\r",
      " 91%|█████████ | 1150/1261 [53:01<05:09,  2.79s/it]"
     ]
    },
    {
     "name": "stdout",
     "output_type": "stream",
     "text": [
      "Number of boxes found:  2\n",
      "iterations:  1158\n",
      "heatmap len:  10\n",
      "Number of boxes found:  5\n",
      "Number of boxes found:  8\n",
      "Number of boxes found:  3\n"
     ]
    },
    {
     "name": "stderr",
     "output_type": "stream",
     "text": [
      "\r",
      " 91%|█████████▏| 1151/1261 [53:04<05:05,  2.78s/it]"
     ]
    },
    {
     "name": "stdout",
     "output_type": "stream",
     "text": [
      "Number of boxes found:  1\n",
      "iterations:  1159\n",
      "heatmap len:  10\n",
      "Number of boxes found:  4\n",
      "Number of boxes found:  6\n",
      "Number of boxes found:  3\n"
     ]
    },
    {
     "name": "stderr",
     "output_type": "stream",
     "text": [
      "\r",
      " 91%|█████████▏| 1152/1261 [53:06<05:01,  2.77s/it]"
     ]
    },
    {
     "name": "stdout",
     "output_type": "stream",
     "text": [
      "Number of boxes found:  1\n",
      "iterations:  1160\n",
      "heatmap len:  10\n",
      "Number of boxes found:  6\n",
      "Number of boxes found:  8\n",
      "Number of boxes found:  3\n"
     ]
    },
    {
     "name": "stderr",
     "output_type": "stream",
     "text": [
      "\r",
      " 91%|█████████▏| 1153/1261 [53:09<04:59,  2.77s/it]"
     ]
    },
    {
     "name": "stdout",
     "output_type": "stream",
     "text": [
      "Number of boxes found:  1\n",
      "iterations:  1161\n",
      "heatmap len:  10\n",
      "Number of boxes found:  5\n",
      "Number of boxes found:  6\n",
      "Number of boxes found:  3\n"
     ]
    },
    {
     "name": "stderr",
     "output_type": "stream",
     "text": [
      "\r",
      " 92%|█████████▏| 1154/1261 [53:12<04:57,  2.78s/it]"
     ]
    },
    {
     "name": "stdout",
     "output_type": "stream",
     "text": [
      "Number of boxes found:  1\n",
      "iterations:  1162\n",
      "heatmap len:  10\n",
      "Number of boxes found:  5\n",
      "Number of boxes found:  8\n",
      "Number of boxes found:  3\n"
     ]
    },
    {
     "name": "stderr",
     "output_type": "stream",
     "text": [
      "\r",
      " 92%|█████████▏| 1155/1261 [53:15<04:55,  2.79s/it]"
     ]
    },
    {
     "name": "stdout",
     "output_type": "stream",
     "text": [
      "Number of boxes found:  0\n",
      "iterations:  1163\n",
      "heatmap len:  10\n",
      "Number of boxes found:  5\n",
      "Number of boxes found:  7\n",
      "Number of boxes found:  3\n"
     ]
    },
    {
     "name": "stderr",
     "output_type": "stream",
     "text": [
      "\r",
      " 92%|█████████▏| 1156/1261 [53:18<04:57,  2.83s/it]"
     ]
    },
    {
     "name": "stdout",
     "output_type": "stream",
     "text": [
      "Number of boxes found:  0\n",
      "iterations:  1164\n",
      "heatmap len:  10\n",
      "Number of boxes found:  3\n",
      "Number of boxes found:  6\n",
      "Number of boxes found:  2\n"
     ]
    },
    {
     "name": "stderr",
     "output_type": "stream",
     "text": [
      "\r",
      " 92%|█████████▏| 1157/1261 [53:21<04:55,  2.84s/it]"
     ]
    },
    {
     "name": "stdout",
     "output_type": "stream",
     "text": [
      "Number of boxes found:  0\n",
      "iterations:  1165\n",
      "heatmap len:  10\n",
      "Number of boxes found:  8\n",
      "Number of boxes found:  4\n",
      "Number of boxes found:  2\n"
     ]
    },
    {
     "name": "stderr",
     "output_type": "stream",
     "text": [
      "\r",
      " 92%|█████████▏| 1158/1261 [53:24<05:02,  2.93s/it]"
     ]
    },
    {
     "name": "stdout",
     "output_type": "stream",
     "text": [
      "Number of boxes found:  0\n",
      "iterations:  1166\n",
      "heatmap len:  10\n",
      "Number of boxes found:  7\n",
      "Number of boxes found:  6\n",
      "Number of boxes found:  3\n"
     ]
    },
    {
     "name": "stderr",
     "output_type": "stream",
     "text": [
      "\r",
      " 92%|█████████▏| 1159/1261 [53:27<04:56,  2.91s/it]"
     ]
    },
    {
     "name": "stdout",
     "output_type": "stream",
     "text": [
      "Number of boxes found:  0\n",
      "iterations:  1167\n",
      "heatmap len:  10\n",
      "Number of boxes found:  6\n",
      "Number of boxes found:  5\n",
      "Number of boxes found:  3\n"
     ]
    },
    {
     "name": "stderr",
     "output_type": "stream",
     "text": [
      "\r",
      " 92%|█████████▏| 1160/1261 [53:29<04:50,  2.87s/it]"
     ]
    },
    {
     "name": "stdout",
     "output_type": "stream",
     "text": [
      "Number of boxes found:  0\n",
      "iterations:  1168\n",
      "heatmap len:  10\n",
      "Number of boxes found:  6\n",
      "Number of boxes found:  9\n",
      "Number of boxes found:  3\n"
     ]
    },
    {
     "name": "stderr",
     "output_type": "stream",
     "text": [
      "\r",
      " 92%|█████████▏| 1161/1261 [53:32<04:49,  2.89s/it]"
     ]
    },
    {
     "name": "stdout",
     "output_type": "stream",
     "text": [
      "Number of boxes found:  1\n",
      "iterations:  1169\n",
      "heatmap len:  10\n",
      "Number of boxes found:  6\n",
      "Number of boxes found:  7\n",
      "Number of boxes found:  2\n"
     ]
    },
    {
     "name": "stderr",
     "output_type": "stream",
     "text": [
      "\r",
      " 92%|█████████▏| 1162/1261 [53:35<04:49,  2.92s/it]"
     ]
    },
    {
     "name": "stdout",
     "output_type": "stream",
     "text": [
      "Number of boxes found:  1\n",
      "iterations:  1170\n",
      "heatmap len:  10\n",
      "Number of boxes found:  5\n",
      "Number of boxes found:  8\n",
      "Number of boxes found:  2\n"
     ]
    },
    {
     "name": "stderr",
     "output_type": "stream",
     "text": [
      "\r",
      " 92%|█████████▏| 1163/1261 [53:38<04:43,  2.89s/it]"
     ]
    },
    {
     "name": "stdout",
     "output_type": "stream",
     "text": [
      "Number of boxes found:  0\n",
      "iterations:  1171\n",
      "heatmap len:  10\n",
      "Number of boxes found:  9\n",
      "Number of boxes found:  8\n",
      "Number of boxes found:  3\n"
     ]
    },
    {
     "name": "stderr",
     "output_type": "stream",
     "text": [
      "\r",
      " 92%|█████████▏| 1164/1261 [53:41<04:36,  2.85s/it]"
     ]
    },
    {
     "name": "stdout",
     "output_type": "stream",
     "text": [
      "Number of boxes found:  0\n",
      "iterations:  1172\n",
      "heatmap len:  10\n",
      "Number of boxes found:  7\n",
      "Number of boxes found:  8\n",
      "Number of boxes found:  3\n"
     ]
    },
    {
     "name": "stderr",
     "output_type": "stream",
     "text": [
      "\r",
      " 92%|█████████▏| 1165/1261 [53:44<04:36,  2.88s/it]"
     ]
    },
    {
     "name": "stdout",
     "output_type": "stream",
     "text": [
      "Number of boxes found:  0\n",
      "iterations:  1173\n",
      "heatmap len:  10\n",
      "Number of boxes found:  8\n",
      "Number of boxes found:  9\n",
      "Number of boxes found:  4\n"
     ]
    },
    {
     "name": "stderr",
     "output_type": "stream",
     "text": [
      "\r",
      " 92%|█████████▏| 1166/1261 [53:47<04:32,  2.87s/it]"
     ]
    },
    {
     "name": "stdout",
     "output_type": "stream",
     "text": [
      "Number of boxes found:  0\n",
      "iterations:  1174\n",
      "heatmap len:  10\n",
      "Number of boxes found:  6\n",
      "Number of boxes found:  10\n",
      "Number of boxes found:  3\n"
     ]
    },
    {
     "name": "stderr",
     "output_type": "stream",
     "text": [
      "\r",
      " 93%|█████████▎| 1167/1261 [53:50<04:29,  2.86s/it]"
     ]
    },
    {
     "name": "stdout",
     "output_type": "stream",
     "text": [
      "Number of boxes found:  0\n",
      "iterations:  1175\n",
      "heatmap len:  10\n",
      "Number of boxes found:  10\n",
      "Number of boxes found:  10\n",
      "Number of boxes found:  4\n"
     ]
    },
    {
     "name": "stderr",
     "output_type": "stream",
     "text": [
      "\r",
      " 93%|█████████▎| 1168/1261 [53:52<04:22,  2.82s/it]"
     ]
    },
    {
     "name": "stdout",
     "output_type": "stream",
     "text": [
      "Number of boxes found:  0\n",
      "iterations:  1176\n",
      "heatmap len:  10\n",
      "Number of boxes found:  8\n",
      "Number of boxes found:  9\n",
      "Number of boxes found:  4\n"
     ]
    },
    {
     "name": "stderr",
     "output_type": "stream",
     "text": [
      "\r",
      " 93%|█████████▎| 1169/1261 [53:55<04:20,  2.83s/it]"
     ]
    },
    {
     "name": "stdout",
     "output_type": "stream",
     "text": [
      "Number of boxes found:  0\n",
      "iterations:  1177\n",
      "heatmap len:  10\n",
      "Number of boxes found:  9\n",
      "Number of boxes found:  10\n",
      "Number of boxes found:  4\n"
     ]
    },
    {
     "name": "stderr",
     "output_type": "stream",
     "text": [
      "\r",
      " 93%|█████████▎| 1170/1261 [53:58<04:16,  2.81s/it]"
     ]
    },
    {
     "name": "stdout",
     "output_type": "stream",
     "text": [
      "Number of boxes found:  0\n",
      "iterations:  1178\n",
      "heatmap len:  10\n",
      "Number of boxes found:  10\n",
      "Number of boxes found:  6\n",
      "Number of boxes found:  2\n"
     ]
    },
    {
     "name": "stderr",
     "output_type": "stream",
     "text": [
      "\r",
      " 93%|█████████▎| 1171/1261 [54:01<04:14,  2.82s/it]"
     ]
    },
    {
     "name": "stdout",
     "output_type": "stream",
     "text": [
      "Number of boxes found:  1\n",
      "iterations:  1179\n",
      "heatmap len:  10\n",
      "Number of boxes found:  9\n",
      "Number of boxes found:  7\n",
      "Number of boxes found:  2\n"
     ]
    },
    {
     "name": "stderr",
     "output_type": "stream",
     "text": [
      "\r",
      " 93%|█████████▎| 1172/1261 [54:04<04:09,  2.80s/it]"
     ]
    },
    {
     "name": "stdout",
     "output_type": "stream",
     "text": [
      "Number of boxes found:  1\n",
      "iterations:  1180\n",
      "heatmap len:  10\n",
      "Number of boxes found:  7\n",
      "Number of boxes found:  7\n",
      "Number of boxes found:  3\n"
     ]
    },
    {
     "name": "stderr",
     "output_type": "stream",
     "text": [
      "\r",
      " 93%|█████████▎| 1173/1261 [54:06<04:07,  2.81s/it]"
     ]
    },
    {
     "name": "stdout",
     "output_type": "stream",
     "text": [
      "Number of boxes found:  1\n",
      "iterations:  1181\n",
      "heatmap len:  10\n",
      "Number of boxes found:  5\n",
      "Number of boxes found:  6\n",
      "Number of boxes found:  3\n"
     ]
    },
    {
     "name": "stderr",
     "output_type": "stream",
     "text": [
      "\r",
      " 93%|█████████▎| 1174/1261 [54:09<04:05,  2.82s/it]"
     ]
    },
    {
     "name": "stdout",
     "output_type": "stream",
     "text": [
      "Number of boxes found:  1\n",
      "iterations:  1182\n",
      "heatmap len:  10\n",
      "Number of boxes found:  9\n",
      "Number of boxes found:  8\n",
      "Number of boxes found:  3\n"
     ]
    },
    {
     "name": "stderr",
     "output_type": "stream",
     "text": [
      "\r",
      " 93%|█████████▎| 1175/1261 [54:12<04:08,  2.89s/it]"
     ]
    },
    {
     "name": "stdout",
     "output_type": "stream",
     "text": [
      "Number of boxes found:  1\n",
      "iterations:  1183\n",
      "heatmap len:  10\n",
      "Number of boxes found:  6\n",
      "Number of boxes found:  6\n",
      "Number of boxes found:  3\n"
     ]
    },
    {
     "name": "stderr",
     "output_type": "stream",
     "text": [
      "\r",
      " 93%|█████████▎| 1176/1261 [54:15<04:05,  2.89s/it]"
     ]
    },
    {
     "name": "stdout",
     "output_type": "stream",
     "text": [
      "Number of boxes found:  0\n",
      "iterations:  1184\n",
      "heatmap len:  10\n",
      "Number of boxes found:  9\n",
      "Number of boxes found:  6\n",
      "Number of boxes found:  3\n"
     ]
    },
    {
     "name": "stderr",
     "output_type": "stream",
     "text": [
      "\r",
      " 93%|█████████▎| 1177/1261 [54:18<04:05,  2.92s/it]"
     ]
    },
    {
     "name": "stdout",
     "output_type": "stream",
     "text": [
      "Number of boxes found:  1\n",
      "iterations:  1185\n",
      "heatmap len:  10\n",
      "Number of boxes found:  8\n",
      "Number of boxes found:  6\n",
      "Number of boxes found:  5\n"
     ]
    },
    {
     "name": "stderr",
     "output_type": "stream",
     "text": [
      "\r",
      " 93%|█████████▎| 1178/1261 [54:21<04:02,  2.92s/it]"
     ]
    },
    {
     "name": "stdout",
     "output_type": "stream",
     "text": [
      "Number of boxes found:  0\n",
      "iterations:  1186\n",
      "heatmap len:  10\n",
      "Number of boxes found:  5\n",
      "Number of boxes found:  5\n",
      "Number of boxes found:  4\n"
     ]
    },
    {
     "name": "stderr",
     "output_type": "stream",
     "text": [
      "\r",
      " 93%|█████████▎| 1179/1261 [54:25<04:14,  3.11s/it]"
     ]
    },
    {
     "name": "stdout",
     "output_type": "stream",
     "text": [
      "Number of boxes found:  0\n",
      "iterations:  1187\n",
      "heatmap len:  10\n",
      "Number of boxes found:  7\n",
      "Number of boxes found:  6\n",
      "Number of boxes found:  3\n"
     ]
    },
    {
     "name": "stderr",
     "output_type": "stream",
     "text": [
      "\r",
      " 94%|█████████▎| 1180/1261 [54:28<04:06,  3.04s/it]"
     ]
    },
    {
     "name": "stdout",
     "output_type": "stream",
     "text": [
      "Number of boxes found:  0\n",
      "iterations:  1188\n",
      "heatmap len:  10\n",
      "Number of boxes found:  8\n",
      "Number of boxes found:  8\n",
      "Number of boxes found:  4\n"
     ]
    },
    {
     "name": "stderr",
     "output_type": "stream",
     "text": [
      "\r",
      " 94%|█████████▎| 1181/1261 [54:30<03:57,  2.96s/it]"
     ]
    },
    {
     "name": "stdout",
     "output_type": "stream",
     "text": [
      "Number of boxes found:  1\n",
      "iterations:  1189\n",
      "heatmap len:  10\n",
      "Number of boxes found:  8\n",
      "Number of boxes found:  5\n",
      "Number of boxes found:  5\n"
     ]
    },
    {
     "name": "stderr",
     "output_type": "stream",
     "text": [
      "\r",
      " 94%|█████████▎| 1182/1261 [54:33<03:50,  2.91s/it]"
     ]
    },
    {
     "name": "stdout",
     "output_type": "stream",
     "text": [
      "Number of boxes found:  1\n",
      "iterations:  1190\n",
      "heatmap len:  10\n",
      "Number of boxes found:  9\n",
      "Number of boxes found:  5\n",
      "Number of boxes found:  4\n"
     ]
    },
    {
     "name": "stderr",
     "output_type": "stream",
     "text": [
      "\r",
      " 94%|█████████▍| 1183/1261 [54:36<03:46,  2.90s/it]"
     ]
    },
    {
     "name": "stdout",
     "output_type": "stream",
     "text": [
      "Number of boxes found:  0\n",
      "iterations:  1191\n",
      "heatmap len:  10\n",
      "Number of boxes found:  5\n",
      "Number of boxes found:  5\n",
      "Number of boxes found:  4\n"
     ]
    },
    {
     "name": "stderr",
     "output_type": "stream",
     "text": [
      "\r",
      " 94%|█████████▍| 1184/1261 [54:39<03:42,  2.89s/it]"
     ]
    },
    {
     "name": "stdout",
     "output_type": "stream",
     "text": [
      "Number of boxes found:  1\n",
      "iterations:  1192\n",
      "heatmap len:  10\n",
      "Number of boxes found:  11\n",
      "Number of boxes found:  5\n",
      "Number of boxes found:  3\n"
     ]
    },
    {
     "name": "stderr",
     "output_type": "stream",
     "text": [
      "\r",
      " 94%|█████████▍| 1185/1261 [54:42<03:37,  2.86s/it]"
     ]
    },
    {
     "name": "stdout",
     "output_type": "stream",
     "text": [
      "Number of boxes found:  0\n",
      "iterations:  1193\n",
      "heatmap len:  10\n",
      "Number of boxes found:  8\n",
      "Number of boxes found:  5\n",
      "Number of boxes found:  4\n"
     ]
    },
    {
     "name": "stderr",
     "output_type": "stream",
     "text": [
      "\r",
      " 94%|█████████▍| 1186/1261 [54:45<03:36,  2.88s/it]"
     ]
    },
    {
     "name": "stdout",
     "output_type": "stream",
     "text": [
      "Number of boxes found:  0\n",
      "iterations:  1194\n",
      "heatmap len:  10\n",
      "Number of boxes found:  8\n",
      "Number of boxes found:  4\n",
      "Number of boxes found:  4\n"
     ]
    },
    {
     "name": "stderr",
     "output_type": "stream",
     "text": [
      "\r",
      " 94%|█████████▍| 1187/1261 [54:48<03:36,  2.92s/it]"
     ]
    },
    {
     "name": "stdout",
     "output_type": "stream",
     "text": [
      "Number of boxes found:  1\n",
      "iterations:  1195\n",
      "heatmap len:  10\n",
      "Number of boxes found:  6\n",
      "Number of boxes found:  6\n",
      "Number of boxes found:  4\n"
     ]
    },
    {
     "name": "stderr",
     "output_type": "stream",
     "text": [
      "\r",
      " 94%|█████████▍| 1188/1261 [54:50<03:29,  2.87s/it]"
     ]
    },
    {
     "name": "stdout",
     "output_type": "stream",
     "text": [
      "Number of boxes found:  1\n",
      "iterations:  1196\n",
      "heatmap len:  10\n",
      "Number of boxes found:  9\n",
      "Number of boxes found:  6\n",
      "Number of boxes found:  4\n"
     ]
    },
    {
     "name": "stderr",
     "output_type": "stream",
     "text": [
      "\r",
      " 94%|█████████▍| 1189/1261 [54:53<03:24,  2.84s/it]"
     ]
    },
    {
     "name": "stdout",
     "output_type": "stream",
     "text": [
      "Number of boxes found:  0\n",
      "iterations:  1197\n",
      "heatmap len:  10\n",
      "Number of boxes found:  8\n",
      "Number of boxes found:  6\n",
      "Number of boxes found:  4\n"
     ]
    },
    {
     "name": "stderr",
     "output_type": "stream",
     "text": [
      "\r",
      " 94%|█████████▍| 1190/1261 [54:56<03:23,  2.87s/it]"
     ]
    },
    {
     "name": "stdout",
     "output_type": "stream",
     "text": [
      "Number of boxes found:  0\n",
      "iterations:  1198\n",
      "heatmap len:  10\n",
      "Number of boxes found:  9\n",
      "Number of boxes found:  8\n",
      "Number of boxes found:  4\n"
     ]
    },
    {
     "name": "stderr",
     "output_type": "stream",
     "text": [
      "\r",
      " 94%|█████████▍| 1191/1261 [54:59<03:18,  2.83s/it]"
     ]
    },
    {
     "name": "stdout",
     "output_type": "stream",
     "text": [
      "Number of boxes found:  0\n",
      "iterations:  1199\n",
      "heatmap len:  10\n",
      "Number of boxes found:  11\n",
      "Number of boxes found:  5\n",
      "Number of boxes found:  3\n"
     ]
    },
    {
     "name": "stderr",
     "output_type": "stream",
     "text": [
      "\r",
      " 95%|█████████▍| 1192/1261 [55:01<03:12,  2.80s/it]"
     ]
    },
    {
     "name": "stdout",
     "output_type": "stream",
     "text": [
      "Number of boxes found:  0\n",
      "iterations:  1200\n",
      "heatmap len:  10\n",
      "Number of boxes found:  10\n",
      "Number of boxes found:  5\n",
      "Number of boxes found:  4\n"
     ]
    },
    {
     "name": "stderr",
     "output_type": "stream",
     "text": [
      "\r",
      " 95%|█████████▍| 1193/1261 [55:04<03:09,  2.78s/it]"
     ]
    },
    {
     "name": "stdout",
     "output_type": "stream",
     "text": [
      "Number of boxes found:  0\n",
      "iterations:  1201\n",
      "heatmap len:  10\n",
      "Number of boxes found:  9\n",
      "Number of boxes found:  8\n",
      "Number of boxes found:  3\n"
     ]
    },
    {
     "name": "stderr",
     "output_type": "stream",
     "text": [
      "\r",
      " 95%|█████████▍| 1194/1261 [55:07<03:07,  2.79s/it]"
     ]
    },
    {
     "name": "stdout",
     "output_type": "stream",
     "text": [
      "Number of boxes found:  0\n",
      "iterations:  1202\n",
      "heatmap len:  10\n",
      "Number of boxes found:  6\n",
      "Number of boxes found:  6\n",
      "Number of boxes found:  3\n"
     ]
    },
    {
     "name": "stderr",
     "output_type": "stream",
     "text": [
      "\r",
      " 95%|█████████▍| 1195/1261 [55:10<03:05,  2.81s/it]"
     ]
    },
    {
     "name": "stdout",
     "output_type": "stream",
     "text": [
      "Number of boxes found:  0\n",
      "iterations:  1203\n",
      "heatmap len:  10\n",
      "Number of boxes found:  10\n",
      "Number of boxes found:  5\n",
      "Number of boxes found:  4\n"
     ]
    },
    {
     "name": "stderr",
     "output_type": "stream",
     "text": [
      "\r",
      " 95%|█████████▍| 1196/1261 [55:13<03:03,  2.82s/it]"
     ]
    },
    {
     "name": "stdout",
     "output_type": "stream",
     "text": [
      "Number of boxes found:  0\n",
      "iterations:  1204\n",
      "heatmap len:  10\n",
      "Number of boxes found:  8\n",
      "Number of boxes found:  7\n",
      "Number of boxes found:  3\n"
     ]
    },
    {
     "name": "stderr",
     "output_type": "stream",
     "text": [
      "\r",
      " 95%|█████████▍| 1197/1261 [55:16<02:59,  2.81s/it]"
     ]
    },
    {
     "name": "stdout",
     "output_type": "stream",
     "text": [
      "Number of boxes found:  0\n",
      "iterations:  1205\n",
      "heatmap len:  10\n",
      "Number of boxes found:  6\n",
      "Number of boxes found:  5\n",
      "Number of boxes found:  3\n"
     ]
    },
    {
     "name": "stderr",
     "output_type": "stream",
     "text": [
      "\r",
      " 95%|█████████▌| 1198/1261 [55:19<03:01,  2.88s/it]"
     ]
    },
    {
     "name": "stdout",
     "output_type": "stream",
     "text": [
      "Number of boxes found:  0\n",
      "iterations:  1206\n",
      "heatmap len:  10\n",
      "Number of boxes found:  5\n",
      "Number of boxes found:  5\n",
      "Number of boxes found:  3\n"
     ]
    },
    {
     "name": "stderr",
     "output_type": "stream",
     "text": [
      "\r",
      " 95%|█████████▌| 1199/1261 [55:21<02:58,  2.87s/it]"
     ]
    },
    {
     "name": "stdout",
     "output_type": "stream",
     "text": [
      "Number of boxes found:  1\n",
      "iterations:  1207\n",
      "heatmap len:  10\n",
      "Number of boxes found:  9\n",
      "Number of boxes found:  8\n",
      "Number of boxes found:  3\n"
     ]
    },
    {
     "name": "stderr",
     "output_type": "stream",
     "text": [
      "\r",
      " 95%|█████████▌| 1200/1261 [55:25<03:00,  2.96s/it]"
     ]
    },
    {
     "name": "stdout",
     "output_type": "stream",
     "text": [
      "Number of boxes found:  1\n",
      "iterations:  1208\n",
      "heatmap len:  10\n",
      "Number of boxes found:  8\n",
      "Number of boxes found:  5\n",
      "Number of boxes found:  3\n"
     ]
    },
    {
     "name": "stderr",
     "output_type": "stream",
     "text": [
      "\r",
      " 95%|█████████▌| 1201/1261 [55:28<02:58,  2.97s/it]"
     ]
    },
    {
     "name": "stdout",
     "output_type": "stream",
     "text": [
      "Number of boxes found:  0\n",
      "iterations:  1209\n",
      "heatmap len:  10\n",
      "Number of boxes found:  6\n",
      "Number of boxes found:  6\n",
      "Number of boxes found:  2\n"
     ]
    },
    {
     "name": "stderr",
     "output_type": "stream",
     "text": [
      "\r",
      " 95%|█████████▌| 1202/1261 [55:30<02:53,  2.94s/it]"
     ]
    },
    {
     "name": "stdout",
     "output_type": "stream",
     "text": [
      "Number of boxes found:  0\n",
      "iterations:  1210\n",
      "heatmap len:  10\n",
      "Number of boxes found:  8\n",
      "Number of boxes found:  5\n",
      "Number of boxes found:  2\n"
     ]
    },
    {
     "name": "stderr",
     "output_type": "stream",
     "text": [
      "\r",
      " 95%|█████████▌| 1203/1261 [55:33<02:51,  2.96s/it]"
     ]
    },
    {
     "name": "stdout",
     "output_type": "stream",
     "text": [
      "Number of boxes found:  0\n",
      "iterations:  1211\n",
      "heatmap len:  10\n",
      "Number of boxes found:  6\n",
      "Number of boxes found:  5\n",
      "Number of boxes found:  2\n"
     ]
    },
    {
     "name": "stderr",
     "output_type": "stream",
     "text": [
      "\r",
      " 95%|█████████▌| 1204/1261 [55:36<02:48,  2.95s/it]"
     ]
    },
    {
     "name": "stdout",
     "output_type": "stream",
     "text": [
      "Number of boxes found:  0\n",
      "iterations:  1212\n",
      "heatmap len:  10\n",
      "Number of boxes found:  6\n",
      "Number of boxes found:  5\n",
      "Number of boxes found:  3\n"
     ]
    },
    {
     "name": "stderr",
     "output_type": "stream",
     "text": [
      "\r",
      " 96%|█████████▌| 1205/1261 [55:39<02:44,  2.93s/it]"
     ]
    },
    {
     "name": "stdout",
     "output_type": "stream",
     "text": [
      "Number of boxes found:  1\n",
      "iterations:  1213\n",
      "heatmap len:  10\n",
      "Number of boxes found:  8\n",
      "Number of boxes found:  5\n",
      "Number of boxes found:  2\n"
     ]
    },
    {
     "name": "stderr",
     "output_type": "stream",
     "text": [
      "\r",
      " 96%|█████████▌| 1206/1261 [55:42<02:44,  2.98s/it]"
     ]
    },
    {
     "name": "stdout",
     "output_type": "stream",
     "text": [
      "Number of boxes found:  0\n",
      "iterations:  1214\n",
      "heatmap len:  10\n",
      "Number of boxes found:  8\n",
      "Number of boxes found:  4\n",
      "Number of boxes found:  2\n"
     ]
    },
    {
     "name": "stderr",
     "output_type": "stream",
     "text": [
      "\r",
      " 96%|█████████▌| 1207/1261 [55:45<02:37,  2.92s/it]"
     ]
    },
    {
     "name": "stdout",
     "output_type": "stream",
     "text": [
      "Number of boxes found:  0\n",
      "iterations:  1215\n",
      "heatmap len:  10\n",
      "Number of boxes found:  7\n",
      "Number of boxes found:  7\n",
      "Number of boxes found:  3\n"
     ]
    },
    {
     "name": "stderr",
     "output_type": "stream",
     "text": [
      "\r",
      " 96%|█████████▌| 1208/1261 [55:48<02:34,  2.92s/it]"
     ]
    },
    {
     "name": "stdout",
     "output_type": "stream",
     "text": [
      "Number of boxes found:  0\n",
      "iterations:  1216\n",
      "heatmap len:  10\n",
      "Number of boxes found:  8\n",
      "Number of boxes found:  5\n",
      "Number of boxes found:  2\n"
     ]
    },
    {
     "name": "stderr",
     "output_type": "stream",
     "text": [
      "\r",
      " 96%|█████████▌| 1209/1261 [55:51<02:30,  2.90s/it]"
     ]
    },
    {
     "name": "stdout",
     "output_type": "stream",
     "text": [
      "Number of boxes found:  0\n",
      "iterations:  1217\n",
      "heatmap len:  10\n",
      "Number of boxes found:  8\n",
      "Number of boxes found:  6\n",
      "Number of boxes found:  2\n"
     ]
    },
    {
     "name": "stderr",
     "output_type": "stream",
     "text": [
      "\r",
      " 96%|█████████▌| 1210/1261 [55:54<02:25,  2.85s/it]"
     ]
    },
    {
     "name": "stdout",
     "output_type": "stream",
     "text": [
      "Number of boxes found:  0\n",
      "iterations:  1218\n",
      "heatmap len:  10\n",
      "Number of boxes found:  6\n",
      "Number of boxes found:  4\n",
      "Number of boxes found:  3\n"
     ]
    },
    {
     "name": "stderr",
     "output_type": "stream",
     "text": [
      "\r",
      " 96%|█████████▌| 1211/1261 [55:56<02:21,  2.84s/it]"
     ]
    },
    {
     "name": "stdout",
     "output_type": "stream",
     "text": [
      "Number of boxes found:  0\n",
      "iterations:  1219\n",
      "heatmap len:  10\n",
      "Number of boxes found:  9\n",
      "Number of boxes found:  6\n",
      "Number of boxes found:  3\n"
     ]
    },
    {
     "name": "stderr",
     "output_type": "stream",
     "text": [
      "\r",
      " 96%|█████████▌| 1212/1261 [55:59<02:17,  2.81s/it]"
     ]
    },
    {
     "name": "stdout",
     "output_type": "stream",
     "text": [
      "Number of boxes found:  0\n",
      "iterations:  1220\n",
      "heatmap len:  10\n",
      "Number of boxes found:  7\n",
      "Number of boxes found:  6\n",
      "Number of boxes found:  2\n"
     ]
    },
    {
     "name": "stderr",
     "output_type": "stream",
     "text": [
      "\r",
      " 96%|█████████▌| 1213/1261 [56:02<02:13,  2.78s/it]"
     ]
    },
    {
     "name": "stdout",
     "output_type": "stream",
     "text": [
      "Number of boxes found:  0\n",
      "iterations:  1221\n",
      "heatmap len:  10\n",
      "Number of boxes found:  8\n",
      "Number of boxes found:  5\n",
      "Number of boxes found:  2\n"
     ]
    },
    {
     "name": "stderr",
     "output_type": "stream",
     "text": [
      "\r",
      " 96%|█████████▋| 1214/1261 [56:05<02:08,  2.73s/it]"
     ]
    },
    {
     "name": "stdout",
     "output_type": "stream",
     "text": [
      "Number of boxes found:  0\n",
      "iterations:  1222\n",
      "heatmap len:  10\n",
      "Number of boxes found:  9\n",
      "Number of boxes found:  5\n",
      "Number of boxes found:  3\n"
     ]
    },
    {
     "name": "stderr",
     "output_type": "stream",
     "text": [
      "\r",
      " 96%|█████████▋| 1215/1261 [56:07<02:05,  2.73s/it]"
     ]
    },
    {
     "name": "stdout",
     "output_type": "stream",
     "text": [
      "Number of boxes found:  0\n",
      "iterations:  1223\n",
      "heatmap len:  10\n",
      "Number of boxes found:  7\n",
      "Number of boxes found:  5\n",
      "Number of boxes found:  3\n"
     ]
    },
    {
     "name": "stderr",
     "output_type": "stream",
     "text": [
      "\r",
      " 96%|█████████▋| 1216/1261 [56:10<02:01,  2.71s/it]"
     ]
    },
    {
     "name": "stdout",
     "output_type": "stream",
     "text": [
      "Number of boxes found:  1\n",
      "iterations:  1224\n",
      "heatmap len:  10\n",
      "Number of boxes found:  9\n",
      "Number of boxes found:  6\n",
      "Number of boxes found:  3\n"
     ]
    },
    {
     "name": "stderr",
     "output_type": "stream",
     "text": [
      "\r",
      " 97%|█████████▋| 1217/1261 [56:13<01:58,  2.69s/it]"
     ]
    },
    {
     "name": "stdout",
     "output_type": "stream",
     "text": [
      "Number of boxes found:  0\n",
      "iterations:  1225\n",
      "heatmap len:  10\n",
      "Number of boxes found:  6\n",
      "Number of boxes found:  5\n",
      "Number of boxes found:  4\n"
     ]
    },
    {
     "name": "stderr",
     "output_type": "stream",
     "text": [
      "\r",
      " 97%|█████████▋| 1218/1261 [56:15<01:57,  2.74s/it]"
     ]
    },
    {
     "name": "stdout",
     "output_type": "stream",
     "text": [
      "Number of boxes found:  0\n",
      "iterations:  1226\n",
      "heatmap len:  10\n",
      "Number of boxes found:  6\n",
      "Number of boxes found:  5\n",
      "Number of boxes found:  3\n"
     ]
    },
    {
     "name": "stderr",
     "output_type": "stream",
     "text": [
      "\r",
      " 97%|█████████▋| 1219/1261 [56:18<01:57,  2.80s/it]"
     ]
    },
    {
     "name": "stdout",
     "output_type": "stream",
     "text": [
      "Number of boxes found:  0\n",
      "iterations:  1227\n",
      "heatmap len:  10\n",
      "Number of boxes found:  7\n",
      "Number of boxes found:  3\n",
      "Number of boxes found:  2\n"
     ]
    },
    {
     "name": "stderr",
     "output_type": "stream",
     "text": [
      "\r",
      " 97%|█████████▋| 1220/1261 [56:21<01:57,  2.87s/it]"
     ]
    },
    {
     "name": "stdout",
     "output_type": "stream",
     "text": [
      "Number of boxes found:  0\n",
      "iterations:  1228\n",
      "heatmap len:  10\n",
      "Number of boxes found:  6\n",
      "Number of boxes found:  4\n",
      "Number of boxes found:  2\n"
     ]
    },
    {
     "name": "stderr",
     "output_type": "stream",
     "text": [
      "\r",
      " 97%|█████████▋| 1221/1261 [56:25<02:00,  3.02s/it]"
     ]
    },
    {
     "name": "stdout",
     "output_type": "stream",
     "text": [
      "Number of boxes found:  0\n",
      "iterations:  1229\n",
      "heatmap len:  10\n",
      "Number of boxes found:  10\n",
      "Number of boxes found:  4\n",
      "Number of boxes found:  3\n"
     ]
    },
    {
     "name": "stderr",
     "output_type": "stream",
     "text": [
      "\r",
      " 97%|█████████▋| 1222/1261 [56:28<01:57,  3.00s/it]"
     ]
    },
    {
     "name": "stdout",
     "output_type": "stream",
     "text": [
      "Number of boxes found:  0\n",
      "iterations:  1230\n",
      "heatmap len:  10\n",
      "Number of boxes found:  7\n",
      "Number of boxes found:  3\n",
      "Number of boxes found:  3\n"
     ]
    },
    {
     "name": "stderr",
     "output_type": "stream",
     "text": [
      "\r",
      " 97%|█████████▋| 1223/1261 [56:31<01:51,  2.94s/it]"
     ]
    },
    {
     "name": "stdout",
     "output_type": "stream",
     "text": [
      "Number of boxes found:  0\n",
      "iterations:  1231\n",
      "heatmap len:  10\n",
      "Number of boxes found:  6\n",
      "Number of boxes found:  4\n",
      "Number of boxes found:  3\n"
     ]
    },
    {
     "name": "stderr",
     "output_type": "stream",
     "text": [
      "\r",
      " 97%|█████████▋| 1224/1261 [56:33<01:46,  2.89s/it]"
     ]
    },
    {
     "name": "stdout",
     "output_type": "stream",
     "text": [
      "Number of boxes found:  0\n",
      "iterations:  1232\n",
      "heatmap len:  10\n",
      "Number of boxes found:  5\n",
      "Number of boxes found:  5\n",
      "Number of boxes found:  3\n"
     ]
    },
    {
     "name": "stderr",
     "output_type": "stream",
     "text": [
      "\r",
      " 97%|█████████▋| 1225/1261 [56:36<01:43,  2.89s/it]"
     ]
    },
    {
     "name": "stdout",
     "output_type": "stream",
     "text": [
      "Number of boxes found:  0\n",
      "iterations:  1233\n",
      "heatmap len:  10\n",
      "Number of boxes found:  7\n",
      "Number of boxes found:  5\n",
      "Number of boxes found:  3\n"
     ]
    },
    {
     "name": "stderr",
     "output_type": "stream",
     "text": [
      "\r",
      " 97%|█████████▋| 1226/1261 [56:39<01:39,  2.85s/it]"
     ]
    },
    {
     "name": "stdout",
     "output_type": "stream",
     "text": [
      "Number of boxes found:  1\n",
      "iterations:  1234\n",
      "heatmap len:  10\n",
      "Number of boxes found:  7\n",
      "Number of boxes found:  4\n",
      "Number of boxes found:  3\n"
     ]
    },
    {
     "name": "stderr",
     "output_type": "stream",
     "text": [
      "\r",
      " 97%|█████████▋| 1227/1261 [56:42<01:36,  2.85s/it]"
     ]
    },
    {
     "name": "stdout",
     "output_type": "stream",
     "text": [
      "Number of boxes found:  1\n",
      "iterations:  1235\n",
      "heatmap len:  10\n",
      "Number of boxes found:  5\n",
      "Number of boxes found:  4\n",
      "Number of boxes found:  2\n"
     ]
    },
    {
     "name": "stderr",
     "output_type": "stream",
     "text": [
      "\r",
      " 97%|█████████▋| 1228/1261 [56:45<01:33,  2.82s/it]"
     ]
    },
    {
     "name": "stdout",
     "output_type": "stream",
     "text": [
      "Number of boxes found:  0\n",
      "iterations:  1236\n",
      "heatmap len:  10\n",
      "Number of boxes found:  9\n",
      "Number of boxes found:  4\n",
      "Number of boxes found:  1\n"
     ]
    },
    {
     "name": "stderr",
     "output_type": "stream",
     "text": [
      "\r",
      " 97%|█████████▋| 1229/1261 [56:48<01:32,  2.90s/it]"
     ]
    },
    {
     "name": "stdout",
     "output_type": "stream",
     "text": [
      "Number of boxes found:  0\n",
      "iterations:  1237\n",
      "heatmap len:  10\n",
      "Number of boxes found:  6\n",
      "Number of boxes found:  4\n",
      "Number of boxes found:  1\n"
     ]
    },
    {
     "name": "stderr",
     "output_type": "stream",
     "text": [
      "\r",
      " 98%|█████████▊| 1230/1261 [56:50<01:28,  2.86s/it]"
     ]
    },
    {
     "name": "stdout",
     "output_type": "stream",
     "text": [
      "Number of boxes found:  0\n",
      "iterations:  1238\n",
      "heatmap len:  10\n",
      "Number of boxes found:  4\n",
      "Number of boxes found:  4\n",
      "Number of boxes found:  1\n"
     ]
    },
    {
     "name": "stderr",
     "output_type": "stream",
     "text": [
      "\r",
      " 98%|█████████▊| 1231/1261 [56:53<01:24,  2.81s/it]"
     ]
    },
    {
     "name": "stdout",
     "output_type": "stream",
     "text": [
      "Number of boxes found:  0\n",
      "iterations:  1239\n",
      "heatmap len:  10\n",
      "Number of boxes found:  5\n",
      "Number of boxes found:  4\n",
      "Number of boxes found:  2\n"
     ]
    },
    {
     "name": "stderr",
     "output_type": "stream",
     "text": [
      "\r",
      " 98%|█████████▊| 1232/1261 [56:56<01:21,  2.80s/it]"
     ]
    },
    {
     "name": "stdout",
     "output_type": "stream",
     "text": [
      "Number of boxes found:  0\n",
      "iterations:  1240\n",
      "heatmap len:  10\n",
      "Number of boxes found:  5\n",
      "Number of boxes found:  4\n",
      "Number of boxes found:  2\n"
     ]
    },
    {
     "name": "stderr",
     "output_type": "stream",
     "text": [
      "\r",
      " 98%|█████████▊| 1233/1261 [56:59<01:18,  2.79s/it]"
     ]
    },
    {
     "name": "stdout",
     "output_type": "stream",
     "text": [
      "Number of boxes found:  0\n",
      "iterations:  1241\n",
      "heatmap len:  10\n",
      "Number of boxes found:  5\n",
      "Number of boxes found:  4\n",
      "Number of boxes found:  2\n"
     ]
    },
    {
     "name": "stderr",
     "output_type": "stream",
     "text": [
      "\r",
      " 98%|█████████▊| 1234/1261 [57:01<01:15,  2.79s/it]"
     ]
    },
    {
     "name": "stdout",
     "output_type": "stream",
     "text": [
      "Number of boxes found:  0\n",
      "iterations:  1242\n",
      "heatmap len:  10\n",
      "Number of boxes found:  8\n",
      "Number of boxes found:  4\n",
      "Number of boxes found:  2\n"
     ]
    },
    {
     "name": "stderr",
     "output_type": "stream",
     "text": [
      "\r",
      " 98%|█████████▊| 1235/1261 [57:04<01:12,  2.77s/it]"
     ]
    },
    {
     "name": "stdout",
     "output_type": "stream",
     "text": [
      "Number of boxes found:  0\n",
      "iterations:  1243\n",
      "heatmap len:  10\n",
      "Number of boxes found:  6\n",
      "Number of boxes found:  4\n",
      "Number of boxes found:  3\n"
     ]
    },
    {
     "name": "stderr",
     "output_type": "stream",
     "text": [
      "\r",
      " 98%|█████████▊| 1236/1261 [57:07<01:08,  2.76s/it]"
     ]
    },
    {
     "name": "stdout",
     "output_type": "stream",
     "text": [
      "Number of boxes found:  1\n",
      "iterations:  1244\n",
      "heatmap len:  10\n",
      "Number of boxes found:  7\n",
      "Number of boxes found:  5\n",
      "Number of boxes found:  2\n"
     ]
    },
    {
     "name": "stderr",
     "output_type": "stream",
     "text": [
      "\r",
      " 98%|█████████▊| 1237/1261 [57:10<01:06,  2.76s/it]"
     ]
    },
    {
     "name": "stdout",
     "output_type": "stream",
     "text": [
      "Number of boxes found:  0\n",
      "iterations:  1245\n",
      "heatmap len:  10\n",
      "Number of boxes found:  6\n",
      "Number of boxes found:  6\n",
      "Number of boxes found:  2\n"
     ]
    },
    {
     "name": "stderr",
     "output_type": "stream",
     "text": [
      "\r",
      " 98%|█████████▊| 1238/1261 [57:12<01:03,  2.75s/it]"
     ]
    },
    {
     "name": "stdout",
     "output_type": "stream",
     "text": [
      "Number of boxes found:  1\n",
      "iterations:  1246\n",
      "heatmap len:  10\n",
      "Number of boxes found:  6\n",
      "Number of boxes found:  3\n",
      "Number of boxes found:  2\n"
     ]
    },
    {
     "name": "stderr",
     "output_type": "stream",
     "text": [
      "\r",
      " 98%|█████████▊| 1239/1261 [57:15<01:00,  2.75s/it]"
     ]
    },
    {
     "name": "stdout",
     "output_type": "stream",
     "text": [
      "Number of boxes found:  0\n",
      "iterations:  1247\n",
      "heatmap len:  10\n",
      "Number of boxes found:  6\n",
      "Number of boxes found:  2\n",
      "Number of boxes found:  2\n"
     ]
    },
    {
     "name": "stderr",
     "output_type": "stream",
     "text": [
      "\r",
      " 98%|█████████▊| 1240/1261 [57:18<00:57,  2.74s/it]"
     ]
    },
    {
     "name": "stdout",
     "output_type": "stream",
     "text": [
      "Number of boxes found:  0\n",
      "iterations:  1248\n",
      "heatmap len:  10\n",
      "Number of boxes found:  8\n",
      "Number of boxes found:  3\n",
      "Number of boxes found:  2\n"
     ]
    },
    {
     "name": "stderr",
     "output_type": "stream",
     "text": [
      "\r",
      " 98%|█████████▊| 1241/1261 [57:21<00:54,  2.72s/it]"
     ]
    },
    {
     "name": "stdout",
     "output_type": "stream",
     "text": [
      "Number of boxes found:  0\n",
      "iterations:  1249\n",
      "heatmap len:  10\n",
      "Number of boxes found:  4\n",
      "Number of boxes found:  7\n",
      "Number of boxes found:  2\n"
     ]
    },
    {
     "name": "stderr",
     "output_type": "stream",
     "text": [
      "\r",
      " 98%|█████████▊| 1242/1261 [57:23<00:51,  2.71s/it]"
     ]
    },
    {
     "name": "stdout",
     "output_type": "stream",
     "text": [
      "Number of boxes found:  1\n",
      "iterations:  1250\n",
      "heatmap len:  10\n",
      "Number of boxes found:  5\n",
      "Number of boxes found:  6\n",
      "Number of boxes found:  2\n"
     ]
    },
    {
     "name": "stderr",
     "output_type": "stream",
     "text": [
      "\r",
      " 99%|█████████▊| 1243/1261 [57:26<00:49,  2.73s/it]"
     ]
    },
    {
     "name": "stdout",
     "output_type": "stream",
     "text": [
      "Number of boxes found:  0\n",
      "iterations:  1251\n",
      "heatmap len:  10\n",
      "Number of boxes found:  6\n",
      "Number of boxes found:  3\n",
      "Number of boxes found:  2\n"
     ]
    },
    {
     "name": "stderr",
     "output_type": "stream",
     "text": [
      "\r",
      " 99%|█████████▊| 1244/1261 [57:29<00:46,  2.71s/it]"
     ]
    },
    {
     "name": "stdout",
     "output_type": "stream",
     "text": [
      "Number of boxes found:  0\n",
      "iterations:  1252\n",
      "heatmap len:  10\n",
      "Number of boxes found:  7\n",
      "Number of boxes found:  5\n",
      "Number of boxes found:  3\n"
     ]
    },
    {
     "name": "stderr",
     "output_type": "stream",
     "text": [
      "\r",
      " 99%|█████████▊| 1245/1261 [57:31<00:43,  2.70s/it]"
     ]
    },
    {
     "name": "stdout",
     "output_type": "stream",
     "text": [
      "Number of boxes found:  0\n",
      "iterations:  1253\n",
      "heatmap len:  10\n",
      "Number of boxes found:  8\n",
      "Number of boxes found:  4\n",
      "Number of boxes found:  3\n"
     ]
    },
    {
     "name": "stderr",
     "output_type": "stream",
     "text": [
      "\r",
      " 99%|█████████▉| 1246/1261 [57:34<00:40,  2.69s/it]"
     ]
    },
    {
     "name": "stdout",
     "output_type": "stream",
     "text": [
      "Number of boxes found:  0\n",
      "iterations:  1254\n",
      "heatmap len:  10\n",
      "Number of boxes found:  8\n",
      "Number of boxes found:  4\n",
      "Number of boxes found:  3\n"
     ]
    },
    {
     "name": "stderr",
     "output_type": "stream",
     "text": [
      "\r",
      " 99%|█████████▉| 1247/1261 [57:37<00:37,  2.68s/it]"
     ]
    },
    {
     "name": "stdout",
     "output_type": "stream",
     "text": [
      "Number of boxes found:  0\n",
      "iterations:  1255\n",
      "heatmap len:  10\n",
      "Number of boxes found:  7\n",
      "Number of boxes found:  5\n",
      "Number of boxes found:  2\n"
     ]
    },
    {
     "name": "stderr",
     "output_type": "stream",
     "text": [
      "\r",
      " 99%|█████████▉| 1248/1261 [57:39<00:34,  2.68s/it]"
     ]
    },
    {
     "name": "stdout",
     "output_type": "stream",
     "text": [
      "Number of boxes found:  0\n",
      "iterations:  1256\n",
      "heatmap len:  10\n",
      "Number of boxes found:  6\n",
      "Number of boxes found:  5\n",
      "Number of boxes found:  3\n"
     ]
    },
    {
     "name": "stderr",
     "output_type": "stream",
     "text": [
      "\r",
      " 99%|█████████▉| 1249/1261 [57:42<00:32,  2.68s/it]"
     ]
    },
    {
     "name": "stdout",
     "output_type": "stream",
     "text": [
      "Number of boxes found:  0\n",
      "iterations:  1257\n",
      "heatmap len:  10\n",
      "Number of boxes found:  9\n",
      "Number of boxes found:  6\n",
      "Number of boxes found:  3\n"
     ]
    },
    {
     "name": "stderr",
     "output_type": "stream",
     "text": [
      "\r",
      " 99%|█████████▉| 1250/1261 [57:45<00:29,  2.68s/it]"
     ]
    },
    {
     "name": "stdout",
     "output_type": "stream",
     "text": [
      "Number of boxes found:  0\n",
      "iterations:  1258\n",
      "heatmap len:  10\n",
      "Number of boxes found:  7\n",
      "Number of boxes found:  5\n",
      "Number of boxes found:  3\n"
     ]
    },
    {
     "name": "stderr",
     "output_type": "stream",
     "text": [
      "\r",
      " 99%|█████████▉| 1251/1261 [57:47<00:26,  2.68s/it]"
     ]
    },
    {
     "name": "stdout",
     "output_type": "stream",
     "text": [
      "Number of boxes found:  0\n",
      "iterations:  1259\n",
      "heatmap len:  10\n",
      "Number of boxes found:  11\n",
      "Number of boxes found:  7\n",
      "Number of boxes found:  2\n"
     ]
    },
    {
     "name": "stderr",
     "output_type": "stream",
     "text": [
      "\r",
      " 99%|█████████▉| 1252/1261 [57:50<00:24,  2.71s/it]"
     ]
    },
    {
     "name": "stdout",
     "output_type": "stream",
     "text": [
      "Number of boxes found:  0\n",
      "iterations:  1260\n",
      "heatmap len:  10\n",
      "Number of boxes found:  8\n",
      "Number of boxes found:  9\n",
      "Number of boxes found:  1\n"
     ]
    },
    {
     "name": "stderr",
     "output_type": "stream",
     "text": [
      "\r",
      " 99%|█████████▉| 1253/1261 [57:53<00:21,  2.72s/it]"
     ]
    },
    {
     "name": "stdout",
     "output_type": "stream",
     "text": [
      "Number of boxes found:  0\n",
      "iterations:  1261\n",
      "heatmap len:  10\n",
      "Number of boxes found:  8\n",
      "Number of boxes found:  8\n",
      "Number of boxes found:  1\n"
     ]
    },
    {
     "name": "stderr",
     "output_type": "stream",
     "text": [
      "\r",
      " 99%|█████████▉| 1254/1261 [57:56<00:19,  2.77s/it]"
     ]
    },
    {
     "name": "stdout",
     "output_type": "stream",
     "text": [
      "Number of boxes found:  0\n",
      "iterations:  1262\n",
      "heatmap len:  10\n",
      "Number of boxes found:  7\n",
      "Number of boxes found:  4\n",
      "Number of boxes found:  2\n"
     ]
    },
    {
     "name": "stderr",
     "output_type": "stream",
     "text": [
      "\r",
      "100%|█████████▉| 1255/1261 [57:59<00:17,  2.84s/it]"
     ]
    },
    {
     "name": "stdout",
     "output_type": "stream",
     "text": [
      "Number of boxes found:  0\n",
      "iterations:  1263\n",
      "heatmap len:  10\n",
      "Number of boxes found:  10\n",
      "Number of boxes found:  9\n",
      "Number of boxes found:  3\n"
     ]
    },
    {
     "name": "stderr",
     "output_type": "stream",
     "text": [
      "\r",
      "100%|█████████▉| 1256/1261 [58:01<00:13,  2.80s/it]"
     ]
    },
    {
     "name": "stdout",
     "output_type": "stream",
     "text": [
      "Number of boxes found:  0\n",
      "iterations:  1264\n",
      "heatmap len:  10\n",
      "Number of boxes found:  11\n",
      "Number of boxes found:  8\n",
      "Number of boxes found:  4\n"
     ]
    },
    {
     "name": "stderr",
     "output_type": "stream",
     "text": [
      "\r",
      "100%|█████████▉| 1257/1261 [58:04<00:10,  2.75s/it]"
     ]
    },
    {
     "name": "stdout",
     "output_type": "stream",
     "text": [
      "Number of boxes found:  0\n",
      "iterations:  1265\n",
      "heatmap len:  10\n",
      "Number of boxes found:  10\n",
      "Number of boxes found:  8\n",
      "Number of boxes found:  3\n"
     ]
    },
    {
     "name": "stderr",
     "output_type": "stream",
     "text": [
      "\r",
      "100%|█████████▉| 1258/1261 [58:07<00:08,  2.78s/it]"
     ]
    },
    {
     "name": "stdout",
     "output_type": "stream",
     "text": [
      "Number of boxes found:  0\n",
      "iterations:  1266\n",
      "heatmap len:  10\n",
      "Number of boxes found:  10\n",
      "Number of boxes found:  7\n",
      "Number of boxes found:  4\n"
     ]
    },
    {
     "name": "stderr",
     "output_type": "stream",
     "text": [
      "\r",
      "100%|█████████▉| 1259/1261 [58:10<00:05,  2.76s/it]"
     ]
    },
    {
     "name": "stdout",
     "output_type": "stream",
     "text": [
      "Number of boxes found:  1\n",
      "iterations:  1267\n",
      "heatmap len:  10\n",
      "Number of boxes found:  9\n",
      "Number of boxes found:  7\n",
      "Number of boxes found:  3\n"
     ]
    },
    {
     "name": "stderr",
     "output_type": "stream",
     "text": [
      "\r",
      "100%|█████████▉| 1260/1261 [58:12<00:02,  2.75s/it]"
     ]
    },
    {
     "name": "stdout",
     "output_type": "stream",
     "text": [
      "Number of boxes found:  0\n",
      "iterations:  1268\n",
      "heatmap len:  10\n"
     ]
    },
    {
     "name": "stderr",
     "output_type": "stream",
     "text": [
      "\n"
     ]
    },
    {
     "name": "stdout",
     "output_type": "stream",
     "text": [
      "[MoviePy] Done.\n",
      "[MoviePy] >>>> Video ready: output_images/project_output.mp4 \n",
      "\n",
      "CPU times: user 57min 32s, sys: 15 s, total: 57min 47s\n",
      "Wall time: 58min 15s\n"
     ]
    }
   ],
   "source": [
    "# Import everything needed to edit/save/watch video clips\n",
    "from moviepy.editor import VideoFileClip\n",
    "from IPython.display import HTML\n",
    "\n",
    "video_output = 'output_images/project_output.mp4'\n",
    "heatmaps.clear()\n",
    "## To speed up the testing process you may want to try your pipeline on a shorter subclip of the video\n",
    "## To do so add .subclip(start_second,end_second) to the end of the line below\n",
    "## Where start_second and end_second are integer values representing the start and end of the subclip\n",
    "## You may also uncomment the following line for a subclip of the first 5 seconds\n",
    "# clip1 = VideoFileClip(\"test_videos/solidWhiteRight.mp4\").subclip(0,5)\n",
    "clip1 = VideoFileClip(\"project_video.mp4\")\n",
    "video_clip = clip1.fl_image(process_image) #NOTE: this function expects color images!!\n",
    "%time video_clip.write_videofile(video_output, audio=False)"
   ]
  }
 ],
 "metadata": {
  "kernelspec": {
   "display_name": "Python 3",
   "language": "python",
   "name": "python3"
  },
  "language_info": {
   "codemirror_mode": {
    "name": "ipython",
    "version": 3
   },
   "file_extension": ".py",
   "mimetype": "text/x-python",
   "name": "python",
   "nbconvert_exporter": "python",
   "pygments_lexer": "ipython3",
   "version": "3.5.2"
  },
  "widgets": {
   "state": {},
   "version": "1.1.2"
  }
 },
 "nbformat": 4,
 "nbformat_minor": 2
}
